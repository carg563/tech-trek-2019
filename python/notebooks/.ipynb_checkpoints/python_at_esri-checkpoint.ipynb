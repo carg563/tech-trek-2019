{
 "cells": [
  {
   "cell_type": "markdown",
   "metadata": {
    "slideshow": {
     "slide_type": "slide"
    }
   },
   "source": [
    "# Python @ Esri"
   ]
  },
  {
   "cell_type": "markdown",
   "metadata": {
    "slideshow": {
     "slide_type": "slide"
    }
   },
   "source": [
    "# Agenda\n",
    "\n",
    "- Administering your GIS\n",
    "- Analysis Tasks\n",
    "- Advanced Workflows"
   ]
  },
  {
   "cell_type": "markdown",
   "metadata": {
    "slideshow": {
     "slide_type": "slide"
    }
   },
   "source": [
    "# But first, I'm Josh."
   ]
  },
  {
   "cell_type": "markdown",
   "metadata": {
    "slideshow": {
     "slide_type": "fragment"
    }
   },
   "source": [
    "- I live in Denver, Colorado\n",
    "- I've been a developer @ Esri PS for ~8 years\n",
    "- I mostly build apps\n",
    "- I ❤️ the ArcGIS API for Python"
   ]
  },
  {
   "cell_type": "markdown",
   "metadata": {
    "slideshow": {
     "slide_type": "slide"
    }
   },
   "source": [
    "# Administering your GIS\n",
    "\n",
    "### Authentication"
   ]
  },
  {
   "cell_type": "markdown",
   "metadata": {
    "slideshow": {
     "slide_type": "slide"
    }
   },
   "source": [
    "## Authentication"
   ]
  },
  {
   "cell_type": "markdown",
   "metadata": {
    "slideshow": {
     "slide_type": "slide"
    }
   },
   "source": [
    "ArcGIS authentication is **a deep topic**.\n",
    "\n",
    "- Anonymous users\n",
    "- Built-in users\n",
    "- Enterprise identity store\n",
    "- Web-tier authentication with LDAP / PKI / IWA\n",
    "- Portal-tier authentication with LDAP / Active Directory\n",
    "- OAuth 2.0\n",
    "- Pro authentication"
   ]
  },
  {
   "cell_type": "code",
   "execution_count": 9,
   "metadata": {
    "slideshow": {
     "slide_type": "slide"
    }
   },
   "outputs": [
    {
     "data": {
      "text/html": [
       "GIS @ <a href=\"https://www.arcgis.com\">https://www.arcgis.com</a>"
      ],
      "text/plain": [
       "GIS @ https://www.arcgis.com version:7.1"
      ]
     },
     "execution_count": 9,
     "metadata": {},
     "output_type": "execute_result"
    }
   ],
   "source": [
    "from arcgis.gis import GIS\n",
    "\n",
    "# connect anonymously\n",
    "gis = GIS()\n",
    "gis\n"
   ]
  },
  {
   "cell_type": "code",
   "execution_count": 10,
   "metadata": {},
   "outputs": [],
   "source": [
    "# https://dbsne.maps.arcgis.com\n",
    "# gis = GIS(profile='tech_trek_profile')\n",
    "\n",
    "# https://esri.northeurope.cloudapp.azure.com/portal\n",
    "gis = GIS(profile='portal')"
   ]
  },
  {
   "cell_type": "code",
   "execution_count": 11,
   "metadata": {},
   "outputs": [
    {
     "data": {
      "text/html": [
       "GIS @ <a href=\"https://esri.northeurope.cloudapp.azure.com/portal\">https://esri.northeurope.cloudapp.azure.com/portal</a>"
      ],
      "text/plain": [
       "GIS @ https://esri.northeurope.cloudapp.azure.com/portal version:7.1"
      ]
     },
     "execution_count": 11,
     "metadata": {},
     "output_type": "execute_result"
    }
   ],
   "source": [
    "gis"
   ]
  },
  {
   "cell_type": "code",
   "execution_count": 108,
   "metadata": {},
   "outputs": [
    {
     "data": {
      "text/plain": [
       "26757.312"
      ]
     },
     "execution_count": 108,
     "metadata": {},
     "output_type": "execute_result"
    }
   ],
   "source": [
    "gis.admin.credits.credits"
   ]
  },
  {
   "cell_type": "code",
   "execution_count": 109,
   "metadata": {},
   "outputs": [
    {
     "data": {
      "text/plain": [
       "True"
      ]
     },
     "execution_count": 109,
     "metadata": {},
     "output_type": "execute_result"
    }
   ],
   "source": [
    "gis.admin.credits.enable()"
   ]
  },
  {
   "cell_type": "code",
   "execution_count": 110,
   "metadata": {},
   "outputs": [
    {
     "data": {
      "text/plain": [
       "25"
      ]
     },
     "execution_count": 110,
     "metadata": {},
     "output_type": "execute_result"
    }
   ],
   "source": [
    "gis.admin.credits.default_limit"
   ]
  },
  {
   "cell_type": "code",
   "execution_count": 176,
   "metadata": {},
   "outputs": [
    {
     "data": {
      "text/plain": [
       "1000.0"
      ]
     },
     "execution_count": 176,
     "metadata": {},
     "output_type": "execute_result"
    }
   ],
   "source": [
    "gis.users.me.availableCredits"
   ]
  },
  {
   "cell_type": "code",
   "execution_count": 177,
   "metadata": {},
   "outputs": [
    {
     "data": {
      "text/plain": [
       "True"
      ]
     },
     "execution_count": 177,
     "metadata": {},
     "output_type": "execute_result"
    }
   ],
   "source": [
    "gis.admin.credits.allocate(username=gis.users.me.username, credits=1000)"
   ]
  },
  {
   "cell_type": "code",
   "execution_count": 178,
   "metadata": {},
   "outputs": [
    {
     "data": {
      "text/plain": [
       "1000.0"
      ]
     },
     "execution_count": 178,
     "metadata": {},
     "output_type": "execute_result"
    }
   ],
   "source": [
    "gis.users.me.availableCredits"
   ]
  },
  {
   "cell_type": "code",
   "execution_count": 179,
   "metadata": {},
   "outputs": [],
   "source": [
    "df = gis.users.counts(type='user_type')"
   ]
  },
  {
   "cell_type": "code",
   "execution_count": 180,
   "metadata": {},
   "outputs": [
    {
     "data": {
      "text/plain": [
       "71"
      ]
     },
     "execution_count": 180,
     "metadata": {},
     "output_type": "execute_result"
    }
   ],
   "source": [
    "df['count'].sum()"
   ]
  },
  {
   "cell_type": "code",
   "execution_count": 213,
   "metadata": {},
   "outputs": [
    {
     "data": {
      "text/plain": [
       "[<Role name: Viewer, description: Viewer>,\n",
       " <Role name: Data Editor, description: Data Editor>,\n",
       " <Role name: GIS4SW Attendee, description: role for GIS4SW attendees>]"
      ]
     },
     "execution_count": 213,
     "metadata": {},
     "output_type": "execute_result"
    }
   ],
   "source": [
    "roles = gis.users.roles.all()\n",
    "roles\n",
    "\n",
    "# roles[0].role_id"
   ]
  },
  {
   "cell_type": "code",
   "execution_count": null,
   "metadata": {},
   "outputs": [],
   "source": [
    "gis.admin.password_policy.policy"
   ]
  },
  {
   "cell_type": "code",
   "execution_count": 13,
   "metadata": {},
   "outputs": [
    {
     "data": {
      "text/html": [
       "<div class=\"9item_container\" style=\"height: auto; overflow: hidden; border: 1px solid #cfcfcf; border-radius: 2px; background: #f6fafa; line-height: 1.21429em; padding: 10px;\">\n",
       "                    <div class=\"item_left\" style=\"width: 210px; float: left;\">\n",
       "                       <a href='https://esri.northeurope.cloudapp.azure.com/portal/home/user.html?user=obi_wan_esri' target='_blank'>\n",
       "                        <img src='https://esri.northeurope.cloudapp.azure.com/portal/home/js/arcgisonline/css/images/no-user-thumb.jpg' class=\"itemThumbnail\">\n",
       "                       </a>\n",
       "                    </div>\n",
       "\n",
       "                    <div class=\"item_right\" style=\"float: none; width: auto; overflow: hidden;\">\n",
       "                        <a href='https://esri.northeurope.cloudapp.azure.com/portal/home/user.html?user=obi_wan_esri' target='_blank'><b>Ben Kenobi</b>\n",
       "                        </a>\n",
       "                        <br/><br/><b>Bio</b>: None\n",
       "                        <br/><b>First Name</b>: Ben\n",
       "                        <br/><b>Last Name</b>: Kenobi\n",
       "                        <br/><b>Username</b>: obi_wan_esri\n",
       "                        <br/><b>Joined</b>: May 24, 2019\n",
       "\n",
       "                    </div>\n",
       "                </div>\n",
       "                "
      ],
      "text/plain": [
       "<User username:obi_wan_esri>"
      ]
     },
     "execution_count": 13,
     "metadata": {},
     "output_type": "execute_result"
    }
   ],
   "source": [
    "user = gis.users.create(username=\"obi_wan_esri\",\n",
    "                password='Us3Th3F0rc3',\n",
    "                firstname=\"Ben\",\n",
    "                lastname=\"Kenobi\",\n",
    "                email=\"bkenobi@esri.com\",\n",
    "                role=\"iBBBBBBBBBBBBBBB\", # 😬\n",
    "                user_type=\"creatorUT\")\n",
    "user"
   ]
  },
  {
   "cell_type": "code",
   "execution_count": 214,
   "metadata": {},
   "outputs": [
    {
     "data": {
      "text/plain": [
       "True"
      ]
     },
     "execution_count": 214,
     "metadata": {},
     "output_type": "execute_result"
    }
   ],
   "source": [
    "# user.delete()"
   ]
  },
  {
   "cell_type": "code",
   "execution_count": 221,
   "metadata": {},
   "outputs": [
    {
     "data": {
      "text/html": [
       "<div class=\"9item_container\" style=\"height: auto; overflow: hidden; border: 1px solid #cfcfcf; border-radius: 2px; background: #f6fafa; line-height: 1.21429em; padding: 10px;\">\n",
       "                    <div class=\"item_left\" style=\"width: 210px; float: left;\">\n",
       "                       <a href='https://esri.northeurope.cloudapp.azure.com/portal/home/user.html?user=scott.beckstrom' target='_blank'>\n",
       "                        <img src='https://esri.northeurope.cloudapp.azure.com/portal/home/js/arcgisonline/css/images/no-user-thumb.jpg' class=\"itemThumbnail\">\n",
       "                       </a>\n",
       "                    </div>\n",
       "\n",
       "                    <div class=\"item_right\" style=\"float: none; width: auto; overflow: hidden;\">\n",
       "                        <a href='https://esri.northeurope.cloudapp.azure.com/portal/home/user.html?user=scott.beckstrom' target='_blank'><b>Scott Beckstrom</b>\n",
       "                        </a>\n",
       "                        <br/><br/><b>Bio</b>: None\n",
       "                        <br/><b>First Name</b>: Scott\n",
       "                        <br/><b>Last Name</b>: Beckstrom\n",
       "                        <br/><b>Username</b>: scott.beckstrom\n",
       "                        <br/><b>Joined</b>: April 24, 2019\n",
       "\n",
       "                    </div>\n",
       "                </div>\n",
       "                "
      ],
      "text/plain": [
       "<User username:scott.beckstrom>"
      ]
     },
     "execution_count": 221,
     "metadata": {},
     "output_type": "execute_result"
    }
   ],
   "source": [
    "user = gis.users.get('scott.beckstrom')\n",
    "user"
   ]
  },
  {
   "cell_type": "code",
   "execution_count": 222,
   "metadata": {},
   "outputs": [
    {
     "data": {
      "text/plain": [
       "[<Item title:\"Alabama Asphalt Facility Orthomosaic\" type:Imagery Layer owner:scott.beckstrom>,\n",
       " <Item title:\"Nairobi Urban Growth\" type:Web Map owner:scott.beckstrom>,\n",
       " <Item title:\"Nairobi Landsat - Feb 1 2019\" type:Imagery Layer owner:scott.beckstrom>,\n",
       " <Item title:\"Multispectral Landsat-AcquisitionDate (2/21/2000, 1:00 AM)\" type:Imagery Layer owner:scott.beckstrom>]"
      ]
     },
     "execution_count": 222,
     "metadata": {},
     "output_type": "execute_result"
    }
   ],
   "source": [
    "user.items()"
   ]
  },
  {
   "cell_type": "code",
   "execution_count": 229,
   "metadata": {},
   "outputs": [],
   "source": [
    "user = gis.users.get('swuser.1')"
   ]
  },
  {
   "cell_type": "code",
   "execution_count": 235,
   "metadata": {},
   "outputs": [
    {
     "data": {
      "text/html": [
       "<div class=\"item_container\" style=\"height: auto; overflow: hidden; border: 1px solid #cfcfcf; border-radius: 2px; background: #f6fafa; line-height: 1.21429em; padding: 10px;\">\n",
       "                    <div class=\"item_left\" style=\"width: 210px; float: left;\">\n",
       "                       <a href='https://esri.northeurope.cloudapp.azure.com/portal/home/item.html?id=b55de90e140d493f9a0e9f1c2d1aa1d4' target='_blank'>\n",
       "                        <img src='https://esri.northeurope.cloudapp.azure.com/portal/portalimages/desktopapp.png' class=\"itemThumbnail\">\n",
       "                       </a>\n",
       "                    </div>\n",
       "\n",
       "                    <div class=\"item_right\"     style=\"float: none; width: auto; overflow: hidden;\">\n",
       "                        <a href='https://esri.northeurope.cloudapp.azure.com/portal/home/item.html?id=b55de90e140d493f9a0e9f1c2d1aa1d4' target='_blank'><b>Crimes</b>\n",
       "                        </a>\n",
       "                        <br/><img src='https://esri.northeurope.cloudapp.azure.com/portal/home/js/jsapi/esri/css/images/item_type_icons/featureshosted16.png' style=\"vertical-align:middle;\">Feature Layer Collection by swuser.1\n",
       "                        <br/>Last Modified: May 24, 2019\n",
       "                        <br/>0 comments, 0 views\n",
       "                    </div>\n",
       "                </div>\n",
       "                "
      ],
      "text/plain": [
       "<Item title:\"Crimes\" type:Feature Layer Collection owner:swuser.1>"
      ]
     },
     "execution_count": 235,
     "metadata": {},
     "output_type": "execute_result"
    }
   ],
   "source": [
    "fp = \"./data/crimes_shp.zip\"\n",
    "item_properties = {\n",
    "    'title' : \"Crimes\",\n",
    "    'type' : 'Shapefile',\n",
    "    'tags' : ['Crimes']\n",
    "}\n",
    "shp_item = gis.content.add(data=fp, item_properties=item_properties, owner=user)\n",
    "crimes_item = shp_item.publish()\n",
    "crimes_item"
   ]
  },
  {
   "cell_type": "code",
   "execution_count": 236,
   "metadata": {},
   "outputs": [
    {
     "data": {
      "text/plain": [
       "[<Item title:\"US Rivers\" type:File Geodatabase owner:swuser.1>,\n",
       " <Item title:\"US Rivers\" type:Feature Layer Collection owner:swuser.1>,\n",
       " <Item title:\"Swimming Pools\" type:Shapefile owner:swuser.1>,\n",
       " <Item title:\"Swimming Pools\" type:Feature Layer Collection owner:swuser.1>,\n",
       " <Item title:\"Swimming Pools 2\" type:File Geodatabase owner:swuser.1>,\n",
       " <Item title:\"Swimming Pools 2\" type:Feature Layer Collection owner:swuser.1>,\n",
       " <Item title:\"Crimes\" type:Shapefile owner:swuser.1>,\n",
       " <Item title:\"Crimes\" type:Feature Layer Collection owner:swuser.1>]"
      ]
     },
     "execution_count": 236,
     "metadata": {},
     "output_type": "execute_result"
    }
   ],
   "source": [
    "user.items()"
   ]
  },
  {
   "cell_type": "code",
   "execution_count": 6,
   "metadata": {},
   "outputs": [
    {
     "data": {
      "image/png": "[encoded data removed]",
      "text/plain": [
       "<IPython.core.display.Image object>"
      ]
     },
     "execution_count": 6,
     "metadata": {},
     "output_type": "execute_result"
    }
   ],
   "source": [
    "from IPython.display import Image\n",
    "Image(filename='./data/obi_wan.png') "
   ]
  },
  {
   "cell_type": "code",
   "execution_count": 14,
   "metadata": {},
   "outputs": [
    {
     "data": {
      "text/html": [
       "<div class=\"9item_container\" style=\"height: auto; overflow: hidden; border: 1px solid #cfcfcf; border-radius: 2px; background: #f6fafa; line-height: 1.21429em; padding: 10px;\">\n",
       "                    <div class=\"item_left\" style=\"width: 210px; float: left;\">\n",
       "                       <a href='https://esri.northeurope.cloudapp.azure.com/portal/home/user.html?user=obi_wan_esri' target='_blank'>\n",
       "                        <img src='https://esri.northeurope.cloudapp.azure.com/portal/home/js/arcgisonline/css/images/no-user-thumb.jpg' class=\"itemThumbnail\">\n",
       "                       </a>\n",
       "                    </div>\n",
       "\n",
       "                    <div class=\"item_right\" style=\"float: none; width: auto; overflow: hidden;\">\n",
       "                        <a href='https://esri.northeurope.cloudapp.azure.com/portal/home/user.html?user=obi_wan_esri' target='_blank'><b>Ben Kenobi</b>\n",
       "                        </a>\n",
       "                        <br/><br/><b>Bio</b>: None\n",
       "                        <br/><b>First Name</b>: Ben\n",
       "                        <br/><b>Last Name</b>: Kenobi\n",
       "                        <br/><b>Username</b>: obi_wan_esri\n",
       "                        <br/><b>Joined</b>: May 24, 2019\n",
       "\n",
       "                    </div>\n",
       "                </div>\n",
       "                "
      ],
      "text/plain": [
       "<User username:obi_wan_esri>"
      ]
     },
     "execution_count": 14,
     "metadata": {},
     "output_type": "execute_result"
    }
   ],
   "source": [
    "user"
   ]
  },
  {
   "cell_type": "code",
   "execution_count": 17,
   "metadata": {},
   "outputs": [
    {
     "data": {
      "text/plain": [
       "True"
      ]
     },
     "execution_count": 17,
     "metadata": {},
     "output_type": "execute_result"
    }
   ],
   "source": [
    "user.update(first_name='Obi Wan', thumbnail='./data/obi_wan.png')"
   ]
  },
  {
   "cell_type": "code",
   "execution_count": 18,
   "metadata": {},
   "outputs": [
    {
     "data": {
      "text/html": [
       "<div class=\"9item_container\" style=\"height: auto; overflow: hidden; border: 1px solid #cfcfcf; border-radius: 2px; background: #f6fafa; line-height: 1.21429em; padding: 10px;\">\n",
       "                    <div class=\"item_left\" style=\"width: 210px; float: left;\">\n",
       "                       <a href='https://esri.northeurope.cloudapp.azure.com/portal/home/user.html?user=obi_wan_esri' target='_blank'>\n",
       "                        <img src='data:image/png;base64,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' width='200' height='133' class=\"itemThumbnail\">\n",
       "                       </a>\n",
       "                    </div>\n",
       "\n",
       "                    <div class=\"item_right\" style=\"float: none; width: auto; overflow: hidden;\">\n",
       "                        <a href='https://esri.northeurope.cloudapp.azure.com/portal/home/user.html?user=obi_wan_esri' target='_blank'><b>Obi Wan</b>\n",
       "                        </a>\n",
       "                        <br/><br/><b>Bio</b>: None\n",
       "                        <br/><b>First Name</b>: Obi Wan\n",
       "                        <br/><b>Last Name</b>: Kenobi\n",
       "                        <br/><b>Username</b>: obi_wan_esri\n",
       "                        <br/><b>Joined</b>: May 24, 2019\n",
       "\n",
       "                    </div>\n",
       "                </div>\n",
       "                "
      ],
      "text/plain": [
       "<User username:obi_wan_esri>"
      ]
     },
     "execution_count": 18,
     "metadata": {},
     "output_type": "execute_result"
    }
   ],
   "source": [
    "user"
   ]
  },
  {
   "cell_type": "markdown",
   "metadata": {},
   "source": [
    "# Cloning Content"
   ]
  },
  {
   "cell_type": "code",
   "execution_count": null,
   "metadata": {},
   "outputs": [],
   "source": [
    "# connect to \"source\" GIS\n",
    "gis_source = GIS(\n",
    "  profile='joshpeterson',\n",
    "  set_active=False\n",
    ")\n",
    "\n",
    "# connect to \"destination\" GIS\n",
    "gis_source = GIS(profile='tech_trek_profile')\n",
    "\n",
    "# get items to clone\n",
    "items_to_clone = gis_source.content.search(\n",
    "  query='owner: joshdbs',\n",
    "  item_type='Web Map'\n",
    ")\n",
    "\n",
    "# clone items\n",
    "gis.content.clone_items(items=items_to_clone)"
   ]
  }
 ],
 "metadata": {
  "kernelspec": {
   "display_name": "Python 3",
   "language": "python",
   "name": "python3"
  },
  "language_info": {
   "codemirror_mode": {
    "name": "ipython",
    "version": 3
   },
   "file_extension": ".py",
   "mimetype": "text/x-python",
   "name": "python",
   "nbconvert_exporter": "python",
   "pygments_lexer": "ipython3",
   "version": "3.7.1"
  }
 },
 "nbformat": 4,
 "nbformat_minor": 2
}
