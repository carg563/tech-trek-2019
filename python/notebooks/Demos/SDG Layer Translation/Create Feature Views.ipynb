{
 "cells": [
  {
   "cell_type": "markdown",
   "metadata": {},
   "source": [
    "# Localize an ArcGIS Hub Site"
   ]
  },
  {
   "cell_type": "markdown",
   "metadata": {},
   "source": [
    "### Import Python libraries"
   ]
  },
  {
   "cell_type": "code",
   "execution_count": 10,
   "metadata": {},
   "outputs": [],
   "source": [
    "from arcgis import GIS\n",
    "from arcgis.features import FeatureLayer\n",
    "from arcgis.features import FeatureLayerCollection\n",
    "\n",
    "import json\n",
    "import os"
   ]
  },
  {
   "cell_type": "markdown",
   "metadata": {},
   "source": [
    "### Setup your connection to ArcGIS Online"
   ]
  },
  {
   "cell_type": "code",
   "execution_count": 11,
   "metadata": {},
   "outputs": [
    {
     "data": {
      "text/html": [
       "GIS @ <a href=\"https://DBSNE.maps.arcgis.com\">https://DBSNE.maps.arcgis.com</a>"
      ],
      "text/plain": [
       "GIS @ https://DBSNE.maps.arcgis.com version:7.1"
      ]
     },
     "execution_count": 11,
     "metadata": {},
     "output_type": "execute_result"
    }
   ],
   "source": [
    "gis = GIS(profile='joshdbs')\n",
    "gis"
   ]
  },
  {
   "cell_type": "code",
   "execution_count": 12,
   "metadata": {},
   "outputs": [],
   "source": [
    "# ago_working_directory = None\n",
    "ago_working_directory = 'Localization Testing'"
   ]
  },
  {
   "cell_type": "markdown",
   "metadata": {},
   "source": [
    "### What is the output locale code (output language)?"
   ]
  },
  {
   "cell_type": "code",
   "execution_count": 13,
   "metadata": {},
   "outputs": [],
   "source": [
    "locale_codes = ['fr', 'es']"
   ]
  },
  {
   "cell_type": "markdown",
   "metadata": {},
   "source": [
    "### Set the location to your field aliases file"
   ]
  },
  {
   "cell_type": "code",
   "execution_count": 14,
   "metadata": {},
   "outputs": [
    {
     "data": {
      "text/plain": [
       "{'en': {'REF_AREA': 'Reference Area',\n",
       "  'OBS_VALUE': 'Observed Value',\n",
       "  'INDICATOR': 'Indicator',\n",
       "  'FREQ': 'Frequency',\n",
       "  'SEX': 'Sex',\n",
       "  'AGE': 'Age',\n",
       "  'TIME_PERIOD': 'Time Period',\n",
       "  'UNIT': 'Unit',\n",
       "  'LOCATION': 'Location',\n",
       "  'SOURCE_NAME': 'Source Name'},\n",
       " 'fr': {'series_description': 'Description de la série',\n",
       "  'series_code': 'Code de série',\n",
       "  'series_release': 'Sortie de la série',\n",
       "  'geoAreaCode': 'Code de zone géographique',\n",
       "  'geoAreaName': 'Nom de la zone géographique',\n",
       "  'REF_AREA': 'Zone de référence',\n",
       "  'OBS_VALUE': 'Valeur observée',\n",
       "  'INDICATOR': 'Indicateur',\n",
       "  'FREQ': 'Fréquence',\n",
       "  'Sex': 'Sexe',\n",
       "  'Age': 'Âge',\n",
       "  'TIME_PERIOD': 'Time Period',\n",
       "  'Units': 'Unit',\n",
       "  'LOCATION': 'Lieu',\n",
       "  'SOURCE_NAME': 'Nom de la source'},\n",
       " 'es': {'series_description': 'Serie Descripción',\n",
       "  'series_code': 'Codigo de serie',\n",
       "  'series_release': 'Lanzamiento de la serie',\n",
       "  'geoAreaCode': 'Código de área geográfica',\n",
       "  'geoAreaName': 'Nombre del area geografica',\n",
       "  'REF_AREA': 'Area de referencia',\n",
       "  'OBS_VALUE': 'Valor observado',\n",
       "  'INDICATOR': 'Indicador',\n",
       "  'FREQ': 'Frecuencia',\n",
       "  'Sex': 'Sexo',\n",
       "  'Age': 'Edad',\n",
       "  'TIME_PERIOD': 'Periodo de tiempo',\n",
       "  'Units': 'Unidad',\n",
       "  'LOCATION': 'Ubicacion',\n",
       "  'SOURCE_NAME': 'Nombre de la fuente'},\n",
       " 'it': {'REF_AREA': 'Area di riferimento',\n",
       "  'OBS_VALUE': 'Valore osservato',\n",
       "  'INDICATOR': 'Indicatore',\n",
       "  'FREQ': 'Frequenza',\n",
       "  'SEX': 'Sesso',\n",
       "  'AGE': 'Età',\n",
       "  'TIME_PERIOD': 'Periodo',\n",
       "  'UNIT': 'Unità',\n",
       "  'LOCATION': 'Posizione',\n",
       "  'SOURCE_NAME': 'Nome sorgente'},\n",
       " 'pr': {'REF_AREA': 'Área de referência',\n",
       "  'OBS_VALUE': 'Valor observado',\n",
       "  'INDICATOR': 'Indicador',\n",
       "  'FREQ': 'Frequência',\n",
       "  'SEX': 'Sexo',\n",
       "  'AGE': 'Idade',\n",
       "  'TIME_PERIOD': 'Período',\n",
       "  'UNIT': 'Unidade',\n",
       "  'LOCATION': 'Localização',\n",
       "  'SOURCE_NAME': 'Nome da fonte'}}"
      ]
     },
     "execution_count": 14,
     "metadata": {},
     "output_type": "execute_result"
    }
   ],
   "source": [
    "field_aliases = None\n",
    "with open(os.path.abspath('resources/sdgs/UNSD_STANDARD_FIELDS.json'), 'rb') as file:\n",
    "    field_aliases = json.load(file)\n",
    "\n",
    "field_aliases"
   ]
  },
  {
   "cell_type": "markdown",
   "metadata": {},
   "source": [
    "### Create a mapping of existing Groups to new, localized Groups\n",
    "For `to_id`, specify `None` if a new group is to be created\n",
    "\n",
    "maybe use this mapping to specify any other properties that we want to put on the new, localized group"
   ]
  },
  {
   "cell_type": "code",
   "execution_count": 15,
   "metadata": {},
   "outputs": [],
   "source": [
    "groups_config = [\n",
    "    {\n",
    "        'from_id': '1084de372b9b4d008ffa71473636438d',\n",
    "        'locales': ['fr', 'es']\n",
    "    }\n",
    "]"
   ]
  },
  {
   "cell_type": "code",
   "execution_count": 16,
   "metadata": {},
   "outputs": [
    {
     "name": "stdout",
     "output_type": "stream",
     "text": [
      "STARTING LOCALE :: fr\n",
      "creating new Group \"SDG 1: No Poverty fr\"\n",
      "1 1.1 1.1.1 SI_POV_EMP1\n",
      "creating hosted fl view :: sdgseries_si_pov_emp1_fr ..\n",
      "moving new View to working directory :: Localization Testing\n",
      "Folder not found for given owner\n",
      "updating field aliases ..\n",
      "updating Item card ..\n",
      "sharing with Everyone & to destination Group :: SDG 1: No Poverty fr\n",
      "STARTING LOCALE :: es\n",
      "creating new Group \"SDG 1: No Poverty es\"\n",
      "1 1.1 1.1.1 SI_POV_EMP1\n",
      "creating hosted fl view :: sdgseries_si_pov_emp1_es ..\n",
      "moving new View to working directory :: Localization Testing\n",
      "Folder not found for given owner\n",
      "updating field aliases ..\n",
      "updating Item card ..\n",
      "sharing with Everyone & to destination Group :: SDG 1: No Poverty es\n",
      "done\n"
     ]
    }
   ],
   "source": [
    "for group_config in groups_config:\n",
    "    \n",
    "    locale_codes = group_config['locales']\n",
    "    \n",
    "    for locale_code in locale_codes:\n",
    "        \n",
    "        print ('STARTING LOCALE :: {}'.format(locale_code))       \n",
    "        \n",
    "        sdg_metadata = None\n",
    "        with open('resources/sdgs/SDG_METADATA_API_{}.json'.format(locale_code), 'rb') as file:\n",
    "            sdg_metadata = json.load(file)\n",
    "\n",
    "        if sdg_metadata is None:\n",
    "            print ('unable to get metadata file for locale :: {}'.format(locale_code))\n",
    "            break\n",
    "\n",
    "        icon_base_url = 'https://github.com/Esri/sdg-dash/raw/master/public/images/sdg/{}/TGG_Icon_Color_0{}.png'\n",
    "\n",
    "        locale_fields = field_aliases[locale_code]\n",
    "    \n",
    "        origin_group = gis.groups.get(group_config['from_id'])\n",
    "\n",
    "        # create the destination group\n",
    "        new_group_name = '{} {}'.format(origin_group.title, locale_code)\n",
    "\n",
    "        # TODO :: localize the Group Details\n",
    "        new_group_dict = {\n",
    "            \"title\": new_group_name,\n",
    "            \"tags\": origin_group.tags,\n",
    "            \"description\": \"\",\n",
    "            \"snippet\": \"\",\n",
    "            \"access\": \"public\",\n",
    "            \"isInvitationOnly\": True,\n",
    "            \"isOpenData\": True\n",
    "        }\n",
    "\n",
    "        print ('creating new Group \"{}\"'.format(new_group_name))\n",
    "        dest_group = None\n",
    "        try:\n",
    "            dest_group = gis.groups.create_from_dict(new_group_dict)\n",
    "        except Exception as ex:\n",
    "            args = ex.args[0].split('\\n')\n",
    "            if args is not None and 'You already have a group named' in arg1:\n",
    "                print ('Group :: {} :: already exists, getting its reference'.format(new_group_name))\n",
    "                search_results = gis.groups.search('title:\"{}\"'.format(new_group_name))\n",
    "                if len(search_results) > 0:\n",
    "                    dest_group = search_results[0]\n",
    "                else:\n",
    "                    print ('Unable to Create or Get Group :: {} :: exiting ..'.format(new_group_name))\n",
    "                    break\n",
    "\n",
    "        # go through each layer in the origin_group and create a Hosted Feature Layer View in the new Group\n",
    "        items = [item for item in origin_group.content() if item.type == 'Feature Service']\n",
    "        for item in items:\n",
    "            fl = item.layers[0]\n",
    "            tags = item.tags\n",
    "\n",
    "            sdg_ind_tag = None\n",
    "            sdg_series_tag = None\n",
    "\n",
    "            for tag in tags:\n",
    "                if 'SDGIND' in tag:\n",
    "                    sdg_ind_tag = tag\n",
    "                elif 'SDGSERIES' in tag:\n",
    "                    sdg_series_tag = tag\n",
    "\n",
    "            if sdg_ind_tag is None or sdg_series_tag is None:\n",
    "                break\n",
    "\n",
    "            ind_parts = sdg_ind_tag.split('.')\n",
    "            goal_id = ind_parts[1]\n",
    "            target_id = '{}.{}'.format(goal_id, ind_parts[2])\n",
    "            indicator_id = '{}.{}.{}'.format(goal_id, ind_parts[2], ind_parts[3])\n",
    "\n",
    "            series_parts = sdg_series_tag.split('.')\n",
    "            series_id = series_parts[1]\n",
    "            print (goal_id,target_id, indicator_id, series_id)\n",
    "\n",
    "            item_flc = FeatureLayerCollection.fromitem(item)\n",
    "\n",
    "            temporary_view_name = '{}_{}'.format(tag.replace('.', '_').lower(), locale_code)\n",
    "            print ('creating hosted fl view :: {} ..'.format(temporary_view_name))\n",
    "            new_view = item_flc.manager.create_view(name=temporary_view_name)\n",
    "\n",
    "            if ago_working_directory is not None:\n",
    "                print ('moving new View to working directory :: {}'.format(ago_working_directory))\n",
    "                new_view.move(ago_working_directory)\n",
    "\n",
    "            view_flc = FeatureLayerCollection.fromitem(new_view)\n",
    "            view_fl = view_flc.layers[0]\n",
    "\n",
    "            # update the field alias\n",
    "            fields = view_fl.properties.fields\n",
    "            for field in fields:\n",
    "                if field.name in locale_fields:\n",
    "                    field.alias = locale_fields[field.name]\n",
    "\n",
    "            view_fl.properties.editingInfo.lastEditDate = None\n",
    "\n",
    "            print ('updating field aliases ..')\n",
    "            view_fl.manager.update_definition(view_fl.properties)\n",
    "\n",
    "            # update the AGO Item Card\n",
    "            view_name = '{} - {}'.format(item.title, locale_code)\n",
    "            snippet = item.title\n",
    "            locale_tags = item.tags\n",
    "            for series in sdg_metadata:\n",
    "                if series['seriesCode'] == series_id:\n",
    "                    view_name = 'Indicator {} - {}'.format(indicator_id, series['seriesDescription'])\n",
    "                    snippet = view_name\n",
    "                    locale_tags = item.tags + series['TAGS']\n",
    "                    description = \"\"\"\n",
    "                        <b>Series {}</b>: {}<br/><br/>\n",
    "                        <b>Indicator {}</b>: {}<br/><br/>\n",
    "                        <b>Target {}</b>: {}<br/><br/>\n",
    "                        <b>Goal {}</b>: {}<br/>\n",
    "                        \"\"\".format(\n",
    "                        series_id, series['seriesDescription'],\n",
    "                        indicator_id, series['indicatorDescription'],\n",
    "                        target_id, series['targetDescription'],\n",
    "                        goal_id, series['goalDescription'])\n",
    "\n",
    "\n",
    "            view_item_card = {\n",
    "                \"title\": view_name,\n",
    "                \"description\": description,\n",
    "                \"snippet\": snippet,\n",
    "                \"tags\": locale_tags,\n",
    "                \"categories\": item.categories\n",
    "            }\n",
    "\n",
    "            thumbnail_url = icon_base_url.format(locale_code, goal_id)\n",
    "\n",
    "            print ('updating Item card ..')\n",
    "            new_view.update(item_properties=view_item_card, thumbnail=thumbnail_url)\n",
    "\n",
    "            # share with everyone\n",
    "            print ('sharing with Everyone & to destination Group :: {}'.format(dest_group.title))\n",
    "            new_view.share(everyone=True,groups=dest_group.id)\n",
    "\n",
    "\n",
    "print ('done')"
   ]
  },
  {
   "cell_type": "code",
   "execution_count": null,
   "metadata": {},
   "outputs": [],
   "source": []
  }
 ],
 "metadata": {
  "kernelspec": {
   "display_name": "Python 3",
   "language": "python",
   "name": "python3"
  },
  "language_info": {
   "codemirror_mode": {
    "name": "ipython",
    "version": 3
   },
   "file_extension": ".py",
   "mimetype": "text/x-python",
   "name": "python",
   "nbconvert_exporter": "python",
   "pygments_lexer": "ipython3",
   "version": "3.7.1"
  }
 },
 "nbformat": 4,
 "nbformat_minor": 2
}
