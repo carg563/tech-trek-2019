{
 "cells": [
  {
   "cell_type": "markdown",
   "metadata": {},
   "source": [
    "### Import Required Modules"
   ]
  },
  {
   "cell_type": "code",
   "execution_count": 50,
   "metadata": {},
   "outputs": [],
   "source": [
    "import pandas as pd\n",
    "from pandas.io.json import json_normalize\n",
    "from arcgis.features import GeoAccessor, GeoSeriesAccessor\n",
    "from arcgis.geometry import Geometry\n",
    "from arcgis import GIS\n",
    "import requests\n",
    "import json\n",
    "import time\n",
    "import math\n",
    "import datetime\n",
    "import urllib.parse\n",
    "import numpy as np"
   ]
  },
  {
   "cell_type": "markdown",
   "metadata": {},
   "source": [
    "### Spire API Key"
   ]
  },
  {
   "cell_type": "code",
   "execution_count": 51,
   "metadata": {},
   "outputs": [],
   "source": [
    "auth_token = \"yzNObz76itGCSTOXEvx3JojZpfYFNrB8\""
   ]
  },
  {
   "cell_type": "markdown",
   "metadata": {},
   "source": [
    "### AIS Query Parameters"
   ]
  },
  {
   "cell_type": "code",
   "execution_count": 52,
   "metadata": {},
   "outputs": [],
   "source": [
    "API_endpoint = 'https://api.sense.spire.com/vessels'\n",
    "output_format = 'json'\n",
    "limit = 1000\n",
    "waittime = 20 #in seconds\n",
    "# Rotterdam\n",
    "geoJSON = \"\"\"{\"type\":\"Polygon\",\"coordinates\":[[[3.9111328125000004,51.89513899196507],[4.211883544921875,51.89513899196507],[4.211883544921875,52.01531743663362],[3.9111328125000004,52.01531743663362],[3.9111328125000004,51.89513899196507]]]}\"\"\"\n",
    "# Savannah\n",
    "#geoJSON = \"\"\"{\"type\":\"Polygon\",\"coordinates\":[[[-81.31805419921875,31.836732676846065],[-80.76324462890625,31.836732676846065],[-80.76324462890625,32.29525895520317],[-81.31805419921875,32.29525895520317],[-81.31805419921875,31.836732676846065]]]}\"\"\"\n",
    "# Philly\n",
    "#geoJSON = \"\"\"{\"type\":\"Polygon\",\"coordinates\":[[[-75.21240234375,39.88036665897025],[-75.10030746459961,39.88036665897025],[-75.10030746459961,39.95541184288875],[-75.21240234375,39.95541184288875],[-75.21240234375,39.88036665897025]]]}\"\"\""
   ]
  },
  {
   "cell_type": "markdown",
   "metadata": {},
   "source": [
    "### Query AIS Data from SPIRE API"
   ]
  },
  {
   "cell_type": "code",
   "execution_count": 53,
   "metadata": {},
   "outputs": [],
   "source": [
    "def queryAIS(now):\n",
    "    #print('Start Querying SPIRE Data...')\n",
    "    #now = datetime.datetime.now()\n",
    "    newiso = datetime.datetime.isoformat(now)\n",
    "    headers = {\"Authorization\": \"Bearer {}\".format(auth_token), 'Accept': 'application/{}'.format(output_format)}\n",
    "    request = '{}/?updated_after={}&limit={}&last_known_position_within={}'.format(API_endpoint,newiso,limit,geoJSON) \n",
    "    response = requests.get(request, headers=headers)\n",
    "    data = response.json()\n",
    "    datajson = json.loads(response.text)\n",
    "    return datajson\n",
    "    #print('Done.')"
   ]
  },
  {
   "cell_type": "markdown",
   "metadata": {},
   "source": [
    "### Create a Spatially Enabled DataFrame Using the ArcGIS API for Python"
   ]
  },
  {
   "cell_type": "code",
   "execution_count": 54,
   "metadata": {},
   "outputs": [],
   "source": [
    "def getRotatedCoords(x,y,xc,yc,angle):\n",
    "    x = x - xc  \n",
    "    y = y - yc\n",
    "    angle = angle * -1  \n",
    "    angle = math.radians(angle)  \n",
    "    xr = (x * math.cos(angle)) - (y * math.sin(angle)) + xc  \n",
    "    yr = (x * math.sin(angle)) + (y * math.cos(angle)) + yc  \n",
    "    return [xr, yr]   "
   ]
  },
  {
   "cell_type": "code",
   "execution_count": 55,
   "metadata": {},
   "outputs": [],
   "source": [
    "def point_to_poly(row):\n",
    "    #get data from the Series\n",
    "    coords = row[\"last_known_position.geometry.coordinates\"]\n",
    "    rotation = row[\"last_known_position.heading\"]\n",
    "    if rotation > 360:\n",
    "        rotation = 0\n",
    "    if row[\"length\"] > 0:\n",
    "        shipLength = row[\"length\"]\n",
    "    else:\n",
    "        shipLength = 10\n",
    "    if row[\"width\"] > 0:\n",
    "        shipWidth = row[\"width\"]\n",
    "    else:\n",
    "        shipWidth = 4\n",
    "    x_lon = coords[0]\n",
    "    y_lat = coords[1]\n",
    "    \n",
    "    #Convert GCS to Web Mercator Coordinates\n",
    "    if abs(x_lon) <= 180 and abs(y_lat) < 90:          \n",
    "        num = x_lon * 0.017453292519943295         \n",
    "        x = 6378137.0 * num         \n",
    "        a = y_lat * 0.017453292519943295          \n",
    "        x_mercator = x         \n",
    "        y_mercator = 3189068.5 * math.log((1.0 + math.sin(a)) / (1.0 - math.sin(a)))\n",
    "\n",
    "        polygon = [\n",
    "            [x_mercator - (shipWidth * 0.5), y_mercator - (shipLength * 0.5)],\n",
    "            [x_mercator - (shipWidth * 0.5), y_mercator + (shipLength * 0.350)],\n",
    "            [x_mercator - (shipWidth * 0.431), y_mercator + (shipLength * 0.392)],\n",
    "            [x_mercator - (shipWidth * 0.357), y_mercator + (shipLength * 0.427)],            \n",
    "            [x_mercator - (shipWidth * 0.281), y_mercator + (shipLength * 0.455)],\n",
    "            [x_mercator - (shipWidth * 0.203), y_mercator + (shipLength * 0.478)],\n",
    "            [x_mercator - (shipWidth * 0.123), y_mercator + (shipLength * 0.492)],     \n",
    "            [x_mercator - (shipWidth * 0.088), y_mercator + (shipLength * 0.495)],\n",
    "            [x_mercator,y_mercator + (shipLength * 0.5)],\n",
    "            [x_mercator,y_mercator + (shipLength * 0.5)],\n",
    "            [x_mercator + (shipWidth * 0.088), y_mercator + (shipLength * 0.495)],\n",
    "            [x_mercator + (shipWidth * 0.123), y_mercator + (shipLength * 0.492)],\n",
    "            [x_mercator + (shipWidth * 0.203), y_mercator + (shipLength * 0.478)],\n",
    "            [x_mercator + (shipWidth * 0.281), y_mercator + (shipLength * 0.455)],\n",
    "            [x_mercator + (shipWidth * 0.357), y_mercator + (shipLength * 0.427)],\n",
    "            [x_mercator + (shipWidth * 0.431), y_mercator + (shipLength * 0.392)],\n",
    "            [x_mercator + (shipWidth * 0.5), y_mercator + (shipLength * 0.350)],                                                \n",
    "            [x_mercator + (shipWidth * 0.5), y_mercator - (shipLength * 0.5)],\n",
    "            [x_mercator - (shipWidth * 0.5), y_mercator - (shipLength * 0.5)],\n",
    "        ]        \n",
    "        \n",
    "        #Get Rotated Coordinates\n",
    "        rotatedPoly = []\n",
    "        for vertex in polygon:\n",
    "            rotatedPoly.append(getRotatedCoords(vertex[0],vertex[1],x_mercator,y_mercator,rotation))  \n",
    "        \n",
    "        return Geometry({\"rings\": [rotatedPoly],\n",
    "                \"spatialReference\": {\"wkid\": 3857}})\n",
    "    else:\n",
    "        return None"
   ]
  },
  {
   "cell_type": "code",
   "execution_count": 56,
   "metadata": {},
   "outputs": [],
   "source": [
    "def createSpatialDataFrame(datajson):\n",
    "    df = pd.DataFrame(data=json_normalize(datajson['data']))\n",
    "    df['SHAPE']=df.apply(point_to_poly, axis=1)\n",
    "    df.spatial.set_geometry('SHAPE')\n",
    "    return df"
   ]
  },
  {
   "cell_type": "markdown",
   "metadata": {},
   "source": [
    "### Create the Map"
   ]
  },
  {
   "cell_type": "code",
   "execution_count": 57,
   "metadata": {
    "scrolled": false
   },
   "outputs": [
    {
     "data": {
      "application/vnd.jupyter.widget-view+json": {
       "model_id": "4390180b73c74542b4fa9132b015b4f0",
       "version_major": 2,
       "version_minor": 0
      },
      "text/plain": [
       "MapView(layout=Layout(height='400px', width='100%'))"
      ]
     },
     "metadata": {},
     "output_type": "display_data"
    },
    {
     "data": {
      "text/html": [
       "<div class=\"map-static-img-preview-dcb934fc-19d7-4e14-8762-01579defa81e\"><img src=\"\"></img></div>"
      ],
      "text/plain": [
       "<IPython.core.display.HTML object>"
      ]
     },
     "metadata": {},
     "output_type": "display_data"
    }
   ],
   "source": [
    "aisMap = GIS().map('Europoort')\n",
    "aisMap.basemap = 'satellite'\n",
    "aisMap"
   ]
  },
  {
   "cell_type": "code",
   "execution_count": 58,
   "metadata": {
    "scrolled": true
   },
   "outputs": [
    {
     "name": "stderr",
     "output_type": "stream",
     "text": [
      "/Users/josh6643/anaconda3/lib/python3.7/site-packages/numpy/core/_methods.py:32: RuntimeWarning: invalid value encountered in reduce\n",
      "  return umr_minimum(a, axis, None, out, keepdims, initial)\n",
      "/Users/josh6643/anaconda3/lib/python3.7/site-packages/numpy/core/_methods.py:28: RuntimeWarning: invalid value encountered in reduce\n",
      "  return umr_maximum(a, axis, None, out, keepdims, initial)\n"
     ]
    },
    {
     "name": "stdout",
     "output_type": "stream",
     "text": [
      "Total AIS responses: 238\n"
     ]
    }
   ],
   "source": [
    "for i in range(1):\n",
    "    shipLocations = queryAIS(datetime.datetime.now())\n",
    "    df = createSpatialDataFrame(shipLocations)\n",
    "    df.spatial.plot(map_widget=aisMap,\n",
    "                           cmap = [255,255,255,200],\n",
    "                           symbol_type='simple',\n",
    "                           symbol_style='s',\n",
    "                           outline_style='s',\n",
    "                           outline_color=[0,0,0,255],\n",
    "                           line_width=0.5)\n",
    "        \n",
    "    print('Total AIS responses: {}'.format(len(df)))\n",
    "    time.sleep(waittime)"
   ]
  },
  {
   "cell_type": "code",
   "execution_count": null,
   "metadata": {},
   "outputs": [],
   "source": [
    "df"
   ]
  },
  {
   "cell_type": "code",
   "execution_count": 40,
   "metadata": {},
   "outputs": [
    {
     "ename": "TypeError",
     "evalue": "'>' not supported between instances of 'Polygon' and 'int'",
     "output_type": "error",
     "traceback": [
      "\u001b[0;31m---------------------------------------------------------------------------\u001b[0m",
      "\u001b[0;31mTypeError\u001b[0m                                 Traceback (most recent call last)",
      "\u001b[0;32m<ipython-input-40-a73227fecae2>\u001b[0m in \u001b[0;36m<module>\u001b[0;34m\u001b[0m\n\u001b[1;32m      1\u001b[0m \u001b[0;31m# interrogate the SeDF itself\u001b[0m\u001b[0;34m\u001b[0m\u001b[0;34m\u001b[0m\u001b[0;34m\u001b[0m\u001b[0m\n\u001b[0;32m----> 2\u001b[0;31m \u001b[0mq\u001b[0m \u001b[0;34m=\u001b[0m \u001b[0mdf\u001b[0m\u001b[0;34m.\u001b[0m\u001b[0mSHAPE\u001b[0m \u001b[0;34m>\u001b[0m \u001b[0;36m0\u001b[0m\u001b[0;34m\u001b[0m\u001b[0;34m\u001b[0m\u001b[0m\n\u001b[0m\u001b[1;32m      3\u001b[0m \u001b[0;34m\u001b[0m\u001b[0m\n\u001b[1;32m      4\u001b[0m \u001b[0;31m# get the data\u001b[0m\u001b[0;34m\u001b[0m\u001b[0;34m\u001b[0m\u001b[0;34m\u001b[0m\u001b[0m\n\u001b[1;32m      5\u001b[0m \u001b[0mdf\u001b[0m\u001b[0;34m[\u001b[0m\u001b[0mq\u001b[0m\u001b[0;34m]\u001b[0m\u001b[0;34m.\u001b[0m\u001b[0mhead\u001b[0m\u001b[0;34m(\u001b[0m\u001b[0;34m)\u001b[0m\u001b[0;34m\u001b[0m\u001b[0;34m\u001b[0m\u001b[0m\n",
      "\u001b[0;32m~/anaconda3/lib/python3.7/site-packages/pandas/core/ops.py\u001b[0m in \u001b[0;36mwrapper\u001b[0;34m(self, other, axis)\u001b[0m\n\u001b[1;32m   1281\u001b[0m \u001b[0;34m\u001b[0m\u001b[0m\n\u001b[1;32m   1282\u001b[0m             \u001b[0;32mwith\u001b[0m \u001b[0mnp\u001b[0m\u001b[0;34m.\u001b[0m\u001b[0merrstate\u001b[0m\u001b[0;34m(\u001b[0m\u001b[0mall\u001b[0m\u001b[0;34m=\u001b[0m\u001b[0;34m'ignore'\u001b[0m\u001b[0;34m)\u001b[0m\u001b[0;34m:\u001b[0m\u001b[0;34m\u001b[0m\u001b[0;34m\u001b[0m\u001b[0m\n\u001b[0;32m-> 1283\u001b[0;31m                 \u001b[0mres\u001b[0m \u001b[0;34m=\u001b[0m \u001b[0mna_op\u001b[0m\u001b[0;34m(\u001b[0m\u001b[0mvalues\u001b[0m\u001b[0;34m,\u001b[0m \u001b[0mother\u001b[0m\u001b[0;34m)\u001b[0m\u001b[0;34m\u001b[0m\u001b[0;34m\u001b[0m\u001b[0m\n\u001b[0m\u001b[1;32m   1284\u001b[0m             \u001b[0;32mif\u001b[0m \u001b[0mis_scalar\u001b[0m\u001b[0;34m(\u001b[0m\u001b[0mres\u001b[0m\u001b[0;34m)\u001b[0m\u001b[0;34m:\u001b[0m\u001b[0;34m\u001b[0m\u001b[0;34m\u001b[0m\u001b[0m\n\u001b[1;32m   1285\u001b[0m                 raise TypeError('Could not compare {typ} type with Series'\n",
      "\u001b[0;32m~/anaconda3/lib/python3.7/site-packages/pandas/core/ops.py\u001b[0m in \u001b[0;36mna_op\u001b[0;34m(x, y)\u001b[0m\n\u001b[1;32m   1141\u001b[0m \u001b[0;34m\u001b[0m\u001b[0m\n\u001b[1;32m   1142\u001b[0m         \u001b[0;32melif\u001b[0m \u001b[0mis_object_dtype\u001b[0m\u001b[0;34m(\u001b[0m\u001b[0mx\u001b[0m\u001b[0;34m.\u001b[0m\u001b[0mdtype\u001b[0m\u001b[0;34m)\u001b[0m\u001b[0;34m:\u001b[0m\u001b[0;34m\u001b[0m\u001b[0;34m\u001b[0m\u001b[0m\n\u001b[0;32m-> 1143\u001b[0;31m             \u001b[0mresult\u001b[0m \u001b[0;34m=\u001b[0m \u001b[0m_comp_method_OBJECT_ARRAY\u001b[0m\u001b[0;34m(\u001b[0m\u001b[0mop\u001b[0m\u001b[0;34m,\u001b[0m \u001b[0mx\u001b[0m\u001b[0;34m,\u001b[0m \u001b[0my\u001b[0m\u001b[0;34m)\u001b[0m\u001b[0;34m\u001b[0m\u001b[0;34m\u001b[0m\u001b[0m\n\u001b[0m\u001b[1;32m   1144\u001b[0m \u001b[0;34m\u001b[0m\u001b[0m\n\u001b[1;32m   1145\u001b[0m         \u001b[0;32melif\u001b[0m \u001b[0mis_datetimelike_v_numeric\u001b[0m\u001b[0;34m(\u001b[0m\u001b[0mx\u001b[0m\u001b[0;34m,\u001b[0m \u001b[0my\u001b[0m\u001b[0;34m)\u001b[0m\u001b[0;34m:\u001b[0m\u001b[0;34m\u001b[0m\u001b[0;34m\u001b[0m\u001b[0m\n",
      "\u001b[0;32m~/anaconda3/lib/python3.7/site-packages/pandas/core/ops.py\u001b[0m in \u001b[0;36m_comp_method_OBJECT_ARRAY\u001b[0;34m(op, x, y)\u001b[0m\n\u001b[1;32m   1120\u001b[0m         \u001b[0mresult\u001b[0m \u001b[0;34m=\u001b[0m \u001b[0mlibops\u001b[0m\u001b[0;34m.\u001b[0m\u001b[0mvec_compare\u001b[0m\u001b[0;34m(\u001b[0m\u001b[0mx\u001b[0m\u001b[0;34m,\u001b[0m \u001b[0my\u001b[0m\u001b[0;34m,\u001b[0m \u001b[0mop\u001b[0m\u001b[0;34m)\u001b[0m\u001b[0;34m\u001b[0m\u001b[0;34m\u001b[0m\u001b[0m\n\u001b[1;32m   1121\u001b[0m     \u001b[0;32melse\u001b[0m\u001b[0;34m:\u001b[0m\u001b[0;34m\u001b[0m\u001b[0;34m\u001b[0m\u001b[0m\n\u001b[0;32m-> 1122\u001b[0;31m         \u001b[0mresult\u001b[0m \u001b[0;34m=\u001b[0m \u001b[0mlibops\u001b[0m\u001b[0;34m.\u001b[0m\u001b[0mscalar_compare\u001b[0m\u001b[0;34m(\u001b[0m\u001b[0mx\u001b[0m\u001b[0;34m,\u001b[0m \u001b[0my\u001b[0m\u001b[0;34m,\u001b[0m \u001b[0mop\u001b[0m\u001b[0;34m)\u001b[0m\u001b[0;34m\u001b[0m\u001b[0;34m\u001b[0m\u001b[0m\n\u001b[0m\u001b[1;32m   1123\u001b[0m     \u001b[0;32mreturn\u001b[0m \u001b[0mresult\u001b[0m\u001b[0;34m\u001b[0m\u001b[0;34m\u001b[0m\u001b[0m\n\u001b[1;32m   1124\u001b[0m \u001b[0;34m\u001b[0m\u001b[0m\n",
      "\u001b[0;32mpandas/_libs/ops.pyx\u001b[0m in \u001b[0;36mpandas._libs.ops.scalar_compare\u001b[0;34m()\u001b[0m\n",
      "\u001b[0;31mTypeError\u001b[0m: '>' not supported between instances of 'Polygon' and 'int'"
     ]
    }
   ],
   "source": [
    "# interrogate the SeDF itself\n",
    "q = df.SHAPE > 0\n",
    "\n",
    "# get the data\n",
    "df[q].head()"
   ]
  },
  {
   "cell_type": "code",
   "execution_count": null,
   "metadata": {},
   "outputs": [],
   "source": []
  }
 ],
 "metadata": {
  "kernelspec": {
   "display_name": "Python 3",
   "language": "python",
   "name": "python3"
  },
  "language_info": {
   "codemirror_mode": {
    "name": "ipython",
    "version": 3
   },
   "file_extension": ".py",
   "mimetype": "text/x-python",
   "name": "python",
   "nbconvert_exporter": "python",
   "pygments_lexer": "ipython3",
   "version": "3.7.1"
  }
 },
 "nbformat": 4,
 "nbformat_minor": 2
}
