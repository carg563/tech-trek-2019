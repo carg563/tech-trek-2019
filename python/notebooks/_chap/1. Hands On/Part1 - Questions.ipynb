{
 "cells": [
  {
   "cell_type": "markdown",
   "metadata": {},
   "source": [
    "# Exercise 1: Understanding the Basics\n",
    "\n",
    "**Time: 15 Minutes**"
   ]
  },
  {
   "cell_type": "markdown",
   "metadata": {},
   "source": [
    "# https://gisinc.dev.geocloud.com/portal"
   ]
  },
  {
   "cell_type": "markdown",
   "metadata": {},
   "source": [
    "### 1. Login to ArcGIS Enterprise using named user accounts. Display your Account in the Jupyter Notebook cell.\n",
    "\n",
    "- Create a profile name.  This will be used for all other exercises."
   ]
  },
  {
   "cell_type": "code",
   "execution_count": 3,
   "metadata": {},
   "outputs": [],
   "source": [
    "from arcgis.gis import GIS"
   ]
  },
  {
   "cell_type": "code",
   "execution_count": null,
   "metadata": {},
   "outputs": [],
   "source": [
    "# Insert Code here - remove the `None` and fill in your code.\n",
    "gis = GIS(url=\"https://gisinc.dev.geocloud.com/portal\", username='andrew', profile='ex1')"
   ]
  },
  {
   "cell_type": "markdown",
   "metadata": {},
   "source": [
    "#### Solution"
   ]
  },
  {
   "cell_type": "code",
   "execution_count": 3,
   "metadata": {},
   "outputs": [
    {
     "data": {
      "text/html": [
       "<div class=\"9item_container\" style=\"height: auto; overflow: hidden; border: 1px solid #cfcfcf; border-radius: 2px; background: #f6fafa; line-height: 1.21429em; padding: 10px;\">\n",
       "                    <div class=\"item_left\" style=\"width: 210px; float: left;\">\n",
       "                       <a href='https://gisinc.dev.geocloud.com/portal/home/user.html?user=andrew' target='_blank'>\n",
       "                        <img src='https://gisinc.dev.geocloud.com/portal/home/js/arcgisonline/css/images/no-user-thumb.jpg' class=\"itemThumbnail\">\n",
       "                       </a>\n",
       "                    </div>\n",
       "\n",
       "                    <div class=\"item_right\" style=\"float: none; width: auto; overflow: hidden;\">\n",
       "                        <a href='https://gisinc.dev.geocloud.com/portal/home/user.html?user=andrew' target='_blank'><b>Andrew C</b>\n",
       "                        </a>\n",
       "                        <br/><br/><b>Bio</b>: None\n",
       "                        <br/><b>First Name</b>: Andrew\n",
       "                        <br/><b>Last Name</b>: C\n",
       "                        <br/><b>Username</b>: andrew\n",
       "                        <br/><b>Joined</b>: April 23, 2019\n",
       "\n",
       "                    </div>\n",
       "                </div>\n",
       "                "
      ],
      "text/plain": [
       "<User username:andrew>"
      ]
     },
     "execution_count": 3,
     "metadata": {},
     "output_type": "execute_result"
    }
   ],
   "source": [
    "# %load ./answer/q1.py\n",
    "from arcgis.gis import GIS\n",
    "gis = GIS(profile=\"class_profile\")\n",
    "gis.users.me\n"
   ]
  },
  {
   "cell_type": "markdown",
   "metadata": {},
   "source": [
    "### 2. Do the following:\n",
    "\n",
    "    - Login to ArcGIS Online (AGOL) anonymously.\n",
    "    - Find the following Hosted Feature Layer items and append them to the list with the variable name `items`.\n",
    "        + USA States (Generalized) and owned by `esri_dm`\n",
    "        + USA Rivers and Streams and owned by `esri`\n",
    "        + USA Major Cities and owned by `esri_dm`"
   ]
  },
  {
   "cell_type": "code",
   "execution_count": 4,
   "metadata": {},
   "outputs": [],
   "source": [
    "# do not modify, but run\n",
    "items = []\n",
    "gis = GIS()"
   ]
  },
  {
   "cell_type": "code",
   "execution_count": null,
   "metadata": {},
   "outputs": [],
   "source": [
    "# INSERT ANSWER HERE"
   ]
  },
  {
   "cell_type": "markdown",
   "metadata": {},
   "source": [
    "#### Solution"
   ]
  },
  {
   "cell_type": "code",
   "execution_count": 6,
   "metadata": {},
   "outputs": [
    {
     "data": {
      "text/plain": [
       "[<Item title:\"USA States (Generalized)\" type:Feature Layer Collection owner:esri_dm>,\n",
       " <Item title:\"USA Rivers and Streams\" type:Feature Layer Collection owner:esri>,\n",
       " <Item title:\"USA Major Cities\" type:Feature Layer Collection owner:esri_dm>]"
      ]
     },
     "execution_count": 6,
     "metadata": {},
     "output_type": "execute_result"
    }
   ],
   "source": [
    "# %load ./answer/q2.py\n",
    "# Find the States Layer\n",
    "results = [item for item in \\\n",
    "         gis.content.search(\"\"\"generalized and states and USA AND owner:esri_dm\"\"\", item_type=\"Feature Layer\", max_items=5) \\\n",
    "         if item.title == \"USA States (Generalized)\"]\n",
    "states = results[0]\n",
    "items.append(states)\n",
    "# Find the Rivers and Streams\n",
    "results = gis.content.search(\"\"\"title:'USA Rivers and Streams' AND owner:esri\"\"\", item_type=\"Feature Layer\", max_items=5)\n",
    "results = [item for item in results if item.title == 'USA Rivers and Streams']\n",
    "items += results\n",
    "# Find the Cities\n",
    "results = gis.content.search(\"\"\"USA Major Cities AND owner:esri_dm\"\"\", item_type=\"Feature Layer\", max_items=5)\n",
    "items += results\n",
    "items\n"
   ]
  },
  {
   "cell_type": "markdown",
   "metadata": {},
   "source": [
    "### 3. Using the Results from Question 2, Plot the data to the map.  \n",
    "\n",
    "- After adding the layers, show the legend on the map\n",
    "- Advanced Question: How can you override the symbology?"
   ]
  },
  {
   "cell_type": "code",
   "execution_count": 8,
   "metadata": {},
   "outputs": [],
   "source": [
    "# DO NOT MODIFY THIS CELL\n",
    "m = gis.map('Omaha, NB')\n",
    "m.zoom = 8"
   ]
  },
  {
   "cell_type": "code",
   "execution_count": null,
   "metadata": {},
   "outputs": [],
   "source": [
    "# INSERT CODE HERE"
   ]
  },
  {
   "cell_type": "code",
   "execution_count": 9,
   "metadata": {},
   "outputs": [
    {
     "data": {
      "application/vnd.jupyter.widget-view+json": {
       "model_id": "8d0c33a5156e4b5bbc27a39d3f56672e",
       "version_major": 2,
       "version_minor": 0
      },
      "text/plain": [
       "MapView(layout=Layout(height='400px', width='100%'), zoom=8.0)"
      ]
     },
     "metadata": {},
     "output_type": "display_data"
    },
    {
     "data": {
      "text/html": [
       "<div class=\"map-static-img-preview-2fbf36af-4b36-4ef6-a197-e68407b14c33\"><img src=\"\"></img></div>"
      ],
      "text/plain": [
       "<IPython.core.display.HTML object>"
      ]
     },
     "metadata": {},
     "output_type": "display_data"
    }
   ],
   "source": [
    "# RUN AFTER LOADING THE DATA\n",
    "m"
   ]
  },
  {
   "cell_type": "markdown",
   "metadata": {},
   "source": [
    "#### Solution"
   ]
  },
  {
   "cell_type": "code",
   "execution_count": 10,
   "metadata": {},
   "outputs": [
    {
     "name": "stdout",
     "output_type": "stream",
     "text": [
      "USA States (Generalized)\n",
      "USA Rivers and Streams\n",
      "USA Major Cities\n"
     ]
    }
   ],
   "source": [
    "# %load ./answer/q3.py\n",
    "for i in items:\n",
    "    print(i.title)\n",
    "    m.add_layer(i)\n",
    "m.legend = True"
   ]
  },
  {
   "cell_type": "code",
   "execution_count": 12,
   "metadata": {},
   "outputs": [],
   "source": [
    "# %load ./answer/q3b.py\n",
    "m.add_layer(items[0], {\n",
    "        \"renderer\":\"ClassedColorRenderer\",\n",
    "        \"field_name\":\"VACANT\",\n",
    "        \"opacity\":0.7})"
   ]
  },
  {
   "cell_type": "markdown",
   "metadata": {},
   "source": [
    "4. Create a group with the following:\n",
    "    - Title: first_group_ Your_Last_Name\n",
    "    - Description: Provide a description of your group\n",
    "    - Define the thumbnail\n",
    "    - Tags: First, Group"
   ]
  },
  {
   "cell_type": "code",
   "execution_count": 13,
   "metadata": {},
   "outputs": [],
   "source": [
    "# DO NOT MODIFY\n",
    "import uuid"
   ]
  },
  {
   "cell_type": "code",
   "execution_count": 16,
   "metadata": {},
   "outputs": [],
   "source": [
    "# Modify the title variable with your last name\n",
    "thumbnail = r\"./data/batman.png\"\n",
    "lname = None\n",
    "title = \"first_group_{lname}\".format(lname=None or uuid.uuid4().hex[:5])"
   ]
  },
  {
   "cell_type": "code",
   "execution_count": null,
   "metadata": {},
   "outputs": [],
   "source": [
    "# INSERT CODE HERE"
   ]
  },
  {
   "cell_type": "code",
   "execution_count": 20,
   "metadata": {},
   "outputs": [
    {
     "data": {
      "text/html": [
       "<div class=\"9item_container\" style=\"height: auto; overflow: hidden; border: 1px solid #cfcfcf; border-radius: 2px; background: #f6fafa; line-height: 1.21429em; padding: 10px;\">\n",
       "                    <div class=\"item_left\" style=\"width: 210px; float: left;\">\n",
       "                       <a href='https://gisinc.dev.geocloud.com/portal/home/group.html?id=dce684e403af4dfebf78f52bebf56d06' target='_blank'>\n",
       "                        <img src='data:image/png;base64,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' ' class=\"itemThumbnail\">\n",
       "                       </a>\n",
       "                    </div>\n",
       "\n",
       "                    <div class=\"item_right\" style=\"float: none; width: auto; overflow: hidden;\">\n",
       "                        <a href='https://gisinc.dev.geocloud.com/portal/home/group.html?id=dce684e403af4dfebf78f52bebf56d06' target='_blank'><b>first_group_c41d8</b>\n",
       "                        </a>\n",
       "                        <br/>\n",
       "                        <br/><b>Summary</b>: None\n",
       "                        <br/><b>Description</b>: Descriptive Text\n",
       "                        <br/><b>Owner</b>: andrew\n",
       "                        <br/><b>Created</b>: April 28, 2019\n",
       "\n",
       "                    </div>\n",
       "                </div>\n",
       "                "
      ],
      "text/plain": [
       "<Group title:\"first_group_c41d8\" owner:andrew>"
      ]
     },
     "execution_count": 20,
     "metadata": {},
     "output_type": "execute_result"
    }
   ],
   "source": [
    "# %load ./answer/q4.py\n",
    "gis = GIS(profile=\"class_profile\")\n",
    "group = gis.groups.create(description=\"Descriptive Text\", access=\"public\", \n",
    "                          auto_join=False, is_invitation_only=True, \n",
    "                          tags=\"First, Group\", title=title,\n",
    "                          thumbnail=thumbnail\n",
    "                         )\n",
    "group"
   ]
  },
  {
   "cell_type": "markdown",
   "metadata": {},
   "source": [
    "5. Create a user with the following:\n",
    "\n",
    "\n",
    "    1. First name, last name, username, password.\n",
    "    2. Provide the user type of `creatorUT` (creator)\n",
    "    3. Role should be `org_publisher`\n",
    "    "
   ]
  },
  {
   "cell_type": "code",
   "execution_count": null,
   "metadata": {},
   "outputs": [],
   "source": [
    "# ENTER IN CREDENTIALS (provided by the instructor)\n",
    "#\n",
    "from arcgis.gis import GIS\n",
    "url = None\n",
    "username = \"\"\n",
    "password = \"\"\n",
    "gis = GIS(url=url, username=username, password=password)"
   ]
  },
  {
   "cell_type": "code",
   "execution_count": null,
   "metadata": {},
   "outputs": [],
   "source": [
    "# ENTER ANSWER HERE!"
   ]
  },
  {
   "cell_type": "markdown",
   "metadata": {},
   "source": [
    "**solution**"
   ]
  },
  {
   "cell_type": "code",
   "execution_count": null,
   "metadata": {},
   "outputs": [],
   "source": [
    "# %load ./answer/q5.py\n",
    "u = gis.users.create(username=\"A\" + uuid.uuid4().hex[:5], \n",
    "                     password=\"Am4ziNgPassw0Rd\", \n",
    "                     firstname=\"FIRSTNAME\", \n",
    "                     lastname=\"LASTNAME\",\n",
    "                     email=\"fakeemail@esri.com\", \n",
    "                     role=\"org_publisher\", \n",
    "                     user_type=\"creatorUT\")"
   ]
  }
 ],
 "metadata": {
  "kernelspec": {
   "display_name": "Python 3",
   "language": "python",
   "name": "python3"
  },
  "language_info": {
   "codemirror_mode": {
    "name": "ipython",
    "version": 3
   },
   "file_extension": ".py",
   "mimetype": "text/x-python",
   "name": "python",
   "nbconvert_exporter": "python",
   "pygments_lexer": "ipython3",
   "version": "3.6.6"
  }
 },
 "nbformat": 4,
 "nbformat_minor": 2
}
