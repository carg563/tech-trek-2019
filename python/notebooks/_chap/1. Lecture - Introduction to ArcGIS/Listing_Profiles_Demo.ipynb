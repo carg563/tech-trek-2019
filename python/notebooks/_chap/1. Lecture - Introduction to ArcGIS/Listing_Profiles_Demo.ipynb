{
 "cells": [
  {
   "cell_type": "markdown",
   "metadata": {},
   "source": [
    "## Listing Profiles\n",
    "\n",
    "- Profiles are an important part of keeping credentials safe\n",
    "- Leverages the system's built in security to protect passwords (like in browsers)"
   ]
  },
  {
   "cell_type": "code",
   "execution_count": 1,
   "metadata": {},
   "outputs": [],
   "source": [
    "from arcgis.gis import GIS"
   ]
  },
  {
   "cell_type": "code",
   "execution_count": 6,
   "metadata": {},
   "outputs": [
    {
     "name": "stdout",
     "output_type": "stream",
     "text": [
      "DEFAULT\n",
      "tech_trek_profile\n"
     ]
    }
   ],
   "source": [
    "import os\n",
    "from configparser import ConfigParser\n",
    "from pathlib import Path\n",
    "home = Path.home()\n",
    "profile_file = os.path.join(home, '.arcgisprofile')\n",
    "cp = ConfigParser()\n",
    "cp.read(profile_file)\n",
    "for i in cp.values():\n",
    "    print(i.name)"
   ]
  },
  {
   "cell_type": "code",
   "execution_count": 4,
   "metadata": {},
   "outputs": [
    {
     "data": {
      "text/html": [
       "<div class=\"9item_container\" style=\"height: auto; overflow: hidden; border: 1px solid #cfcfcf; border-radius: 2px; background: #f6fafa; line-height: 1.21429em; padding: 10px;\">\n",
       "                    <div class=\"item_left\" style=\"width: 210px; float: left;\">\n",
       "                       <a href='https://DBSNE.maps.arcgis.com/home/user.html?user=joshdbs' target='_blank'>\n",
       "                        <img src='data:image/png;base64,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' width='200' height='133' class=\"itemThumbnail\">\n",
       "                       </a>\n",
       "                    </div>\n",
       "\n",
       "                    <div class=\"item_right\" style=\"float: none; width: auto; overflow: hidden;\">\n",
       "                        <a href='https://DBSNE.maps.arcgis.com/home/user.html?user=joshdbs' target='_blank'><b>Josh Peterson</b>\n",
       "                        </a>\n",
       "                        <br/><br/><b>Bio</b>: \n",
       "                        <br/><b>First Name</b>: Josh\n",
       "                        <br/><b>Last Name</b>: Peterson\n",
       "                        <br/><b>Username</b>: joshdbs\n",
       "                        <br/><b>Joined</b>: April 03, 2014\n",
       "\n",
       "                    </div>\n",
       "                </div>\n",
       "                "
      ],
      "text/plain": [
       "<User username:joshdbs>"
      ]
     },
     "execution_count": 4,
     "metadata": {},
     "output_type": "execute_result"
    }
   ],
   "source": [
    "gis = GIS(profile='tech_trek_profile')\n",
    "user = gis.users.me\n",
    "user"
   ]
  },
  {
   "cell_type": "code",
   "execution_count": null,
   "metadata": {},
   "outputs": [],
   "source": []
  }
 ],
 "metadata": {
  "kernelspec": {
   "display_name": "Python 3",
   "language": "python",
   "name": "python3"
  },
  "language_info": {
   "codemirror_mode": {
    "name": "ipython",
    "version": 3
   },
   "file_extension": ".py",
   "mimetype": "text/x-python",
   "name": "python",
   "nbconvert_exporter": "python",
   "pygments_lexer": "ipython3",
   "version": "3.7.1"
  }
 },
 "nbformat": 4,
 "nbformat_minor": 2
}
