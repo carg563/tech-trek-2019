{
 "cells": [
  {
   "cell_type": "markdown",
   "metadata": {},
   "source": [
    "# ArcGIS API for Python\n"
   ]
  },
  {
   "cell_type": "markdown",
   "metadata": {
    "heading_collapsed": true
   },
   "source": [
    "## What is the Python API for ArcGIS?"
   ]
  },
  {
   "cell_type": "markdown",
   "metadata": {
    "hidden": true
   },
   "source": [
    "<img src=\"./img/whatisit.jpg\"/>"
   ]
  },
  {
   "cell_type": "markdown",
   "metadata": {
    "hidden": true
   },
   "source": [
    "### What's Inside?"
   ]
  },
  {
   "cell_type": "markdown",
   "metadata": {
    "hidden": true
   },
   "source": [
    "<img src=\"./img/guide_api_overview_modules.png\" width=60%/>"
   ]
  },
  {
   "cell_type": "markdown",
   "metadata": {
    "hidden": true
   },
   "source": [
    "- Tools to managing your GIS \n",
    "- Tool to perform spatial analysis\n",
    "- Library for working with maps and geospatial data\n",
    "- Powered by Web GIS\n",
    "- Simple collection of tools \n",
    "- Raster/Vector Analysis\n",
    "- Geocoding\n",
    "- Routing/Directions\n",
    "- Content/User Management\n",
    "- Manages Infrastructure\n"
   ]
  },
  {
   "cell_type": "markdown",
   "metadata": {
    "heading_collapsed": true
   },
   "source": [
    "## Why use the API?"
   ]
  },
  {
   "cell_type": "markdown",
   "metadata": {
    "hidden": true
   },
   "source": [
    "- Popularity\n",
    "- Productivity\n",
    "- Interoperability\n",
    "- Solves the “two-language” problem\n",
    "- Scientific Python ecosystem\n",
    "- Community"
   ]
  },
  {
   "cell_type": "markdown",
   "metadata": {
    "heading_collapsed": true
   },
   "source": [
    "## Getting Started"
   ]
  },
  {
   "cell_type": "markdown",
   "metadata": {
    "hidden": true
   },
   "source": [
    "### Import This!"
   ]
  },
  {
   "cell_type": "code",
   "execution_count": 1,
   "metadata": {
    "hidden": true
   },
   "outputs": [],
   "source": [
    "from arcgis.gis import GIS"
   ]
  },
  {
   "cell_type": "markdown",
   "metadata": {
    "hidden": true
   },
   "source": [
    "### Authentication Schemes"
   ]
  },
  {
   "cell_type": "markdown",
   "metadata": {
    "hidden": true
   },
   "source": [
    "The `GIS` class in the ArcGIS API for Python supports several classes of users with varied authentication schemes:"
   ]
  },
  {
   "cell_type": "markdown",
   "metadata": {
    "hidden": true
   },
   "source": [
    "#### Anonymous Users"
   ]
  },
  {
   "cell_type": "markdown",
   "metadata": {
    "hidden": true
   },
   "source": [
    "You can make use of the Python API as anonymous user. \n",
    "    + Limited in Scope\n",
    "    + Cannot create or modify content or perform any analysis tasks\n",
    "    + View and query and view publicly shared maps and layers"
   ]
  },
  {
   "cell_type": "code",
   "execution_count": 2,
   "metadata": {
    "hidden": true
   },
   "outputs": [
    {
     "data": {
      "text/html": [
       "GIS @ <a href=\"https://esri.northeurope.cloudapp.azure.com/portal\">https://esri.northeurope.cloudapp.azure.com/portal</a>"
      ],
      "text/plain": [
       "GIS @ https://esri.northeurope.cloudapp.azure.com/portal version:7.1"
      ]
     },
     "execution_count": 2,
     "metadata": {},
     "output_type": "execute_result"
    }
   ],
   "source": [
    "GIS('https://esri.northeurope.cloudapp.azure.com/portal')"
   ]
  },
  {
   "cell_type": "code",
   "execution_count": null,
   "metadata": {
    "hidden": true
   },
   "outputs": [
    {
     "name": "stdout",
     "output_type": "stream",
     "text": [
      "Please sign in to your GIS and paste the code that is obtained below.\n",
      "If a web browser does not automatically open, please navigate to the URL below yourself instead.\n",
      "Opening web browser to navigate to: https://www.arcgis.com/sharing/rest/oauth2/authorize?client_id=Ni3azRJBbW5raXd8&response_type=code&expiration=-1&redirect_uri=urn%3Aietf%3Awg%3Aoauth%3A2.0%3Aoob\n"
     ]
    }
   ],
   "source": [
    "gis = GIS(client_id='Ni3azRJBbW5raXd8') \n",
    "# gis = GIS(url=\"https://myportal.mydomain.com/portal\")"
   ]
  },
  {
   "cell_type": "code",
   "execution_count": null,
   "metadata": {
    "hidden": true
   },
   "outputs": [],
   "source": [
    "gis"
   ]
  },
  {
   "cell_type": "markdown",
   "metadata": {
    "hidden": true
   },
   "source": [
    "#### Built-in Accounts"
   ]
  },
  {
   "cell_type": "markdown",
   "metadata": {
    "hidden": true
   },
   "source": [
    "- Uses the built-in default identity store. \n",
    "- Easily create an account\n",
    "- Uses Username/Password "
   ]
  },
  {
   "cell_type": "code",
   "execution_count": null,
   "metadata": {
    "hidden": true
   },
   "outputs": [],
   "source": [
    "gis = GIS(profile='tech_trek_profile')"
   ]
  },
  {
   "cell_type": "code",
   "execution_count": null,
   "metadata": {
    "hidden": true
   },
   "outputs": [],
   "source": [
    "gis"
   ]
  },
  {
   "cell_type": "markdown",
   "metadata": {
    "hidden": true
   },
   "source": [
    "### Protecting Credentials"
   ]
  },
  {
   "cell_type": "markdown",
   "metadata": {
    "hidden": true
   },
   "source": [
    "- Built-in obfuscation method\n",
    "- Allows for securing username/password\n",
    "- Leverages Operating System's password manager"
   ]
  },
  {
   "cell_type": "markdown",
   "metadata": {
    "hidden": true
   },
   "source": [
    "#### Persistent profiles details\n",
    "\n",
    "Persistent profiles will store any combination of the following GIS() parameters in the unencrypted .arcgisprofile file:\n",
    "\n",
    "+ url\n",
    "+ username\n",
    "+ key_file\n",
    "+ cert_file\n",
    "+ client_id"
   ]
  },
  {
   "cell_type": "code",
   "execution_count": 5,
   "metadata": {
    "hidden": true
   },
   "outputs": [],
   "source": [
    "from arcgis.gis import GIS\n",
    "import getpass"
   ]
  },
  {
   "cell_type": "code",
   "execution_count": 7,
   "metadata": {
    "hidden": true
   },
   "outputs": [
    {
     "name": "stdout",
     "output_type": "stream",
     "text": [
      "········\n"
     ]
    }
   ],
   "source": [
    "gis = GIS(username='joshdbs', password=getpass.getpass(), profile=\"tech_trek_profile\")\n",
    "del gis"
   ]
  },
  {
   "cell_type": "code",
   "execution_count": 8,
   "metadata": {
    "hidden": true
   },
   "outputs": [
    {
     "data": {
      "text/html": [
       "<div class=\"9item_container\" style=\"height: auto; overflow: hidden; border: 1px solid #cfcfcf; border-radius: 2px; background: #f6fafa; line-height: 1.21429em; padding: 10px;\">\n",
       "                    <div class=\"item_left\" style=\"width: 210px; float: left;\">\n",
       "                       <a href='https://DBSNE.maps.arcgis.com/home/user.html?user=joshdbs' target='_blank'>\n",
       "                        <img src='data:image/png;base64,/9j/4AAQSkZJRgABAgAAAQABAAD/2wBDAAgGBgcGBQgHBwcJCQgKDBQNDAsLDBkSEw8UHRofHh0aHBwgJC4nICIsIxwcKDcpLDAxNDQ0Hyc5PTgyPC4zNDL/2wBDAQkJCQwLDBgNDRgyIRwhMjIyMjIyMjIyMjIyMjIyMjIyMjIyMjIyMjIyMjIyMjIyMjIyMjIyMjIyMjIyMjIyMjL/wAARCACWAJYDASIAAhEBAxEB/8QAHwAAAQUBAQEBAQEAAAAAAAAAAAECAwQFBgcICQoL/8QAtRAAAgEDAwIEAwUFBAQAAAF9AQIDAAQRBRIhMUEGE1FhByJxFDKBkaEII0KxwRVS0fAkM2JyggkKFhcYGRolJicoKSo0NTY3ODk6Q0RFRkdISUpTVFVWV1hZWmNkZWZnaGlqc3R1dnd4eXqDhIWGh4iJipKTlJWWl5iZmqKjpKWmp6ipqrKztLW2t7i5usLDxMXGx8jJytLT1NXW19jZ2uHi4+Tl5ufo6erx8vP09fb3+Pn6/8QAHwEAAwEBAQEBAQEBAQAAAAAAAAECAwQFBgcICQoL/8QAtREAAgECBAQDBAcFBAQAAQJ3AAECAxEEBSExBhJBUQdhcRMiMoEIFEKRobHBCSMzUvAVYnLRChYkNOEl8RcYGRomJygpKjU2Nzg5OkNERUZHSElKU1RVVldYWVpjZGVmZ2hpanN0dXZ3eHl6goOEhYaHiImKkpOUlZaXmJmaoqOkpaanqKmqsrO0tba3uLm6wsPExcbHyMnK0tPU1dbX2Nna4uPk5ebn6Onq8vP09fb3+Pn6/9oADAMBAAIRAxEAPwDztI5YdOnM/mNOsgSODbjnkk56YGP1psaXsUh+1M7quGkEeNo9QT69se9Q31zOl6yT3s1zK6h2lYEk5HGScnpVzT5tGuvs8Op3GorCjkGO3CyEqTnC5IAOSTk/l683LfYoqaneXRZY44fs6ODJ8seDtI9PTAzVa3u2tmeb5Wk4wehHbpWjcaVBd3MsdjNJJCmczTDaFULnb9eD0znGR6GF7CS3nMN0GUBMrtwSQBzn29D+fs7KOgWKzX7STNKJZELDBO88e9LPeqmd7Ofl+ZgAST+lJJa+VaCdBG6luOp9MjjjIyPzqCZZm0+OZYpRDuKmThhuGM9AMfeXr69TTUUySf8AtK3nhKKrLMSDvYggfhimo6RzyGeMSoegXgA55xTY3eOIAREcGMkRBwemeSMA9OnPPFWLWSG51hp9XMssAjODbwKryEAAE8jBx82STkjnOSadkMv2Vppd5p4kS6aO9BwYS20bhltyntwoHf69qz7VvstzM73EizlizNGw3MTn7p7HnrVSdF85xbK7AZb7oJXnjP6f/XqFnnkcrIx3cfePf1Bpclx3NObVAiPDPvywJDSHnnPfufU1NpV7Zf2iLaMSyxzgJ8qjcWP15647jmm6VoTXuq2dtPcqkdxOkO4jLDcwBx+dGpWB8N+JBaF45Ikf/XMN+GGDjjOMcD1PPPpHuNuKDW1xlwzI7jyVhkyWRABlBnHU9e9VJorqYyuVCgEEqflxkgdOnp+YrWtGm1GRZrwoiCMbSV5YZByeePXp0HrU1zc2/mXFrHcK8SfLGVjIMig9TnGOO3P0oUmtEhWEit5J7eF0nZ4wgFwgjwcBm5yTyQG9O/tkuW4t2UApKCxYYJDY4wPYf/r+tRRrHcpaALvYnZwOIlbJwe3oe3Trjio7nKWsyKBbqpKBQSCwGOSO+f09aTbb1AkMMI8lolaW4OXLPjg5z+fT2Namnalb2kcUCWthPGk252e2yZWwcA8ngZOApHuMgYoR6elvYhlkjuXlXKlBzHzjPXnp/nNNjX7RbRRzzRrGjvIUbAOcYyMHOOBQmGx0mr+IdPu0jFvZrDuSMvEOilF2gAndgAduOvtRXPwxRJPPLHdiJXc7VgkKYHX06c/hRSbY79zFlmt5pP3kpwz4y/zOF7f5B5qncTRgkHaVbHzKOf8A63FLcMst3vWAop5CqOOgpu1CH/ebeAVXOATkdSTwMZ9eQOOcjdJIRej0nUHit50hZILhWaOR24YLnP5bT9OM9RVEy3KTywN5hcEqygbj8oOfXgAH6VqtqkVyts0kRM1vHtSUNvU4J2r5ZBUDnkAgH5ick1lXree6zHy425UqsQjGBx24J/w71YgE0bxFBhWzkAdAPx5z+Nbnh+60yKCW31W3WaB9rCRFZniAyW4DoPmwFJOT0xXOCHzJiFBI6Bc52/jitPThYW0++5DlY1+Yx5y/PY4OOOM8cH25VguaG0W1pJeKrCJpGTAjBiGVyq4fcc8E46j5ckEU1r+Fyks7iWRuAw6qMemBWW0kU26aFNjMzHMe/Az0UZYjtn15PJqaK1aRYpPLd3yA8e4I3XgrkHjtnHU/nEkmO5YmYrIjW4LWx4RjsySPvEgfMo54z1/kXEQaZZFt4UuYh5rbDsUjr/UHiq+oRhYSQmFU7NxYtvYE59gcYyKqRxzRwC6MIaHJVc84NKwXNabUv3ZliZjOWGFYgqnB6cdfT885FTXl9BPG8iwlBcbH254DAYbGOnQnHuPrWTbwGcysGKsPvFgTj8uaikYC6ELZIwN/XqByfp/jikoK4XLSahKl2N2fMZgqbjlYwSBwMenpWkbue2uJPNSFvPDAMkWQHIIAHbuOvtXPszed1IYYZTnqM8GrH29yoPmENjbntg5H9f1NVyLcEzTUNBBBaJcI8Uq+Y3l/Ntbg4GO/GPfmkNvJa8rFMY5zgM2BuPOBnt/OqVrem2JaGYh5ECu5yTj0+tastwttBGk8zS7P3sJQZCvjAJ/TrWck0xjNKtbieK58l5YYwCOELZx1zge44981HLbXEVyXuQLe4wD5CDnaRx34HTr2Oehq5bazcQxySyKqzTuZfPeMBt/IJ49dxB4/XNJZaprFkkaiSJ45T57RzGORSxYgsQQQDgEcg4yT3p2aYaFcXEMNkjsG+0liB8vyhfbnPp29aKvzPp32S3aNJzkHdEVXAbPPz5yeAvGPX2oqb26Ct5nNyu1tK4WYSgjazIh2uOvOcdDzz3FNcqc7t0m7rh+fxyOakluvtUsb3E7SOihRmMLwBjk56+9Lb3Kkuhs0ulZgxVowCMA8Ag5A55AxnA54rawinZz/AGfUYpjtdVcFllHysM8g98VsavpksEytbwLHFcyssNvDN5oQkjCZyWyMheeeM55FZAxk5UBgeNzcH2//AF1cbVtZKpbkSKsL8K6/6sj69CPWqAjntbi1draVGSdCVki2sWBH8OMZzn2/H0gcNGqzTsr5YgxBxlRxgn06/pVyWznvx5i3Ukh6vIz7lPfsOPzPSp7jQJdMEZvhAFmQyoBKpLADnBOcc8fUEdQaVwMwyIcEyMWACqEOSuOh7dsVrww+TYWc95O8gmbakCAZIz09T/8AXArHhiHmGQMBGjABsge/A6mt+2MkMsYgjfYpP73+Nxn+8O1Zy1LjG5XltPMBMQMH7zhHAGAcA++eB+vrTk+zRb0zucsCFLbFOe+B35FLqF5dJOJLiN1C/wCrVS2P1Peufaed52kKttPBUDiqUUxuFjbuGZ3klhWJMpmTdNwx788EnPrVGfUVOyO3hGSADvUEq2e3tj+dIJllPy/Kz8Y9D/8AX5qtbQR/aytzMYhuHzKDjrz+lNQsS0PuFkjLq6bGDEYK+9NtopbyYQxQ+ZIQzBUGcgDJP0ABP4VKY5ZkjiWJWEZb5s4yT3z/AJ/nlLK5W21G3eRB5YkG8EdOev4fXqKomxLe2Vxp8No00HlxXMXnQtjG9ScZ9+RRb3TRXcMzEDy2zzyF6/5xVrxMYEubOOOeK42xku0XQNnBXGeMY7+vfiqdjBJfXywoIlZs4Ezqqngnktx2/PFC2GWIZmiMxjXaJE5BGNw+nb69RSw3UtlNHLEsfnqxO54w27/eVsqfy/Piq9xJNsWczb5SQMM3I/z/AFpkU0mxd6/KOMHkcHHSp0EaP28i0WCSGI4fdvKDzMkcjd1x7HPrxmiql1Kz4KRhQvy4Cjn8qKkCW7s7GC6kJ1RJ4xg7trbm755GOvXn86pyf6PcMJFYuxyUZdi4PQ5Jrp7VdGay2SQWsYDFmj8uXzH4wP3hBwOvQr712NpZeGL3S7SOTTII5RFgXkFzGZDjcMlWABY5PJ5OR6DFl2PKfsd9cRXU8dqY4rQ/vjggR5OACT3ycAZz1pttp1xqDKsSzuWOM7SVX1JIB/z6100A0/Q9QvbfUNPOp6eP9XK0qxbRjqF5BbGBgHPFQrrWnnVDObFpLH5x5Ym2EoVwFyR2zjj05zyKLiOXjgjWTbcO6L0ygBwc9xn/AD+tWrmL+z5UaW3ikSVS6BWcccjGDyBnjnrjgkdb0tjZ6gss9vO3mPJkRJHlVLdiVA5yOgUDrjGMVE9vFp90VuB5qx4V0+66446sD29uOPSjmFYueHLWO6kM0kTGJCxdYx7dOc9yPzr3nwR4T06Hw9bT3UEc0suZPmGQB2GOleIWl1EPs9rA80cU8zM/QMFCgBeAAfy7V9KaTbra6PaRKVjjjiVQM9AAK56r1sdlFWjdFHV/DGj6knlz2cRGOCFxiudXwD4ftYzi0Rsnqea7C7uYdjbZBkdMGsy7vIo7SPLAu3GM1knrodcYtx1PO/EPgHSbiNhaxeTIPulTivK9S064068kglGNrbT7175I4mzIrr9M15b48wmrpI64yoP1rrgzirQRy0Vu0QjLxQyJJ865YDPOPc5yOnH61V1G2lhugsoiTKB18tgwOfce46VdtrS61LU4bC1fLSdFdgqhcAkk9hT9X04WgjiFytztHJRGXYQcHk9Rnv7dB0qupzW0M69aS4urWQhd7xBsrj5jk5J98jvRFIIpldgzY7A47etRLGpmBEgwvUdDShG88blO3r0pkskWUnKZxjqAeh/GpEbcu8MTtGCSB09KjlGJjn5XbqCcZGM96aqSK7IsbMwyCAe1SIvLI8oATBx1B5A/MfT8qKohlP32HHpjn+tFOwrs0zFfGLb5BjAwRhgenr81TeXLZXMcU9+Ii6JIVdwmVdQw+YFux9CfYGrb614eEUqPd3zT5IVWslQA+5Eh/lU39s6Lf3NnI83lxQwiB2eNsA7VAPH+7RNcu2pvBp7ks/h+w8wrd63p63Ak+eDzw7/Q5K/+g1p6XoFm95a6ZHGkm8sHdl5KHJYZHtkflXM339i3+r3F5DeykPKzDzYFRZOcjkOx59xS3N6rymOO4H2cFejgcDsOh/P9KmKaabYOUWnZGj4lk0+y1NINEtYpNLO/yo3JbI6g7z84HGeSODnpzWa0Tasht/LhS4QHCKFXnPEfbsMjJ7H8dzWPENtrWo2c8v2Tbb2TQQrG7xeVH5ZADMQR5gLHkDblQc4rU07WtF1bT5NOeOwivDFGLeYxs0pkwMhZQpbkgZ3dcn5jnAqUVe5EZPY5iy0C7t77TBKrbrkxjeBwm7BGffBBr2TxXb6htC2hldduADN5aLj3/wAM0mgOt94SgEcRLwXMKOGXcR5W0Z556KCT1HOcYNdkhhe3UyAdK4ZycpWZ6tOMYRvHVM8g8K6ZrJ13NzKXjBO7bIXA56Z4qT4pWmow31ulhK6xuvzbTjFelHULWOYxrsRFP7xycBRXLeOb6zSeGZLuHzh8qqW+/wB8fWqp2crl1L8tuh5amn6zZlAk8lxvAIVJSWPttxVnxXZTv4ft7i4R/Ohk2PuOThv/AK+K9Ls9StJbIfIElUfMDWDrvlX1jPAwPzjgqOc9v1xW8Xqc1SCSPOtGhGntFcyyGGV9sW+SMSICeUbB7ZABz3x2yKz59Iv44JLxYZHtY227uSF4LAH/AICD9cGt3xlvh02zscbZ2w8h7/LkD8yT/wB81krrsk1gkCWymQrtlcSEbjk5OD65Ht1/C7Pc5aiinYxch5ZSvcHHHvn+QrQ0LS7nXdXh0uzObiVJGiBPBKIzkfjtI/Gs+0bDknBzn8TWroGpX2k+IoL3SzHHexJN5UjqTgNGwLYz1wSR2zjORV2uYDRplzaararqto4RfneJ12MV3kHPfnBwT/IVrT6Pp1zNEllIyuYDg54MowevbqeO2Pxplm+p6rrIkR7ma+YFgFy7khSePbt2wDVG1kuIpY2iaVZkkwDgA5/EfUVld3LSSI77TowizB4kydu3PAwOnHfOaKiu5I5C6HPDZBYgHv7cdsj1+lFapCdj082mgzqA2iW5J4Gy3fn8vpUDaF4bl4fR9p642yDP4Vjx2lyMbb2T6rMw/rUhhv04GpXXPUrMafsH3D2pLc+G/Cjuw+zvGxP3A7gD36fzrDl0TT/OvoxbRRouFtmaVyx9WPGOnbA5/OtVk1HcManeHH/TX/61Rl9UjGPtd0R/vg1SovuJ1DI0aDRGuo477TZISxZUeMt85HuScHv0H+HWaVoXh6bxBY/Y7G5in3/KftBAAweg59/TtWYL7UkYBnuWx0+XPP5VueEr+6l8W2YucrD87PvQAABGOTwPSplStrccZ9LFvT/F13oHiW+Z7d1sfLWBLfYAp245HPGAcD1zz7em5EtrGwIAZQf0rxnU9XPyvC8LbpJN21gNvIAH5V3Xg/xLHqWkxW9wf30GIi+eCMfLz64H6GuXE0bRU0duEqXk4smi8Q2kTSWSQXIlaQgAQnEnTne2FxzjrxXKeIdEKSnUpdLuAxbIJuowM7c8AE9q9QjtxcWZAjVozyCO1c3e6AyKxe4UJz8ucfnWFJpO53tqSaOQ0P7TqFnNcvbTwwoCqtMMEkenqPeqmv6idO0VruOVUdHXBZSQeenFberXR0q1aIyp8w2hFPQV5n4t1OW4hgt1QrESJef4uSB+Gc/lXXBXZ59WVloY+p3l7qF99qvyS8yB4+wCZIAA7DIP61djntdOFxM8AnjvrBljVsgRz/dLcY+6dzADI+6PWoNRYNp+nMF+6rDdnqCc/hjkfhVd4Y5NKZwMSpJyfUEdDWtjjuymuVjVu2c1c0aIzarDHFcJBI6uBK5wqjac/jjIqrGwa3weqnir/h1gmvW7tjAV+oz/AAntTSvoLY9J0TQrfQJ01K38X6XBeJlYvssDTtlhhuH24+Xuc1EngqGa4OoQa9pcjySNLsuHMTE4ydwGVU5J4BP+Gb9ttmJAQbvZSP5NUNzfyrDm0bEi/czz39CcfnT9kHOVNds4re9ZpBFIzHmRXDK5x97gdT16A5Jziik/s19b8u2hnit2jjEjg8jJ7AZ7fWikuWw3e5uW9taXDoJLuKFS2GLAnaM9cDNdKfCWkGMSWfiq0ZSOPORk/TtWQ9xAOtgrezg1Cb4KP+PKFTnjaMkfma3km9mZprsaN14elttvkajp90WOMRyMMe54zUH9i6krgbbL6b3P9Kz3vm2n5WVh6kj+VQnUd7BPNZmJwEAJGfbHNZ+zl/MWpR7GnJoWpuSQkIPrGcVE/h6+tomndnbapLBZVUgY5zzzV6z8O6xehJJhNZo6llM8xRmUckhDzwOelbVp4atLbUVguNZuXLyCLe0whTmPeMZyWIHUcDnrS9hN9R+0itkc7F4TuJrhBGfvDJ/e/d4ySe+BznrXZ+Ere3m1DxF4be3UW1mkGCy4d2YPly3XnAI54GMVs6XYw2heQBGkdIgxCZVVbjKMckZI5Bc4xwea5gTt4T+KHmyDbZahbRwNgADKKMHgAdD6dj1qKlFqm+ppCquZFuTT/EOk70sLtJYgciKbIJ/Ef4VxOt+KPE8Mkkc2nsqnup3D68V7JeQrcjKNwRxz2rivEtg8sPlpwB1OOT+NefD4rM9JybjdHmEMd9q9yslzJwTnbntSa9Gt7fPpqk+bZIhgiCj5ww+YevYYHPeuqtNPjt1eXGcd6ybCzN34ru9QkjR4YYwh3hTuYq+AAeSeCeAcYr06EFKVmebWbtc5WRXufCUsYjt/9BuUYsqfvMOGwC3cZz+Q9KNMiS50PV4XFsuyNJhJIH3qQcYTHHJYA5B69utdPrOg+XcaxLazv5N7GzMhX5VYMrIQQT1bI6cBjzWLoqX+gazCt5bOizHyJRjKsjfewRkEd/worUJ0nqjCFSM9jlYVHksehBNafhiPz/E9nB5PnBg/7vzNm7EbHr+FVAEF1dRRNmISMFJ7jPFafhRQvjeyAIwDIeTgf6pqzb0Za3O+fR7QHEuj6gh3FmMV8hGPxT6d6hl0LThGT9g1iM5JXBhlB9Om3/P5VvvLvl4LcejDp+dK7oRukQHb12yc4/XNc3tDexyMnh+3cjYmqrgd7If0eiuzEsTKCY/zP+NFV7XyFynFxWOuMyrHZvGScjc3l4+pJAFasWkaxKQLvVmjTuEkeQ/lkD9a3mLDgoqqTwBgEf5xUczLGMySHa2OOlavEyexmqSI9P8ADdvdyO8sk0sMC73ZgmX4OFACkknGODx/PqJNP0XQdOvrmxsmjlhinQTYIYMgA3Bn5B3H+E9hUsVsttoqx24EjPFI07CQMoZoi+3bnPARQRwDnJ6VHrkFp/ZGriERNJi4Vo0RJGyZFwcKhxwRXfRg7pS3OapOLi3F9S4L+Pzblo2x5UswdfPGXcRRqQAH5PJ/KqN7f28l/cOhMUqT3O1zOkZDLaqvPzlu1WLK5s4by9DXPkk3V4SrMsR42joFB7VW1CJ/ts81rFcMyteuziN9uGRO7n0bOQO1Ul7r0BNe0Vm9v1Zv3hhg0+6uLkrj7OrNKx3IoRQ2eSCQCSeOOO1eIr4sj8Va5qMt+rCAMPsCQIAS4AChn2klmHPOcnj5RzXX+P2vvEwFhbmeHTkS4aSFYHJkaOEupckD16FsdOtJYeDdM0yC+ZrS+NxCrSWz7VUKwgRsn94cYPP+cUuRpW2DnV3Lf+rGroOs3NrZRxXscu0IGEjJsU+y7vvcEHjPBqS+mi1J9kDsWY4xUWm72ifTXspJmt2cNcZVmePc8YPmMxXIWVTxjnHAAo0BLc3mSyko2CVYEAjryK4quHSfMd9Gu5XizG8Sy2eiQw2c83ls4LHCkk/lx7c4rOsPE2kX2jHTtPhkilZ3kaOUHfJlRGrDHyty5JHVQOvGTJ4mm0vVvEV262USySToiNKuxpSp2lgeVYZGcf3UOcDrmWnha3tv7LvgYEe5jd0UBCQDATyC3B+Q8jnJzwa76VF00mcNWqpyafQ1ifsFqj3BEcdvJC65cqMfKmByP4S3XGMH6m1aaZBfWMsKqszbQpO7PmPmRN2ctgnYuSACc9eaS4vlvvDk0UNjd28uEw4fgAOrEZUAYCynnB6dOlXrawNo8kMibpjLKg3RDtcgqcrGCOHHPvXc5p2sjjs1F3ev+RxN98PorhLi70JlVJSJEhkclcMu4AMehHzAgn+E89K5nQbW50/x7ZW9/FJBIDICHGP4GHHYjIIyK9Z0i2UeV5TF3kWFgUdCw3G4BGfkY8e9V9R05pbhp77YZYmDwyFSHXfCp4OWOS2/jIzn6Y4auGhJS5dGdMKrUknZoSS4VPkjZiOhDHOB/LvVJ9ViR/3mSQxAGCP6/wCc1XnEsR8uRED44YhS3vyR15xWVfap9mQZPmMRgBsHb75714vKehcm1rxM1msa2ZQyucuewHpj1/w96K5VbO61meQQkbI+rv0J9OO/+e4oq0orci8mehXDSOp2plQQQM4J7fl/jV3R7EX2tQiVJtkRMsoY4+RAWI5PU44rMhuC7MAXV2ACbUK4Pvz6Vs6LI1npWq30rsIlgSNpDAZQEJLNkZzt2p+vbiroR56iiRVk4wbRtPD9s1BZbh0a6mtnt4kmgxLvkG9uV+VxholB9+epFW58yWGqxuXMReSQI9wiA4iVx8sYB7dM1k6HfTp4ZN4twkUqor+ZbP5i+dKwk8tlPKf8sFPtmtCwu3v4hcQNcCN7jy5Ej8qFIyYvLKDf82BtIyRzjNepvLVnM7qnZLt+aJIdO2zXEsLsoeS/cGJZlzmRBnIcUTaes+uTxyKGZrySMvMjy4H2JM/eYjr/ACqtaQRXukW1xILcyy2bZ3GS4csUiJ5UgDlWNI9kkmvlVtow630gATTW+bdZrjJZj3zS93lab/rQq01UT8v8ybXtLS6gtJYViFzLuixLsjjxNbMuGCkZ+73NTWNtYaxAssMdtIjhfuWSbSHt8YyTz92qstlL5emPHAyMk9ifl0+IYBUjuff8Ki0uymvLezujFNNPFCm1JLWNUIWaROQGU8KfWq933b/1oZ2lyTs+vl0Y3TbNJdZsL64hEouordZkeKH5t9uSSO45jHepNYn+0Xd/9kVRKWT7PEhjkAjmXaQyD0dXPf7x+tZun2rRwBWt4EmtktxIkWl52mG6dW5JOcKQOD0q7cWjQtCzRqLi3ikMfm6Xj5t5RADGQRyzHnOMHii0LtMp86tJPo/wM9vDyWiG3hMcbi0AKebiNXlJjVtkgwCqCU9c81XlW4k06O5EM7KIn8qMwQS58u0K9sHHzenen6tDeTGe2WRx585Um3vhtEcIWAApL0+d3PX+GrGvz/YJ0tIWSe5ljnhgaKWCN0d5Y4gMBSP19a2vFt6mdprlTX9f0wvNNg0TR76BTE0pSeNBAu3DFI1XKGQjqRxinaTpj3F3PqEsCpLJMGJW2lhJzcMBzGcdEWojb3t3Ha6jdi5l+0Xlu4WS3inAVp/9hsnhF7dq09DuWt9EsmKMGeK2ZQLKccmWQ5PzUXso66ildqbt/WxT0WVrW2tZZbkYWK0JMlwzBR5swPLREjr3NZEd/d6jNLqMrSJaRQHYVUSgBHVAdyY28iTJYcAZpx1t54bCzR4yk0Ft8v2h4mYeZMc4kGO4P5UpuVh8LXLRxTLONPhZpYPLYrkyO2WXtl0yCOhqleN3fcckpNe7sc/f3kBthqDrhpVV1UZ2sSOgJHIBzk+xrmFhn1O6ECuRnl3/ALo9T/QV0PieGOW3jnEhm8osrMrFwuONpI+XJxwB6Gp9Gto9OsxHJCTcSDdLvHG4/wBB049K8fFw5Kr89TroS5o+hbtbJbCxjtbb5I4+AceYzckknoM0VL56253x+W2cgsEzk570Vxu51aDETy7Au0cJZOSQvJOc59eh9a6COCM/Dq9eWPKPMgco5VgHkEZA9eAcZ9aKK7MEr1dTjxLap6EtkQ3gKbVpJHaQ2rXBnVQsySS7iMEcMAEQc+mfSrXhl1vEM08cEzblXzZYcsxil2AkZx91sfh2oortitX6kVW3D5f5G1pZa4j2xM7KkahEZ/LUfu5c/dB7Ff8AI5guIprfX3klEAVL5icb3OVs0Pdh60UVWylYjki5q66f5lBr22CWG5I9qy2J4tuejH/np/siqGmXz3H2SGzS2B/s+WQmWAjGLo4Aw59TRRWkZNuPyM5Qiqc9O/5suTWGopLfTRJYcHUEkA8xA2JUkBwCfTFbUi31lPcXQtrNl82JSscskZ+VTIfX1/nRRSjrUsy6kY+x2/q6OFj8ZvBHBBIsxmNvbSlsq3zOzzvyR0I2j6ipbPVtPuL9Zbg3E9yZbdnaW3iYbgks5xz3b6UUVqloyGveSN63t7We20cRwwFUeFgGtwvKxySA/K3rimx2UtpoaXPlQkpaQsdksiFiIHcZIP8AeycCiilBJuNzOcpRjKz6/qc/ZWJi1iVbm5mc2gMSq22VdsaFRgMPWLP/AAKsee5hafVrKOPc/kKPNZFT5VMcDAqv3gVZTjjlaKK1lFJKwqU5Sk0xiRSaxoSCJyQXjKGZ9oRiUYYRRgDMpGeeKj1Ca7tLqW1lkDSx9cHcufbPNFFebjEmlJ7ndRbUmkQreuSSSxPfkdfyooorzrHSf//Z' width='200' height='133' class=\"itemThumbnail\">\n",
       "                       </a>\n",
       "                    </div>\n",
       "\n",
       "                    <div class=\"item_right\" style=\"float: none; width: auto; overflow: hidden;\">\n",
       "                        <a href='https://DBSNE.maps.arcgis.com/home/user.html?user=joshdbs' target='_blank'><b>Josh Peterson</b>\n",
       "                        </a>\n",
       "                        <br/><br/><b>Bio</b>: \n",
       "                        <br/><b>First Name</b>: Josh\n",
       "                        <br/><b>Last Name</b>: Peterson\n",
       "                        <br/><b>Username</b>: joshdbs\n",
       "                        <br/><b>Joined</b>: April 03, 2014\n",
       "\n",
       "                    </div>\n",
       "                </div>\n",
       "                "
      ],
      "text/plain": [
       "<User username:joshdbs>"
      ]
     },
     "execution_count": 8,
     "metadata": {},
     "output_type": "execute_result"
    }
   ],
   "source": [
    "gis = GIS(profile='tech_trek_profile')\n",
    "gis.users.me"
   ]
  },
  {
   "cell_type": "markdown",
   "metadata": {
    "hidden": true
   },
   "source": [
    "### Handling SAML"
   ]
  },
  {
   "cell_type": "markdown",
   "metadata": {
    "hidden": true
   },
   "source": [
    "- SAML or two-factor authentication you **MUST** leverage ArcGIS Pro OR Oauth "
   ]
  },
  {
   "cell_type": "markdown",
   "metadata": {
    "heading_collapsed": true
   },
   "source": [
    "## The GIS Object"
   ]
  },
  {
   "cell_type": "markdown",
   "metadata": {
    "hidden": true
   },
   "source": [
    "<img src='https://developers.arcgis.com/assets/img/python-graphics/guide_gis_module_01.png' width=80% />\n",
    "\n",
    "- This is the entry class to any Web GIS!\n",
    "- From this object you access data, manage systems and users\n"
   ]
  },
  {
   "cell_type": "markdown",
   "metadata": {
    "hidden": true
   },
   "source": [
    "### Properties"
   ]
  },
  {
   "cell_type": "markdown",
   "metadata": {
    "hidden": true
   },
   "source": [
    "- Access the organization's  `properties`\n",
    "- It includes information such as:\n",
    "    + the name\n",
    "    + logo\n",
    "    + featured items\n",
    "    + supported protocols\n"
   ]
  },
  {
   "cell_type": "markdown",
   "metadata": {
    "hidden": true
   },
   "source": [
    "#### Accessing Properties\n",
    "\n"
   ]
  },
  {
   "cell_type": "code",
   "execution_count": 9,
   "metadata": {
    "hidden": true
   },
   "outputs": [
    {
     "data": {
      "text/plain": [
       "{\n",
       "  \"access\": \"public\",\n",
       "  \"allSSL\": true,\n",
       "  \"allowedRedirectUris\": [],\n",
       "  \"analysisLayersGroupQuery\": \"title:\\\"Living Atlas Analysis Layers\\\" AND owner:esri\",\n",
       "  \"authorizedCrossOriginDomains\": [\n",
       "    \"https://bschaub.esri.com\",\n",
       "    \"https://maps.chautauquacounty.com\",\n",
       "    \"http://spatial.bom.gov.au\",\n",
       "    \"https://spatial.bom.gov.au\"\n",
       "  ],\n",
       "  \"availableCredits\": 27567.246,\n",
       "  \"backgroundImage\": \"none\",\n",
       "  \"basemapGalleryGroupQuery\": \"title:\\\"ArcGIS Online Basemaps\\\" AND owner:esri_en\",\n",
       "  \"canListApps\": false,\n",
       "  \"canListConsultingServices\": false,\n",
       "  \"canListData\": false,\n",
       "  \"canListPreProvisionedItems\": false,\n",
       "  \"canListSolutions\": false,\n",
       "  \"canProvisionDirectPurchase\": false,\n",
       "  \"canSearchPublic\": true,\n",
       "  \"canSetCustomBuyLink\": false,\n",
       "  \"canSetQuestionnaire\": false,\n",
       "  \"canShareBingPublic\": false,\n",
       "  \"canSharePublic\": true,\n",
       "  \"canSignInArcGIS\": true,\n",
       "  \"canSignInIDP\": true,\n",
       "  \"colorSetsGroupQuery\": \"title:\\\"Esri Colors\\\" AND owner:esri_en\",\n",
       "  \"commentsEnabled\": true,\n",
       "  \"contentCategorySetsGroupQuery\": \"title:\\\"ArcGIS Online Content Category Sets\\\" AND owner:esri_en\",\n",
       "  \"created\": 1394564163000,\n",
       "  \"creditAssignments\": \"enabled\",\n",
       "  \"culture\": \"en\",\n",
       "  \"cultureFormat\": \"us\",\n",
       "  \"customBaseUrl\": \"maps.arcgis.com\",\n",
       "  \"databaseQuota\": -1,\n",
       "  \"databaseUsage\": -1,\n",
       "  \"defaultBasemap\": {\n",
       "    \"baseMapLayers\": [\n",
       "      {\n",
       "        \"url\": \"https://services.arcgisonline.com/ArcGIS/rest/services/World_Topo_Map/MapServer\",\n",
       "        \"layerType\": \"ArcGISTiledMapServiceLayer\",\n",
       "        \"resourceInfo\": {\n",
       "          \"currentVersion\": 10.3,\n",
       "          \"mapName\": \"Layers\",\n",
       "          \"supportsDynamicLayers\": false,\n",
       "          \"layers\": [\n",
       "            {\n",
       "              \"id\": 0,\n",
       "              \"name\": \"Citations\",\n",
       "              \"parentLayerId\": -1,\n",
       "              \"defaultVisibility\": false,\n",
       "              \"subLayerIds\": null,\n",
       "              \"minScale\": 0,\n",
       "              \"maxScale\": 0\n",
       "            }\n",
       "          ],\n",
       "          \"tables\": [],\n",
       "          \"spatialReference\": {\n",
       "            \"wkid\": 102100,\n",
       "            \"latestWkid\": 3857\n",
       "          },\n",
       "          \"singleFusedMapCache\": true,\n",
       "          \"tileInfo\": {\n",
       "            \"rows\": 256,\n",
       "            \"cols\": 256,\n",
       "            \"dpi\": 96,\n",
       "            \"format\": \"JPEG\",\n",
       "            \"compressionQuality\": 90,\n",
       "            \"origin\": {\n",
       "              \"x\": -20037508.342787,\n",
       "              \"y\": 20037508.342787\n",
       "            },\n",
       "            \"spatialReference\": {\n",
       "              \"wkid\": 102100,\n",
       "              \"latestWkid\": 3857\n",
       "            },\n",
       "            \"lods\": [\n",
       "              {\n",
       "                \"level\": 0,\n",
       "                \"resolution\": 156543.03392800014,\n",
       "                \"scale\": 591657527.591555\n",
       "              },\n",
       "              {\n",
       "                \"level\": 1,\n",
       "                \"resolution\": 78271.51696399994,\n",
       "                \"scale\": 295828763.795777\n",
       "              },\n",
       "              {\n",
       "                \"level\": 2,\n",
       "                \"resolution\": 39135.75848200009,\n",
       "                \"scale\": 147914381.897889\n",
       "              },\n",
       "              {\n",
       "                \"level\": 3,\n",
       "                \"resolution\": 19567.87924099992,\n",
       "                \"scale\": 73957190.948944\n",
       "              },\n",
       "              {\n",
       "                \"level\": 4,\n",
       "                \"resolution\": 9783.93962049996,\n",
       "                \"scale\": 36978595.474472\n",
       "              },\n",
       "              {\n",
       "                \"level\": 5,\n",
       "                \"resolution\": 4891.96981024998,\n",
       "                \"scale\": 18489297.737236\n",
       "              },\n",
       "              {\n",
       "                \"level\": 6,\n",
       "                \"resolution\": 2445.98490512499,\n",
       "                \"scale\": 9244648.868618\n",
       "              },\n",
       "              {\n",
       "                \"level\": 7,\n",
       "                \"resolution\": 1222.992452562495,\n",
       "                \"scale\": 4622324.434309\n",
       "              },\n",
       "              {\n",
       "                \"level\": 8,\n",
       "                \"resolution\": 611.4962262813797,\n",
       "                \"scale\": 2311162.217155\n",
       "              },\n",
       "              {\n",
       "                \"level\": 9,\n",
       "                \"resolution\": 305.74811314055756,\n",
       "                \"scale\": 1155581.108577\n",
       "              },\n",
       "              {\n",
       "                \"level\": 10,\n",
       "                \"resolution\": 152.87405657041106,\n",
       "                \"scale\": 577790.554289\n",
       "              },\n",
       "              {\n",
       "                \"level\": 11,\n",
       "                \"resolution\": 76.43702828507324,\n",
       "                \"scale\": 288895.277144\n",
       "              },\n",
       "              {\n",
       "                \"level\": 12,\n",
       "                \"resolution\": 38.21851414253662,\n",
       "                \"scale\": 144447.638572\n",
       "              },\n",
       "              {\n",
       "                \"level\": 13,\n",
       "                \"resolution\": 19.10925707126831,\n",
       "                \"scale\": 72223.819286\n",
       "              },\n",
       "              {\n",
       "                \"level\": 14,\n",
       "                \"resolution\": 9.554628535634155,\n",
       "                \"scale\": 36111.909643\n",
       "              },\n",
       "              {\n",
       "                \"level\": 15,\n",
       "                \"resolution\": 4.77731426794937,\n",
       "                \"scale\": 18055.954822\n",
       "              },\n",
       "              {\n",
       "                \"level\": 16,\n",
       "                \"resolution\": 2.388657133974685,\n",
       "                \"scale\": 9027.977411\n",
       "              },\n",
       "              {\n",
       "                \"level\": 17,\n",
       "                \"resolution\": 1.1943285668550503,\n",
       "                \"scale\": 4513.988705\n",
       "              },\n",
       "              {\n",
       "                \"level\": 18,\n",
       "                \"resolution\": 0.5971642835598172,\n",
       "                \"scale\": 2256.994353\n",
       "              },\n",
       "              {\n",
       "                \"level\": 19,\n",
       "                \"resolution\": 0.29858214164761665,\n",
       "                \"scale\": 1128.497176\n",
       "              },\n",
       "              {\n",
       "                \"level\": 20,\n",
       "                \"resolution\": 0.14929107082380833,\n",
       "                \"scale\": 564.248588\n",
       "              },\n",
       "              {\n",
       "                \"level\": 21,\n",
       "                \"resolution\": 0.07464553541190416,\n",
       "                \"scale\": 282.124294\n",
       "              },\n",
       "              {\n",
       "                \"level\": 22,\n",
       "                \"resolution\": 0.03732276770595208,\n",
       "                \"scale\": 141.062147\n",
       "              },\n",
       "              {\n",
       "                \"level\": 23,\n",
       "                \"resolution\": 0.01866138385297604,\n",
       "                \"scale\": 70.5310735\n",
       "              }\n",
       "            ]\n",
       "          },\n",
       "          \"initialExtent\": {\n",
       "            \"xmin\": -28848255.049479112,\n",
       "            \"ymin\": -2077452.082122866,\n",
       "            \"xmax\": 28848255.049479112,\n",
       "            \"ymax\": 16430757.376790084,\n",
       "            \"spatialReference\": {\n",
       "              \"wkid\": 102100,\n",
       "              \"latestWkid\": 3857\n",
       "            }\n",
       "          },\n",
       "          \"fullExtent\": {\n",
       "            \"xmin\": -20037507.067161843,\n",
       "            \"ymin\": -19971868.880408604,\n",
       "            \"xmax\": 20037507.067161843,\n",
       "            \"ymax\": 19971868.88040863,\n",
       "            \"spatialReference\": {\n",
       "              \"wkid\": 102100,\n",
       "              \"latestWkid\": 3857\n",
       "            }\n",
       "          },\n",
       "          \"minScale\": 591657527.591555,\n",
       "          \"maxScale\": 70.5310735,\n",
       "          \"units\": \"esriMeters\",\n",
       "          \"supportedImageFormatTypes\": \"PNG32,PNG24,PNG,JPG,DIB,TIFF,EMF,PS,PDF,GIF,SVG,SVGZ,BMP\",\n",
       "          \"capabilities\": \"Map,Tilemap,Query,Data\",\n",
       "          \"supportedQueryFormats\": \"JSON, AMF\",\n",
       "          \"exportTilesAllowed\": false,\n",
       "          \"maxRecordCount\": 100,\n",
       "          \"maxImageHeight\": 4096,\n",
       "          \"maxImageWidth\": 4096,\n",
       "          \"supportedExtensions\": \"KmlServer\"\n",
       "        }\n",
       "      }\n",
       "    ],\n",
       "    \"title\": \"Topographic\"\n",
       "  },\n",
       "  \"defaultExtent\": {\n",
       "    \"xmin\": -14508269.235086367,\n",
       "    \"ymin\": 2619204.7540788176,\n",
       "    \"xmax\": -7189903.271355466,\n",
       "    \"ymax\": 6885009.532583089,\n",
       "    \"spatialReference\": {\n",
       "      \"wkid\": 102100\n",
       "    }\n",
       "  },\n",
       "  \"defaultUserCreditAssignment\": 25,\n",
       "  \"defaultVectorBasemap\": {\n",
       "    \"baseMapLayers\": [\n",
       "      {\n",
       "        \"id\": \"World_Hillshade_3805\",\n",
       "        \"layerType\": \"ArcGISTiledMapServiceLayer\",\n",
       "        \"url\": \"https://services.arcgisonline.com/arcgis/rest/services/Elevation/World_Hillshade/MapServer\",\n",
       "        \"visibility\": true,\n",
       "        \"opacity\": 1,\n",
       "        \"title\": \"World Hillshade\"\n",
       "      },\n",
       "      {\n",
       "        \"id\": \"VectorTile_2333\",\n",
       "        \"type\": \"VectorTileLayer\",\n",
       "        \"layerType\": \"VectorTileLayer\",\n",
       "        \"title\": \"World Topographic Map\",\n",
       "        \"styleUrl\": \"https://www.arcgis.com/sharing/rest/content/items/7dc6cea0b1764a1f9af2e679f642f0f5/resources/styles/root.json\",\n",
       "        \"visibility\": true,\n",
       "        \"opacity\": 1\n",
       "      }\n",
       "    ],\n",
       "    \"title\": \"Topographic\"\n",
       "  },\n",
       "  \"description\": \"test\",\n",
       "  \"eueiEnabled\": false,\n",
       "  \"featuredGroups\": [\n",
       "    {\n",
       "      \"title\": \"National Maps for USA\",\n",
       "      \"owner\": \"Federal_User_Community\"\n",
       "    },\n",
       "    {\n",
       "      \"title\": \"Esri Maps and Data\",\n",
       "      \"owner\": \"esri\"\n",
       "    },\n",
       "    {\n",
       "      \"title\": \"Community Basemaps\",\n",
       "      \"owner\": \"esri\"\n",
       "    },\n",
       "    {\n",
       "      \"title\": \"Landsat Community\",\n",
       "      \"owner\": \"esri\"\n",
       "    },\n",
       "    {\n",
       "      \"title\": \"Web Application Templates\",\n",
       "      \"owner\": \"esri_en\"\n",
       "    },\n",
       "    {\n",
       "      \"title\": \"ArcGIS for Local Government\",\n",
       "      \"owner\": \"ArcGISTeamLocalGov\"\n",
       "    }\n",
       "  ],\n",
       "  \"featuredGroupsId\": \"id:7a624e06bc484052a13c02f15e922464\",\n",
       "  \"featuredItemsGroupQuery\": \"id:7a624e06bc484052a13c02f15e922464\",\n",
       "  \"galleryTemplatesGroupQuery\": \"title:\\\"Gallery Templates\\\" AND owner:esri_en\",\n",
       "  \"hasCategorySchema\": true,\n",
       "  \"helpBase\": \"https://doc.arcgis.com/en/arcgis-online/\",\n",
       "  \"helperServices\": {\n",
       "    \"asyncClosestFacility\": {\n",
       "      \"url\": \"https://logistics.arcgis.com/arcgis/rest/services/World/ClosestFacility/GPServer/FindClosestFacilities\",\n",
       "      \"defaultTravelMode\": \"FEgifRtFndKNcJMJ\"\n",
       "    },\n",
       "    \"asyncLocationAllocation\": {\n",
       "      \"url\": \"https://logistics.arcgis.com/arcgis/rest/services/World/LocationAllocation/GPServer\",\n",
       "      \"defaultTravelMode\": \"FEgifRtFndKNcJMJ\"\n",
       "    },\n",
       "    \"asyncODCostMatrix\": {\n",
       "      \"url\": \"https://logistics.arcgis.com/arcgis/rest/services/World/OriginDestinationCostMatrix/GPServer\",\n",
       "      \"defaultTravelMode\": \"FEgifRtFndKNcJMJ\"\n",
       "    },\n",
       "    \"asyncRoute\": {\n",
       "      \"url\": \"https://logistics.arcgis.com/arcgis/rest/services/World/Route/GPServer\",\n",
       "      \"defaultTravelMode\": \"FEgifRtFndKNcJMJ\"\n",
       "    },\n",
       "    \"asyncServiceArea\": {\n",
       "      \"url\": \"https://logistics.arcgis.com/arcgis/rest/services/World/ServiceAreas/GPServer/GenerateServiceAreas\",\n",
       "      \"defaultTravelMode\": \"FEgifRtFndKNcJMJ\"\n",
       "    },\n",
       "    \"asyncVRP\": {\n",
       "      \"url\": \"https://logistics.arcgis.com/arcgis/rest/services/World/VehicleRoutingProblem/GPServer/SolveVehicleRoutingProblem\",\n",
       "      \"defaultTravelMode\": \"FEgifRtFndKNcJMJ\"\n",
       "    },\n",
       "    \"closestFacility\": {\n",
       "      \"url\": \"https://route.arcgis.com/arcgis/rest/services/World/ClosestFacility/NAServer/ClosestFacility_World\",\n",
       "      \"defaultTravelMode\": \"FEgifRtFndKNcJMJ\"\n",
       "    },\n",
       "    \"defaultElevationLayers\": [\n",
       "      {\n",
       "        \"url\": \"https://elevation3d.arcgis.com/arcgis/rest/services/WorldElevation3D/Terrain3D/ImageServer\",\n",
       "        \"id\": \"globalElevation\",\n",
       "        \"layerType\": \"ArcGISTiledElevationServiceLayer\"\n",
       "      }\n",
       "    ],\n",
       "    \"elevation\": {\n",
       "      \"url\": \"https://elevation.arcgis.com/arcgis/rest/services/Tools/Elevation/GPServer\"\n",
       "    },\n",
       "    \"elevationSync\": {\n",
       "      \"url\": \"https://elevation.arcgis.com/arcgis/rest/services/Tools/ElevationSync/GPServer\"\n",
       "    },\n",
       "    \"geocode\": [\n",
       "      {\n",
       "        \"url\": \"https://geocode.arcgis.com/arcgis/rest/services/World/GeocodeServer\",\n",
       "        \"northLat\": \"Ymax\",\n",
       "        \"southLat\": \"Ymin\",\n",
       "        \"eastLon\": \"Xmax\",\n",
       "        \"westLon\": \"Xmin\",\n",
       "        \"name\": \"ArcGIS World Geocoding Service\",\n",
       "        \"batch\": true,\n",
       "        \"suggest\": true,\n",
       "        \"zoomScale\": 10000,\n",
       "        \"placefinding\": true\n",
       "      }\n",
       "    ],\n",
       "    \"geometry\": {\n",
       "      \"url\": \"https://utility.arcgisonline.com/arcgis/rest/services/Geometry/GeometryServer\"\n",
       "    },\n",
       "    \"hydrology\": {\n",
       "      \"url\": \"https://hydro.arcgis.com/arcgis/rest/services/Tools/Hydrology/GPServer\"\n",
       "    },\n",
       "    \"orthomappingElevation\": {\n",
       "      \"url\": \"https://elevation3d.arcgis.com/arcgis/rest/services/WorldElevation3D/Terrain3D/ImageServer\"\n",
       "    },\n",
       "    \"packaging\": {\n",
       "      \"url\": \"https://packaging.arcgis.com/arcgis/rest/services/OfflinePackaging/GPServer\"\n",
       "    },\n",
       "    \"printTask\": {\n",
       "      \"url\": \"https://utility.arcgisonline.com/arcgis/rest/services/Utilities/PrintingTools/GPServer/Export%20Web%20Map%20Task\"\n",
       "    },\n",
       "    \"route\": {\n",
       "      \"url\": \"https://route.arcgis.com/arcgis/rest/services/World/Route/NAServer/Route_World\",\n",
       "      \"defaultTravelMode\": \"FEgifRtFndKNcJMJ\"\n",
       "    },\n",
       "    \"routingUtilities\": {\n",
       "      \"url\": \"https://logistics.arcgis.com/arcgis/rest/services/World/Utilities/GPServer\"\n",
       "    },\n",
       "    \"serviceArea\": {\n",
       "      \"url\": \"https://route.arcgis.com/arcgis/rest/services/World/ServiceAreas/NAServer/ServiceArea_World\",\n",
       "      \"defaultTravelMode\": \"FEgifRtFndKNcJMJ\"\n",
       "    },\n",
       "    \"syncVRP\": {\n",
       "      \"url\": \"https://logistics.arcgis.com/arcgis/rest/services/World/VehicleRoutingProblemSync/GPServer/EditVehicleRoutingProblem\",\n",
       "      \"defaultTravelMode\": \"FEgifRtFndKNcJMJ\"\n",
       "    },\n",
       "    \"traffic\": {\n",
       "      \"url\": \"https://traffic.arcgis.com/arcgis/rest/services/World/Traffic/MapServer\"\n",
       "    },\n",
       "    \"trafficData\": {\n",
       "      \"url\": \"https://traffic.arcgis.com/arcgis/rest/services/World/TrafficFeeds/GPServer\"\n",
       "    },\n",
       "    \"analysis\": {\n",
       "      \"url\": \"https://analysis1.arcgis.com/arcgis/rest/services/tasks/GPServer\"\n",
       "    },\n",
       "    \"geoenrichment\": {\n",
       "      \"url\": \"https://geoenrich.arcgis.com/arcgis/rest/services/World/GeoenrichmentServer\"\n",
       "    },\n",
       "    \"asyncGeocode\": {\n",
       "      \"url\": \"https://analysis1.arcgis.com/arcgis/rest/services/tasks/GPServer\"\n",
       "    },\n",
       "    \"creditEstimation\": {\n",
       "      \"url\": \"https://analysis1.arcgis.com/arcgis/rest/services/Estimate/GPServer\"\n",
       "    }\n",
       "  },\n",
       "  \"homePageFeaturedContent\": \"id:150877ddc6ca4fce9f943fa080711625\",\n",
       "  \"homePageFeaturedContentCount\": 12,\n",
       "  \"id\": \"BteRGjYsGtVEXzaX\",\n",
       "  \"isPortal\": false,\n",
       "  \"isVerified\": false,\n",
       "  \"layerTemplatesGroupQuery\": \"title:\\\"Esri Layer Templates\\\" AND owner:esri_en\",\n",
       "  \"livingAtlasGroupQuery\": \"title:\\\"LAW Search\\\" AND owner:Esri_LivingAtlas\",\n",
       "  \"maxTokenExpirationMinutes\": -1,\n",
       "  \"metadataEditable\": true,\n",
       "  \"metadataFormats\": [\n",
       "    \"fgdc\"\n",
       "  ],\n",
       "  \"modified\": 1554387656000,\n",
       "  \"name\": \"Regional Services Development Sandbox\",\n",
       "  \"notificationsEnabled\": false,\n",
       "  \"portalHostname\": \"www.arcgis.com\",\n",
       "  \"portalMode\": \"multitenant\",\n",
       "  \"portalName\": \"ArcGIS Online\",\n",
       "  \"portalProperties\": {\n",
       "    \"links\": {\n",
       "      \"contactUs\": {\n",
       "        \"url\": \"mailto:jward@esri.com\",\n",
       "        \"visible\": true\n",
       "      }\n",
       "    },\n",
       "    \"openData\": {\n",
       "      \"enabled\": true,\n",
       "      \"settings\": {\n",
       "        \"groupId\": \"c094432c23164fb9a57454016324ea14\",\n",
       "        \"migrations\": {\n",
       "          \"siteToItems\": true\n",
       "        },\n",
       "        \"appVersion\": \"2.1\"\n",
       "      }\n",
       "    },\n",
       "    \"showSocialMediaLinks\": true,\n",
       "    \"sharedTheme\": {\n",
       "      \"header\": {\n",
       "        \"background\": \"#ffffff\",\n",
       "        \"text\": null\n",
       "      },\n",
       "      \"body\": {\n",
       "        \"background\": null,\n",
       "        \"text\": null,\n",
       "        \"link\": null\n",
       "      },\n",
       "      \"button\": {\n",
       "        \"background\": null,\n",
       "        \"text\": null\n",
       "      },\n",
       "      \"logo\": {\n",
       "        \"small\": null\n",
       "      }\n",
       "    },\n",
       "    \"hub\": {\n",
       "      \"enabled\": true,\n",
       "      \"settings\": {\n",
       "        \"orgType\": \"enterprise\",\n",
       "        \"communityOrg\": {\n",
       "          \"orgId\": \"2XalGVVWXt7dbvno\",\n",
       "          \"portalHostname\": \"dbsne-hub.maps.arcgis.com\"\n",
       "        }\n",
       "      }\n",
       "    },\n",
       "    \"revertStdSqlEndDate\": null,\n",
       "    \"showCreditsOnProfile\": false\n",
       "  },\n",
       "  \"portalThumbnail\": null,\n",
       "  \"rasterFunctionTemplatesGroupQuery\": \"title:\\\"Raster Function Templates\\\" AND owner:esri_en\",\n",
       "  \"region\": \"WO\",\n",
       "  \"rotatorPanels\": [\n",
       "    {\n",
       "      \"id\": \"banner-custom\",\n",
       "      \"innerHTML\": \"<img src='http://dbsne.maps.arcgis.com/sharing/rest/portals/self/resources/banner.png?token=SECURITY_TOKEN' style='-webkit-border-radius:0 0 10px 10px; -moz-border-radius:0 0 10px 10px; -o-border-radius:0 0 10px 10px; border-radius:0 0 10px 10px; margin-top:0; width:960px;'/>\"\n",
       "    }\n",
       "  ],\n",
       "  \"showHomePageDescription\": true,\n",
       "  \"staticImagesUrl\": \"http://static.arcgis.com/images\",\n",
       "  \"storageQuota\": 2199023255552,\n",
       "  \"storageUsage\": 18507122414,\n",
       "  \"stylesGroupQuery\": \"title:\\\"Esri Styles\\\" AND owner:esri_en\",\n",
       "  \"supportsHostedServices\": true,\n",
       "  \"symbolSetsGroupQuery\": \"title:\\\"Esri Symbols\\\" AND owner:esri_en\",\n",
       "  \"templatesGroupQuery\": \"id:173e6ba64ea14107a3818bbf0e358c5f\",\n",
       "  \"thumbnail\": \"thumbnail.png\",\n",
       "  \"units\": \"english\",\n",
       "  \"updateUserProfileDisabled\": false,\n",
       "  \"urlKey\": \"DBSNE\",\n",
       "  \"useStandardizedQuery\": false,\n",
       "  \"useVectorBasemaps\": false,\n",
       "  \"vectorBasemapGalleryGroupQuery\": \"title:\\\"ArcGIS Online Vector Basemaps\\\" AND owner:esri_en\",\n",
       "  \"subscriptionInfo\": {\n",
       "    \"id\": \"1207266697\",\n",
       "    \"type\": \"In House\",\n",
       "    \"state\": \"active\",\n",
       "    \"expDate\": 1584082799000,\n",
       "    \"userLicenseTypes\": {\n",
       "      \"creatorUT\": 75,\n",
       "      \"insightsAnalystUT\": 75,\n",
       "      \"viewerUT\": 0\n",
       "    },\n",
       "    \"maxUsersPerLevel\": {\n",
       "      \"1\": 0,\n",
       "      \"2\": 150\n",
       "    },\n",
       "    \"maxUsers\": 150,\n",
       "    \"availableCredits\": 27567.246,\n",
       "    \"collaborationSettings\": {\n",
       "      \"level\": \"4\",\n",
       "      \"maxItemSizeInMB\": 1024,\n",
       "      \"maxReplicationPackageSizeInMB\": 5120\n",
       "    },\n",
       "    \"hubSettings\": {\n",
       "      \"enabled\": true\n",
       "    },\n",
       "    \"companionOrganizations\": [\n",
       "      {\n",
       "        \"organizationUrl\": \"dbsne-hub.maps.arcgis.com\",\n",
       "        \"type\": \"Community\"\n",
       "      }\n",
       "    ]\n",
       "  },\n",
       "  \"ipCntryCode\": \"US\",\n",
       "  \"httpPort\": 80,\n",
       "  \"httpsPort\": 443,\n",
       "  \"supportsOAuth\": true,\n",
       "  \"currentVersion\": \"7.1\",\n",
       "  \"allowedOrigins\": [],\n",
       "  \"mfaAdmins\": [\n",
       "    \"jmirmelstein_dbsdc\",\n",
       "    \"slibby_dbsne\"\n",
       "  ],\n",
       "  \"allowedExternalLinks\": [],\n",
       "  \"mfaEnabled\": true,\n",
       "  \"contacts\": [\n",
       "    \"jodimward2\"\n",
       "  ],\n",
       "  \"user\": {\n",
       "    \"username\": \"joshdbs\",\n",
       "    \"id\": \"9ca3e5d5c12be3311790e8323f1a4db7\",\n",
       "    \"fullName\": \"Josh Peterson\",\n",
       "    \"availableCredits\": 18.790998,\n",
       "    \"assignedCredits\": 25.0,\n",
       "    \"firstName\": \"Josh\",\n",
       "    \"lastName\": \"Peterson\",\n",
       "    \"preferredView\": null,\n",
       "    \"description\": \"\",\n",
       "    \"email\": \"jpeterson@esri.com\",\n",
       "    \"userType\": \"both\",\n",
       "    \"idpUsername\": null,\n",
       "    \"favGroupId\": \"1e39e4dba7a847029f1ffb9d0b2cbcd1\",\n",
       "    \"lastLogin\": 1557889576000,\n",
       "    \"mfaEnabled\": false,\n",
       "    \"access\": \"public\",\n",
       "    \"storageUsage\": 18507122414,\n",
       "    \"storageQuota\": 2199023255552,\n",
       "    \"orgId\": \"BteRGjYsGtVEXzaX\",\n",
       "    \"role\": \"org_admin\",\n",
       "    \"privileges\": [\n",
       "      \"features:user:edit\",\n",
       "      \"features:user:fullEdit\",\n",
       "      \"marketplace:admin:manage\",\n",
       "      \"marketplace:admin:purchase\",\n",
       "      \"marketplace:admin:startTrial\",\n",
       "      \"opendata:user:designateGroup\",\n",
       "      \"opendata:user:openDataAdmin\",\n",
       "      \"portal:admin:assignToGroups\",\n",
       "      \"portal:admin:categorizeItems\",\n",
       "      \"portal:admin:changeUserRoles\",\n",
       "      \"portal:admin:createUpdateCapableGroup\",\n",
       "      \"portal:admin:deleteGroups\",\n",
       "      \"portal:admin:deleteItems\",\n",
       "      \"portal:admin:deleteUsers\",\n",
       "      \"portal:admin:disableUsers\",\n",
       "      \"portal:admin:inviteUsers\",\n",
       "      \"portal:admin:manageCollaborations\",\n",
       "      \"portal:admin:manageEnterpriseGroups\",\n",
       "      \"portal:admin:manageLicenses\",\n",
       "      \"portal:admin:reassignGroups\",\n",
       "      \"portal:admin:reassignItems\",\n",
       "      \"portal:admin:reassignUsers\",\n",
       "      \"portal:admin:shareToGroup\",\n",
       "      \"portal:admin:shareToOrg\",\n",
       "      \"portal:admin:shareToPublic\",\n",
       "      \"portal:admin:updateGroups\",\n",
       "      \"portal:admin:updateItemCategorySchema\",\n",
       "      \"portal:admin:updateItems\",\n",
       "      \"portal:admin:updateUsers\",\n",
       "      \"portal:admin:viewGroups\",\n",
       "      \"portal:admin:viewItems\",\n",
       "      \"portal:admin:viewUsers\",\n",
       "      \"portal:publisher:bulkPublishFromDataStores\",\n",
       "      \"portal:publisher:publishFeatures\",\n",
       "      \"portal:publisher:publishScenes\",\n",
       "      \"portal:publisher:publishServerGPServices\",\n",
       "      \"portal:publisher:publishServerServices\",\n",
       "      \"portal:publisher:publishTiles\",\n",
       "      \"portal:publisher:registerDataStores\",\n",
       "      \"portal:user:categorizeItems\",\n",
       "      \"portal:user:createGroup\",\n",
       "      \"portal:user:createItem\",\n",
       "      \"portal:user:joinGroup\",\n",
       "      \"portal:user:joinNonOrgGroup\",\n",
       "      \"portal:user:shareGroupToOrg\",\n",
       "      \"portal:user:shareGroupToPublic\",\n",
       "      \"portal:user:shareToGroup\",\n",
       "      \"portal:user:shareToOrg\",\n",
       "      \"portal:user:shareToPublic\",\n",
       "      \"portal:user:viewOrgGroups\",\n",
       "      \"portal:user:viewOrgItems\",\n",
       "      \"portal:user:viewOrgUsers\",\n",
       "      \"portal:user:viewTracks\",\n",
       "      \"premium:publisher:createAdvancedNotebooks\",\n",
       "      \"premium:publisher:createNotebooks\",\n",
       "      \"premium:publisher:geoanalytics\",\n",
       "      \"premium:publisher:rasteranalysis\",\n",
       "      \"premium:user:demographics\",\n",
       "      \"premium:user:elevation\",\n",
       "      \"premium:user:geocode\",\n",
       "      \"premium:user:geoenrichment\",\n",
       "      \"premium:user:networkanalysis\",\n",
       "      \"premium:user:spatialanalysis\"\n",
       "    ],\n",
       "    \"level\": \"2\",\n",
       "    \"userLicenseTypeId\": \"creatorUT\",\n",
       "    \"disabled\": false,\n",
       "    \"tags\": [\n",
       "      \"devSiteMeta|dismissedAlerts|product-preferences\",\n",
       "      \"devSiteMeta|products|javascript;python;rest\"\n",
       "    ],\n",
       "    \"culture\": \"en\",\n",
       "    \"cultureFormat\": null,\n",
       "    \"region\": \"WO\",\n",
       "    \"units\": \"english\",\n",
       "    \"thumbnail\": \"joshua-peterson.jpg\",\n",
       "    \"created\": 1396550824000,\n",
       "    \"modified\": 1546535958000,\n",
       "    \"provider\": \"arcgis\"\n",
       "  }\n",
       "}"
      ]
     },
     "execution_count": 9,
     "metadata": {},
     "output_type": "execute_result"
    }
   ],
   "source": [
    "gis.properties"
   ]
  },
  {
   "cell_type": "code",
   "execution_count": 10,
   "metadata": {
    "hidden": true
   },
   "outputs": [
    {
     "data": {
      "text/plain": [
       "27567.246"
      ]
     },
     "execution_count": 10,
     "metadata": {},
     "output_type": "execute_result"
    }
   ],
   "source": [
    "gis.properties.availableCredits"
   ]
  },
  {
   "cell_type": "markdown",
   "metadata": {
    "hidden": true
   },
   "source": [
    "#### Updating Properties"
   ]
  },
  {
   "cell_type": "code",
   "execution_count": 26,
   "metadata": {
    "hidden": true
   },
   "outputs": [
    {
     "data": {
      "text/plain": [
       "True"
      ]
     },
     "execution_count": 26,
     "metadata": {},
     "output_type": "execute_result"
    }
   ],
   "source": [
    "gis.update_properties(\n",
    "    {\n",
    "        'name' : \"Pets of Esri\"\n",
    "    }\n",
    ")"
   ]
  },
  {
   "cell_type": "code",
   "execution_count": 1,
   "metadata": {
    "collapsed": true,
    "hidden": true
   },
   "outputs": [
    {
     "ename": "NameError",
     "evalue": "name 'gis' is not defined",
     "output_type": "error",
     "traceback": [
      "\u001b[0;31m---------------------------------------------------------------------------\u001b[0m",
      "\u001b[0;31mNameError\u001b[0m                                 Traceback (most recent call last)",
      "\u001b[0;32m<ipython-input-1-d8c1b26aad9b>\u001b[0m in \u001b[0;36m<module>\u001b[0;34m\u001b[0m\n\u001b[0;32m----> 1\u001b[0;31m \u001b[0mgis\u001b[0m\u001b[0;34m.\u001b[0m\u001b[0mproperties\u001b[0m\u001b[0;34m.\u001b[0m\u001b[0mname\u001b[0m\u001b[0;34m\u001b[0m\u001b[0;34m\u001b[0m\u001b[0m\n\u001b[0m",
      "\u001b[0;31mNameError\u001b[0m: name 'gis' is not defined"
     ]
    }
   ],
   "source": [
    "gis.properties.name"
   ]
  },
  {
   "cell_type": "markdown",
   "metadata": {
    "hidden": true
   },
   "source": [
    "### Visualizing Data"
   ]
  },
  {
   "cell_type": "markdown",
   "metadata": {
    "hidden": true
   },
   "source": [
    "- The GIS object provide a web map integration for Jupyter Notebooks\n",
    "- Allows for the viewing of data in a non-persistent way.  (Not Saved to Portal)"
   ]
  },
  {
   "cell_type": "code",
   "execution_count": 31,
   "metadata": {
    "hidden": true
   },
   "outputs": [
    {
     "data": {
      "application/vnd.jupyter.widget-view+json": {
       "model_id": "e420a2d7083e46f1abac31502b117915",
       "version_major": 2,
       "version_minor": 0
      },
      "text/plain": [
       "MapView(layout=Layout(height='400px', width='100%'))"
      ]
     },
     "metadata": {},
     "output_type": "display_data"
    },
    {
     "data": {
      "text/html": [
       "<div class=\"map-static-img-preview-2a08ae54-4a37-4094-8a74-9ac562f12c21\"><img src=\"\"></img></div>"
      ],
      "text/plain": [
       "<IPython.core.display.HTML object>"
      ]
     },
     "metadata": {},
     "output_type": "display_data"
    }
   ],
   "source": [
    "m = gis.map(\"Omaha, Nebraska\")\n",
    "m.basemap = 'dark-gray-vector'\n",
    "m"
   ]
  },
  {
   "cell_type": "code",
   "execution_count": 11,
   "metadata": {
    "hidden": true
   },
   "outputs": [
    {
     "data": {
      "text/html": [
       "<div class=\"item_container\" style=\"height: auto; overflow: hidden; border: 1px solid #cfcfcf; border-radius: 2px; background: #f6fafa; line-height: 1.21429em; padding: 10px;\">\n",
       "                    <div class=\"item_left\" style=\"width: 210px; float: left;\">\n",
       "                       <a href='https://DBSNE.maps.arcgis.com/home/item.html?id=7152f0ae1ae446088d9252c4c5820998' target='_blank'>\n",
       "                        <img src='data:image/png;base64,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' width='200' height='133' class=\"itemThumbnail\">\n",
       "                       </a>\n",
       "                    </div>\n",
       "\n",
       "                    <div class=\"item_right\"     style=\"float: none; width: auto; overflow: hidden;\">\n",
       "                        <a href='https://DBSNE.maps.arcgis.com/home/item.html?id=7152f0ae1ae446088d9252c4c5820998' target='_blank'><b>City Limits</b>\n",
       "                        </a>\n",
       "                        <br/><img src='https://DBSNE.maps.arcgis.com/home/js/jsapi/esri/css/images/item_type_icons/featureshosted16.png' style=\"vertical-align:middle;\">Feature Layer Collection by Nataliya2\n",
       "                        <br/>Last Modified: July 20, 2017\n",
       "                        <br/>0 comments, 167 views\n",
       "                    </div>\n",
       "                </div>\n",
       "                "
      ],
      "text/plain": [
       "<Item title:\"City Limits\" type:Feature Layer Collection owner:Nataliya2>"
      ]
     },
     "execution_count": 11,
     "metadata": {},
     "output_type": "execute_result"
    }
   ],
   "source": [
    "item = gis.content.search(\"Omaha, 'City Limits'\", item_type=\"Feature Layer\", outside_org=True, max_items=1)[0]\n",
    "item"
   ]
  },
  {
   "cell_type": "code",
   "execution_count": 34,
   "metadata": {
    "hidden": true
   },
   "outputs": [],
   "source": [
    "m.add_layer(item)"
   ]
  },
  {
   "cell_type": "code",
   "execution_count": 14,
   "metadata": {
    "hidden": true
   },
   "outputs": [
    {
     "data": {
      "text/plain": [
       "'City limits layer.\\xa0'"
      ]
     },
     "execution_count": 14,
     "metadata": {},
     "output_type": "execute_result"
    }
   ],
   "source": [
    "item.description"
   ]
  },
  {
   "cell_type": "code",
   "execution_count": 35,
   "metadata": {
    "hidden": true
   },
   "outputs": [],
   "source": [
    "m.extent = item.extent"
   ]
  },
  {
   "cell_type": "markdown",
   "metadata": {
    "hidden": true
   },
   "source": [
    "#### Map Properties\n",
    "\n",
    "- Zoom Level\n",
    "- Map Center\n",
    "- Basemap\n",
    "- 3D Mode"
   ]
  },
  {
   "cell_type": "markdown",
   "metadata": {
    "hidden": true
   },
   "source": [
    "**Listing the BaseMaps**\n",
    "\n",
    "- Reference basemaps by the common name"
   ]
  },
  {
   "cell_type": "code",
   "execution_count": 36,
   "metadata": {
    "hidden": true
   },
   "outputs": [
    {
     "data": {
      "text/plain": [
       "['dark-gray',\n",
       " 'dark-gray-vector',\n",
       " 'gray',\n",
       " 'gray-vector',\n",
       " 'hybrid',\n",
       " 'national-geographic',\n",
       " 'oceans',\n",
       " 'osm',\n",
       " 'satellite',\n",
       " 'streets',\n",
       " 'streets-navigation-vector',\n",
       " 'streets-night-vector',\n",
       " 'streets-relief-vector',\n",
       " 'streets-vector',\n",
       " 'terrain',\n",
       " 'topo',\n",
       " 'topo-vector']"
      ]
     },
     "execution_count": 36,
     "metadata": {},
     "output_type": "execute_result"
    }
   ],
   "source": [
    "m2 = gis.map(\"Omaha, Nebraska\")\n",
    "m2.basemaps"
   ]
  },
  {
   "cell_type": "code",
   "execution_count": 37,
   "metadata": {
    "hidden": true
   },
   "outputs": [],
   "source": [
    "m2.basemap = 'streets-vector'"
   ]
  },
  {
   "cell_type": "code",
   "execution_count": 38,
   "metadata": {
    "hidden": true
   },
   "outputs": [
    {
     "data": {
      "application/vnd.jupyter.widget-view+json": {
       "model_id": "16951095ce1444808089523fc2a9261e",
       "version_major": 2,
       "version_minor": 0
      },
      "text/plain": [
       "MapView(layout=Layout(height='400px', width='100%'))"
      ]
     },
     "metadata": {},
     "output_type": "display_data"
    },
    {
     "data": {
      "text/html": [
       "<div class=\"map-static-img-preview-12af05bd-c0bc-42a6-b374-190e58f6f614\"><img src=\"\"></img></div>"
      ],
      "text/plain": [
       "<IPython.core.display.HTML object>"
      ]
     },
     "metadata": {},
     "output_type": "display_data"
    }
   ],
   "source": [
    "m2"
   ]
  },
  {
   "cell_type": "code",
   "execution_count": 39,
   "metadata": {
    "hidden": true
   },
   "outputs": [
    {
     "name": "stdout",
     "output_type": "stream",
     "text": [
      "dark-gray\n",
      "dark-gray-vector\n",
      "gray\n",
      "gray-vector\n",
      "hybrid\n",
      "national-geographic\n",
      "oceans\n",
      "osm\n",
      "satellite\n",
      "streets\n",
      "streets-navigation-vector\n",
      "streets-night-vector\n",
      "streets-relief-vector\n",
      "streets-vector\n",
      "terrain\n",
      "topo\n",
      "topo-vector\n",
      "FINISHED!\n"
     ]
    }
   ],
   "source": [
    "import time\n",
    "\n",
    "for basemap in m2.basemaps:\n",
    "    print(basemap)\n",
    "    m2.basemap = basemap\n",
    "    time.sleep(3)\n",
    "print(\"FINISHED!\")"
   ]
  },
  {
   "cell_type": "markdown",
   "metadata": {
    "hidden": true
   },
   "source": [
    "#### Map center, Zoom and Extent\n",
    "\n",
    "- The center property reveals the coordinates of the center of the map.\n",
    "- Common extents can be used to set the view of the WebMap\n",
    "\n",
    "```python\n",
    "\n",
    "    mymap.extent = {'spatialReference': {'latestWkid': 3857, 'wkid': 102100},\n",
    " 'xmin': 8069559.307907475,\n",
    " 'ymin': 2633577.6622019955,\n",
    " 'xmax': 8078884.625358254,\n",
    " 'ymax': 2637399.5136162494}\n",
    "\n",
    "```\n",
    "\n",
    "- Zoom moves to a define extend of the service\n",
    "    + Normally bigger the number, the closer in you are zoomed."
   ]
  },
  {
   "cell_type": "code",
   "execution_count": 74,
   "metadata": {
    "hidden": true
   },
   "outputs": [
    {
     "data": {
      "application/vnd.jupyter.widget-view+json": {
       "model_id": "64d45de01c694b3280756bd594c8ef88",
       "version_major": 2,
       "version_minor": 0
      },
      "text/plain": [
       "MapView(layout=Layout(height='400px', width='100%'), zoom=14.0)"
      ]
     },
     "metadata": {},
     "output_type": "display_data"
    },
    {
     "data": {
      "text/html": [
       "<div class=\"map-static-img-preview-8c3c94e2-c0e5-4ce9-9a11-5419270a8003\"><img src=\"\"></img></div>"
      ],
      "text/plain": [
       "<IPython.core.display.HTML object>"
      ]
     },
     "metadata": {},
     "output_type": "display_data"
    }
   ],
   "source": [
    "m3 = gis.map()\n",
    "m3.zoom = 14\n",
    "m3"
   ]
  },
  {
   "cell_type": "code",
   "execution_count": 75,
   "metadata": {
    "hidden": true
   },
   "outputs": [],
   "source": [
    "m3.extent =  {'spatialReference': {'latestWkid': 3857, 'wkid': 102100},\n",
    "              'xmin': 8069559.307907475,\n",
    "              'ymin': 2633577.6622019955,\n",
    "              'xmax': 8078884.625358254,\n",
    "              'ymax': 2637399.5136162494\n",
    "             }"
   ]
  },
  {
   "cell_type": "code",
   "execution_count": 76,
   "metadata": {
    "hidden": true
   },
   "outputs": [
    {
     "data": {
      "text/plain": [
       "{'spatialReference': {'latestWkid': 3857, 'wkid': 102100},\n",
       " 'x': 0.6572117544710636,\n",
       " 'y': -0.1599999964237213}"
      ]
     },
     "execution_count": 76,
     "metadata": {},
     "output_type": "execute_result"
    }
   ],
   "source": [
    "m3.center"
   ]
  },
  {
   "cell_type": "code",
   "execution_count": 77,
   "metadata": {
    "hidden": true
   },
   "outputs": [],
   "source": [
    "m3.center = [34,-118]"
   ]
  },
  {
   "cell_type": "markdown",
   "metadata": {
    "hidden": true
   },
   "source": [
    "#### Move Map to a Specific Location "
   ]
  },
  {
   "cell_type": "code",
   "execution_count": 80,
   "metadata": {
    "hidden": true
   },
   "outputs": [],
   "source": [
    "from arcgis.geocoding import geocode\n",
    "location = geocode(\"Times Square, NY\", max_locations=1)[0]\n",
    "xy = (location['location']['y'], location['location']['x'])\n",
    "m3.center = xy"
   ]
  },
  {
   "cell_type": "markdown",
   "metadata": {
    "hidden": true
   },
   "source": [
    "#### Viewing Data on a Map"
   ]
  },
  {
   "cell_type": "markdown",
   "metadata": {
    "hidden": true
   },
   "source": [
    "- `add_layer` provides a way to visualize the following:\n",
    "\n",
    "    + Items\n",
    "    + Services\n",
    "    + Spatially Enabled DataFrames\n",
    "    \n",
    "- Rendering information can optionally be given to override the default symbology\n",
    "\n",
    "```python\n",
    "\n",
    "freeway_feature_layer = flayer_search_result[-2].layers[0]\n",
    "usa_map.add_layer(freeway_feature_layer, {\"renderer\":\"ClassedSizeRenderer\", \"field_name\": \"DIST_MILES\"})\n",
    "```"
   ]
  },
  {
   "cell_type": "code",
   "execution_count": 83,
   "metadata": {
    "hidden": true
   },
   "outputs": [
    {
     "data": {
      "application/vnd.jupyter.widget-view+json": {
       "model_id": "13dbe3689a424a41b102dcf38b88703b",
       "version_major": 2,
       "version_minor": 0
      },
      "text/plain": [
       "MapView(layout=Layout(height='400px', width='100%'), zoom=4.0)"
      ]
     },
     "metadata": {},
     "output_type": "display_data"
    },
    {
     "data": {
      "text/html": [
       "<div class=\"map-static-img-preview-38f53028-12f4-48e3-abcd-6bd260ddb382\"><img src=\"\"></img></div>"
      ],
      "text/plain": [
       "<IPython.core.display.HTML object>"
      ]
     },
     "metadata": {},
     "output_type": "display_data"
    }
   ],
   "source": [
    "m4 = gis.map(\"Omaha, NB\")\n",
    "m4.zoom = 4\n",
    "m4"
   ]
  },
  {
   "cell_type": "code",
   "execution_count": 84,
   "metadata": {
    "hidden": true
   },
   "outputs": [
    {
     "data": {
      "text/html": [
       "<div class=\"item_container\" style=\"height: auto; overflow: hidden; border: 1px solid #cfcfcf; border-radius: 2px; background: #f6fafa; line-height: 1.21429em; padding: 10px;\">\n",
       "                    <div class=\"item_left\" style=\"width: 210px; float: left;\">\n",
       "                       <a href='https://joshpeterson.maps.arcgis.com/home/item.html?id=85d0ca4ea1ca4b9abf0c51b9bd34de2e' target='_blank'>\n",
       "                        <img src='data:image/png;base64,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' width='200' height='133' class=\"itemThumbnail\">\n",
       "                       </a>\n",
       "                    </div>\n",
       "\n",
       "                    <div class=\"item_right\"     style=\"float: none; width: auto; overflow: hidden;\">\n",
       "                        <a href='https://joshpeterson.maps.arcgis.com/home/item.html?id=85d0ca4ea1ca4b9abf0c51b9bd34de2e' target='_blank'><b>USA Major Cities</b>\n",
       "                        </a>\n",
       "                        <br/>This layer presents the locations of cities within the United States with populations of approximately 10,000 or greater, all state capitals, and the national capital.<img src='https://joshpeterson.maps.arcgis.com/home/js/jsapi/esri/css/images/item_type_icons/featureshosted16.png' style=\"vertical-align:middle;\">Feature Layer Collection by esri_dm\n",
       "                        <br/>Last Modified: December 21, 2017\n",
       "                        <br/>0 comments, 1,723,297 views\n",
       "                    </div>\n",
       "                </div>\n",
       "                "
      ],
      "text/plain": [
       "<Item title:\"USA Major Cities\" type:Feature Layer Collection owner:esri_dm>"
      ]
     },
     "execution_count": 84,
     "metadata": {},
     "output_type": "execute_result"
    }
   ],
   "source": [
    "item = gis.content.get(\"85d0ca4ea1ca4b9abf0c51b9bd34de2e\")\n",
    "item"
   ]
  },
  {
   "cell_type": "code",
   "execution_count": 85,
   "metadata": {
    "hidden": true
   },
   "outputs": [],
   "source": [
    "m4.add_layer(item=item)"
   ]
  },
  {
   "cell_type": "markdown",
   "metadata": {
    "hidden": true
   },
   "source": [
    "**Remove the Layers**"
   ]
  },
  {
   "cell_type": "code",
   "execution_count": 86,
   "metadata": {
    "hidden": true
   },
   "outputs": [
    {
     "data": {
      "text/plain": [
       "True"
      ]
     },
     "execution_count": 86,
     "metadata": {},
     "output_type": "execute_result"
    }
   ],
   "source": [
    "m4.remove_layers(layers=m4.layers)"
   ]
  },
  {
   "cell_type": "markdown",
   "metadata": {
    "hidden": true
   },
   "source": [
    "**Update the Symbology**\n",
    "\n",
    "- Use Smart Mapping to Render the Cities "
   ]
  },
  {
   "cell_type": "code",
   "execution_count": 87,
   "metadata": {
    "hidden": true
   },
   "outputs": [],
   "source": [
    "#city\n",
    "m4.add_layer(item, {\"renderer\":\"ClassedSizeRenderer\", \"field_name\": \"HSE_UNITS\"})"
   ]
  },
  {
   "cell_type": "code",
   "execution_count": 88,
   "metadata": {
    "hidden": true
   },
   "outputs": [],
   "source": [
    "m4.legend = True"
   ]
  },
  {
   "cell_type": "markdown",
   "metadata": {
    "heading_collapsed": true,
    "hidden": true
   },
   "source": [
    "#### Saving a WebMap"
   ]
  },
  {
   "attachments": {
    "image.png": {
     "image/png": "[encoded data removed]"
    }
   },
   "cell_type": "markdown",
   "metadata": {
    "hidden": true
   },
   "source": [
    "- When logged in as a publisher account webmap can be persisted as `Item` on the enterprise\n",
    "\n",
    "```python\n",
    "\n",
    "m4.save(item_properties={'title' : \"Housing Units Map\",\n",
    "                        'snippet' : \"Housing Map\",\n",
    "                        'tags' : 'housing, units'})\n",
    "```\n",
    "\n",
    "![./img/saved_map.jpg](attachment:image.png)"
   ]
  },
  {
   "cell_type": "markdown",
   "metadata": {
    "hidden": true
   },
   "source": [
    "### Version"
   ]
  },
  {
   "cell_type": "markdown",
   "metadata": {
    "hidden": true
   },
   "source": [
    "- It's always good to know what version of the REST API you are using"
   ]
  },
  {
   "cell_type": "code",
   "execution_count": 91,
   "metadata": {
    "hidden": true
   },
   "outputs": [
    {
     "data": {
      "text/plain": [
       "[7, 1]"
      ]
     },
     "execution_count": 91,
     "metadata": {},
     "output_type": "execute_result"
    }
   ],
   "source": [
    "gis.version"
   ]
  },
  {
   "cell_type": "markdown",
   "metadata": {},
   "source": [
    "## Managing Content"
   ]
  },
  {
   "cell_type": "markdown",
   "metadata": {},
   "source": [
    "<img src=\"./img/managing_content.png\" />"
   ]
  },
  {
   "cell_type": "markdown",
   "metadata": {},
   "source": [
    "### Searching"
   ]
  },
  {
   "cell_type": "markdown",
   "metadata": {},
   "source": [
    "- `search` provides a way to access shared content\n",
    "- Robust method that can limit by:\n",
    "    + keyword\n",
    "    + item type\n",
    "    + sort results\n",
    "    + limit number of return items\n"
   ]
  },
  {
   "cell_type": "code",
   "execution_count": 100,
   "metadata": {},
   "outputs": [],
   "source": [
    "from arcgis.gis import GIS\n",
    "gis = GIS(profile='tech_trek_profile')"
   ]
  },
  {
   "cell_type": "markdown",
   "metadata": {},
   "source": [
    "- Accessing the Help"
   ]
  },
  {
   "cell_type": "code",
   "execution_count": 109,
   "metadata": {},
   "outputs": [],
   "source": [
    "gis.content.search??"
   ]
  },
  {
   "cell_type": "markdown",
   "metadata": {},
   "source": [
    "**Limiting Searches to Inside the Organization**"
   ]
  },
  {
   "cell_type": "code",
   "execution_count": 111,
   "metadata": {},
   "outputs": [
    {
     "name": "stdout",
     "output_type": "stream",
     "text": [
      "Number of Items: 0\n"
     ]
    }
   ],
   "source": [
    "items = gis.content.search(\"*\", item_type=\"Feature Layer\", max_items=100, outside_org=False)\n",
    "print(\"Number of Items: {n}\".format(n=len(items)))"
   ]
  },
  {
   "cell_type": "markdown",
   "metadata": {},
   "source": [
    "**Limiting Searches to Inside and Outside the Organization**"
   ]
  },
  {
   "cell_type": "code",
   "execution_count": 112,
   "metadata": {},
   "outputs": [
    {
     "name": "stdout",
     "output_type": "stream",
     "text": [
      "Number of Items: 100\n"
     ]
    }
   ],
   "source": [
    "items = gis.content.search(\"*\", item_type=\"Feature Layer\", max_items=100, outside_org=True)\n",
    "print(\"Number of Items: {n}\".format(n=len(items)))"
   ]
  },
  {
   "cell_type": "code",
   "execution_count": 113,
   "metadata": {},
   "outputs": [
    {
     "name": "stdout",
     "output_type": "stream",
     "text": [
      "Number of Items: 1000\n"
     ]
    }
   ],
   "source": [
    "items = gis.content.search(\"title:census\", outside_org=True, max_items=1000)\n",
    "print(\"Number of Items: {n}\".format(n=len(items)))"
   ]
  },
  {
   "cell_type": "code",
   "execution_count": 115,
   "metadata": {},
   "outputs": [
    {
     "data": {
      "text/plain": [
       "[<Item title:\"USA Census Populated Places Areas\" type:Layer Package owner:esri_dm>,\n",
       " <Item title:\"USA Census Tract Boundaries\" type:Layer Package owner:esri_dm>,\n",
       " <Item title:\"California Census Tract Boundaries\" type:Feature Layer Collection owner:Ferrar@FracTracker.org>,\n",
       " <Item title:\"CDC’s Social Vulnerability Index (SVI) – 2014 overall SVI, census tract level\" type:Feature Layer Collection owner:data_cdc>,\n",
       " <Item title:\"2010 PL 94-171 Census data and Tiger Line Blocks\" type:Layer Package owner:harrymoore>]"
      ]
     },
     "execution_count": 115,
     "metadata": {},
     "output_type": "execute_result"
    }
   ],
   "source": [
    "items[:5]"
   ]
  },
  {
   "cell_type": "markdown",
   "metadata": {},
   "source": [
    "    + there is no way to specify return all items"
   ]
  },
  {
   "cell_type": "markdown",
   "metadata": {},
   "source": [
    "**Limiting Searches by Item Type**"
   ]
  },
  {
   "cell_type": "code",
   "execution_count": 116,
   "metadata": {},
   "outputs": [
    {
     "name": "stdout",
     "output_type": "stream",
     "text": [
      "Number of Items: 1000\n"
     ]
    }
   ],
   "source": [
    "items = gis.content.search(\"*\", item_type=\"Image Service\", max_items=1000, outside_org=True)\n",
    "print(\"Number of Items: {n}\".format(n=len(items)))"
   ]
  },
  {
   "cell_type": "markdown",
   "metadata": {},
   "source": [
    "**Question: How can we find out how many items were created and shared publicly yesterday on AGOL?**\n"
   ]
  },
  {
   "cell_type": "code",
   "execution_count": 117,
   "metadata": {},
   "outputs": [
    {
     "name": "stdout",
     "output_type": "stream",
     "text": [
      "Number of Items: 6045\n"
     ]
    }
   ],
   "source": [
    "# %load ./solutions/search.py\n",
    "import datetime \n",
    "today = datetime.datetime.now()\n",
    "yesterday = today - datetime.timedelta(days=1)\n",
    "today = int(datetime.datetime.timestamp(today)) * 1000\n",
    "yesterday = int(datetime.datetime.timestamp(yesterday)) * 1000\n",
    "items = GIS().content.search(\"created: [{yesterday} TO {today}]\".format(yesterday=yesterday, today=today), \n",
    "                             max_items=100000)\n",
    "print(\"Number of Items: {n}\".format(n=len(items)))"
   ]
  },
  {
   "cell_type": "code",
   "execution_count": 122,
   "metadata": {
    "scrolled": true
   },
   "outputs": [
    {
     "data": {
      "text/html": [
       "<div class=\"item_container\" style=\"height: auto; overflow: hidden; border: 1px solid #cfcfcf; border-radius: 2px; background: #f6fafa; line-height: 1.21429em; padding: 10px;\">\n",
       "                    <div class=\"item_left\" style=\"width: 210px; float: left;\">\n",
       "                       <a href='https://www.arcgis.com/home/item.html?id=19cbb3b8e2674b43bbba172aacd685d3' target='_blank'>\n",
       "                        <img src='https://www.arcgis.com/sharing/rest//content/items/19cbb3b8e2674b43bbba172aacd685d3/info/thumbnail/_7B08D9CA93-51AD-4D61-A9BD-E5783D3D06CC_7D.png' class=\"itemThumbnail\">\n",
       "                       </a>\n",
       "                    </div>\n",
       "\n",
       "                    <div class=\"item_right\"     style=\"float: none; width: auto; overflow: hidden;\">\n",
       "                        <a href='https://www.arcgis.com/home/item.html?id=19cbb3b8e2674b43bbba172aacd685d3' target='_blank'><b>eThekwini_Location</b>\n",
       "                        </a>\n",
       "                        <br/>eThekwini_Location<img src='https://www.arcgis.com/home/js/jsapi/esri/css/images/item_type_icons/maps16.png' style=\"vertical-align:middle;\">Web Map by PS.GEM18.uwespatial\n",
       "                        <br/>Last Modified: May 09, 2019\n",
       "                        <br/>0 comments, 0 views\n",
       "                    </div>\n",
       "                </div>\n",
       "                "
      ],
      "text/plain": [
       "<Item title:\"eThekwini_Location\" type:Web Map owner:PS.GEM18.uwespatial>"
      ]
     },
     "execution_count": 122,
     "metadata": {},
     "output_type": "execute_result"
    }
   ],
   "source": [
    "items[0]"
   ]
  },
  {
   "cell_type": "markdown",
   "metadata": {},
   "source": [
    "### Adding, Deleting, Publishing, and Updating Content"
   ]
  },
  {
   "cell_type": "markdown",
   "metadata": {},
   "source": [
    "- Content drives a GIS system\n",
    "    + Provides users a place to collaborate and share information\n",
    "- Only users with publishing rights can create services\n",
    "- Administrators can managing anyone's content"
   ]
  },
  {
   "cell_type": "code",
   "execution_count": 123,
   "metadata": {},
   "outputs": [
    {
     "data": {
      "text/plain": [
       "arcgis.gis.ContentManager"
      ]
     },
     "execution_count": 123,
     "metadata": {},
     "output_type": "execute_result"
    }
   ],
   "source": [
    "type(gis.content)"
   ]
  },
  {
   "cell_type": "markdown",
   "metadata": {},
   "source": [
    "#### Adding Content"
   ]
  },
  {
   "cell_type": "markdown",
   "metadata": {},
   "source": [
    "- `add()` uploads content to a GIS\n",
    "- Returns an `Item`\n",
    "- Item Properties - information about the item\n",
    "    + title, type and tags are always **required**"
   ]
  },
  {
   "cell_type": "code",
   "execution_count": 125,
   "metadata": {},
   "outputs": [
    {
     "name": "stderr",
     "output_type": "stream",
     "text": [
      "Item 'counties_demo.gdb.zip' already exists.\n"
     ]
    },
    {
     "ename": "RuntimeError",
     "evalue": "Item 'counties_demo.gdb.zip' already exists.\n(Error Code: 409)",
     "output_type": "error",
     "traceback": [
      "\u001b[0;31m---------------------------------------------------------------------------\u001b[0m",
      "\u001b[0;31mRuntimeError\u001b[0m                              Traceback (most recent call last)",
      "\u001b[0;32m<ipython-input-125-93c309f04613>\u001b[0m in \u001b[0;36m<module>\u001b[0;34m\u001b[0m\n\u001b[1;32m      4\u001b[0m         \u001b[0;34m\"title\"\u001b[0m \u001b[0;34m:\u001b[0m \u001b[0;34m\"Census County Featureclass\"\u001b[0m\u001b[0;34m\u001b[0m\u001b[0;34m\u001b[0m\u001b[0m\n\u001b[1;32m      5\u001b[0m         },\n\u001b[0;32m----> 6\u001b[0;31m         data=\"./data/counties_demo.gdb.zip\")\n\u001b[0m\u001b[1;32m      7\u001b[0m \u001b[0mprint\u001b[0m\u001b[0;34m(\u001b[0m\u001b[0mitem\u001b[0m\u001b[0;34m)\u001b[0m\u001b[0;34m\u001b[0m\u001b[0;34m\u001b[0m\u001b[0m\n",
      "\u001b[0;32m~/anaconda3/lib/python3.7/site-packages/arcgis/gis/__init__.py\u001b[0m in \u001b[0;36madd\u001b[0;34m(self, item_properties, data, thumbnail, metadata, owner, folder)\u001b[0m\n\u001b[1;32m   3032\u001b[0m                 \u001b[0mitem_properties\u001b[0m\u001b[0;34m[\u001b[0m\u001b[0;34m'tags'\u001b[0m\u001b[0;34m]\u001b[0m \u001b[0;34m=\u001b[0m \u001b[0;34m\",\"\u001b[0m\u001b[0;34m.\u001b[0m\u001b[0mjoin\u001b[0m\u001b[0;34m(\u001b[0m\u001b[0mitem_properties\u001b[0m\u001b[0;34m[\u001b[0m\u001b[0;34m'tags'\u001b[0m\u001b[0;34m]\u001b[0m\u001b[0;34m)\u001b[0m\u001b[0;34m\u001b[0m\u001b[0;34m\u001b[0m\u001b[0m\n\u001b[1;32m   3033\u001b[0m \u001b[0;34m\u001b[0m\u001b[0m\n\u001b[0;32m-> 3034\u001b[0;31m         \u001b[0mitemid\u001b[0m \u001b[0;34m=\u001b[0m \u001b[0mself\u001b[0m\u001b[0;34m.\u001b[0m\u001b[0m_portal\u001b[0m\u001b[0;34m.\u001b[0m\u001b[0madd_item\u001b[0m\u001b[0;34m(\u001b[0m\u001b[0mitem_properties\u001b[0m\u001b[0;34m,\u001b[0m \u001b[0mdata\u001b[0m\u001b[0;34m,\u001b[0m \u001b[0mthumbnail\u001b[0m\u001b[0;34m,\u001b[0m \u001b[0mmetadata\u001b[0m\u001b[0;34m,\u001b[0m \u001b[0mowner_name\u001b[0m\u001b[0;34m,\u001b[0m \u001b[0mfolder\u001b[0m\u001b[0;34m)\u001b[0m\u001b[0;34m\u001b[0m\u001b[0;34m\u001b[0m\u001b[0m\n\u001b[0m\u001b[1;32m   3035\u001b[0m \u001b[0;34m\u001b[0m\u001b[0m\n\u001b[1;32m   3036\u001b[0m         \u001b[0;32mif\u001b[0m \u001b[0mitemid\u001b[0m \u001b[0;32mis\u001b[0m \u001b[0;32mnot\u001b[0m \u001b[0;32mNone\u001b[0m\u001b[0;34m:\u001b[0m\u001b[0;34m\u001b[0m\u001b[0;34m\u001b[0m\u001b[0m\n",
      "\u001b[0;32m~/anaconda3/lib/python3.7/site-packages/arcgis/_impl/portalpy.py\u001b[0m in \u001b[0;36madd_item\u001b[0;34m(self, item_properties, data, thumbnail, metadata, owner, folder)\u001b[0m\n\u001b[1;32m    318\u001b[0m \u001b[0;34m\u001b[0m\u001b[0m\n\u001b[1;32m    319\u001b[0m         \u001b[0mpath\u001b[0m \u001b[0;34m+=\u001b[0m \u001b[0;34m'/addItem'\u001b[0m\u001b[0;34m\u001b[0m\u001b[0;34m\u001b[0m\u001b[0m\n\u001b[0;32m--> 320\u001b[0;31m         \u001b[0mresp\u001b[0m \u001b[0;34m=\u001b[0m \u001b[0mself\u001b[0m\u001b[0;34m.\u001b[0m\u001b[0mcon\u001b[0m\u001b[0;34m.\u001b[0m\u001b[0mpost\u001b[0m\u001b[0;34m(\u001b[0m\u001b[0mpath\u001b[0m\u001b[0;34m,\u001b[0m \u001b[0mpostdata\u001b[0m\u001b[0;34m,\u001b[0m \u001b[0mfiles\u001b[0m\u001b[0;34m)\u001b[0m\u001b[0;34m\u001b[0m\u001b[0;34m\u001b[0m\u001b[0m\n\u001b[0m\u001b[1;32m    321\u001b[0m         \u001b[0;32mif\u001b[0m \u001b[0mresp\u001b[0m \u001b[0;32mand\u001b[0m \u001b[0mresp\u001b[0m\u001b[0;34m.\u001b[0m\u001b[0mget\u001b[0m\u001b[0;34m(\u001b[0m\u001b[0;34m'success'\u001b[0m\u001b[0;34m)\u001b[0m\u001b[0;34m:\u001b[0m\u001b[0;34m\u001b[0m\u001b[0;34m\u001b[0m\u001b[0m\n\u001b[1;32m    322\u001b[0m             \u001b[0;32mreturn\u001b[0m \u001b[0mresp\u001b[0m\u001b[0;34m[\u001b[0m\u001b[0;34m'id'\u001b[0m\u001b[0;34m]\u001b[0m\u001b[0;34m\u001b[0m\u001b[0;34m\u001b[0m\u001b[0m\n",
      "\u001b[0;32m~/anaconda3/lib/python3.7/site-packages/arcgis/_impl/connection.py\u001b[0m in \u001b[0;36mpost\u001b[0;34m(self, path, postdata, files, ssl, compress, is_retry, use_ordered_dict, add_token, verify_cert, token, try_json, out_folder, file_name, force_bytes, add_headers)\u001b[0m\n\u001b[1;32m   1157\u001b[0m                                          verify_cert=verify_cert, is_retry=True)\n\u001b[1;32m   1158\u001b[0m \u001b[0;34m\u001b[0m\u001b[0m\n\u001b[0;32m-> 1159\u001b[0;31m                 \u001b[0mself\u001b[0m\u001b[0;34m.\u001b[0m\u001b[0m_handle_json_error\u001b[0m\u001b[0;34m(\u001b[0m\u001b[0mresp_json\u001b[0m\u001b[0;34m[\u001b[0m\u001b[0;34m'error'\u001b[0m\u001b[0;34m]\u001b[0m\u001b[0;34m,\u001b[0m \u001b[0merrorcode\u001b[0m\u001b[0;34m)\u001b[0m\u001b[0;34m\u001b[0m\u001b[0;34m\u001b[0m\u001b[0m\n\u001b[0m\u001b[1;32m   1160\u001b[0m                 \u001b[0;32mreturn\u001b[0m \u001b[0;32mNone\u001b[0m\u001b[0;34m\u001b[0m\u001b[0;34m\u001b[0m\u001b[0m\n\u001b[1;32m   1161\u001b[0m \u001b[0;34m\u001b[0m\u001b[0m\n",
      "\u001b[0;32m~/anaconda3/lib/python3.7/site-packages/arcgis/_impl/connection.py\u001b[0m in \u001b[0;36m_handle_json_error\u001b[0;34m(self, error, errorcode)\u001b[0m\n\u001b[1;32m   1178\u001b[0m \u001b[0;34m\u001b[0m\u001b[0m\n\u001b[1;32m   1179\u001b[0m         \u001b[0merrormessage\u001b[0m \u001b[0;34m=\u001b[0m \u001b[0merrormessage\u001b[0m \u001b[0;34m+\u001b[0m \u001b[0;34m\"\\n(Error Code: \"\u001b[0m \u001b[0;34m+\u001b[0m \u001b[0mstr\u001b[0m\u001b[0;34m(\u001b[0m\u001b[0merrorcode\u001b[0m\u001b[0;34m)\u001b[0m \u001b[0;34m+\u001b[0m\u001b[0;34m\")\"\u001b[0m\u001b[0;34m\u001b[0m\u001b[0;34m\u001b[0m\u001b[0m\n\u001b[0;32m-> 1180\u001b[0;31m         \u001b[0;32mraise\u001b[0m \u001b[0mRuntimeError\u001b[0m\u001b[0;34m(\u001b[0m\u001b[0merrormessage\u001b[0m\u001b[0;34m)\u001b[0m\u001b[0;34m\u001b[0m\u001b[0;34m\u001b[0m\u001b[0m\n\u001b[0m\u001b[1;32m   1181\u001b[0m \u001b[0;34m\u001b[0m\u001b[0m\n\u001b[1;32m   1182\u001b[0m \u001b[0;32mclass\u001b[0m \u001b[0m_StrictURLopener\u001b[0m\u001b[0;34m(\u001b[0m\u001b[0mrequest\u001b[0m\u001b[0;34m.\u001b[0m\u001b[0mFancyURLopener\u001b[0m\u001b[0;34m)\u001b[0m\u001b[0;34m:\u001b[0m\u001b[0;34m\u001b[0m\u001b[0;34m\u001b[0m\u001b[0m\n",
      "\u001b[0;31mRuntimeError\u001b[0m: Item 'counties_demo.gdb.zip' already exists.\n(Error Code: 409)"
     ]
    }
   ],
   "source": [
    "item = gis.content.add(item_properties={\n",
    "        \"tags\" : [\"Tiger Census\", \"Counties\", \"FGDB\"],\n",
    "        \"type\" : \"File Geodatabase\",\n",
    "        \"title\" : \"Census County Featureclass\"\n",
    "        },\n",
    "        data=\"./data/counties_demo.gdb.zip\")\n",
    "item"
   ]
  },
  {
   "cell_type": "markdown",
   "metadata": {},
   "source": [
    "#### Updating Items"
   ]
  },
  {
   "cell_type": "markdown",
   "metadata": {},
   "source": [
    "- Allows for the modification of all `Item` properties\n",
    "- Add metadata and/or thumbnails\n"
   ]
  },
  {
   "cell_type": "code",
   "execution_count": 1,
   "metadata": {},
   "outputs": [
    {
     "ename": "NameError",
     "evalue": "name 'item' is not defined",
     "output_type": "error",
     "traceback": [
      "\u001b[0;31m---------------------------------------------------------------------------\u001b[0m",
      "\u001b[0;31mNameError\u001b[0m                                 Traceback (most recent call last)",
      "\u001b[0;32m<ipython-input-1-03b6704faf4a>\u001b[0m in \u001b[0;36m<module>\u001b[0;34m\u001b[0m\n\u001b[0;32m----> 1\u001b[0;31m \u001b[0mitem\u001b[0m\u001b[0;34m.\u001b[0m\u001b[0mupdate\u001b[0m\u001b[0;34m(\u001b[0m\u001b[0mthumbnail\u001b[0m\u001b[0;34m=\u001b[0m\u001b[0;34m'./data/tiger_thumbnail.jpg'\u001b[0m\u001b[0;34m)\u001b[0m\u001b[0;34m\u001b[0m\u001b[0;34m\u001b[0m\u001b[0m\n\u001b[0m\u001b[1;32m      2\u001b[0m \u001b[0mget_ipython\u001b[0m\u001b[0;34m(\u001b[0m\u001b[0;34m)\u001b[0m\u001b[0;34m.\u001b[0m\u001b[0mrun_line_magic\u001b[0m\u001b[0;34m(\u001b[0m\u001b[0;34m'pinfo'\u001b[0m\u001b[0;34m,\u001b[0m \u001b[0;34m'item'\u001b[0m\u001b[0;34m)\u001b[0m\u001b[0;34m\u001b[0m\u001b[0;34m\u001b[0m\u001b[0m\n",
      "\u001b[0;31mNameError\u001b[0m: name 'item' is not defined"
     ]
    }
   ],
   "source": [
    "item.update(thumbnail='./data/tiger_thumbnail.jpg')\n",
    "item"
   ]
  },
  {
   "cell_type": "markdown",
   "metadata": {},
   "source": [
    "#### Publishing Items"
   ]
  },
  {
   "cell_type": "markdown",
   "metadata": {},
   "source": [
    "- Certain `Item` types can be published.\n",
    "    + sd, Feature Classes, csv, etc...\n",
    "- This creates a Hosted Feature Layer, Vector Tile, Tile Service"
   ]
  },
  {
   "cell_type": "code",
   "execution_count": 15,
   "metadata": {},
   "outputs": [],
   "source": [
    "item.update?"
   ]
  },
  {
   "cell_type": "code",
   "execution_count": 49,
   "metadata": {
    "scrolled": true
   },
   "outputs": [
    {
     "data": {
      "text/html": [
       "<div class=\"item_container\" style=\"height: auto; overflow: hidden; border: 1px solid #cfcfcf; border-radius: 2px; background: #f6fafa; line-height: 1.21429em; padding: 10px;\">\n",
       "                    <div class=\"item_left\" style=\"width: 210px; float: left;\">\n",
       "                       <a href='https://devgeosaurus.mapsdevext.arcgis.com/home/item.html?id=98ced8215b3e41c8bad87edae9f4c44b' target='_blank'>\n",
       "                        <img src='data:image/png;base64,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' width='200' height='133' class=\"itemThumbnail\">\n",
       "                       </a>\n",
       "                    </div>\n",
       "\n",
       "                    <div class=\"item_right\"     style=\"float: none; width: auto; overflow: hidden;\">\n",
       "                        <a href='https://devgeosaurus.mapsdevext.arcgis.com/home/item.html?id=98ced8215b3e41c8bad87edae9f4c44b' target='_blank'><b>Census County Featureclass</b>\n",
       "                        </a>\n",
       "                        <br/>U.S. Counties (Generalized) provides 2010 U.S. Census demographic information and generalized county boundaries to improve draw performance and be used effectively at a national level.<img src='https://devgeosaurus.mapsdevext.arcgis.com/home/js/jsapi/esri/css/images/item_type_icons/featureshosted16.png' style=\"vertical-align:middle;\">Feature Layer Collection by devandrew\n",
       "                        <br/>Last Modified: April 28, 2019\n",
       "                        <br/>0 comments, 0 views\n",
       "                    </div>\n",
       "                </div>\n",
       "                "
      ],
      "text/plain": [
       "<Item title:\"Census County Featureclass\" type:Feature Layer Collection owner:devandrew>"
      ]
     },
     "execution_count": 49,
     "metadata": {},
     "output_type": "execute_result"
    }
   ],
   "source": [
    "pitem = item.publish()\n",
    "pitem"
   ]
  },
  {
   "cell_type": "markdown",
   "metadata": {},
   "source": [
    "**Notice that the thumbnail and other information is past along the workflow**"
   ]
  },
  {
   "cell_type": "code",
   "execution_count": 50,
   "metadata": {},
   "outputs": [
    {
     "data": {
      "application/vnd.jupyter.widget-view+json": {
       "model_id": "0edc77c4ac014f6b873ca1db1635bae7",
       "version_major": 2,
       "version_minor": 0
      },
      "text/plain": [
       "MapView(layout=Layout(height='400px', width='100%'))"
      ]
     },
     "metadata": {},
     "output_type": "display_data"
    },
    {
     "data": {
      "text/html": [
       "<div class=\"map-static-img-preview-3a6a3bd8-cb41-456b-8b51-3aa96033d196\"><img src=\"\"></img></div>"
      ],
      "text/plain": [
       "<IPython.core.display.HTML object>"
      ]
     },
     "metadata": {},
     "output_type": "display_data"
    }
   ],
   "source": [
    "m = gis.map(\"United States\")\n",
    "m"
   ]
  },
  {
   "cell_type": "code",
   "execution_count": 51,
   "metadata": {},
   "outputs": [],
   "source": [
    "m.extent = {'spatialReference': {'latestWkid': 3857, 'wkid': 102100},\n",
    " 'xmin': -15508693.373344794,\n",
    " 'ymin': 2521206.203338205,\n",
    " 'xmax': -5959568.303736833,\n",
    " 'ymax': 6434782.051538189}\n",
    "m.add_layer(pitem)"
   ]
  },
  {
   "cell_type": "markdown",
   "metadata": {},
   "source": [
    "### Protecting and Sharing"
   ]
  },
  {
   "cell_type": "markdown",
   "metadata": {},
   "source": [
    "- Provides the ability to disseminate data with `sharing`\n",
    "- Protecting ensure content does not get erased!\n",
    "    + There is **NO** undo button on AGOL/Enterprise"
   ]
  },
  {
   "cell_type": "markdown",
   "metadata": {},
   "source": [
    "#### Protecting a Single Item"
   ]
  },
  {
   "cell_type": "code",
   "execution_count": 52,
   "metadata": {},
   "outputs": [
    {
     "data": {
      "text/plain": [
       "{'success': True}"
      ]
     },
     "execution_count": 52,
     "metadata": {},
     "output_type": "execute_result"
    }
   ],
   "source": [
    "pitem.protect(enable=True)"
   ]
  },
  {
   "cell_type": "code",
   "execution_count": 53,
   "metadata": {},
   "outputs": [
    {
     "name": "stderr",
     "output_type": "stream",
     "text": [
      "Unable to delete item. Delete protection is turned on.\n"
     ]
    },
    {
     "ename": "RuntimeError",
     "evalue": "Unable to delete item. Delete protection is turned on.\n(Error Code: 400)",
     "output_type": "error",
     "traceback": [
      "\u001b[1;31m---------------------------------------------------------------------------\u001b[0m",
      "\u001b[1;31mRuntimeError\u001b[0m                              Traceback (most recent call last)",
      "\u001b[1;32m<ipython-input-53-36e05d5e75b7>\u001b[0m in \u001b[0;36m<module>\u001b[1;34m()\u001b[0m\n\u001b[1;32m----> 1\u001b[1;33m \u001b[0mpitem\u001b[0m\u001b[1;33m.\u001b[0m\u001b[0mdelete\u001b[0m\u001b[1;33m(\u001b[0m\u001b[1;33m)\u001b[0m\u001b[1;33m\u001b[0m\u001b[0m\n\u001b[0m",
      "\u001b[1;32mD:\\SVN\\git_hub\\ArcGIS\\geosaurus_achapkowski_master\\src\\arcgis\\gis\\__init__.py\u001b[0m in \u001b[0;36mdelete\u001b[1;34m(self, force, dry_run)\u001b[0m\n\u001b[0;32m   7666\u001b[0m                 \u001b[1;32mreturn\u001b[0m \u001b[1;33m{\u001b[0m\u001b[1;34m'can_delete'\u001b[0m\u001b[1;33m:\u001b[0m\u001b[1;32mFalse\u001b[0m\u001b[1;33m,\u001b[0m \u001b[1;34m'details'\u001b[0m\u001b[1;33m:\u001b[0m \u001b[0merror_dict\u001b[0m\u001b[1;33m}\u001b[0m\u001b[1;33m\u001b[0m\u001b[0m\n\u001b[0;32m   7667\u001b[0m         \u001b[1;32melse\u001b[0m\u001b[1;33m:\u001b[0m\u001b[1;33m\u001b[0m\u001b[0m\n\u001b[1;32m-> 7668\u001b[1;33m             \u001b[1;32mreturn\u001b[0m \u001b[0mself\u001b[0m\u001b[1;33m.\u001b[0m\u001b[0m_portal\u001b[0m\u001b[1;33m.\u001b[0m\u001b[0mdelete_item\u001b[0m\u001b[1;33m(\u001b[0m\u001b[0mself\u001b[0m\u001b[1;33m.\u001b[0m\u001b[0mitemid\u001b[0m\u001b[1;33m,\u001b[0m \u001b[0mself\u001b[0m\u001b[1;33m.\u001b[0m\u001b[0m_user_id\u001b[0m\u001b[1;33m,\u001b[0m \u001b[0mfolder\u001b[0m\u001b[1;33m,\u001b[0m \u001b[0mforce\u001b[0m\u001b[1;33m)\u001b[0m\u001b[1;33m\u001b[0m\u001b[0m\n\u001b[0m\u001b[0;32m   7669\u001b[0m \u001b[1;33m\u001b[0m\u001b[0m\n\u001b[0;32m   7670\u001b[0m     \u001b[1;32mdef\u001b[0m \u001b[0mcreate_thumbnail\u001b[0m\u001b[1;33m(\u001b[0m\u001b[0mself\u001b[0m\u001b[1;33m,\u001b[0m \u001b[0mupdate\u001b[0m\u001b[1;33m=\u001b[0m\u001b[1;32mTrue\u001b[0m\u001b[1;33m)\u001b[0m\u001b[1;33m:\u001b[0m\u001b[1;33m\u001b[0m\u001b[0m\n",
      "\u001b[1;32mD:\\SVN\\git_hub\\ArcGIS\\geosaurus_achapkowski_master\\src\\arcgis\\_impl\\portalpy.py\u001b[0m in \u001b[0;36mdelete_item\u001b[1;34m(self, item_id, owner, folder, force)\u001b[0m\n\u001b[0;32m    596\u001b[0m         \u001b[1;32melse\u001b[0m\u001b[1;33m:\u001b[0m\u001b[1;33m\u001b[0m\u001b[0m\n\u001b[0;32m    597\u001b[0m             \u001b[0mpost_data\u001b[0m \u001b[1;33m=\u001b[0m \u001b[0mself\u001b[0m\u001b[1;33m.\u001b[0m\u001b[0m_postdata\u001b[0m\u001b[1;33m(\u001b[0m\u001b[1;33m)\u001b[0m\u001b[1;33m\u001b[0m\u001b[0m\n\u001b[1;32m--> 598\u001b[1;33m         \u001b[0mresp\u001b[0m \u001b[1;33m=\u001b[0m \u001b[0mself\u001b[0m\u001b[1;33m.\u001b[0m\u001b[0mcon\u001b[0m\u001b[1;33m.\u001b[0m\u001b[0mpost\u001b[0m\u001b[1;33m(\u001b[0m\u001b[0mpath\u001b[0m\u001b[1;33m,\u001b[0m \u001b[0mpost_data\u001b[0m\u001b[1;33m)\u001b[0m\u001b[1;33m\u001b[0m\u001b[0m\n\u001b[0m\u001b[0;32m    599\u001b[0m \u001b[1;33m\u001b[0m\u001b[0m\n\u001b[0;32m    600\u001b[0m         \u001b[1;32mif\u001b[0m \u001b[0mresp\u001b[0m\u001b[1;33m:\u001b[0m\u001b[1;33m\u001b[0m\u001b[0m\n",
      "\u001b[1;32mD:\\SVN\\git_hub\\ArcGIS\\geosaurus_achapkowski_master\\src\\arcgis\\_impl\\connection.py\u001b[0m in \u001b[0;36mpost\u001b[1;34m(self, path, postdata, files, ssl, compress, is_retry, use_ordered_dict, add_token, verify_cert, token, try_json, out_folder, file_name, force_bytes, add_headers)\u001b[0m\n\u001b[0;32m   1175\u001b[0m                                          verify_cert=verify_cert, is_retry=True)\n\u001b[0;32m   1176\u001b[0m \u001b[1;33m\u001b[0m\u001b[0m\n\u001b[1;32m-> 1177\u001b[1;33m                 \u001b[0mself\u001b[0m\u001b[1;33m.\u001b[0m\u001b[0m_handle_json_error\u001b[0m\u001b[1;33m(\u001b[0m\u001b[0mresp_json\u001b[0m\u001b[1;33m[\u001b[0m\u001b[1;34m'error'\u001b[0m\u001b[1;33m]\u001b[0m\u001b[1;33m,\u001b[0m \u001b[0merrorcode\u001b[0m\u001b[1;33m)\u001b[0m\u001b[1;33m\u001b[0m\u001b[0m\n\u001b[0m\u001b[0;32m   1178\u001b[0m                 \u001b[1;32mreturn\u001b[0m \u001b[1;32mNone\u001b[0m\u001b[1;33m\u001b[0m\u001b[0m\n\u001b[0;32m   1179\u001b[0m \u001b[1;33m\u001b[0m\u001b[0m\n",
      "\u001b[1;32mD:\\SVN\\git_hub\\ArcGIS\\geosaurus_achapkowski_master\\src\\arcgis\\_impl\\connection.py\u001b[0m in \u001b[0;36m_handle_json_error\u001b[1;34m(self, error, errorcode)\u001b[0m\n\u001b[0;32m   1196\u001b[0m \u001b[1;33m\u001b[0m\u001b[0m\n\u001b[0;32m   1197\u001b[0m         \u001b[0merrormessage\u001b[0m \u001b[1;33m=\u001b[0m \u001b[0merrormessage\u001b[0m \u001b[1;33m+\u001b[0m \u001b[1;34m\"\\n(Error Code: \"\u001b[0m \u001b[1;33m+\u001b[0m \u001b[0mstr\u001b[0m\u001b[1;33m(\u001b[0m\u001b[0merrorcode\u001b[0m\u001b[1;33m)\u001b[0m \u001b[1;33m+\u001b[0m\u001b[1;34m\")\"\u001b[0m\u001b[1;33m\u001b[0m\u001b[0m\n\u001b[1;32m-> 1198\u001b[1;33m         \u001b[1;32mraise\u001b[0m \u001b[0mRuntimeError\u001b[0m\u001b[1;33m(\u001b[0m\u001b[0merrormessage\u001b[0m\u001b[1;33m)\u001b[0m\u001b[1;33m\u001b[0m\u001b[0m\n\u001b[0m\u001b[0;32m   1199\u001b[0m \u001b[1;33m\u001b[0m\u001b[0m\n\u001b[0;32m   1200\u001b[0m \u001b[1;32mclass\u001b[0m \u001b[0m_StrictURLopener\u001b[0m\u001b[1;33m(\u001b[0m\u001b[0mrequest\u001b[0m\u001b[1;33m.\u001b[0m\u001b[0mFancyURLopener\u001b[0m\u001b[1;33m)\u001b[0m\u001b[1;33m:\u001b[0m\u001b[1;33m\u001b[0m\u001b[0m\n",
      "\u001b[1;31mRuntimeError\u001b[0m: Unable to delete item. Delete protection is turned on.\n(Error Code: 400)"
     ]
    }
   ],
   "source": [
    "pitem.delete()"
   ]
  },
  {
   "cell_type": "code",
   "execution_count": 54,
   "metadata": {},
   "outputs": [
    {
     "data": {
      "text/plain": [
       "True"
      ]
     },
     "execution_count": 54,
     "metadata": {},
     "output_type": "execute_result"
    }
   ],
   "source": [
    "pitem.protect(enable=False)\n",
    "pitem.delete()"
   ]
  },
  {
   "cell_type": "markdown",
   "metadata": {},
   "source": [
    "#### Sharing Content"
   ]
  },
  {
   "cell_type": "markdown",
   "metadata": {},
   "source": [
    "**Question: Why is `sharing` important?**"
   ]
  },
  {
   "cell_type": "markdown",
   "metadata": {},
   "source": [
    "Check the Item's sharing status:"
   ]
  },
  {
   "cell_type": "code",
   "execution_count": 55,
   "metadata": {},
   "outputs": [
    {
     "data": {
      "text/plain": [
       "'private'"
      ]
     },
     "execution_count": 55,
     "metadata": {},
     "output_type": "execute_result"
    }
   ],
   "source": [
    "item.access"
   ]
  },
  {
   "cell_type": "code",
   "execution_count": 56,
   "metadata": {},
   "outputs": [
    {
     "data": {
      "text/plain": [
       "'public'"
      ]
     },
     "execution_count": 56,
     "metadata": {},
     "output_type": "execute_result"
    }
   ],
   "source": [
    "item.share(everyone=True)\n",
    "item.access"
   ]
  },
  {
   "cell_type": "code",
   "execution_count": 57,
   "metadata": {},
   "outputs": [
    {
     "data": {
      "text/plain": [
       "'private'"
      ]
     },
     "execution_count": 57,
     "metadata": {},
     "output_type": "execute_result"
    }
   ],
   "source": [
    "item.share(everyone=False, org=True)\n",
    "item.access"
   ]
  },
  {
   "cell_type": "code",
   "execution_count": 58,
   "metadata": {},
   "outputs": [
    {
     "data": {
      "text/plain": [
       "True"
      ]
     },
     "execution_count": 58,
     "metadata": {},
     "output_type": "execute_result"
    }
   ],
   "source": [
    "item.delete()"
   ]
  },
  {
   "cell_type": "markdown",
   "metadata": {},
   "source": [
    "### Creating Empty Services"
   ]
  },
  {
   "cell_type": "markdown",
   "metadata": {},
   "source": [
    "- Create services without data or an item to publish from\n",
    "- Fully customize schema via JSON"
   ]
  },
  {
   "cell_type": "markdown",
   "metadata": {},
   "source": [
    "**1. Check if Service Name is Free**"
   ]
  },
  {
   "cell_type": "code",
   "execution_count": 59,
   "metadata": {},
   "outputs": [
    {
     "data": {
      "text/plain": [
       "True"
      ]
     },
     "execution_count": 59,
     "metadata": {},
     "output_type": "execute_result"
    }
   ],
   "source": [
    "gis.content.is_service_name_available(\"AprilDevSummit\", service_type=\"featureService\")"
   ]
  },
  {
   "cell_type": "markdown",
   "metadata": {},
   "source": [
    "**2. Create an Empty Feature Service**"
   ]
  },
  {
   "cell_type": "code",
   "execution_count": 60,
   "metadata": {},
   "outputs": [
    {
     "data": {
      "text/html": [
       "<div class=\"item_container\" style=\"height: auto; overflow: hidden; border: 1px solid #cfcfcf; border-radius: 2px; background: #f6fafa; line-height: 1.21429em; padding: 10px;\">\n",
       "                    <div class=\"item_left\" style=\"width: 210px; float: left;\">\n",
       "                       <a href='https://devgeosaurus.mapsdevext.arcgis.com/home/item.html?id=c58d80b64e4449d582c0b9150383fb48' target='_blank'>\n",
       "                        <img src='http://static.arcgis.com/images/desktopapp.png' class=\"itemThumbnail\">\n",
       "                       </a>\n",
       "                    </div>\n",
       "\n",
       "                    <div class=\"item_right\"     style=\"float: none; width: auto; overflow: hidden;\">\n",
       "                        <a href='https://devgeosaurus.mapsdevext.arcgis.com/home/item.html?id=c58d80b64e4449d582c0b9150383fb48' target='_blank'><b>AprilDevSummit</b>\n",
       "                        </a>\n",
       "                        <br/><img src='https://devgeosaurus.mapsdevext.arcgis.com/home/js/jsapi/esri/css/images/item_type_icons/featureshosted16.png' style=\"vertical-align:middle;\">Feature Layer Collection by devandrew\n",
       "                        <br/>Last Modified: April 28, 2019\n",
       "                        <br/>0 comments, 0 views\n",
       "                    </div>\n",
       "                </div>\n",
       "                "
      ],
      "text/plain": [
       "<Item title:\"AprilDevSummit\" type:Feature Layer Collection owner:devandrew>"
      ]
     },
     "execution_count": 60,
     "metadata": {},
     "output_type": "execute_result"
    }
   ],
   "source": [
    "item = gis.content.create_service(name=\"AprilDevSummit\")\n",
    "item"
   ]
  },
  {
   "cell_type": "markdown",
   "metadata": {},
   "source": [
    "**3. Create a New Layer**"
   ]
  },
  {
   "cell_type": "code",
   "execution_count": 61,
   "metadata": {},
   "outputs": [
    {
     "data": {
      "text/plain": [
       "[]"
      ]
     },
     "execution_count": 61,
     "metadata": {},
     "output_type": "execute_result"
    }
   ],
   "source": [
    "item.layers"
   ]
  },
  {
   "cell_type": "code",
   "execution_count": 62,
   "metadata": {},
   "outputs": [],
   "source": [
    "# Get the FS and the Manager\n",
    "from arcgis.features import FeatureLayerCollection\n",
    "fs = FeatureLayerCollection.fromitem(item)\n",
    "mgr = fs.manager"
   ]
  },
  {
   "cell_type": "code",
   "execution_count": 63,
   "metadata": {},
   "outputs": [
    {
     "data": {
      "text/plain": [
       "{\n",
       "  \"adminServiceInfo\": {\n",
       "    \"name\": \"AprilDevSummit\",\n",
       "    \"type\": \"FeatureServer\",\n",
       "    \"cacheMaxAge\": 0,\n",
       "    \"status\": \"Started\",\n",
       "    \"database\": {\n",
       "      \"datasource\": {\n",
       "        \"name\": \"db\"\n",
       "      }\n",
       "    }\n",
       "  },\n",
       "  \"currentVersion\": 10.7,\n",
       "  \"serviceItemId\": \"c58d80b64e4449d582c0b9150383fb48\",\n",
       "  \"serviceDescription\": \"\",\n",
       "  \"hasVersionedData\": false,\n",
       "  \"supportsDisconnectedEditing\": false,\n",
       "  \"hasStaticData\": false,\n",
       "  \"maxRecordCount\": 1000,\n",
       "  \"supportedQueryFormats\": \"JSON\",\n",
       "  \"supportsVCSProjection\": false,\n",
       "  \"capabilities\": \"Query\",\n",
       "  \"description\": \"\",\n",
       "  \"copyrightText\": \"\",\n",
       "  \"spatialReference\": {\n",
       "    \"wkid\": 102100,\n",
       "    \"latestWkid\": 3857\n",
       "  },\n",
       "  \"initialExtent\": {\n",
       "    \"xmin\": -20037507.0671618,\n",
       "    \"ymin\": -30240971.9583862,\n",
       "    \"xmax\": 20037507.0671618,\n",
       "    \"ymax\": 18398924.324645,\n",
       "    \"spatialReference\": {\n",
       "      \"wkid\": 102100,\n",
       "      \"latestWkid\": 3857\n",
       "    }\n",
       "  },\n",
       "  \"fullExtent\": null,\n",
       "  \"allowGeometryUpdates\": true,\n",
       "  \"units\": \"esriMeters\",\n",
       "  \"supportsAppend\": true,\n",
       "  \"syncEnabled\": false,\n",
       "  \"supportsApplyEditsWithGlobalIds\": true,\n",
       "  \"xssPreventionInfo\": {\n",
       "    \"xssPreventionEnabled\": true,\n",
       "    \"xssPreventionRule\": \"InputOnly\",\n",
       "    \"xssInputRule\": \"rejectInvalid\"\n",
       "  },\n",
       "  \"layers\": []\n",
       "}"
      ]
     },
     "execution_count": 63,
     "metadata": {},
     "output_type": "execute_result"
    }
   ],
   "source": [
    "mgr.properties"
   ]
  },
  {
   "cell_type": "code",
   "execution_count": 66,
   "metadata": {},
   "outputs": [
    {
     "data": {
      "text/plain": [
       "'{\"layers\":[{\"currentVersion\":10.51,\"id\":0,\"name\":\"CustomerLayer\",\"type\":\"Feature Layer\",\"displayField\":\"\",\"description\":\"\",\"copyrightText\":\"\",\"defaultVisibility\":true,\"editingInfo\":{\"lastEditDate\":1526947149828},\"relationships\":[],\"isDataVersioned\":false,\"supportsAppend\":true,\"supportsCalculate\":true,\"supportsTruncate\":true,\"supportsAttachmentsByUploadId\":true,\"supportsAttachmentsResizing\":true,\"supportsRollbackOnFailureParameter\":true,\"supportsStatistics\":true,\"supportsAdvancedQueries\":true,\"supportsValidateSql\":true,\"supportsCoordinatesQuantization\":true,\"supportsApplyEditsWithGlobalIds\":false,\"supportsMultiScaleGeometry\":true,\"hasGeometryProperties\":true,\"geometryProperties\":{\"shapeAreaFieldName\":\"Shape__Area\",\"shapeLengthFieldName\":\"Shape__Length\",\"units\":\"esriMeters\"},\"advancedQueryCapabilities\":{\"supportsPagination\":true,\"supportsPaginationOnAggregatedQueries\":true,\"supportsQueryRelatedPagination\":true,\"supportsQueryWithDistance\":true,\"supportsReturningQueryExtent\":true,\"supportsStatistics\":true,\"supportsOrderBy\":true,\"supportsDistinct\":true,\"supportsQueryWithResultType\":true,\"supportsSqlExpression\":true,\"supportsAdvancedQueryRelated\":true,\"supportsCountDistinct\":true,\"supportsLod\":true,\"supportsReturningGeometryCentroid\":true,\"supportsReturningGeometryProperties\":true,\"supportsQueryWithDatumTransformation\":true,\"supportsHavingClause\":true,\"supportsOutFieldSQLExpression\":true},\"useStandardizedQueries\":true,\"geometryType\":\"esriGeometryPolygon\",\"minScale\":0,\"maxScale\":0,\"extent\":{\"xmin\":-8283951.226872106,\"ymin\":4962907.353002652,\"xmax\":-8230072.593328163,\"ymax\":4982886.316570441,\"spatialReference\":{\"wkid\":102100}},\"drawingInfo\":{\"renderer\":{\"type\":\"simple\",\"symbol\":{\"type\":\"esriSFS\",\"style\":\"esriSFSSolid\",\"color\":[76,129,205,191],\"outline\":{\"type\":\"esriSLS\",\"style\":\"esriSLSSolid\",\"color\":[0,0,0,255],\"width\":0.75}}},\"transparency\":0,\"labelingInfo\":null},\"allowGeometryUpdates\":true,\"hasAttachments\":true,\"htmlPopupType\":\"esriServerHTMLPopupTypeNone\",\"hasM\":false,\"hasZ\":false,\"objectIdField\":\"OBJECTID\",\"uniqueIdField\":{\"name\":\"OBJECTID\",\"isSystemMaintained\":true},\"globalIdField\":\"\",\"typeIdField\":\"\",\"fields\":[{\"name\":\"OBJECTID\",\"type\":\"esriFieldTypeOID\",\"alias\":\"OBJECTID\",\"sqlType\":\"sqlTypeOther\",\"nullable\":false,\"editable\":false,\"domain\":null,\"defaultValue\":null}],\"indexes\":[],\"types\":[],\"templates\":[{\"name\":\"New Feature\",\"description\":\"\",\"drawingTool\":\"esriFeatureEditToolPolygon\",\"prototype\":{\"attributes\":{}}}],\"supportedQueryFormats\":\"JSON, geoJSON\",\"hasStaticData\":false,\"maxRecordCount\":2000,\"standardMaxRecordCount\":4000,\"tileMaxRecordCount\":4000,\"maxRecordCountFactor\":1,\"capabilities\":\"Query,Editing,Create,Update,Delete,Sync\",\"syncEnabled\":true,\"adminLayerInfo\":{\"geometryField\":{\"name\":\"Shape\",\"srid\":102100}}}],\"tables\":[]}'"
      ]
     },
     "execution_count": 66,
     "metadata": {},
     "output_type": "execute_result"
    }
   ],
   "source": [
    "open(\"./data/layer.json\", 'r').read()"
   ]
  },
  {
   "cell_type": "code",
   "execution_count": 64,
   "metadata": {},
   "outputs": [
    {
     "name": "stdout",
     "output_type": "stream",
     "text": [
      "{'success': True, 'layers': [{'name': 'CustomerLayer', 'id': 0}]}\n"
     ]
    }
   ],
   "source": [
    "import json\n",
    "with open(\"./data/layer.json\", 'r') as reader:\n",
    "    print(mgr.add_to_definition(json_dict=json.loads(reader.read())))"
   ]
  },
  {
   "cell_type": "code",
   "execution_count": 65,
   "metadata": {},
   "outputs": [
    {
     "data": {
      "text/plain": [
       "[<FeatureLayer url:\"https://servicesdev.arcgis.com/01ClFLufh9nZafWR/arcgis/rest/services/AprilDevSummit/FeatureServer/0\">]"
      ]
     },
     "execution_count": 65,
     "metadata": {},
     "output_type": "execute_result"
    }
   ],
   "source": [
    "fs.layers"
   ]
  },
  {
   "cell_type": "code",
   "execution_count": 67,
   "metadata": {},
   "outputs": [
    {
     "data": {
      "text/plain": [
       "True"
      ]
     },
     "execution_count": 67,
     "metadata": {},
     "output_type": "execute_result"
    }
   ],
   "source": [
    "item.delete()"
   ]
  },
  {
   "cell_type": "markdown",
   "metadata": {},
   "source": [
    "### Cloning Content"
   ]
  },
  {
   "cell_type": "markdown",
   "metadata": {},
   "source": [
    "<img src=\"./img/cloning.jpg\" />\n",
    "\n",
    "- Allows for the copying of Hosted Feature Layers and items from one site to another\n",
    "- **WILL NOT** configure applications"
   ]
  },
  {
   "cell_type": "markdown",
   "metadata": {},
   "source": [
    "**`clone_items` provides the ability to copy content from one site to another**"
   ]
  },
  {
   "cell_type": "markdown",
   "metadata": {},
   "source": [
    "<img src=\"./img/clone_items.jpg\" />"
   ]
  },
  {
   "cell_type": "markdown",
   "metadata": {},
   "source": [
    "## Working with Users"
   ]
  },
  {
   "cell_type": "markdown",
   "metadata": {},
   "source": [
    "<img src=\"./img/have-you-tried-turning-it-off-and-on-again.jpg\" />"
   ]
  },
  {
   "cell_type": "markdown",
   "metadata": {},
   "source": [
    "- The GIS object contains functionality to create, manage, and monitor users"
   ]
  },
  {
   "cell_type": "markdown",
   "metadata": {},
   "source": [
    "### 10.6.x vs 10.7"
   ]
  },
  {
   "cell_type": "markdown",
   "metadata": {},
   "source": [
    "- At **10.7** the user account types changed!  \n",
    "- Levels essentially are deprecated and the concept of User Types were introduced\n",
    "- Provides more flexibility in what a user can do.\n",
    "- Python API for ArcGIS supports **BOTH** ways."
   ]
  },
  {
   "cell_type": "markdown",
   "metadata": {},
   "source": [
    "### Simple User Reports: `counts()` "
   ]
  },
  {
   "cell_type": "markdown",
   "metadata": {},
   "source": [
    "- simple report on the number of licenses currently used"
   ]
  },
  {
   "cell_type": "code",
   "execution_count": null,
   "metadata": {},
   "outputs": [],
   "source": [
    "gis = GIS(profile='tech_trek_profile')\n",
    "gis"
   ]
  },
  {
   "cell_type": "code",
   "execution_count": null,
   "metadata": {},
   "outputs": [],
   "source": [
    "gis.users.counts?"
   ]
  },
  {
   "cell_type": "code",
   "execution_count": 69,
   "metadata": {},
   "outputs": [
    {
     "data": {
      "text/html": [
       "<div>\n",
       "<style scoped>\n",
       "    .dataframe tbody tr th:only-of-type {\n",
       "        vertical-align: middle;\n",
       "    }\n",
       "\n",
       "    .dataframe tbody tr th {\n",
       "        vertical-align: top;\n",
       "    }\n",
       "\n",
       "    .dataframe thead th {\n",
       "        text-align: right;\n",
       "    }\n",
       "</style>\n",
       "<table border=\"1\" class=\"dataframe\">\n",
       "  <thead>\n",
       "    <tr style=\"text-align: right;\">\n",
       "      <th></th>\n",
       "      <th>count</th>\n",
       "      <th>key</th>\n",
       "    </tr>\n",
       "  </thead>\n",
       "  <tbody>\n",
       "    <tr>\n",
       "      <th>0</th>\n",
       "      <td>8</td>\n",
       "      <td>creatorUT</td>\n",
       "    </tr>\n",
       "    <tr>\n",
       "      <th>1</th>\n",
       "      <td>3</td>\n",
       "      <td>standardUT</td>\n",
       "    </tr>\n",
       "  </tbody>\n",
       "</table>\n",
       "</div>"
      ],
      "text/plain": [
       "   count         key\n",
       "0      8   creatorUT\n",
       "1      3  standardUT"
      ]
     },
     "execution_count": 69,
     "metadata": {},
     "output_type": "execute_result"
    }
   ],
   "source": [
    "df = gis.users.counts(type=\"user_type\")\n",
    "df"
   ]
  },
  {
   "cell_type": "code",
   "execution_count": 76,
   "metadata": {},
   "outputs": [
    {
     "data": {
      "text/plain": [
       "[<Role name: content_viewer, description: View all content in arcgis online>,\n",
       " <Role name: Viewer, description: Viewer>,\n",
       " <Role name: Data Editor, description: Data Editor>]"
      ]
     },
     "execution_count": 76,
     "metadata": {},
     "output_type": "execute_result"
    }
   ],
   "source": [
    "gis.users.roles.all()"
   ]
  },
  {
   "cell_type": "markdown",
   "metadata": {},
   "source": [
    "**Getting Total User Count**"
   ]
  },
  {
   "cell_type": "code",
   "execution_count": 71,
   "metadata": {},
   "outputs": [
    {
     "data": {
      "text/plain": [
       "11"
      ]
     },
     "execution_count": 71,
     "metadata": {},
     "output_type": "execute_result"
    }
   ],
   "source": [
    "df = gis.users.counts(type=\"user_type\")\n",
    "df['count'].sum()"
   ]
  },
  {
   "cell_type": "markdown",
   "metadata": {},
   "source": [
    "### Creating User"
   ]
  },
  {
   "cell_type": "markdown",
   "metadata": {},
   "source": [
    "- `gis.users.create()` provides a seamless operation to generate new users\n",
    "- Support Pre/Post 10.7 user generation \n",
    "    + one function for both platforms\n",
    "\n",
    "**Example: Create a Level 1 Compatible User**"
   ]
  },
  {
   "cell_type": "code",
   "execution_count": 79,
   "metadata": {},
   "outputs": [
    {
     "data": {
      "text/html": [
       "<div class=\"9item_container\" style=\"height: auto; overflow: hidden; border: 1px solid #cfcfcf; border-radius: 2px; background: #f6fafa; line-height: 1.21429em; padding: 10px;\">\n",
       "                    <div class=\"item_left\" style=\"width: 210px; float: left;\">\n",
       "                       <a href='https://pythonapi.playground.esri.com/portal/home/user.html?user=AilDAadsf' target='_blank'>\n",
       "                        <img src='https://pythonapi.playground.esri.com/portal/home/js/arcgisonline/css/images/no-user-thumb.jpg' class=\"itemThumbnail\">\n",
       "                       </a>\n",
       "                    </div>\n",
       "\n",
       "                    <div class=\"item_right\" style=\"float: none; width: auto; overflow: hidden;\">\n",
       "                        <a href='https://pythonapi.playground.esri.com/portal/home/user.html?user=AilDAadsf' target='_blank'><b>General Account</b>\n",
       "                        </a>\n",
       "                        <br/><br/><b>Bio</b>: None\n",
       "                        <br/><b>First Name</b>: General\n",
       "                        <br/><b>Last Name</b>: Account\n",
       "                        <br/><b>Username</b>: AilDAadsf\n",
       "                        <br/><b>Joined</b>: April 28, 2019\n",
       "\n",
       "                    </div>\n",
       "                </div>\n",
       "                "
      ],
      "text/plain": [
       "<User username:AilDAadsf>"
      ]
     },
     "execution_count": 79,
     "metadata": {},
     "output_type": "execute_result"
    }
   ],
   "source": [
    "user = gis.users.create(username=\"AilDAadsf\",\n",
    "                password='Sch0II4r0ckslap',\n",
    "                firstname=\"General\",\n",
    "                lastname=\"Account\",\n",
    "                email=\"gac@esri.com\",\n",
    "                role=\"iAAAAAAAAAAAAAAA\",\n",
    "                user_type=\"viewerUT\")\n",
    "user"
   ]
  },
  {
   "cell_type": "code",
   "execution_count": 80,
   "metadata": {},
   "outputs": [
    {
     "data": {
      "text/plain": [
       "True"
      ]
     },
     "execution_count": 80,
     "metadata": {},
     "output_type": "execute_result"
    }
   ],
   "source": [
    "user.delete()"
   ]
  },
  {
   "cell_type": "markdown",
   "metadata": {},
   "source": [
    "**Example: Creating a Content Creator**"
   ]
  },
  {
   "cell_type": "code",
   "execution_count": 81,
   "metadata": {},
   "outputs": [
    {
     "data": {
      "text/html": [
       "<div class=\"9item_container\" style=\"height: auto; overflow: hidden; border: 1px solid #cfcfcf; border-radius: 2px; background: #f6fafa; line-height: 1.21429em; padding: 10px;\">\n",
       "                    <div class=\"item_left\" style=\"width: 210px; float: left;\">\n",
       "                       <a href='https://pythonapi.playground.esri.com/portal/home/user.html?user=AilDAadsf' target='_blank'>\n",
       "                        <img src='https://pythonapi.playground.esri.com/portal/home/js/arcgisonline/css/images/no-user-thumb.jpg' class=\"itemThumbnail\">\n",
       "                       </a>\n",
       "                    </div>\n",
       "\n",
       "                    <div class=\"item_right\" style=\"float: none; width: auto; overflow: hidden;\">\n",
       "                        <a href='https://pythonapi.playground.esri.com/portal/home/user.html?user=AilDAadsf' target='_blank'><b>General Account</b>\n",
       "                        </a>\n",
       "                        <br/><br/><b>Bio</b>: None\n",
       "                        <br/><b>First Name</b>: General\n",
       "                        <br/><b>Last Name</b>: Account\n",
       "                        <br/><b>Username</b>: AilDAadsf\n",
       "                        <br/><b>Joined</b>: April 28, 2019\n",
       "\n",
       "                    </div>\n",
       "                </div>\n",
       "                "
      ],
      "text/plain": [
       "<User username:AilDAadsf>"
      ]
     },
     "execution_count": 81,
     "metadata": {},
     "output_type": "execute_result"
    }
   ],
   "source": [
    "user = gis.users.create(username=\"AilDAadsf\",\n",
    "                password='Sch0II4r0ckslap',\n",
    "                firstname=\"General\",\n",
    "                lastname=\"Account\",\n",
    "                email=\"gac@esri.com\",\n",
    "                user_type='creatorUT')\n",
    "user"
   ]
  },
  {
   "cell_type": "code",
   "execution_count": 82,
   "metadata": {},
   "outputs": [
    {
     "data": {
      "text/plain": [
       "True"
      ]
     },
     "execution_count": 82,
     "metadata": {},
     "output_type": "execute_result"
    }
   ],
   "source": [
    "user.reset(new_security_question=1,\n",
    "           new_security_answer=\"Redlands\",\n",
    "           password='Sch0II4r0ckslap',\n",
    "           new_password=\"IMgoing2LA\")"
   ]
  },
  {
   "cell_type": "code",
   "execution_count": 83,
   "metadata": {},
   "outputs": [
    {
     "data": {
      "text/html": [
       "<div class=\"9item_container\" style=\"height: auto; overflow: hidden; border: 1px solid #cfcfcf; border-radius: 2px; background: #f6fafa; line-height: 1.21429em; padding: 10px;\">\n",
       "                    <div class=\"item_left\" style=\"width: 210px; float: left;\">\n",
       "                       <a href='https://pythonapi.playground.esri.com/portal/home/user.html?user=AilDAadsf' target='_blank'>\n",
       "                        <img src='https://pythonapi.playground.esri.com/portal/home/js/arcgisonline/css/images/no-user-thumb.jpg' class=\"itemThumbnail\">\n",
       "                       </a>\n",
       "                    </div>\n",
       "\n",
       "                    <div class=\"item_right\" style=\"float: none; width: auto; overflow: hidden;\">\n",
       "                        <a href='https://pythonapi.playground.esri.com/portal/home/user.html?user=AilDAadsf' target='_blank'><b>General Account</b>\n",
       "                        </a>\n",
       "                        <br/><br/><b>Bio</b>: None\n",
       "                        <br/><b>First Name</b>: General\n",
       "                        <br/><b>Last Name</b>: Account\n",
       "                        <br/><b>Username</b>: AilDAadsf\n",
       "                        <br/><b>Joined</b>: April 28, 2019\n",
       "\n",
       "                    </div>\n",
       "                </div>\n",
       "                "
      ],
      "text/plain": [
       "<User username:AilDAadsf>"
      ]
     },
     "execution_count": 83,
     "metadata": {},
     "output_type": "execute_result"
    }
   ],
   "source": [
    "gis_new = GIS(url=gis._url, \n",
    "              username='AilDAadsf', password=\"IMgoing2LA\", \n",
    "              set_active=False)\n",
    "gis_new.users.me"
   ]
  },
  {
   "cell_type": "code",
   "execution_count": 84,
   "metadata": {},
   "outputs": [
    {
     "data": {
      "text/plain": [
       "True"
      ]
     },
     "execution_count": 84,
     "metadata": {},
     "output_type": "execute_result"
    }
   ],
   "source": [
    "user.delete()"
   ]
  },
  {
   "cell_type": "markdown",
   "metadata": {},
   "source": [
    "### Updating Users"
   ]
  },
  {
   "cell_type": "markdown",
   "metadata": {},
   "source": [
    "- Like `Item` classes, users have `update()`\n"
   ]
  },
  {
   "cell_type": "markdown",
   "metadata": {},
   "source": [
    "#### Updating User Properties"
   ]
  },
  {
   "cell_type": "code",
   "execution_count": 85,
   "metadata": {},
   "outputs": [
    {
     "data": {
      "text/html": [
       "<div class=\"9item_container\" style=\"height: auto; overflow: hidden; border: 1px solid #cfcfcf; border-radius: 2px; background: #f6fafa; line-height: 1.21429em; padding: 10px;\">\n",
       "                    <div class=\"item_left\" style=\"width: 210px; float: left;\">\n",
       "                       <a href='https://pythonapi.playground.esri.com/portal/home/user.html?user=bruce.account' target='_blank'>\n",
       "                        <img src='https://pythonapi.playground.esri.com/portal/home/js/arcgisonline/css/images/no-user-thumb.jpg' class=\"itemThumbnail\">\n",
       "                       </a>\n",
       "                    </div>\n",
       "\n",
       "                    <div class=\"item_right\" style=\"float: none; width: auto; overflow: hidden;\">\n",
       "                        <a href='https://pythonapi.playground.esri.com/portal/home/user.html?user=bruce.account' target='_blank'><b>Unknown Account</b>\n",
       "                        </a>\n",
       "                        <br/><br/><b>Bio</b>: None\n",
       "                        <br/><b>First Name</b>: Unknown\n",
       "                        <br/><b>Last Name</b>: Account\n",
       "                        <br/><b>Username</b>: bruce.account\n",
       "                        <br/><b>Joined</b>: April 28, 2019\n",
       "\n",
       "                    </div>\n",
       "                </div>\n",
       "                "
      ],
      "text/plain": [
       "<User username:bruce.account>"
      ]
     },
     "execution_count": 85,
     "metadata": {},
     "output_type": "execute_result"
    }
   ],
   "source": [
    "user = gis.users.create(username=\"bruce.account\",\n",
    "                password='dnc1ng1ntheDARK',\n",
    "                firstname=\"Unknown\",\n",
    "                lastname=\"Account\",\n",
    "                email=\"gac@esri.com\",\n",
    "                role=\"iAAAAAAAAAAAAAAA\",\n",
    "                user_type=\"viewerUT\")\n",
    "user"
   ]
  },
  {
   "cell_type": "code",
   "execution_count": 86,
   "metadata": {},
   "outputs": [
    {
     "data": {
      "text/html": [
       "<div class=\"9item_container\" style=\"height: auto; overflow: hidden; border: 1px solid #cfcfcf; border-radius: 2px; background: #f6fafa; line-height: 1.21429em; padding: 10px;\">\n",
       "                    <div class=\"item_left\" style=\"width: 210px; float: left;\">\n",
       "                       <a href='https://pythonapi.playground.esri.com/portal/home/user.html?user=bruce.account' target='_blank'>\n",
       "                        <img src='data:image/png;base64,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' width='200' height='133' class=\"itemThumbnail\">\n",
       "                       </a>\n",
       "                    </div>\n",
       "\n",
       "                    <div class=\"item_right\" style=\"float: none; width: auto; overflow: hidden;\">\n",
       "                        <a href='https://pythonapi.playground.esri.com/portal/home/user.html?user=bruce.account' target='_blank'><b>Bruce Springsteen</b>\n",
       "                        </a>\n",
       "                        <br/><br/><b>Bio</b>: None\n",
       "                        <br/><b>First Name</b>: Bruce\n",
       "                        <br/><b>Last Name</b>: Springsteen\n",
       "                        <br/><b>Username</b>: bruce.account\n",
       "                        <br/><b>Joined</b>: April 28, 2019\n",
       "\n",
       "                    </div>\n",
       "                </div>\n",
       "                "
      ],
      "text/plain": [
       "<User username:bruce.account>"
      ]
     },
     "execution_count": 86,
     "metadata": {},
     "output_type": "execute_result"
    }
   ],
   "source": [
    "user.update(first_name=\"Bruce\", last_name=\"Springsteen\", thumbnail=\"./data/user_thumbnail.jpg\")\n",
    "user"
   ]
  },
  {
   "cell_type": "markdown",
   "metadata": {},
   "source": [
    "**Question: How do we let Bruce create content?**"
   ]
  },
  {
   "cell_type": "code",
   "execution_count": 88,
   "metadata": {},
   "outputs": [
    {
     "name": "stdout",
     "output_type": "stream",
     "text": [
      "('viewerUT', 'org_user')\n",
      "('creatorUT', 'org_publisher')\n"
     ]
    }
   ],
   "source": [
    "# %load ./solutions/update_user_type.py\n",
    "print((user.userLicenseTypeId, user.role))\n",
    "user.update_license_type(user_type=\"creatorUT\")\n",
    "user.update_role(\"org_publisher\")\n",
    "print((user.userLicenseTypeId, user.role))\n"
   ]
  },
  {
   "cell_type": "markdown",
   "metadata": {},
   "source": [
    "**Question: How do you add content to a user?**"
   ]
  },
  {
   "cell_type": "code",
   "execution_count": 90,
   "metadata": {},
   "outputs": [
    {
     "data": {
      "text/html": [
       "<div class=\"item_container\" style=\"height: auto; overflow: hidden; border: 1px solid #cfcfcf; border-radius: 2px; background: #f6fafa; line-height: 1.21429em; padding: 10px;\">\n",
       "                    <div class=\"item_left\" style=\"width: 210px; float: left;\">\n",
       "                       <a href='https://pythonapi.playground.esri.com/portal/home/item.html?id=27d05bd18a784e82aa4664e1e3319025' target='_blank'>\n",
       "                        <img src='https://pythonapi.playground.esri.com/portal/portalimages/desktopapp.png' class=\"itemThumbnail\">\n",
       "                       </a>\n",
       "                    </div>\n",
       "\n",
       "                    <div class=\"item_right\"     style=\"float: none; width: auto; overflow: hidden;\">\n",
       "                        <a href='https://pythonapi.playground.esri.com/portal/home/item.html?id=27d05bd18a784e82aa4664e1e3319025' target='_blank'><b>US Rivers</b>\n",
       "                        </a>\n",
       "                        <br/><img src='https://pythonapi.playground.esri.com/portal/home/js/jsapi/esri/css/images/item_type_icons/featureshosted16.png' style=\"vertical-align:middle;\">Feature Layer Collection by bruce.account\n",
       "                        <br/>Last Modified: April 28, 2019\n",
       "                        <br/>0 comments, 0 views\n",
       "                    </div>\n",
       "                </div>\n",
       "                "
      ],
      "text/plain": [
       "<Item title:\"US Rivers\" type:Feature Layer Collection owner:bruce.account>"
      ]
     },
     "execution_count": 90,
     "metadata": {},
     "output_type": "execute_result"
    }
   ],
   "source": [
    "# %load ./solutions/add_user_content.py\n",
    "fp = \"./data/rivers.gdb.zip\"\n",
    "item_properties = {\n",
    "    'title' : \"US Rivers\",\n",
    "    'type' : 'File Geodatabase',\n",
    "    'tags' : ['Rivers']\n",
    "}\n",
    "river_item = gis.content.add(data=fp, item_properties=item_properties, owner=user)\n",
    "p_river = river_item.publish()\n",
    "p_river\n"
   ]
  },
  {
   "cell_type": "markdown",
   "metadata": {},
   "source": [
    "### Accessing User Content"
   ]
  },
  {
   "cell_type": "markdown",
   "metadata": {},
   "source": [
    "### Searching for Users\n"
   ]
  },
  {
   "cell_type": "markdown",
   "metadata": {},
   "source": [
    "- `search` provides the ability to find users\n",
    "- Locates both system and user accounts"
   ]
  },
  {
   "cell_type": "code",
   "execution_count": 91,
   "metadata": {},
   "outputs": [
    {
     "data": {
      "text/plain": [
       "[<User username:bruce.account>]"
      ]
     },
     "execution_count": 91,
     "metadata": {},
     "output_type": "execute_result"
    }
   ],
   "source": [
    "users = gis.users.search(\"bruce*\")\n",
    "users"
   ]
  },
  {
   "cell_type": "markdown",
   "metadata": {},
   "source": [
    "### List a User's Content\n",
    "\n",
    "- Each User's content can be paged over"
   ]
  },
  {
   "cell_type": "code",
   "execution_count": 92,
   "metadata": {},
   "outputs": [
    {
     "data": {
      "text/plain": [
       "[<Item title:\"US Rivers\" type:File Geodatabase owner:bruce.account>,\n",
       " <Item title:\"US Rivers\" type:Feature Layer Collection owner:bruce.account>]"
      ]
     },
     "execution_count": 92,
     "metadata": {},
     "output_type": "execute_result"
    }
   ],
   "source": [
    "items = users[0].items()\n",
    "items"
   ]
  },
  {
   "cell_type": "markdown",
   "metadata": {},
   "source": [
    "### Reassigning Content\n",
    "\n",
    "- If a user has data, it can be re-assigned to a new user"
   ]
  },
  {
   "cell_type": "code",
   "execution_count": 93,
   "metadata": {},
   "outputs": [
    {
     "name": "stdout",
     "output_type": "stream",
     "text": [
      "True\n"
     ]
    },
    {
     "data": {
      "text/plain": [
       "[]"
      ]
     },
     "execution_count": 93,
     "metadata": {},
     "output_type": "execute_result"
    }
   ],
   "source": [
    "for item in users[0].items():\n",
    "    if item.type == \"Feature Service\":\n",
    "        print(item.reassign_to(target_owner=gis.users.me.username))\n",
    "users[0].items()"
   ]
  },
  {
   "cell_type": "markdown",
   "metadata": {},
   "source": [
    "### Deleting Users"
   ]
  },
  {
   "cell_type": "code",
   "execution_count": 94,
   "metadata": {},
   "outputs": [
    {
     "data": {
      "text/plain": [
       "True"
      ]
     },
     "execution_count": 94,
     "metadata": {},
     "output_type": "execute_result"
    }
   ],
   "source": [
    "users[0].delete()"
   ]
  },
  {
   "cell_type": "code",
   "execution_count": 95,
   "metadata": {},
   "outputs": [
    {
     "data": {
      "text/plain": [
       "[]"
      ]
     },
     "execution_count": 95,
     "metadata": {},
     "output_type": "execute_result"
    }
   ],
   "source": [
    "gis.users.search(\"bruce\")"
   ]
  },
  {
   "cell_type": "markdown",
   "metadata": {},
   "source": [
    "## Group Manager"
   ]
  },
  {
   "cell_type": "markdown",
   "metadata": {},
   "source": [
    "### The Group"
   ]
  },
  {
   "cell_type": "markdown",
   "metadata": {},
   "source": [
    "<img src=\"./img/groups.jpeg\" />\n",
    "\n",
    "- `GroupManager` provides tools to manage groups\n",
    "    + create\n",
    "    + update\n",
    "    + delete\n",
    "    + management content"
   ]
  },
  {
   "cell_type": "code",
   "execution_count": 96,
   "metadata": {},
   "outputs": [
    {
     "data": {
      "text/plain": [
       "arcgis.gis.GroupManager"
      ]
     },
     "execution_count": 96,
     "metadata": {},
     "output_type": "execute_result"
    }
   ],
   "source": [
    "type(gis.groups)"
   ]
  },
  {
   "cell_type": "markdown",
   "metadata": {},
   "source": [
    "### Searching for Groups"
   ]
  },
  {
   "cell_type": "code",
   "execution_count": 97,
   "metadata": {},
   "outputs": [
    {
     "data": {
      "text/plain": [
       "[<Group title:\"Compliance\" owner:MikeSolutions>,\n",
       " <Group title:\"Compliance\" owner:ClareSolutions>,\n",
       " <Group title:\"Corporate Management\" owner:UtilitySolutions>,\n",
       " <Group title:\"Corporate Management\" owner:MikeSolutions>,\n",
       " <Group title:\"Regulatory Compliance\" owner:MikeSolutions>]"
      ]
     },
     "execution_count": 97,
     "metadata": {},
     "output_type": "execute_result"
    }
   ],
   "source": [
    "agol_gis = GIS(profile='agol_profile')\n",
    "agol_gis.groups.search(query=\"Complianc*\")"
   ]
  },
  {
   "cell_type": "markdown",
   "metadata": {},
   "source": [
    "### Managing Groups"
   ]
  },
  {
   "cell_type": "markdown",
   "metadata": {},
   "source": [
    "#### Creating a Group"
   ]
  },
  {
   "cell_type": "code",
   "execution_count": 98,
   "metadata": {},
   "outputs": [
    {
     "data": {
      "text/html": [
       "<div class=\"9item_container\" style=\"height: auto; overflow: hidden; border: 1px solid #cfcfcf; border-radius: 2px; background: #f6fafa; line-height: 1.21429em; padding: 10px;\">\n",
       "                    <div class=\"item_left\" style=\"width: 210px; float: left;\">\n",
       "                       <a href='https://pythonapi.playground.esri.com/portal/home/group.html?id=38c787c3ca7c4e48902e3760ad999bc7' target='_blank'>\n",
       "                        <img src='https://pythonapi.playground.esri.com/portal/home/images/group-no-image.png' class=\"itemThumbnail\">\n",
       "                       </a>\n",
       "                    </div>\n",
       "\n",
       "                    <div class=\"item_right\" style=\"float: none; width: auto; overflow: hidden;\">\n",
       "                        <a href='https://pythonapi.playground.esri.com/portal/home/group.html?id=38c787c3ca7c4e48902e3760ad999bc7' target='_blank'><b>AprilDemoGroup</b>\n",
       "                        </a>\n",
       "                        <br/>\n",
       "                        <br/><b>Summary</b>: None\n",
       "                        <br/><b>Description</b>: None\n",
       "                        <br/><b>Owner</b>: andrew\n",
       "                        <br/><b>Created</b>: April 28, 2019\n",
       "\n",
       "                    </div>\n",
       "                </div>\n",
       "                "
      ],
      "text/plain": [
       "<Group title:\"AprilDemoGroup\" owner:andrew>"
      ]
     },
     "execution_count": 98,
     "metadata": {},
     "output_type": "execute_result"
    }
   ],
   "source": [
    "group = gis.groups.create(title=\"AprilDemoGroup\",\n",
    "                  tags=['demo', 'eraseme'], \n",
    "                  is_invitation_only=False,\n",
    "                  auto_join=True)\n",
    "group"
   ]
  },
  {
   "cell_type": "code",
   "execution_count": 99,
   "metadata": {},
   "outputs": [
    {
     "data": {
      "text/html": [
       "<div class=\"9item_container\" style=\"height: auto; overflow: hidden; border: 1px solid #cfcfcf; border-radius: 2px; background: #f6fafa; line-height: 1.21429em; padding: 10px;\">\n",
       "                    <div class=\"item_left\" style=\"width: 210px; float: left;\">\n",
       "                       <a href='https://pythonapi.playground.esri.com/portal/home/group.html?id=38c787c3ca7c4e48902e3760ad999bc7' target='_blank'>\n",
       "                        <img src='data:image/png;base64,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' ' class=\"itemThumbnail\">\n",
       "                       </a>\n",
       "                    </div>\n",
       "\n",
       "                    <div class=\"item_right\" style=\"float: none; width: auto; overflow: hidden;\">\n",
       "                        <a href='https://pythonapi.playground.esri.com/portal/home/group.html?id=38c787c3ca7c4e48902e3760ad999bc7' target='_blank'><b>AprilDemoGroup</b>\n",
       "                        </a>\n",
       "                        <br/>\n",
       "                        <br/><b>Summary</b>: None\n",
       "                        <br/><b>Description</b>: None\n",
       "                        <br/><b>Owner</b>: andrew\n",
       "                        <br/><b>Created</b>: April 28, 2019\n",
       "\n",
       "                    </div>\n",
       "                </div>\n",
       "                "
      ],
      "text/plain": [
       "<Group title:\"AprilDemoGroup\" owner:andrew>"
      ]
     },
     "execution_count": 99,
     "metadata": {},
     "output_type": "execute_result"
    }
   ],
   "source": [
    "group.update(thumbnail=r\"./data/group-icon.png\")\n",
    "group"
   ]
  },
  {
   "cell_type": "markdown",
   "metadata": {},
   "source": [
    "#### Assigning Items to Group"
   ]
  },
  {
   "cell_type": "code",
   "execution_count": 100,
   "metadata": {},
   "outputs": [
    {
     "data": {
      "text/plain": [
       "{'everyone': False,\n",
       " 'org': False,\n",
       " 'groups': [<Group title:\"AprilDemoGroup\" owner:andrew>]}"
      ]
     },
     "execution_count": 100,
     "metadata": {},
     "output_type": "execute_result"
    }
   ],
   "source": [
    "item = gis.users.me.items()[0]\n",
    "item.share(groups=[group])\n",
    "item.shared_with"
   ]
  },
  {
   "cell_type": "markdown",
   "metadata": {},
   "source": [
    "#### Adding Users to Group"
   ]
  },
  {
   "cell_type": "code",
   "execution_count": 101,
   "metadata": {},
   "outputs": [
    {
     "data": {
      "text/plain": [
       "{'notAdded': []}"
      ]
     },
     "execution_count": 101,
     "metadata": {},
     "output_type": "execute_result"
    }
   ],
   "source": [
    "group.add_users(usernames=[gis.users.search(\"*\")])"
   ]
  },
  {
   "cell_type": "markdown",
   "metadata": {},
   "source": [
    "#### Deleting a Group"
   ]
  },
  {
   "cell_type": "code",
   "execution_count": 102,
   "metadata": {},
   "outputs": [
    {
     "data": {
      "text/plain": [
       "True"
      ]
     },
     "execution_count": 102,
     "metadata": {},
     "output_type": "execute_result"
    }
   ],
   "source": [
    "group.delete()\n"
   ]
  },
  {
   "cell_type": "markdown",
   "metadata": {
    "heading_collapsed": true
   },
   "source": [
    "## Command Line Scripting Demo"
   ]
  },
  {
   "cell_type": "markdown",
   "metadata": {
    "hidden": true
   },
   "source": [
    "- This demo will cover how the users were created via command line using the Python API."
   ]
  },
  {
   "cell_type": "markdown",
   "metadata": {},
   "source": [
    "## Complete Hands On Assignment 1\n",
    "## 15 Minutes"
   ]
  }
 ],
 "metadata": {
  "kernelspec": {
   "display_name": "Python 3",
   "language": "python",
   "name": "python3"
  },
  "language_info": {
   "codemirror_mode": {
    "name": "ipython",
    "version": 3
   },
   "file_extension": ".py",
   "mimetype": "text/x-python",
   "name": "python",
   "nbconvert_exporter": "python",
   "pygments_lexer": "ipython3",
   "version": "3.7.1"
  }
 },
 "nbformat": 4,
 "nbformat_minor": 2
}
