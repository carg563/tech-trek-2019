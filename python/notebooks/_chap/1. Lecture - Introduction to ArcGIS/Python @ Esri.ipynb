{
 "cells": [
  {
   "cell_type": "markdown",
   "metadata": {
    "slideshow": {
     "slide_type": "slide"
    }
   },
   "source": [
    "# Python @ Esri"
   ]
  },
  {
   "cell_type": "markdown",
   "metadata": {
    "slideshow": {
     "slide_type": "slide"
    }
   },
   "source": [
    "# Agenda\n",
    "\n",
    "- Administering your GIS\n",
    "- Analysis Tasks\n",
    "- Advanced Workflows"
   ]
  },
  {
   "cell_type": "markdown",
   "metadata": {
    "slideshow": {
     "slide_type": "slide"
    }
   },
   "source": [
    "# But first, I'm Josh."
   ]
  },
  {
   "cell_type": "markdown",
   "metadata": {
    "slideshow": {
     "slide_type": "slide"
    }
   },
   "source": [
    "- I live in Denver, Colorado\n",
    "- I've been a developer @ Esri PS for ~8 years\n",
    "- I mostly build apps\n",
    "- I ❤️ the ArcGIS API for Python"
   ]
  },
  {
   "cell_type": "markdown",
   "metadata": {
    "slideshow": {
     "slide_type": "slide"
    }
   },
   "source": [
    "# Administering your GIS"
   ]
  },
  {
   "cell_type": "markdown",
   "metadata": {
    "slideshow": {
     "slide_type": "slide"
    }
   },
   "source": [
    "## Authentication"
   ]
  },
  {
   "cell_type": "markdown",
   "metadata": {
    "slideshow": {
     "slide_type": "slide"
    }
   },
   "source": [
    "ArcGIS authentication is **a deep topic**.\n",
    "\n",
    "- Anonymous users\n",
    "- Built-in users\n",
    "- Enterprise identity store\n",
    "- Web-tier authentication with LDAP / PKI / IWA\n",
    "- Portal-tier authentication with LDAP / Active Directory\n",
    "- OAuth 2.0\n",
    "- Pro authentication"
   ]
  },
  {
   "cell_type": "code",
   "execution_count": 238,
   "metadata": {
    "slideshow": {
     "slide_type": "slide"
    }
   },
   "outputs": [
    {
     "data": {
      "text/html": [
       "GIS @ <a href=\"https://www.arcgis.com\">https://www.arcgis.com</a>"
      ],
      "text/plain": [
       "GIS @ https://www.arcgis.com version:7.1"
      ]
     },
     "execution_count": 238,
     "metadata": {},
     "output_type": "execute_result"
    }
   ],
   "source": [
    "from arcgis.gis import GIS\n",
    "\n",
    "# connect anonymously\n",
    "gis = GIS()\n",
    "gis\n"
   ]
  },
  {
   "cell_type": "code",
   "execution_count": null,
   "metadata": {},
   "outputs": [],
   "source": []
  },
  {
   "cell_type": "code",
   "execution_count": 185,
   "metadata": {},
   "outputs": [],
   "source": [
    "# https://dbsne.maps.arcgis.com\n",
    "# gis = GIS(profile=\"tech_trek_profile\")\n",
    "\n",
    "# https://esri.northeurope.cloudapp.azure.com/portal\n",
    "gis = GIS(profile='portal')"
   ]
  },
  {
   "cell_type": "code",
   "execution_count": 215,
   "metadata": {},
   "outputs": [
    {
     "data": {
      "text/html": [
       "GIS @ <a href=\"https://esri.northeurope.cloudapp.azure.com/portal\">https://esri.northeurope.cloudapp.azure.com/portal</a>"
      ],
      "text/plain": [
       "GIS @ https://esri.northeurope.cloudapp.azure.com/portal version:7.1"
      ]
     },
     "execution_count": 215,
     "metadata": {},
     "output_type": "execute_result"
    }
   ],
   "source": [
    "gis"
   ]
  },
  {
   "cell_type": "code",
   "execution_count": 108,
   "metadata": {},
   "outputs": [
    {
     "data": {
      "text/plain": [
       "26757.312"
      ]
     },
     "execution_count": 108,
     "metadata": {},
     "output_type": "execute_result"
    }
   ],
   "source": [
    "gis.admin.credits.credits"
   ]
  },
  {
   "cell_type": "code",
   "execution_count": 109,
   "metadata": {},
   "outputs": [
    {
     "data": {
      "text/plain": [
       "True"
      ]
     },
     "execution_count": 109,
     "metadata": {},
     "output_type": "execute_result"
    }
   ],
   "source": [
    "gis.admin.credits.enable()"
   ]
  },
  {
   "cell_type": "code",
   "execution_count": 110,
   "metadata": {},
   "outputs": [
    {
     "data": {
      "text/plain": [
       "25"
      ]
     },
     "execution_count": 110,
     "metadata": {},
     "output_type": "execute_result"
    }
   ],
   "source": [
    "gis.admin.credits.default_limit"
   ]
  },
  {
   "cell_type": "code",
   "execution_count": 176,
   "metadata": {},
   "outputs": [
    {
     "data": {
      "text/plain": [
       "1000.0"
      ]
     },
     "execution_count": 176,
     "metadata": {},
     "output_type": "execute_result"
    }
   ],
   "source": [
    "gis.users.me.availableCredits"
   ]
  },
  {
   "cell_type": "code",
   "execution_count": 177,
   "metadata": {},
   "outputs": [
    {
     "data": {
      "text/plain": [
       "True"
      ]
     },
     "execution_count": 177,
     "metadata": {},
     "output_type": "execute_result"
    }
   ],
   "source": [
    "gis.admin.credits.allocate(username=gis.users.me.username, credits=1000)"
   ]
  },
  {
   "cell_type": "code",
   "execution_count": 178,
   "metadata": {},
   "outputs": [
    {
     "data": {
      "text/plain": [
       "1000.0"
      ]
     },
     "execution_count": 178,
     "metadata": {},
     "output_type": "execute_result"
    }
   ],
   "source": [
    "gis.users.me.availableCredits"
   ]
  },
  {
   "cell_type": "code",
   "execution_count": 179,
   "metadata": {},
   "outputs": [],
   "source": [
    "df = gis.users.counts(type='user_type')"
   ]
  },
  {
   "cell_type": "code",
   "execution_count": 180,
   "metadata": {},
   "outputs": [
    {
     "data": {
      "text/plain": [
       "71"
      ]
     },
     "execution_count": 180,
     "metadata": {},
     "output_type": "execute_result"
    }
   ],
   "source": [
    "df['count'].sum()"
   ]
  },
  {
   "cell_type": "code",
   "execution_count": 213,
   "metadata": {},
   "outputs": [
    {
     "data": {
      "text/plain": [
       "[<Role name: Viewer, description: Viewer>,\n",
       " <Role name: Data Editor, description: Data Editor>,\n",
       " <Role name: GIS4SW Attendee, description: role for GIS4SW attendees>]"
      ]
     },
     "execution_count": 213,
     "metadata": {},
     "output_type": "execute_result"
    }
   ],
   "source": [
    "roles = gis.users.roles.all()\n",
    "roles\n",
    "\n",
    "# roles[0].role_id"
   ]
  },
  {
   "cell_type": "code",
   "execution_count": null,
   "metadata": {},
   "outputs": [],
   "source": [
    "gis.admin.password_policy.policy"
   ]
  },
  {
   "cell_type": "code",
   "execution_count": 203,
   "metadata": {},
   "outputs": [
    {
     "data": {
      "text/html": [
       "<div class=\"9item_container\" style=\"height: auto; overflow: hidden; border: 1px solid #cfcfcf; border-radius: 2px; background: #f6fafa; line-height: 1.21429em; padding: 10px;\">\n",
       "                    <div class=\"item_left\" style=\"width: 210px; float: left;\">\n",
       "                       <a href='https://esri.northeurope.cloudapp.azure.com/portal/home/user.html?user=a_tech_trek_user' target='_blank'>\n",
       "                        <img src='https://esri.northeurope.cloudapp.azure.com/portal/home/js/arcgisonline/css/images/no-user-thumb.jpg' class=\"itemThumbnail\">\n",
       "                       </a>\n",
       "                    </div>\n",
       "\n",
       "                    <div class=\"item_right\" style=\"float: none; width: auto; overflow: hidden;\">\n",
       "                        <a href='https://esri.northeurope.cloudapp.azure.com/portal/home/user.html?user=a_tech_trek_user' target='_blank'><b>General Account</b>\n",
       "                        </a>\n",
       "                        <br/><br/><b>Bio</b>: None\n",
       "                        <br/><b>First Name</b>: General\n",
       "                        <br/><b>Last Name</b>: Account\n",
       "                        <br/><b>Username</b>: a_tech_trek_user\n",
       "                        <br/><b>Joined</b>: May 24, 2019\n",
       "\n",
       "                    </div>\n",
       "                </div>\n",
       "                "
      ],
      "text/plain": [
       "<User username:a_tech_trek_user>"
      ]
     },
     "execution_count": 203,
     "metadata": {},
     "output_type": "execute_result"
    }
   ],
   "source": [
    "user = gis.users.create(username=\"a_tech_trek_user\",\n",
    "                password='password123',\n",
    "                firstname=\"General\",\n",
    "                lastname=\"Account\",\n",
    "                email=\"gac@esri.com\",\n",
    "                role=\"iAAAAAAAAAAAAAAA\", # 😬\n",
    "                user_type=\"viewerUT\")\n",
    "user"
   ]
  },
  {
   "cell_type": "code",
   "execution_count": 214,
   "metadata": {},
   "outputs": [
    {
     "data": {
      "text/plain": [
       "True"
      ]
     },
     "execution_count": 214,
     "metadata": {},
     "output_type": "execute_result"
    }
   ],
   "source": [
    "user.delete()"
   ]
  },
  {
   "cell_type": "code",
   "execution_count": 221,
   "metadata": {},
   "outputs": [
    {
     "data": {
      "text/html": [
       "<div class=\"9item_container\" style=\"height: auto; overflow: hidden; border: 1px solid #cfcfcf; border-radius: 2px; background: #f6fafa; line-height: 1.21429em; padding: 10px;\">\n",
       "                    <div class=\"item_left\" style=\"width: 210px; float: left;\">\n",
       "                       <a href='https://esri.northeurope.cloudapp.azure.com/portal/home/user.html?user=scott.beckstrom' target='_blank'>\n",
       "                        <img src='https://esri.northeurope.cloudapp.azure.com/portal/home/js/arcgisonline/css/images/no-user-thumb.jpg' class=\"itemThumbnail\">\n",
       "                       </a>\n",
       "                    </div>\n",
       "\n",
       "                    <div class=\"item_right\" style=\"float: none; width: auto; overflow: hidden;\">\n",
       "                        <a href='https://esri.northeurope.cloudapp.azure.com/portal/home/user.html?user=scott.beckstrom' target='_blank'><b>Scott Beckstrom</b>\n",
       "                        </a>\n",
       "                        <br/><br/><b>Bio</b>: None\n",
       "                        <br/><b>First Name</b>: Scott\n",
       "                        <br/><b>Last Name</b>: Beckstrom\n",
       "                        <br/><b>Username</b>: scott.beckstrom\n",
       "                        <br/><b>Joined</b>: April 24, 2019\n",
       "\n",
       "                    </div>\n",
       "                </div>\n",
       "                "
      ],
      "text/plain": [
       "<User username:scott.beckstrom>"
      ]
     },
     "execution_count": 221,
     "metadata": {},
     "output_type": "execute_result"
    }
   ],
   "source": [
    "user = gis.users.get('scott.beckstrom')\n",
    "user"
   ]
  },
  {
   "cell_type": "code",
   "execution_count": 222,
   "metadata": {},
   "outputs": [
    {
     "data": {
      "text/plain": [
       "[<Item title:\"Alabama Asphalt Facility Orthomosaic\" type:Imagery Layer owner:scott.beckstrom>,\n",
       " <Item title:\"Nairobi Urban Growth\" type:Web Map owner:scott.beckstrom>,\n",
       " <Item title:\"Nairobi Landsat - Feb 1 2019\" type:Imagery Layer owner:scott.beckstrom>,\n",
       " <Item title:\"Multispectral Landsat-AcquisitionDate (2/21/2000, 1:00 AM)\" type:Imagery Layer owner:scott.beckstrom>]"
      ]
     },
     "execution_count": 222,
     "metadata": {},
     "output_type": "execute_result"
    }
   ],
   "source": [
    "user.items()"
   ]
  },
  {
   "cell_type": "code",
   "execution_count": 229,
   "metadata": {},
   "outputs": [],
   "source": [
    "user = gis.users.get('swuser.1')"
   ]
  },
  {
   "cell_type": "code",
   "execution_count": 235,
   "metadata": {},
   "outputs": [
    {
     "data": {
      "text/html": [
       "<div class=\"item_container\" style=\"height: auto; overflow: hidden; border: 1px solid #cfcfcf; border-radius: 2px; background: #f6fafa; line-height: 1.21429em; padding: 10px;\">\n",
       "                    <div class=\"item_left\" style=\"width: 210px; float: left;\">\n",
       "                       <a href='https://esri.northeurope.cloudapp.azure.com/portal/home/item.html?id=b55de90e140d493f9a0e9f1c2d1aa1d4' target='_blank'>\n",
       "                        <img src='https://esri.northeurope.cloudapp.azure.com/portal/portalimages/desktopapp.png' class=\"itemThumbnail\">\n",
       "                       </a>\n",
       "                    </div>\n",
       "\n",
       "                    <div class=\"item_right\"     style=\"float: none; width: auto; overflow: hidden;\">\n",
       "                        <a href='https://esri.northeurope.cloudapp.azure.com/portal/home/item.html?id=b55de90e140d493f9a0e9f1c2d1aa1d4' target='_blank'><b>Crimes</b>\n",
       "                        </a>\n",
       "                        <br/><img src='https://esri.northeurope.cloudapp.azure.com/portal/home/js/jsapi/esri/css/images/item_type_icons/featureshosted16.png' style=\"vertical-align:middle;\">Feature Layer Collection by swuser.1\n",
       "                        <br/>Last Modified: May 24, 2019\n",
       "                        <br/>0 comments, 0 views\n",
       "                    </div>\n",
       "                </div>\n",
       "                "
      ],
      "text/plain": [
       "<Item title:\"Crimes\" type:Feature Layer Collection owner:swuser.1>"
      ]
     },
     "execution_count": 235,
     "metadata": {},
     "output_type": "execute_result"
    }
   ],
   "source": [
    "fp = \"./data/crimes_shp.zip\"\n",
    "item_properties = {\n",
    "    'title' : \"Crimes\",\n",
    "    'type' : 'Shapefile',\n",
    "    'tags' : ['Crimes']\n",
    "}\n",
    "shp_item = gis.content.add(data=fp, item_properties=item_properties, owner=user)\n",
    "crimes_item = shp_item.publish()\n",
    "crimes_item"
   ]
  },
  {
   "cell_type": "code",
   "execution_count": 236,
   "metadata": {},
   "outputs": [
    {
     "data": {
      "text/plain": [
       "[<Item title:\"US Rivers\" type:File Geodatabase owner:swuser.1>,\n",
       " <Item title:\"US Rivers\" type:Feature Layer Collection owner:swuser.1>,\n",
       " <Item title:\"Swimming Pools\" type:Shapefile owner:swuser.1>,\n",
       " <Item title:\"Swimming Pools\" type:Feature Layer Collection owner:swuser.1>,\n",
       " <Item title:\"Swimming Pools 2\" type:File Geodatabase owner:swuser.1>,\n",
       " <Item title:\"Swimming Pools 2\" type:Feature Layer Collection owner:swuser.1>,\n",
       " <Item title:\"Crimes\" type:Shapefile owner:swuser.1>,\n",
       " <Item title:\"Crimes\" type:Feature Layer Collection owner:swuser.1>]"
      ]
     },
     "execution_count": 236,
     "metadata": {},
     "output_type": "execute_result"
    }
   ],
   "source": [
    "user.items()"
   ]
  },
  {
   "cell_type": "code",
   "execution_count": null,
   "metadata": {},
   "outputs": [],
   "source": []
  }
 ],
 "metadata": {
  "celltoolbar": "Slideshow",
  "kernelspec": {
   "display_name": "Python 3",
   "language": "python",
   "name": "python3"
  },
  "language_info": {
   "codemirror_mode": {
    "name": "ipython",
    "version": 3
   },
   "file_extension": ".py",
   "mimetype": "text/x-python",
   "name": "python",
   "nbconvert_exporter": "python",
   "pygments_lexer": "ipython3",
   "version": "3.7.1"
  }
 },
 "nbformat": 4,
 "nbformat_minor": 2
}
