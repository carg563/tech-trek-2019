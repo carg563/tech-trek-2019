{
 "cells": [
  {
   "cell_type": "markdown",
   "metadata": {},
   "source": [
    "# Part 2: Administrating Portal and Server"
   ]
  },
  {
   "cell_type": "markdown",
   "metadata": {
    "heading_collapsed": true
   },
   "source": [
    "## Managing Online and Portal"
   ]
  },
  {
   "cell_type": "markdown",
   "metadata": {
    "hidden": true
   },
   "source": [
    "\n",
    "<img src=\"./img/portal.png\" width=50%/>\n",
    "\n",
    "- ArcGIS Online (AGOL)\n",
    "- Portal for ArcGIS"
   ]
  },
  {
   "cell_type": "markdown",
   "metadata": {
    "hidden": true
   },
   "source": [
    "### Administration Overview"
   ]
  },
  {
   "cell_type": "markdown",
   "metadata": {
    "hidden": true
   },
   "source": [
    "<img src=\"./img/gis.admin.png\"/>"
   ]
  },
  {
   "cell_type": "markdown",
   "metadata": {
    "hidden": true
   },
   "source": [
    "### Portal vs AGOL"
   ]
  },
  {
   "cell_type": "markdown",
   "metadata": {
    "hidden": true
   },
   "source": [
    "<img src=\"./img/org_differences.jpg\" />"
   ]
  },
  {
   "cell_type": "code",
   "execution_count": 1,
   "metadata": {
    "hidden": true
   },
   "outputs": [
    {
     "name": "stderr",
     "output_type": "stream",
     "text": [
      "Profile agol_profile does not have a password on file through keyring. If you are expecting this behavior (PKI or IWA authentication, entering password through run-time prompt, etc.), please ignore this message. If you would like to store your password in the agol_profile profile, run GIS(profile = 'agol_profile', password = ...). See the API doc for more details. (http://bit.ly/2CK2wG8)\n",
      "Profile class_profile does not have a password on file through keyring. If you are expecting this behavior (PKI or IWA authentication, entering password through run-time prompt, etc.), please ignore this message. If you would like to store your password in the class_profile profile, run GIS(profile = 'class_profile', password = ...). See the API doc for more details. (http://bit.ly/2CK2wG8)\n"
     ]
    }
   ],
   "source": [
    "from arcgis.gis import GIS\n",
    "gis_agol = GIS(profile='agol_profile')\n",
    "gis = GIS(profile='class_profile')"
   ]
  },
  {
   "cell_type": "markdown",
   "metadata": {
    "hidden": true
   },
   "source": [
    "### Licensing "
   ]
  },
  {
   "cell_type": "markdown",
   "metadata": {
    "hidden": true
   },
   "source": [
    "- Supports assigning licenses for Esri premium apps\n",
    "- The licenses include: \n",
    "    + ArcGIS Pro, Navigator for ArcGIS, AppStudio for ArcGIS Standard, Drone2Map for ArcGIS, ArcGIS Business Analyst web app, ArcGIS Community Analyst, GeoPlanner for ArcGIS\n"
   ]
  },
  {
   "cell_type": "markdown",
   "metadata": {
    "hidden": true
   },
   "source": [
    "**Listing Licenses**"
   ]
  },
  {
   "cell_type": "code",
   "execution_count": 2,
   "metadata": {
    "hidden": true
   },
   "outputs": [
    {
     "data": {
      "text/plain": [
       "[<Insights for ArcGIS License at https://arcgissolutions.maps.arcgis.com/sharing/rest/>,\n",
       " <Redistricting Online License at https://arcgissolutions.maps.arcgis.com/sharing/rest/>,\n",
       " <ArcGIS Pro License at https://arcgissolutions.maps.arcgis.com/sharing/rest/>,\n",
       " <Drone2Map for ArcGIS License at https://arcgissolutions.maps.arcgis.com/sharing/rest/>,\n",
       " <GeoPlanner for ArcGIS License at https://arcgissolutions.maps.arcgis.com/sharing/rest/>,\n",
       " <License at https://arcgissolutions.maps.arcgis.com/sharing/rest/>,\n",
       " <AppStudio for ArcGIS License at https://arcgissolutions.maps.arcgis.com/sharing/rest/>,\n",
       " <ArcGIS Community Analyst License at https://arcgissolutions.maps.arcgis.com/sharing/rest/>,\n",
       " <Navigator for ArcGIS License at https://arcgissolutions.maps.arcgis.com/sharing/rest/>,\n",
       " <Admin Tools for ArcGIS℠ Online License at https://arcgissolutions.maps.arcgis.com/sharing/rest/>,\n",
       " <ArcGIS Business Analyst Web and Mobile Apps License at https://arcgissolutions.maps.arcgis.com/sharing/rest/>]"
      ]
     },
     "execution_count": 2,
     "metadata": {},
     "output_type": "execute_result"
    }
   ],
   "source": [
    "license = gis_agol.admin.license\n",
    "license.all()"
   ]
  },
  {
   "cell_type": "markdown",
   "metadata": {
    "hidden": true
   },
   "source": [
    "**Portal's Licenses**"
   ]
  },
  {
   "cell_type": "code",
   "execution_count": 3,
   "metadata": {
    "hidden": true
   },
   "outputs": [
    {
     "data": {
      "text/plain": [
       "[<Workforce for ArcGIS License at https://gisinc.dev.geocloud.com/portal/sharing/rest/>,\n",
       " <Insights for ArcGIS License at https://gisinc.dev.geocloud.com/portal/sharing/rest/>,\n",
       " <GeoPlanner for ArcGIS License at https://gisinc.dev.geocloud.com/portal/sharing/rest/>,\n",
       " <Tracker for ArcGIS License at https://gisinc.dev.geocloud.com/portal/sharing/rest/>,\n",
       " <Drone2Map for ArcGIS License at https://gisinc.dev.geocloud.com/portal/sharing/rest/>,\n",
       " <ArcGIS Pro License at https://gisinc.dev.geocloud.com/portal/sharing/rest/>,\n",
       " <ArcGIS Excalibur License at https://gisinc.dev.geocloud.com/portal/sharing/rest/>,\n",
       " <ArcGIS Business Analyst Web and Mobile Apps License at https://gisinc.dev.geocloud.com/portal/sharing/rest/>,\n",
       " <Navigator for ArcGIS License at https://gisinc.dev.geocloud.com/portal/sharing/rest/>,\n",
       " <Survey123 for ArcGIS License at https://gisinc.dev.geocloud.com/portal/sharing/rest/>,\n",
       " <Collector for ArcGIS License at https://gisinc.dev.geocloud.com/portal/sharing/rest/>,\n",
       " <AppStudio for ArcGIS License at https://gisinc.dev.geocloud.com/portal/sharing/rest/>]"
      ]
     },
     "execution_count": 3,
     "metadata": {},
     "output_type": "execute_result"
    }
   ],
   "source": [
    "gis.admin.license.all()"
   ]
  },
  {
   "cell_type": "markdown",
   "metadata": {
    "hidden": true
   },
   "source": [
    "**Getting a Single License**"
   ]
  },
  {
   "cell_type": "code",
   "execution_count": 4,
   "metadata": {
    "hidden": true
   },
   "outputs": [
    {
     "data": {
      "text/plain": [
       "<ArcGIS Pro License at https://arcgissolutions.maps.arcgis.com/sharing/rest/>"
      ]
     },
     "execution_count": 4,
     "metadata": {},
     "output_type": "execute_result"
    }
   ],
   "source": [
    "pro_license = license.get('ArcGIS Pro')\n",
    "pro_license"
   ]
  },
  {
   "cell_type": "markdown",
   "metadata": {
    "hidden": true
   },
   "source": [
    "**Viewing Licensing Reports**\n",
    "\n",
    "- provides both visual and tabular reports\n",
    "\n",
    "**Tabular Reports**"
   ]
  },
  {
   "cell_type": "code",
   "execution_count": 5,
   "metadata": {
    "hidden": true,
    "scrolled": true
   },
   "outputs": [
    {
     "data": {
      "text/html": [
       "<div>\n",
       "<style scoped>\n",
       "    .dataframe tbody tr th:only-of-type {\n",
       "        vertical-align: middle;\n",
       "    }\n",
       "\n",
       "    .dataframe tbody tr th {\n",
       "        vertical-align: top;\n",
       "    }\n",
       "\n",
       "    .dataframe thead th {\n",
       "        text-align: right;\n",
       "    }\n",
       "</style>\n",
       "<table border=\"1\" class=\"dataframe\">\n",
       "  <thead>\n",
       "    <tr style=\"text-align: right;\">\n",
       "      <th></th>\n",
       "      <th>Entitlement</th>\n",
       "      <th>Total</th>\n",
       "      <th>Assigned</th>\n",
       "      <th>Remaining</th>\n",
       "    </tr>\n",
       "  </thead>\n",
       "  <tbody>\n",
       "    <tr>\n",
       "      <th>0</th>\n",
       "      <td>3DAnalystN</td>\n",
       "      <td>50</td>\n",
       "      <td>9</td>\n",
       "      <td>41</td>\n",
       "    </tr>\n",
       "    <tr>\n",
       "      <th>1</th>\n",
       "      <td>airportsN</td>\n",
       "      <td>50</td>\n",
       "      <td>2</td>\n",
       "      <td>48</td>\n",
       "    </tr>\n",
       "    <tr>\n",
       "      <th>2</th>\n",
       "      <td>businessStdN</td>\n",
       "      <td>50</td>\n",
       "      <td>3</td>\n",
       "      <td>47</td>\n",
       "    </tr>\n",
       "    <tr>\n",
       "      <th>3</th>\n",
       "      <td>dataInteropN</td>\n",
       "      <td>50</td>\n",
       "      <td>6</td>\n",
       "      <td>44</td>\n",
       "    </tr>\n",
       "    <tr>\n",
       "      <th>4</th>\n",
       "      <td>dataReviewerN</td>\n",
       "      <td>50</td>\n",
       "      <td>9</td>\n",
       "      <td>41</td>\n",
       "    </tr>\n",
       "    <tr>\n",
       "      <th>5</th>\n",
       "      <td>defenseN</td>\n",
       "      <td>50</td>\n",
       "      <td>2</td>\n",
       "      <td>48</td>\n",
       "    </tr>\n",
       "    <tr>\n",
       "      <th>6</th>\n",
       "      <td>desktopAdvN</td>\n",
       "      <td>50</td>\n",
       "      <td>9</td>\n",
       "      <td>41</td>\n",
       "    </tr>\n",
       "    <tr>\n",
       "      <th>7</th>\n",
       "      <td>desktopBasicN</td>\n",
       "      <td>50</td>\n",
       "      <td>0</td>\n",
       "      <td>50</td>\n",
       "    </tr>\n",
       "    <tr>\n",
       "      <th>8</th>\n",
       "      <td>desktopStdN</td>\n",
       "      <td>50</td>\n",
       "      <td>0</td>\n",
       "      <td>50</td>\n",
       "    </tr>\n",
       "    <tr>\n",
       "      <th>9</th>\n",
       "      <td>geostatAnalystN</td>\n",
       "      <td>50</td>\n",
       "      <td>9</td>\n",
       "      <td>41</td>\n",
       "    </tr>\n",
       "    <tr>\n",
       "      <th>10</th>\n",
       "      <td>imageAnalystN</td>\n",
       "      <td>50</td>\n",
       "      <td>3</td>\n",
       "      <td>47</td>\n",
       "    </tr>\n",
       "    <tr>\n",
       "      <th>11</th>\n",
       "      <td>locateXTN</td>\n",
       "      <td>50</td>\n",
       "      <td>0</td>\n",
       "      <td>50</td>\n",
       "    </tr>\n",
       "    <tr>\n",
       "      <th>12</th>\n",
       "      <td>LocRefDesktopN</td>\n",
       "      <td>50</td>\n",
       "      <td>3</td>\n",
       "      <td>47</td>\n",
       "    </tr>\n",
       "    <tr>\n",
       "      <th>13</th>\n",
       "      <td>maritimeN</td>\n",
       "      <td>50</td>\n",
       "      <td>2</td>\n",
       "      <td>48</td>\n",
       "    </tr>\n",
       "    <tr>\n",
       "      <th>14</th>\n",
       "      <td>networkAnalystN</td>\n",
       "      <td>50</td>\n",
       "      <td>9</td>\n",
       "      <td>41</td>\n",
       "    </tr>\n",
       "    <tr>\n",
       "      <th>15</th>\n",
       "      <td>productionMapN</td>\n",
       "      <td>50</td>\n",
       "      <td>2</td>\n",
       "      <td>48</td>\n",
       "    </tr>\n",
       "    <tr>\n",
       "      <th>16</th>\n",
       "      <td>publisherN</td>\n",
       "      <td>50</td>\n",
       "      <td>4</td>\n",
       "      <td>46</td>\n",
       "    </tr>\n",
       "    <tr>\n",
       "      <th>17</th>\n",
       "      <td>smpAsiaPacificN</td>\n",
       "      <td>50</td>\n",
       "      <td>4</td>\n",
       "      <td>46</td>\n",
       "    </tr>\n",
       "    <tr>\n",
       "      <th>18</th>\n",
       "      <td>smpEuropeN</td>\n",
       "      <td>50</td>\n",
       "      <td>5</td>\n",
       "      <td>45</td>\n",
       "    </tr>\n",
       "    <tr>\n",
       "      <th>19</th>\n",
       "      <td>smpMidEAfricaN</td>\n",
       "      <td>50</td>\n",
       "      <td>4</td>\n",
       "      <td>46</td>\n",
       "    </tr>\n",
       "    <tr>\n",
       "      <th>20</th>\n",
       "      <td>smpNAmericaN</td>\n",
       "      <td>50</td>\n",
       "      <td>6</td>\n",
       "      <td>44</td>\n",
       "    </tr>\n",
       "    <tr>\n",
       "      <th>21</th>\n",
       "      <td>spatialAnalystN</td>\n",
       "      <td>50</td>\n",
       "      <td>9</td>\n",
       "      <td>41</td>\n",
       "    </tr>\n",
       "    <tr>\n",
       "      <th>22</th>\n",
       "      <td>workflowMgrN</td>\n",
       "      <td>50</td>\n",
       "      <td>8</td>\n",
       "      <td>42</td>\n",
       "    </tr>\n",
       "  </tbody>\n",
       "</table>\n",
       "</div>"
      ],
      "text/plain": [
       "        Entitlement  Total  Assigned  Remaining\n",
       "0        3DAnalystN     50         9         41\n",
       "1         airportsN     50         2         48\n",
       "2      businessStdN     50         3         47\n",
       "3      dataInteropN     50         6         44\n",
       "4     dataReviewerN     50         9         41\n",
       "5          defenseN     50         2         48\n",
       "6       desktopAdvN     50         9         41\n",
       "7     desktopBasicN     50         0         50\n",
       "8       desktopStdN     50         0         50\n",
       "9   geostatAnalystN     50         9         41\n",
       "10    imageAnalystN     50         3         47\n",
       "11        locateXTN     50         0         50\n",
       "12   LocRefDesktopN     50         3         47\n",
       "13        maritimeN     50         2         48\n",
       "14  networkAnalystN     50         9         41\n",
       "15   productionMapN     50         2         48\n",
       "16       publisherN     50         4         46\n",
       "17  smpAsiaPacificN     50         4         46\n",
       "18       smpEuropeN     50         5         45\n",
       "19   smpMidEAfricaN     50         4         46\n",
       "20     smpNAmericaN     50         6         44\n",
       "21  spatialAnalystN     50         9         41\n",
       "22     workflowMgrN     50         8         42"
      ]
     },
     "execution_count": 5,
     "metadata": {},
     "output_type": "execute_result"
    }
   ],
   "source": [
    "pro_license.report"
   ]
  },
  {
   "cell_type": "markdown",
   "metadata": {
    "hidden": true
   },
   "source": [
    "**Demo: Assigning Entitlements**"
   ]
  },
  {
   "cell_type": "code",
   "execution_count": 7,
   "metadata": {
    "hidden": true
   },
   "outputs": [
    {
     "name": "stdout",
     "output_type": "stream",
     "text": [
      "   Entitlement  Total  Assigned  Remaining\n",
      "8  desktopStdN     50         0         50\n"
     ]
    },
    {
     "data": {
      "text/html": [
       "<div>\n",
       "<style scoped>\n",
       "    .dataframe tbody tr th:only-of-type {\n",
       "        vertical-align: middle;\n",
       "    }\n",
       "\n",
       "    .dataframe tbody tr th {\n",
       "        vertical-align: top;\n",
       "    }\n",
       "\n",
       "    .dataframe thead th {\n",
       "        text-align: right;\n",
       "    }\n",
       "</style>\n",
       "<table border=\"1\" class=\"dataframe\">\n",
       "  <thead>\n",
       "    <tr style=\"text-align: right;\">\n",
       "      <th></th>\n",
       "      <th>Entitlement</th>\n",
       "      <th>Total</th>\n",
       "      <th>Assigned</th>\n",
       "      <th>Remaining</th>\n",
       "    </tr>\n",
       "  </thead>\n",
       "  <tbody>\n",
       "    <tr>\n",
       "      <th>8</th>\n",
       "      <td>desktopStdN</td>\n",
       "      <td>50</td>\n",
       "      <td>1</td>\n",
       "      <td>49</td>\n",
       "    </tr>\n",
       "  </tbody>\n",
       "</table>\n",
       "</div>"
      ],
      "text/plain": [
       "   Entitlement  Total  Assigned  Remaining\n",
       "8  desktopStdN     50         1         49"
      ]
     },
     "execution_count": 7,
     "metadata": {},
     "output_type": "execute_result"
    }
   ],
   "source": [
    "# %load ./solutions/create_assign.py\n",
    "user = gis_agol.users.create(firstname=\"Demo\", lastname=\"Account2\",\n",
    "                             user_type=\"creatorUT\",\n",
    "                             username=\"entitleduser\",\n",
    "                             password=\"flimFLAM2!\",\n",
    "                             email=\"fakeperson@esri.com\")\n",
    "r = pro_license.report\n",
    "print(r[r['Entitlement'] == 'desktopStdN'])\n",
    "pro_license.assign(username=user.username, entitlements=\"desktopStdN\")\n",
    "r = pro_license.report\n",
    "r[r['Entitlement'] == 'desktopStdN']"
   ]
  },
  {
   "cell_type": "markdown",
   "metadata": {
    "hidden": true
   },
   "source": [
    "**Revoking Entitlements**\n",
    "\n",
    "- `revoke` removes a license for the product assigned to a user."
   ]
  },
  {
   "cell_type": "code",
   "execution_count": 8,
   "metadata": {
    "hidden": true
   },
   "outputs": [
    {
     "data": {
      "text/plain": [
       "True"
      ]
     },
     "execution_count": 8,
     "metadata": {},
     "output_type": "execute_result"
    }
   ],
   "source": [
    "pro_license.revoke(username=\"entitleduser\", entitlements=\"*\")"
   ]
  },
  {
   "cell_type": "code",
   "execution_count": 9,
   "metadata": {
    "hidden": true
   },
   "outputs": [
    {
     "data": {
      "text/html": [
       "<div>\n",
       "<style scoped>\n",
       "    .dataframe tbody tr th:only-of-type {\n",
       "        vertical-align: middle;\n",
       "    }\n",
       "\n",
       "    .dataframe tbody tr th {\n",
       "        vertical-align: top;\n",
       "    }\n",
       "\n",
       "    .dataframe thead th {\n",
       "        text-align: right;\n",
       "    }\n",
       "</style>\n",
       "<table border=\"1\" class=\"dataframe\">\n",
       "  <thead>\n",
       "    <tr style=\"text-align: right;\">\n",
       "      <th></th>\n",
       "      <th>Entitlement</th>\n",
       "      <th>Total</th>\n",
       "      <th>Assigned</th>\n",
       "      <th>Remaining</th>\n",
       "    </tr>\n",
       "  </thead>\n",
       "  <tbody>\n",
       "    <tr>\n",
       "      <th>8</th>\n",
       "      <td>desktopStdN</td>\n",
       "      <td>50</td>\n",
       "      <td>0</td>\n",
       "      <td>50</td>\n",
       "    </tr>\n",
       "  </tbody>\n",
       "</table>\n",
       "</div>"
      ],
      "text/plain": [
       "   Entitlement  Total  Assigned  Remaining\n",
       "8  desktopStdN     50         0         50"
      ]
     },
     "execution_count": 9,
     "metadata": {},
     "output_type": "execute_result"
    }
   ],
   "source": [
    "r = pro_license.report\n",
    "r[r['Entitlement'] == 'desktopStdN']"
   ]
  },
  {
   "cell_type": "markdown",
   "metadata": {
    "hidden": true
   },
   "source": [
    "#### Releasing ArcGIS Pro License for Offline Users"
   ]
  },
  {
   "cell_type": "markdown",
   "metadata": {
    "hidden": true
   },
   "source": [
    "- Users can check out licenses, but it holds a license from anyone else to use\n",
    "- Administrators can force the release of that license on enterprise"
   ]
  },
  {
   "cell_type": "markdown",
   "metadata": {
    "hidden": true
   },
   "source": [
    "```python\n",
    "licenses.release_license('username')\n",
    "{'status' : 'success'}\n",
    "```"
   ]
  },
  {
   "cell_type": "code",
   "execution_count": 10,
   "metadata": {
    "hidden": true
   },
   "outputs": [
    {
     "data": {
      "text/plain": [
       "True"
      ]
     },
     "execution_count": 10,
     "metadata": {},
     "output_type": "execute_result"
    }
   ],
   "source": [
    "gis_agol.users.get(\"entitleduser\").delete()"
   ]
  },
  {
   "cell_type": "markdown",
   "metadata": {
    "hidden": true
   },
   "source": [
    "### Customizing the UX"
   ]
  },
  {
   "cell_type": "markdown",
   "metadata": {
    "hidden": true
   },
   "source": [
    "<img src=\"http://esri.github.io/arcgis-python-api/notebooks/nbimages/guide_gis_ux_default_install_portal.PNG\" />\n",
    "\n",
    "- Organizations look and feel can be fully customized\n",
    "- When migrating from one version to another, script! Don't click!"
   ]
  },
  {
   "cell_type": "code",
   "execution_count": 11,
   "metadata": {
    "hidden": true
   },
   "outputs": [],
   "source": [
    "gis = GIS(profile='geodevagol')"
   ]
  },
  {
   "cell_type": "code",
   "execution_count": 13,
   "metadata": {
    "hidden": true
   },
   "outputs": [],
   "source": [
    "# %load ./solutions/reset_site.py\n",
    "gis.admin.ux.name = \"ArcGIS Enterprise\"\n",
    "gis.admin.ux.description = \"<br/>\""
   ]
  },
  {
   "cell_type": "markdown",
   "metadata": {
    "hidden": true
   },
   "source": [
    "**Get the UX Manager**"
   ]
  },
  {
   "cell_type": "code",
   "execution_count": 14,
   "metadata": {
    "hidden": true
   },
   "outputs": [],
   "source": [
    "ux = gis.admin.ux"
   ]
  },
  {
   "cell_type": "markdown",
   "metadata": {
    "hidden": true
   },
   "source": [
    "**Modifying the Site Name**\n",
    "\n",
    "- Get/Set operation"
   ]
  },
  {
   "cell_type": "code",
   "execution_count": 15,
   "metadata": {
    "hidden": true
   },
   "outputs": [
    {
     "data": {
      "text/plain": [
       "'ArcGIS Enterprise'"
      ]
     },
     "execution_count": 15,
     "metadata": {},
     "output_type": "execute_result"
    }
   ],
   "source": [
    "ux.name"
   ]
  },
  {
   "cell_type": "code",
   "execution_count": 16,
   "metadata": {
    "hidden": true
   },
   "outputs": [],
   "source": [
    "ux.name = \"Dev Site for GeoSaurus\""
   ]
  },
  {
   "cell_type": "code",
   "execution_count": 17,
   "metadata": {
    "hidden": true
   },
   "outputs": [
    {
     "data": {
      "text/plain": [
       "'Dev Site for GeoSaurus'"
      ]
     },
     "execution_count": 17,
     "metadata": {},
     "output_type": "execute_result"
    }
   ],
   "source": [
    "ux.name"
   ]
  },
  {
   "cell_type": "markdown",
   "metadata": {
    "hidden": true
   },
   "source": [
    "**Set the Banner**"
   ]
  },
  {
   "cell_type": "code",
   "execution_count": 18,
   "metadata": {
    "hidden": true
   },
   "outputs": [
    {
     "data": {
      "text/plain": [
       "True"
      ]
     },
     "execution_count": 18,
     "metadata": {},
     "output_type": "execute_result"
    }
   ],
   "source": [
    "ux.set_banner(banner_file='./img/ux/banner.jpg')"
   ]
  },
  {
   "cell_type": "markdown",
   "metadata": {
    "hidden": true
   },
   "source": [
    "##### Results:\n"
   ]
  },
  {
   "cell_type": "markdown",
   "metadata": {
    "hidden": true
   },
   "source": [
    "<img src=\"./img/banner_result.jpg\" />"
   ]
  },
  {
   "cell_type": "markdown",
   "metadata": {
    "hidden": true
   },
   "source": [
    "#### Site Description\n",
    "\n"
   ]
  },
  {
   "cell_type": "code",
   "execution_count": 19,
   "metadata": {
    "hidden": true,
    "scrolled": true
   },
   "outputs": [
    {
     "data": {
      "text/plain": [
       "'<br/>'"
      ]
     },
     "execution_count": 19,
     "metadata": {},
     "output_type": "execute_result"
    }
   ],
   "source": [
    "ux.description_visibility = True\n",
    "ux.description"
   ]
  },
  {
   "cell_type": "code",
   "execution_count": 20,
   "metadata": {
    "hidden": true
   },
   "outputs": [],
   "source": [
    "ux.description = \"This site is used in assisting the ArcGIS API for Python develop new functionality.<div><br /></div>\""
   ]
  },
  {
   "cell_type": "code",
   "execution_count": 21,
   "metadata": {
    "hidden": true
   },
   "outputs": [
    {
     "data": {
      "text/plain": [
       "'This site is used in assisting the ArcGIS API for Python develop new functionality.<div><br /></div>'"
      ]
     },
     "execution_count": 21,
     "metadata": {},
     "output_type": "execute_result"
    }
   ],
   "source": [
    "ux.description"
   ]
  },
  {
   "cell_type": "markdown",
   "metadata": {
    "hidden": true
   },
   "source": [
    "#### Results:"
   ]
  },
  {
   "cell_type": "markdown",
   "metadata": {
    "hidden": true
   },
   "source": [
    "<img src=\"./img/desc_result.jpg\" />"
   ]
  },
  {
   "cell_type": "markdown",
   "metadata": {
    "hidden": true
   },
   "source": [
    "#### Setting featured content"
   ]
  },
  {
   "cell_type": "markdown",
   "metadata": {
    "hidden": true
   },
   "source": [
    "- designate the contents of a groups to show on the featured content homepage"
   ]
  },
  {
   "cell_type": "code",
   "execution_count": 22,
   "metadata": {
    "hidden": true
   },
   "outputs": [
    {
     "data": {
      "text/html": [
       "<div class=\"9item_container\" style=\"height: auto; overflow: hidden; border: 1px solid #cfcfcf; border-radius: 2px; background: #f6fafa; line-height: 1.21429em; padding: 10px;\">\n",
       "                    <div class=\"item_left\" style=\"width: 210px; float: left;\">\n",
       "                       <a href='https://devgeosaurus.mapsdevext.arcgis.com/home/group.html?id=3e55a0c21d8644b5988156fd8b0c4efd' target='_blank'>\n",
       "                        <img src='https://devgeosaurus.mapsdevext.arcgis.com/home/images/group-no-image.png' class=\"itemThumbnail\">\n",
       "                       </a>\n",
       "                    </div>\n",
       "\n",
       "                    <div class=\"item_right\" style=\"float: none; width: auto; overflow: hidden;\">\n",
       "                        <a href='https://devgeosaurus.mapsdevext.arcgis.com/home/group.html?id=3e55a0c21d8644b5988156fd8b0c4efd' target='_blank'><b>DevGroup</b>\n",
       "                        </a>\n",
       "                        <br/>\n",
       "                        <br/><b>Summary</b>: None\n",
       "                        <br/><b>Description</b>: None\n",
       "                        <br/><b>Owner</b>: devandrew\n",
       "                        <br/><b>Created</b>: March 25, 2019\n",
       "\n",
       "                    </div>\n",
       "                </div>\n",
       "                "
      ],
      "text/plain": [
       "<Group title:\"DevGroup\" owner:devandrew>"
      ]
     },
     "execution_count": 22,
     "metadata": {},
     "output_type": "execute_result"
    }
   ],
   "source": [
    "grp = gis.groups.search(\"DevGroup\")[0]\n",
    "grp"
   ]
  },
  {
   "cell_type": "code",
   "execution_count": 23,
   "metadata": {
    "hidden": true
   },
   "outputs": [],
   "source": [
    "ux.featured_content = {'group' : grp}"
   ]
  },
  {
   "cell_type": "markdown",
   "metadata": {
    "hidden": true
   },
   "source": [
    "#### Result:"
   ]
  },
  {
   "cell_type": "markdown",
   "metadata": {
    "hidden": true
   },
   "source": [
    "<img src=\"./img/fc_result.jpg\" />"
   ]
  },
  {
   "cell_type": "markdown",
   "metadata": {
    "hidden": true
   },
   "source": [
    "### Credit Management"
   ]
  },
  {
   "cell_type": "markdown",
   "metadata": {
    "hidden": true
   },
   "source": [
    "- The currency of ArcGIS Online\n",
    "- Allows users to do analysis, enrich data, and much more\n",
    "- Hosting services cost credit as well."
   ]
  },
  {
   "cell_type": "markdown",
   "metadata": {
    "hidden": true
   },
   "source": [
    "**Access the CreditManager**"
   ]
  },
  {
   "cell_type": "code",
   "execution_count": 24,
   "metadata": {
    "hidden": true
   },
   "outputs": [
    {
     "data": {
      "text/plain": [
       "<arcgis.gis.admin._creditmanagement.CreditManager at 0x227ca8708d0>"
      ]
     },
     "execution_count": 24,
     "metadata": {},
     "output_type": "execute_result"
    }
   ],
   "source": [
    "cm = gis_agol.admin.credits\n",
    "cm"
   ]
  },
  {
   "cell_type": "markdown",
   "metadata": {
    "hidden": true
   },
   "source": [
    "**View Available Credits**\n",
    "\n",
    "- Get the total number of credits on an Organization"
   ]
  },
  {
   "cell_type": "code",
   "execution_count": 25,
   "metadata": {
    "hidden": true
   },
   "outputs": [
    {
     "data": {
      "text/plain": [
       "17340.701"
      ]
     },
     "execution_count": 25,
     "metadata": {},
     "output_type": "execute_result"
    }
   ],
   "source": [
    "cm.credits"
   ]
  },
  {
   "cell_type": "markdown",
   "metadata": {
    "hidden": true
   },
   "source": [
    "**Managing Credits**\n",
    "\n",
    "- Setup budgeting rules by enabling management"
   ]
  },
  {
   "cell_type": "code",
   "execution_count": 26,
   "metadata": {
    "hidden": true
   },
   "outputs": [
    {
     "name": "stdout",
     "output_type": "stream",
     "text": [
      "True\n"
     ]
    },
    {
     "data": {
      "text/plain": [
       "True"
      ]
     },
     "execution_count": 26,
     "metadata": {},
     "output_type": "execute_result"
    }
   ],
   "source": [
    "if cm.is_enabled:\n",
    "    print(cm.enable())\n",
    "cm.is_enabled"
   ]
  },
  {
   "cell_type": "markdown",
   "metadata": {
    "hidden": true
   },
   "source": [
    "**Checking the Default Limit**\n",
    "\n",
    "- The default credit setting is unlimited (-1)\n"
   ]
  },
  {
   "cell_type": "code",
   "execution_count": 27,
   "metadata": {
    "hidden": true
   },
   "outputs": [
    {
     "data": {
      "text/plain": [
       "500"
      ]
     },
     "execution_count": 27,
     "metadata": {},
     "output_type": "execute_result"
    }
   ],
   "source": [
    "cm.default_limit"
   ]
  },
  {
   "cell_type": "markdown",
   "metadata": {
    "hidden": true
   },
   "source": [
    "**Demo: Setting the default user credits**"
   ]
  },
  {
   "cell_type": "code",
   "execution_count": null,
   "metadata": {
    "hidden": true
   },
   "outputs": [],
   "source": [
    "# %load ./solutions/setting_credits.py\n",
    "if cm.default_limit == -1:\n",
    "    cm.default_limit = 500\n",
    "cm.default_limit"
   ]
  },
  {
   "cell_type": "markdown",
   "metadata": {
    "hidden": true
   },
   "source": [
    "**Allocating Credits to a User**\n",
    "\n",
    "- Assignment of credits beyond the default is some necessary"
   ]
  },
  {
   "cell_type": "code",
   "execution_count": 29,
   "metadata": {
    "hidden": true
   },
   "outputs": [
    {
     "data": {
      "text/plain": [
       "True"
      ]
     },
     "execution_count": 29,
     "metadata": {},
     "output_type": "execute_result"
    }
   ],
   "source": [
    "cm.allocate(username=gis_agol.users.me.username, \n",
    "            credits=10000)"
   ]
  },
  {
   "cell_type": "markdown",
   "metadata": {
    "hidden": true
   },
   "source": [
    "**Give Specific User Unlimited Credits**"
   ]
  },
  {
   "cell_type": "code",
   "execution_count": 30,
   "metadata": {
    "hidden": true
   },
   "outputs": [
    {
     "data": {
      "text/plain": [
       "True"
      ]
     },
     "execution_count": 30,
     "metadata": {},
     "output_type": "execute_result"
    }
   ],
   "source": [
    "cm.allocate(username=gis_agol.users.me.username, \n",
    "            credits=-1)"
   ]
  },
  {
   "cell_type": "markdown",
   "metadata": {
    "hidden": true
   },
   "source": [
    "**Disabling Credit Management**\n",
    "\n",
    "- `disable()` on credit manager will disable any credit monitoring\n",
    "- **THIS IS A BAD IDEA**"
   ]
  },
  {
   "cell_type": "markdown",
   "metadata": {
    "hidden": true
   },
   "source": [
    "### Metadata Management"
   ]
  },
  {
   "cell_type": "markdown",
   "metadata": {
    "hidden": true
   },
   "source": [
    "- Information about information\n",
    "- Allows users to provide robust information about datasets beyond the description, title, tags, etc..."
   ]
  },
  {
   "cell_type": "markdown",
   "metadata": {
    "hidden": true
   },
   "source": [
    "#### Enabling Metadata"
   ]
  },
  {
   "cell_type": "code",
   "execution_count": 31,
   "metadata": {
    "hidden": true
   },
   "outputs": [
    {
     "data": {
      "text/plain": [
       "<MetadataManager at https://arcgissolutions.maps.arcgis.com>"
      ]
     },
     "execution_count": 31,
     "metadata": {},
     "output_type": "execute_result"
    }
   ],
   "source": [
    "meta = gis_agol.admin.metadata\n",
    "meta"
   ]
  },
  {
   "cell_type": "code",
   "execution_count": 34,
   "metadata": {
    "hidden": true
   },
   "outputs": [
    {
     "data": {
      "text/plain": [
       "True"
      ]
     },
     "execution_count": 34,
     "metadata": {},
     "output_type": "execute_result"
    }
   ],
   "source": [
    "if meta.is_enabled == False:\n",
    "    meta.enable()\n",
    "meta.is_enabled"
   ]
  },
  {
   "cell_type": "markdown",
   "metadata": {
    "hidden": true
   },
   "source": [
    "#### Disabling Metadata"
   ]
  },
  {
   "cell_type": "code",
   "execution_count": 33,
   "metadata": {
    "hidden": true
   },
   "outputs": [
    {
     "data": {
      "text/plain": [
       "True"
      ]
     },
     "execution_count": 33,
     "metadata": {},
     "output_type": "execute_result"
    }
   ],
   "source": [
    "meta.disable()"
   ]
  },
  {
   "cell_type": "markdown",
   "metadata": {
    "hidden": true
   },
   "source": [
    "### User History\n",
    "\n",
    "- Examine what users are doing with the organization\n",
    "- Ensure specific content does not change or get modified\n"
   ]
  },
  {
   "cell_type": "code",
   "execution_count": 3,
   "metadata": {
    "hidden": true
   },
   "outputs": [
    {
     "data": {
      "text/html": [
       "GIS @ <a href=\"https://DBSNE.maps.arcgis.com\">https://DBSNE.maps.arcgis.com</a>"
      ],
      "text/plain": [
       "GIS @ https://DBSNE.maps.arcgis.com version:7.1"
      ]
     },
     "execution_count": 3,
     "metadata": {},
     "output_type": "execute_result"
    }
   ],
   "source": [
    "from arcgis.gis import GIS\n",
    "gis_agol = GIS(profile=\"joshdbs\")\n",
    "gis_agol"
   ]
  },
  {
   "cell_type": "code",
   "execution_count": 6,
   "metadata": {
    "hidden": true
   },
   "outputs": [],
   "source": [
    "gis_agol.admin.history?"
   ]
  },
  {
   "cell_type": "code",
   "execution_count": 4,
   "metadata": {
    "hidden": true
   },
   "outputs": [
    {
     "data": {
      "text/plain": [
       "<matplotlib.axes._subplots.AxesSubplot at 0x1232ce320>"
      ]
     },
     "execution_count": 4,
     "metadata": {},
     "output_type": "execute_result"
    },
    {
     "data": {
      "image/png": "[encoded data removed]",
      "text/plain": [
       "<Figure size 432x288 with 1 Axes>"
      ]
     },
     "metadata": {
      "needs_background": "light"
     },
     "output_type": "display_data"
    }
   ],
   "source": [
    "%matplotlib inline\n",
    "import datetime\n",
    "import pandas as pd\n",
    "then = datetime.datetime.now() - datetime.timedelta(days=4)\n",
    "df = pd.read_csv(gis_agol.admin.history(start_date=then, num=100000))\n",
    "df.action.value_counts().plot.bar()"
   ]
  },
  {
   "cell_type": "code",
   "execution_count": 7,
   "metadata": {
    "hidden": true
   },
   "outputs": [
    {
     "data": {
      "text/html": [
       "<div>\n",
       "<style scoped>\n",
       "    .dataframe tbody tr th:only-of-type {\n",
       "        vertical-align: middle;\n",
       "    }\n",
       "\n",
       "    .dataframe tbody tr th {\n",
       "        vertical-align: top;\n",
       "    }\n",
       "\n",
       "    .dataframe thead th {\n",
       "        text-align: right;\n",
       "    }\n",
       "</style>\n",
       "<table border=\"1\" class=\"dataframe\">\n",
       "  <thead>\n",
       "    <tr style=\"text-align: right;\">\n",
       "      <th></th>\n",
       "      <th>id</th>\n",
       "      <th>idType</th>\n",
       "      <th>orgId</th>\n",
       "      <th>owner</th>\n",
       "      <th>actor</th>\n",
       "      <th>ip</th>\n",
       "      <th>action</th>\n",
       "      <th>created</th>\n",
       "      <th>created_utc</th>\n",
       "      <th>request</th>\n",
       "      <th>reqId</th>\n",
       "      <th>clientId</th>\n",
       "      <th>data</th>\n",
       "    </tr>\n",
       "  </thead>\n",
       "  <tbody>\n",
       "    <tr>\n",
       "      <th>0</th>\n",
       "      <td>nick9534@esri.com_DBSNE</td>\n",
       "      <td>u</td>\n",
       "      <td>BteRGjYsGtVEXzaX</td>\n",
       "      <td>NaN</td>\n",
       "      <td>nick9534@esri.com_DBSNE</td>\n",
       "      <td>198.102.32.250</td>\n",
       "      <td>login</td>\n",
       "      <td>1558478668041</td>\n",
       "      <td>May 21, 2019 10:44:28 PM</td>\n",
       "      <td>/sharing/rest/oauth2/token</td>\n",
       "      <td>01236a804ca749cd9a93e79d21207fe7</td>\n",
       "      <td>arcgisprodesktop</td>\n",
       "      <td>NaN</td>\n",
       "    </tr>\n",
       "    <tr>\n",
       "      <th>1</th>\n",
       "      <td>camrine_DBSNE</td>\n",
       "      <td>u</td>\n",
       "      <td>BteRGjYsGtVEXzaX</td>\n",
       "      <td>NaN</td>\n",
       "      <td>camrine_DBSNE</td>\n",
       "      <td>18.210.1.103</td>\n",
       "      <td>failedlogin</td>\n",
       "      <td>1558479203806</td>\n",
       "      <td>May 21, 2019 10:53:23 PM</td>\n",
       "      <td>/sharing/rest/generateToken</td>\n",
       "      <td>0bb2e73f4f6a46b8b48acf06d4d143a8</td>\n",
       "      <td>ref.http://www.arcgis.com</td>\n",
       "      <td>NaN</td>\n",
       "    </tr>\n",
       "    <tr>\n",
       "      <th>2</th>\n",
       "      <td>nick9534@esri.com_DBSNE</td>\n",
       "      <td>u</td>\n",
       "      <td>BteRGjYsGtVEXzaX</td>\n",
       "      <td>NaN</td>\n",
       "      <td>nick9534@esri.com_DBSNE</td>\n",
       "      <td>198.102.32.250</td>\n",
       "      <td>login</td>\n",
       "      <td>1558480288004</td>\n",
       "      <td>May 21, 2019 11:11:28 PM</td>\n",
       "      <td>/sharing/rest/oauth2/token</td>\n",
       "      <td>54d345e8e9434e6eb396cf2be7cec944</td>\n",
       "      <td>arcgisprodesktop</td>\n",
       "      <td>NaN</td>\n",
       "    </tr>\n",
       "    <tr>\n",
       "      <th>3</th>\n",
       "      <td>nick9534@esri.com_DBSNE</td>\n",
       "      <td>u</td>\n",
       "      <td>BteRGjYsGtVEXzaX</td>\n",
       "      <td>NaN</td>\n",
       "      <td>nick9534@esri.com_DBSNE</td>\n",
       "      <td>198.102.32.250</td>\n",
       "      <td>login</td>\n",
       "      <td>1558481908016</td>\n",
       "      <td>May 21, 2019 11:38:28 PM</td>\n",
       "      <td>/sharing/rest/oauth2/token</td>\n",
       "      <td>786ac2871e074b92ad7766e79ea5b341</td>\n",
       "      <td>arcgisprodesktop</td>\n",
       "      <td>NaN</td>\n",
       "    </tr>\n",
       "    <tr>\n",
       "      <th>4</th>\n",
       "      <td>camrine_DBSNE</td>\n",
       "      <td>u</td>\n",
       "      <td>BteRGjYsGtVEXzaX</td>\n",
       "      <td>NaN</td>\n",
       "      <td>camrine_DBSNE</td>\n",
       "      <td>18.210.1.103</td>\n",
       "      <td>failedlogin</td>\n",
       "      <td>1558482869261</td>\n",
       "      <td>May 21, 2019 11:54:29 PM</td>\n",
       "      <td>/sharing/rest/generateToken</td>\n",
       "      <td>a041288d963d4cb2b0db0f58a6618b2f</td>\n",
       "      <td>ref.http://www.arcgis.com</td>\n",
       "      <td>NaN</td>\n",
       "    </tr>\n",
       "  </tbody>\n",
       "</table>\n",
       "</div>"
      ],
      "text/plain": [
       "                        id idType             orgId owner  \\\n",
       "0  nick9534@esri.com_DBSNE      u  BteRGjYsGtVEXzaX   NaN   \n",
       "1            camrine_DBSNE      u  BteRGjYsGtVEXzaX   NaN   \n",
       "2  nick9534@esri.com_DBSNE      u  BteRGjYsGtVEXzaX   NaN   \n",
       "3  nick9534@esri.com_DBSNE      u  BteRGjYsGtVEXzaX   NaN   \n",
       "4            camrine_DBSNE      u  BteRGjYsGtVEXzaX   NaN   \n",
       "\n",
       "                     actor              ip       action        created  \\\n",
       "0  nick9534@esri.com_DBSNE  198.102.32.250        login  1558478668041   \n",
       "1            camrine_DBSNE    18.210.1.103  failedlogin  1558479203806   \n",
       "2  nick9534@esri.com_DBSNE  198.102.32.250        login  1558480288004   \n",
       "3  nick9534@esri.com_DBSNE  198.102.32.250        login  1558481908016   \n",
       "4            camrine_DBSNE    18.210.1.103  failedlogin  1558482869261   \n",
       "\n",
       "                created_utc                      request  \\\n",
       "0  May 21, 2019 10:44:28 PM   /sharing/rest/oauth2/token   \n",
       "1  May 21, 2019 10:53:23 PM  /sharing/rest/generateToken   \n",
       "2  May 21, 2019 11:11:28 PM   /sharing/rest/oauth2/token   \n",
       "3  May 21, 2019 11:38:28 PM   /sharing/rest/oauth2/token   \n",
       "4  May 21, 2019 11:54:29 PM  /sharing/rest/generateToken   \n",
       "\n",
       "                              reqId                   clientId data  \n",
       "0  01236a804ca749cd9a93e79d21207fe7           arcgisprodesktop  NaN  \n",
       "1  0bb2e73f4f6a46b8b48acf06d4d143a8  ref.http://www.arcgis.com  NaN  \n",
       "2  54d345e8e9434e6eb396cf2be7cec944           arcgisprodesktop  NaN  \n",
       "3  786ac2871e074b92ad7766e79ea5b341           arcgisprodesktop  NaN  \n",
       "4  a041288d963d4cb2b0db0f58a6618b2f  ref.http://www.arcgis.com  NaN  "
      ]
     },
     "execution_count": 7,
     "metadata": {},
     "output_type": "execute_result"
    }
   ],
   "source": [
    "df.head()"
   ]
  },
  {
   "cell_type": "markdown",
   "metadata": {
    "hidden": true
   },
   "source": [
    "### Portal Logs"
   ]
  },
  {
   "cell_type": "markdown",
   "metadata": {
    "hidden": true
   },
   "source": [
    "- A record of events that occurred\n",
    "- Used for monitoring and troubleshooting portal"
   ]
  },
  {
   "cell_type": "markdown",
   "metadata": {
    "hidden": true
   },
   "source": [
    "#### Examples of Logs Incidents:\n",
    "\n",
    "+ Installation and upgrade events, such as authorizing the software and creating the portal website\n",
    "+ Publishing of services and items, such as hosted services, web maps, and data items\n",
    "+ Content management events, such as sharing items, changing item ownership, and adding, updating, moving, and deleting items\n",
    "+ Security events, such as users logging in to the portal, creating, deleting, and disabling users, creating and changing user roles, updating HTTP and HTTPS settings, import and export of security certificates, and updating the portal's identity store\n",
    "+ Organization management events, such as adding and configuring groups, adding or removing users from a group, configuration of the gallery, basemaps, utility services, and federated servers, and configuring log settings and deleting logs\n",
    "+ General events, such as updating the portal's search index and restarting the portal"
   ]
  },
  {
   "cell_type": "code",
   "execution_count": 37,
   "metadata": {
    "hidden": true
   },
   "outputs": [
    {
     "data": {
      "text/plain": [
       "<Logs at https://pythonapi.playground.esri.com/portal/portaladmin/logs>"
      ]
     },
     "execution_count": 37,
     "metadata": {},
     "output_type": "execute_result"
    }
   ],
   "source": [
    "gis = GIS(verify_cert=False, profile=\"python_playground_admin\")\n",
    "logs = gis.admin.logs\n",
    "logs"
   ]
  },
  {
   "cell_type": "markdown",
   "metadata": {
    "hidden": true
   },
   "source": [
    "#### Log Settings"
   ]
  },
  {
   "cell_type": "markdown",
   "metadata": {
    "hidden": true
   },
   "source": [
    "- Modify, update basic storage and save setting"
   ]
  },
  {
   "cell_type": "code",
   "execution_count": 38,
   "metadata": {
    "hidden": true
   },
   "outputs": [
    {
     "data": {
      "text/plain": [
       "{'logDir': '/gisdata/arcgisportal/logs/',\n",
       " 'logLevel': 'WARNING',\n",
       " 'maxErrorReportsCount': 10,\n",
       " 'maxLogFileAge': 90,\n",
       " 'usageMeteringEnabled': False}"
      ]
     },
     "execution_count": 38,
     "metadata": {},
     "output_type": "execute_result"
    }
   ],
   "source": [
    "logs.settings"
   ]
  },
  {
   "cell_type": "markdown",
   "metadata": {
    "hidden": true
   },
   "source": [
    "#### Query Portal Logs"
   ]
  },
  {
   "cell_type": "code",
   "execution_count": 39,
   "metadata": {
    "hidden": true
   },
   "outputs": [],
   "source": [
    "import datetime\n",
    "import pandas as pd\n",
    "results = logs.query(start_time=datetime.datetime.now() - datetime.timedelta(days=10))"
   ]
  },
  {
   "cell_type": "code",
   "execution_count": 40,
   "metadata": {
    "hidden": true
   },
   "outputs": [
    {
     "data": {
      "text/plain": [
       "<matplotlib.axes._subplots.AxesSubplot at 0x227cabf2400>"
      ]
     },
     "execution_count": 40,
     "metadata": {},
     "output_type": "execute_result"
    },
    {
     "data": {
      "image/png": "[encoded data removed]",
      "text/plain": [
       "<Figure size 432x288 with 1 Axes>"
      ]
     },
     "metadata": {
      "needs_background": "light"
     },
     "output_type": "display_data"
    }
   ],
   "source": [
    "%matplotlib inline\n",
    "df = pd.DataFrame(results['logMessages'])\n",
    "df.type.value_counts().plot.bar()"
   ]
  },
  {
   "cell_type": "code",
   "execution_count": 41,
   "metadata": {
    "hidden": true
   },
   "outputs": [
    {
     "data": {
      "text/html": [
       "<div>\n",
       "<style scoped>\n",
       "    .dataframe tbody tr th:only-of-type {\n",
       "        vertical-align: middle;\n",
       "    }\n",
       "\n",
       "    .dataframe tbody tr th {\n",
       "        vertical-align: top;\n",
       "    }\n",
       "\n",
       "    .dataframe thead th {\n",
       "        text-align: right;\n",
       "    }\n",
       "</style>\n",
       "<table border=\"1\" class=\"dataframe\">\n",
       "  <thead>\n",
       "    <tr style=\"text-align: right;\">\n",
       "      <th></th>\n",
       "      <th>code</th>\n",
       "      <th>elapsed</th>\n",
       "      <th>machine</th>\n",
       "      <th>message</th>\n",
       "      <th>methodName</th>\n",
       "      <th>process</th>\n",
       "      <th>requestID</th>\n",
       "      <th>source</th>\n",
       "      <th>thread</th>\n",
       "      <th>time</th>\n",
       "      <th>type</th>\n",
       "      <th>user</th>\n",
       "    </tr>\n",
       "  </thead>\n",
       "  <tbody>\n",
       "    <tr>\n",
       "      <th>0</th>\n",
       "      <td>219999</td>\n",
       "      <td></td>\n",
       "      <td>172.31.29.237</td>\n",
       "      <td>Sign in error: Invalid username or password s...</td>\n",
       "      <td></td>\n",
       "      <td>19151</td>\n",
       "      <td></td>\n",
       "      <td>Sharing</td>\n",
       "      <td>1</td>\n",
       "      <td>1556406878697</td>\n",
       "      <td>WARNING</td>\n",
       "      <td></td>\n",
       "    </tr>\n",
       "    <tr>\n",
       "      <th>1</th>\n",
       "      <td>219999</td>\n",
       "      <td></td>\n",
       "      <td>172.31.29.237</td>\n",
       "      <td>Sign in error: Invalid username or password s...</td>\n",
       "      <td></td>\n",
       "      <td>19151</td>\n",
       "      <td></td>\n",
       "      <td>Sharing</td>\n",
       "      <td>1</td>\n",
       "      <td>1556332177611</td>\n",
       "      <td>WARNING</td>\n",
       "      <td></td>\n",
       "    </tr>\n",
       "    <tr>\n",
       "      <th>2</th>\n",
       "      <td>219999</td>\n",
       "      <td></td>\n",
       "      <td>172.31.29.237</td>\n",
       "      <td>Sign in error: Invalid username or password s...</td>\n",
       "      <td></td>\n",
       "      <td>19151</td>\n",
       "      <td></td>\n",
       "      <td>Sharing</td>\n",
       "      <td>1</td>\n",
       "      <td>1556331939395</td>\n",
       "      <td>WARNING</td>\n",
       "      <td></td>\n",
       "    </tr>\n",
       "    <tr>\n",
       "      <th>3</th>\n",
       "      <td>219999</td>\n",
       "      <td></td>\n",
       "      <td>172.31.29.237</td>\n",
       "      <td>Sign in error: Invalid username or password s...</td>\n",
       "      <td></td>\n",
       "      <td>19151</td>\n",
       "      <td></td>\n",
       "      <td>Sharing</td>\n",
       "      <td>1</td>\n",
       "      <td>1556331914372</td>\n",
       "      <td>WARNING</td>\n",
       "      <td></td>\n",
       "    </tr>\n",
       "    <tr>\n",
       "      <th>4</th>\n",
       "      <td>219999</td>\n",
       "      <td></td>\n",
       "      <td>172.31.29.237</td>\n",
       "      <td>Sign in error: Invalid username or password s...</td>\n",
       "      <td></td>\n",
       "      <td>19151</td>\n",
       "      <td></td>\n",
       "      <td>Sharing</td>\n",
       "      <td>1</td>\n",
       "      <td>1556320489228</td>\n",
       "      <td>WARNING</td>\n",
       "      <td></td>\n",
       "    </tr>\n",
       "  </tbody>\n",
       "</table>\n",
       "</div>"
      ],
      "text/plain": [
       "     code elapsed        machine  \\\n",
       "0  219999          172.31.29.237   \n",
       "1  219999          172.31.29.237   \n",
       "2  219999          172.31.29.237   \n",
       "3  219999          172.31.29.237   \n",
       "4  219999          172.31.29.237   \n",
       "\n",
       "                                             message methodName process  \\\n",
       "0   Sign in error: Invalid username or password s...              19151   \n",
       "1   Sign in error: Invalid username or password s...              19151   \n",
       "2   Sign in error: Invalid username or password s...              19151   \n",
       "3   Sign in error: Invalid username or password s...              19151   \n",
       "4   Sign in error: Invalid username or password s...              19151   \n",
       "\n",
       "  requestID   source thread           time     type user  \n",
       "0            Sharing      1  1556406878697  WARNING       \n",
       "1            Sharing      1  1556332177611  WARNING       \n",
       "2            Sharing      1  1556331939395  WARNING       \n",
       "3            Sharing      1  1556331914372  WARNING       \n",
       "4            Sharing      1  1556320489228  WARNING       "
      ]
     },
     "execution_count": 41,
     "metadata": {},
     "output_type": "execute_result"
    }
   ],
   "source": [
    "df.head()"
   ]
  },
  {
   "cell_type": "markdown",
   "metadata": {
    "hidden": true
   },
   "source": [
    "### Deep Dive into PortalAdmin API"
   ]
  },
  {
   "cell_type": "markdown",
   "metadata": {
    "hidden": true
   },
   "source": [
    "####  Inspecting the Portal's Machines\n",
    "\n",
    "- query the machines that power your portal\n",
    "\n"
   ]
  },
  {
   "cell_type": "code",
   "execution_count": 42,
   "metadata": {
    "hidden": true
   },
   "outputs": [
    {
     "data": {
      "text/plain": [
       "<Machines at https://pythonapi.playground.esri.com/portal/portaladmin/machines>"
      ]
     },
     "execution_count": 42,
     "metadata": {},
     "output_type": "execute_result"
    }
   ],
   "source": [
    "machines = gis.admin.machines\n",
    "machines"
   ]
  },
  {
   "cell_type": "code",
   "execution_count": 43,
   "metadata": {
    "hidden": true
   },
   "outputs": [
    {
     "data": {
      "text/plain": [
       "[<Machine at https://pythonapi.playground.esri.com/portal/portaladmin/machines>]"
      ]
     },
     "execution_count": 43,
     "metadata": {},
     "output_type": "execute_result"
    }
   ],
   "source": [
    "machines.list()"
   ]
  },
  {
   "cell_type": "markdown",
   "metadata": {
    "hidden": true
   },
   "source": [
    "**Check if Machine is Running**"
   ]
  },
  {
   "cell_type": "code",
   "execution_count": 44,
   "metadata": {
    "hidden": true
   },
   "outputs": [
    {
     "data": {
      "text/plain": [
       "True"
      ]
     },
     "execution_count": 44,
     "metadata": {},
     "output_type": "execute_result"
    }
   ],
   "source": [
    "machine = machines.list()[0]\n",
    "machine.status()"
   ]
  },
  {
   "cell_type": "markdown",
   "metadata": {
    "hidden": true
   },
   "source": [
    "#### System Directories\n",
    "\n",
    "- inspect the physical pathes where resources are stored"
   ]
  },
  {
   "cell_type": "code",
   "execution_count": 45,
   "metadata": {
    "hidden": true
   },
   "outputs": [
    {
     "data": {
      "text/plain": [
       "[<Directory at https://pythonapi.playground.esri.com/portal/portaladmin/system/directories/content>,\n",
       " <Directory at https://pythonapi.playground.esri.com/portal/portaladmin/system/directories/index>,\n",
       " <Directory at https://pythonapi.playground.esri.com/portal/portaladmin/system/directories/db>,\n",
       " <Directory at https://pythonapi.playground.esri.com/portal/portaladmin/system/directories/temp>]"
      ]
     },
     "execution_count": 45,
     "metadata": {},
     "output_type": "execute_result"
    }
   ],
   "source": [
    "directories = gis.admin.system.directories\n",
    "directories"
   ]
  },
  {
   "cell_type": "code",
   "execution_count": 46,
   "metadata": {
    "hidden": true
   },
   "outputs": [
    {
     "data": {
      "text/plain": [
       "{\n",
       "  \"name\": \"content\",\n",
       "  \"physicalPath\": \"{\\\"type\\\":\\\"fileStore\\\",\\\"provider\\\":\\\"FileSystem\\\",\\\"connectionString\\\":\\\"/gisdata/arcgisportal/content\\\"}\",\n",
       "  \"directoryType\": \"CONTENT\",\n",
       "  \"description\": \"The content directory.\"\n",
       "}"
      ]
     },
     "execution_count": 46,
     "metadata": {},
     "output_type": "execute_result"
    }
   ],
   "source": [
    "d = directories[0]\n",
    "d.properties"
   ]
  },
  {
   "cell_type": "markdown",
   "metadata": {
    "hidden": true
   },
   "source": [
    "#### The System "
   ]
  },
  {
   "cell_type": "code",
   "execution_count": 47,
   "metadata": {
    "hidden": true
   },
   "outputs": [
    {
     "data": {
      "text/plain": [
       "<System at https://pythonapi.playground.esri.com/portal/portaladmin/system>"
      ]
     },
     "execution_count": 47,
     "metadata": {},
     "output_type": "execute_result"
    }
   ],
   "source": [
    "system = gis.admin.system\n",
    "system"
   ]
  },
  {
   "cell_type": "code",
   "execution_count": 48,
   "metadata": {
    "hidden": true
   },
   "outputs": [
    {
     "data": {
      "text/plain": [
       "{'WebContextURL': 'https://pythonapi.playground.esri.com/portal',\n",
       " 'privatePortalURL': 'https://pythonapi.playground.esri.com/portal',\n",
       " 'disableSignup': True}"
      ]
     },
     "execution_count": 48,
     "metadata": {},
     "output_type": "execute_result"
    }
   ],
   "source": [
    "system.properties"
   ]
  },
  {
   "cell_type": "markdown",
   "metadata": {
    "hidden": true
   },
   "source": [
    "#### Re-indexing\n",
    "\n",
    "- Sometimes artifacts remain after deleting items\n",
    "- Forcing re-indexing can solved that problem"
   ]
  },
  {
   "cell_type": "code",
   "execution_count": 49,
   "metadata": {
    "hidden": true
   },
   "outputs": [
    {
     "data": {
      "text/plain": [
       "{'indexes': [{'name': 'users', 'databaseCount': 57, 'indexCount': 57},\n",
       "  {'name': 'groups', 'databaseCount': 452, 'indexCount': 452},\n",
       "  {'name': 'search', 'databaseCount': 16489, 'indexCount': 16489}],\n",
       " 'syncStatus': True}"
      ]
     },
     "execution_count": 49,
     "metadata": {},
     "output_type": "execute_result"
    }
   ],
   "source": [
    "system.index_status"
   ]
  },
  {
   "cell_type": "code",
   "execution_count": null,
   "metadata": {
    "hidden": true
   },
   "outputs": [],
   "source": [
    "system.reindex(mode=\"SEARCH_MODE\")"
   ]
  },
  {
   "cell_type": "code",
   "execution_count": null,
   "metadata": {
    "hidden": true
   },
   "outputs": [],
   "source": [
    "system.index_status"
   ]
  },
  {
   "cell_type": "markdown",
   "metadata": {},
   "source": [
    "## Managing ArcGIS Server"
   ]
  },
  {
   "cell_type": "markdown",
   "metadata": {},
   "source": [
    "### Managing Federated Servers"
   ]
  },
  {
   "cell_type": "markdown",
   "metadata": {},
   "source": [
    "- The `admin` property provides useful tools to manage ArcGIS Server instances"
   ]
  },
  {
   "cell_type": "code",
   "execution_count": 51,
   "metadata": {},
   "outputs": [
    {
     "data": {
      "text/plain": [
       "<ServerManager at https://gisinc.dev.geocloud.com/portal/portaladmin>"
      ]
     },
     "execution_count": 51,
     "metadata": {},
     "output_type": "execute_result"
    }
   ],
   "source": [
    "gis = GIS(verify_cert=False, profile=\"class_profile\")\n",
    "servers = gis.admin.servers\n",
    "servers"
   ]
  },
  {
   "cell_type": "markdown",
   "metadata": {},
   "source": [
    "#### Listing the Federated Servers\n"
   ]
  },
  {
   "cell_type": "code",
   "execution_count": 52,
   "metadata": {},
   "outputs": [
    {
     "data": {
      "text/plain": [
       "[<NotebookServer @ https://gisinc.dev.geocloud.com/dsx/admin>,\n",
       " <Server at https://gisinc.dev.geocloud.com/server/admin>]"
      ]
     },
     "execution_count": 52,
     "metadata": {},
     "output_type": "execute_result"
    }
   ],
   "source": [
    "s = servers.list()\n",
    "s"
   ]
  },
  {
   "cell_type": "markdown",
   "metadata": {},
   "source": [
    "#### Check if Servers are Working\n",
    "\n",
    "- validate ensures everything is federated and running correctly"
   ]
  },
  {
   "cell_type": "code",
   "execution_count": 53,
   "metadata": {},
   "outputs": [
    {
     "data": {
      "text/plain": [
       "True"
      ]
     },
     "execution_count": 53,
     "metadata": {},
     "output_type": "execute_result"
    }
   ],
   "source": [
    "servers.validate()"
   ]
  },
  {
   "cell_type": "markdown",
   "metadata": {},
   "source": [
    "### Connecting to a Server"
   ]
  },
  {
   "cell_type": "markdown",
   "metadata": {},
   "source": [
    "#### Accessing Single Server\n"
   ]
  },
  {
   "cell_type": "code",
   "execution_count": 56,
   "metadata": {},
   "outputs": [
    {
     "data": {
      "text/plain": [
       "<Server at https://gisinc.dev.geocloud.com/server/admin>"
      ]
     },
     "execution_count": 56,
     "metadata": {},
     "output_type": "execute_result"
    }
   ],
   "source": [
    "server = s[1]\n",
    "server"
   ]
  },
  {
   "cell_type": "code",
   "execution_count": 57,
   "metadata": {},
   "outputs": [
    {
     "data": {
      "text/plain": [
       "{\n",
       "  \"isServerLicensed\": \"true\",\n",
       "  \"resources\": [\n",
       "    \"machines\",\n",
       "    \"clusters\",\n",
       "    \"system\",\n",
       "    \"services\",\n",
       "    \"security\",\n",
       "    \"data\",\n",
       "    \"uploads\",\n",
       "    \"logs\",\n",
       "    \"mode\",\n",
       "    \"usagereports\",\n",
       "    \"webhooks\"\n",
       "  ],\n",
       "  \"currentVersion\": 10.7,\n",
       "  \"fullVersion\": \"10.7.0\",\n",
       "  \"acceptLanguage\": null\n",
       "}"
      ]
     },
     "execution_count": 57,
     "metadata": {},
     "output_type": "execute_result"
    }
   ],
   "source": [
    "server.properties"
   ]
  },
  {
   "cell_type": "markdown",
   "metadata": {},
   "source": [
    "#### Accessing Server Logs\n",
    "\n",
    "- Like the portal Logs, server provide a host of information"
   ]
  },
  {
   "cell_type": "code",
   "execution_count": 58,
   "metadata": {},
   "outputs": [
    {
     "data": {
      "text/plain": [
       "<LogManager at https://gisinc.dev.geocloud.com/server/admin/logs>"
      ]
     },
     "execution_count": 58,
     "metadata": {},
     "output_type": "execute_result"
    }
   ],
   "source": [
    "logs = server.logs\n",
    "logs"
   ]
  },
  {
   "cell_type": "code",
   "execution_count": 59,
   "metadata": {},
   "outputs": [
    {
     "data": {
      "text/plain": [
       "{'logDir': '/data/arcgis/server/usr/logs/',\n",
       " 'logLevel': 'WARNING',\n",
       " 'maxErrorReportsCount': 10,\n",
       " 'maxLogFileAge': 90,\n",
       " 'usageMeteringEnabled': False,\n",
       " 'statisticsConfig': {'enabled': True,\n",
       "  'samplingInterval': 30,\n",
       "  'maxHistory': 0,\n",
       "  'statisticsDir': '/data/arcgis/server/usr/arcgisserver/directories/arcgissystem'}}"
      ]
     },
     "execution_count": 59,
     "metadata": {},
     "output_type": "execute_result"
    }
   ],
   "source": [
    "logs.settings"
   ]
  },
  {
   "cell_type": "markdown",
   "metadata": {},
   "source": [
    "**Demo: Querying Logs**"
   ]
  },
  {
   "cell_type": "code",
   "execution_count": 60,
   "metadata": {},
   "outputs": [
    {
     "data": {
      "text/plain": [
       "[]"
      ]
     },
     "execution_count": 60,
     "metadata": {},
     "output_type": "execute_result"
    }
   ],
   "source": [
    "msgs = logs.query(\n",
    "    start_time=datetime.datetime.now() - datetime.timedelta(days=10))['logMessages']\n",
    "msgs"
   ]
  },
  {
   "cell_type": "code",
   "execution_count": 61,
   "metadata": {},
   "outputs": [
    {
     "data": {
      "text/plain": [
       "<ServiceManager at https://gisinc.dev.geocloud.com/server/admin/services>"
      ]
     },
     "execution_count": 61,
     "metadata": {},
     "output_type": "execute_result"
    }
   ],
   "source": [
    "server.services"
   ]
  },
  {
   "cell_type": "code",
   "execution_count": 62,
   "metadata": {},
   "outputs": [
    {
     "data": {
      "text/plain": [
       "{\n",
       "  \"isServerLicensed\": \"true\",\n",
       "  \"resources\": [\n",
       "    \"machines\",\n",
       "    \"clusters\",\n",
       "    \"system\",\n",
       "    \"services\",\n",
       "    \"security\",\n",
       "    \"data\",\n",
       "    \"uploads\",\n",
       "    \"logs\",\n",
       "    \"mode\",\n",
       "    \"usagereports\",\n",
       "    \"webhooks\"\n",
       "  ],\n",
       "  \"currentVersion\": 10.7,\n",
       "  \"fullVersion\": \"10.7.0\",\n",
       "  \"acceptLanguage\": null\n",
       "}"
      ]
     },
     "execution_count": 62,
     "metadata": {},
     "output_type": "execute_result"
    }
   ],
   "source": [
    "server.properties"
   ]
  },
  {
   "cell_type": "markdown",
   "metadata": {},
   "source": [
    "### Managing service folders"
   ]
  },
  {
   "cell_type": "markdown",
   "metadata": {},
   "source": [
    "**Creating a Folder** \n",
    "\n",
    "- use `create_folder`"
   ]
  },
  {
   "cell_type": "code",
   "execution_count": 63,
   "metadata": {},
   "outputs": [
    {
     "data": {
      "text/plain": [
       "True"
      ]
     },
     "execution_count": 63,
     "metadata": {},
     "output_type": "execute_result"
    }
   ],
   "source": [
    "server.services.create_folder(\"crime_analysis\")"
   ]
  },
  {
   "cell_type": "markdown",
   "metadata": {},
   "source": [
    "**Delete a Folder** \n",
    "\n",
    "- use `delete_folder`"
   ]
  },
  {
   "cell_type": "code",
   "execution_count": 64,
   "metadata": {},
   "outputs": [
    {
     "data": {
      "text/plain": [
       "True"
      ]
     },
     "execution_count": 64,
     "metadata": {},
     "output_type": "execute_result"
    }
   ],
   "source": [
    "server.services.delete_folder('crime_analysis')"
   ]
  },
  {
   "cell_type": "markdown",
   "metadata": {},
   "source": [
    "### Managing Services"
   ]
  },
  {
   "cell_type": "markdown",
   "metadata": {},
   "source": [
    "- Access service management from `services` property\n",
    "- Provides the ability start,stop, delete, and modify services"
   ]
  },
  {
   "cell_type": "code",
   "execution_count": 65,
   "metadata": {},
   "outputs": [
    {
     "data": {
      "text/plain": [
       "<ServiceManager at https://gisinc.dev.geocloud.com/server/admin/services>"
      ]
     },
     "execution_count": 65,
     "metadata": {},
     "output_type": "execute_result"
    }
   ],
   "source": [
    "services = server.services\n",
    "services"
   ]
  },
  {
   "cell_type": "markdown",
   "metadata": {},
   "source": [
    "#### Checking if Service Exists"
   ]
  },
  {
   "cell_type": "markdown",
   "metadata": {},
   "source": [
    "To check if a service exists on your server, call the `exists` method and specify the folder name, service name and type. You can also use this method to verify if a folder exists on the server."
   ]
  },
  {
   "cell_type": "code",
   "execution_count": 66,
   "metadata": {},
   "outputs": [
    {
     "data": {
      "text/plain": [
       "False"
      ]
     },
     "execution_count": 66,
     "metadata": {},
     "output_type": "execute_result"
    }
   ],
   "source": [
    "services.exists(folder_name='Hosted', name='Ports', service_type='FeatureServer')"
   ]
  },
  {
   "cell_type": "markdown",
   "metadata": {},
   "source": [
    "#### Demo: Listing all Services"
   ]
  },
  {
   "cell_type": "code",
   "execution_count": 67,
   "metadata": {},
   "outputs": [
    {
     "name": "stdout",
     "output_type": "stream",
     "text": [
      "<Service at https://gisinc.dev.geocloud.com/server/admin/services/Hosted/CHL_Boundaries_2016.FeatureServer>\n",
      "<Service at https://gisinc.dev.geocloud.com/server/admin/services/Hosted/CHN_Boundaries_2016.FeatureServer>\n",
      "<Service at https://gisinc.dev.geocloud.com/server/admin/services/Hosted/CHN_Boundaries_2016_9bf2856a8f104c51b140a239376e6d78.FeatureServer>\n",
      "<Service at https://gisinc.dev.geocloud.com/server/admin/services/Hosted/CHN_Boundaries_2018.FeatureServer>\n",
      "<Service at https://gisinc.dev.geocloud.com/server/admin/services/Hosted/CIV_Boundaries_2015.FeatureServer>\n",
      "<Service at https://gisinc.dev.geocloud.com/server/admin/services/Hosted/CZE_Boundaries_2015.FeatureServer>\n",
      "<Service at https://gisinc.dev.geocloud.com/server/admin/services/Hosted/DOM_Boundaries_2016.FeatureServer>\n",
      "<Service at https://gisinc.dev.geocloud.com/server/admin/services/Hosted/DZA_Boundaries_2016.FeatureServer>\n",
      "<Service at https://gisinc.dev.geocloud.com/server/admin/services/Hosted/ECU_Boundaries.FeatureServer>\n",
      "<Service at https://gisinc.dev.geocloud.com/server/admin/services/Hosted/ECU_Boundaries_0e964a9690ad4c1c97b1d153cf6a3a3a.FeatureServer>\n",
      "<Service at https://gisinc.dev.geocloud.com/server/admin/services/Hosted/Europe_NUTS0_analysis_trim.FeatureServer>\n",
      "<Service at https://gisinc.dev.geocloud.com/server/admin/services/Hosted/Europe_NUTS1_analysis_trim.FeatureServer>\n",
      "<Service at https://gisinc.dev.geocloud.com/server/admin/services/Hosted/Europe_NUTS2_analysis_trim.FeatureServer>\n",
      "<Service at https://gisinc.dev.geocloud.com/server/admin/services/Hosted/Europe_NUTS3_analysis_trim.FeatureServer>\n",
      "<Service at https://gisinc.dev.geocloud.com/server/admin/services/Hosted/Europe_NUTS_0_Demographics.FeatureServer>\n",
      "<Service at https://gisinc.dev.geocloud.com/server/admin/services/Hosted/Europe_NUTS_1_Demographics.FeatureServer>\n",
      "<Service at https://gisinc.dev.geocloud.com/server/admin/services/Hosted/Europe_NUTS_2_Demographics.FeatureServer>\n",
      "<Service at https://gisinc.dev.geocloud.com/server/admin/services/Hosted/Europe_NUTS_3_Demographics.FeatureServer>\n",
      "<Service at https://gisinc.dev.geocloud.com/server/admin/services/Hosted/IND_Boundaries.FeatureServer>\n",
      "<Service at https://gisinc.dev.geocloud.com/server/admin/services/Hosted/IND_Boundaries_2016.FeatureServer>\n",
      "<Service at https://gisinc.dev.geocloud.com/server/admin/services/Hosted/ITA_Boundaries_2015.FeatureServer>\n",
      "<Service at https://gisinc.dev.geocloud.com/server/admin/services/Hosted/MYS_Boundaries.FeatureServer>\n",
      "<Service at https://gisinc.dev.geocloud.com/server/admin/services/Hosted/MYS_Boundaries_2018.FeatureServer>\n",
      "<Service at https://gisinc.dev.geocloud.com/server/admin/services/Hosted/NIC_Boundaries_2014.FeatureServer>\n",
      "<Service at https://gisinc.dev.geocloud.com/server/admin/services/Hosted/OMN_Boundaries.FeatureServer>\n",
      "<Service at https://gisinc.dev.geocloud.com/server/admin/services/Hosted/PER_Boundaries.FeatureServer>\n",
      "<Service at https://gisinc.dev.geocloud.com/server/admin/services/Hosted/PER_Boundaries_2016.FeatureServer>\n",
      "<Service at https://gisinc.dev.geocloud.com/server/admin/services/Hosted/PER_Boundaries_2016_b1d755391b6f48129a92f2831c553beb.FeatureServer>\n",
      "<Service at https://gisinc.dev.geocloud.com/server/admin/services/Hosted/PRI_Boundaries_2016.FeatureServer>\n",
      "<Service at https://gisinc.dev.geocloud.com/server/admin/services/Hosted/USA_Airports_by_scale.FeatureServer>\n",
      "<Service at https://gisinc.dev.geocloud.com/server/admin/services/Hosted/USA_Block_Groups.FeatureServer>\n",
      "<Service at https://gisinc.dev.geocloud.com/server/admin/services/Hosted/USA_Boundaries_2017.FeatureServer>\n",
      "<Service at https://gisinc.dev.geocloud.com/server/admin/services/Hosted/USA_Congressional_Districts_analysis.FeatureServer>\n",
      "<Service at https://gisinc.dev.geocloud.com/server/admin/services/Hosted/USA_Counties.FeatureServer>\n",
      "<Service at https://gisinc.dev.geocloud.com/server/admin/services/Hosted/USA_Counties_Generalized.FeatureServer>\n",
      "<Service at https://gisinc.dev.geocloud.com/server/admin/services/Hosted/USA_Major_Cities.FeatureServer>\n",
      "<Service at https://gisinc.dev.geocloud.com/server/admin/services/Hosted/USA_Parks.FeatureServer>\n",
      "<Service at https://gisinc.dev.geocloud.com/server/admin/services/Hosted/USA_Railroads_1.FeatureServer>\n",
      "<Service at https://gisinc.dev.geocloud.com/server/admin/services/Hosted/USA_States_Generalized.FeatureServer>\n",
      "<Service at https://gisinc.dev.geocloud.com/server/admin/services/Hosted/USA_Telephone_Area_Codes.FeatureServer>\n",
      "<Service at https://gisinc.dev.geocloud.com/server/admin/services/Hosted/USA_Tracts.FeatureServer>\n",
      "<Service at https://gisinc.dev.geocloud.com/server/admin/services/Hosted/USA_ZIP_Codes.FeatureServer>\n",
      "<Service at https://gisinc.dev.geocloud.com/server/admin/services/Hosted/USA_ZIP_Codes_2014.FeatureServer>\n",
      "<Service at https://gisinc.dev.geocloud.com/server/admin/services/Hosted/USA_ZIP_Codes_2015.FeatureServer>\n",
      "<Service at https://gisinc.dev.geocloud.com/server/admin/services/Hosted/USA_ZIP_Codes_2016.FeatureServer>\n",
      "<Service at https://gisinc.dev.geocloud.com/server/admin/services/Hosted/World__Countries_Generalized_analysis_trim.FeatureServer>\n",
      "<Service at https://gisinc.dev.geocloud.com/server/admin/services/Hosted/World_Cities.FeatureServer>\n",
      "<Service at https://gisinc.dev.geocloud.com/server/admin/services/Hosted/World_Continents.FeatureServer>\n",
      "<Service at https://gisinc.dev.geocloud.com/server/admin/services/Hosted/World_Countries__Generalized_.FeatureServer>\n",
      "<Service at https://gisinc.dev.geocloud.com/server/admin/services/Hosted/World_Countries_analysis_trim.FeatureServer>\n",
      "<Service at https://gisinc.dev.geocloud.com/server/admin/services/Hosted/World_Time_Zones.FeatureServer>\n",
      "<Service at https://gisinc.dev.geocloud.com/server/admin/services/Hosted/World_Urban_Areas.FeatureServer>\n",
      "<Service at https://gisinc.dev.geocloud.com/server/admin/services/System/CachingControllers.GPServer>\n",
      "<Service at https://gisinc.dev.geocloud.com/server/admin/services/System/CachingTools.GPServer>\n",
      "<Service at https://gisinc.dev.geocloud.com/server/admin/services/System/CachingToolsEx.GPServer>\n",
      "<Service at https://gisinc.dev.geocloud.com/server/admin/services/System/DistributedWorker.GPServer>\n",
      "<Service at https://gisinc.dev.geocloud.com/server/admin/services/System/DynamicMappingHost.MapServer>\n",
      "<Service at https://gisinc.dev.geocloud.com/server/admin/services/System/GeoAnalyticsManagement.GPServer>\n",
      "<Service at https://gisinc.dev.geocloud.com/server/admin/services/System/GeoAnalyticsTools.GPServer>\n",
      "<Service at https://gisinc.dev.geocloud.com/server/admin/services/System/LocationReferencingSystemTools.GPServer>\n",
      "<Service at https://gisinc.dev.geocloud.com/server/admin/services/System/OrthomappingTools.GPServer>\n",
      "<Service at https://gisinc.dev.geocloud.com/server/admin/services/System/PublishingTools.GPServer>\n",
      "<Service at https://gisinc.dev.geocloud.com/server/admin/services/System/PublishingToolsEx.GPServer>\n",
      "<Service at https://gisinc.dev.geocloud.com/server/admin/services/System/RasterAnalysisTools.GPServer>\n",
      "<Service at https://gisinc.dev.geocloud.com/server/admin/services/System/RasterProcessing.ImageServer>\n",
      "<Service at https://gisinc.dev.geocloud.com/server/admin/services/System/RasterProcessingGPU.ImageServer>\n",
      "<Service at https://gisinc.dev.geocloud.com/server/admin/services/System/RasterRendering.ImageServer>\n",
      "<Service at https://gisinc.dev.geocloud.com/server/admin/services/System/ReportingTools.GPServer>\n",
      "<Service at https://gisinc.dev.geocloud.com/server/admin/services/System/SceneCachingControllers.GPServer>\n",
      "<Service at https://gisinc.dev.geocloud.com/server/admin/services/System/SceneCachingTools.GPServer>\n",
      "<Service at https://gisinc.dev.geocloud.com/server/admin/services/System/SpatialAnalysisTools.GPServer>\n",
      "<Service at https://gisinc.dev.geocloud.com/server/admin/services/System/SyncTools.GPServer>\n",
      "<Service at https://gisinc.dev.geocloud.com/server/admin/services/System/SyncToolsEx.GPServer>\n",
      "<Service at https://gisinc.dev.geocloud.com/server/admin/services/System/UtilityNetworkTools.GPServer>\n",
      "<Service at https://gisinc.dev.geocloud.com/server/admin/services/System/ValidationTools.GPServer>\n",
      "<Service at https://gisinc.dev.geocloud.com/server/admin/services/Utilities/GeocodingTools.GPServer>\n"
     ]
    },
    {
     "name": "stdout",
     "output_type": "stream",
     "text": [
      "<Service at https://gisinc.dev.geocloud.com/server/admin/services/Utilities/Geometry.GeometryServer>\n",
      "<Service at https://gisinc.dev.geocloud.com/server/admin/services/Utilities/OfflinePackaging.GPServer>\n",
      "<Service at https://gisinc.dev.geocloud.com/server/admin/services/Utilities/PrintingTools.GPServer>\n",
      "<Service at https://gisinc.dev.geocloud.com/server/admin/services/Utilities/RasterUtilities.GPServer>\n",
      "<Service at https://gisinc.dev.geocloud.com/server/admin/services/SampleWorldCities.MapServer>\n"
     ]
    }
   ],
   "source": [
    "for folder in services.folders:\n",
    "    for s in services.list(folder):\n",
    "        print(s)"
   ]
  },
  {
   "cell_type": "markdown",
   "metadata": {},
   "source": [
    "#### Control a Service's State"
   ]
  },
  {
   "cell_type": "markdown",
   "metadata": {},
   "source": [
    "- `start`, `stop` and `restart` services"
   ]
  },
  {
   "cell_type": "code",
   "execution_count": 68,
   "metadata": {},
   "outputs": [
    {
     "data": {
      "text/plain": [
       "<Service at https://gisinc.dev.geocloud.com/server/admin/services/SampleWorldCities.MapServer>"
      ]
     },
     "execution_count": 68,
     "metadata": {},
     "output_type": "execute_result"
    }
   ],
   "source": [
    "for service in services.list():\n",
    "    if service.properties.serviceName == 'SampleWorldCities':\n",
    "        break\n",
    "service"
   ]
  },
  {
   "cell_type": "markdown",
   "metadata": {},
   "source": [
    "**Check the Service Status**\n",
    "\n",
    "- Shows if the services is running or not"
   ]
  },
  {
   "cell_type": "code",
   "execution_count": 69,
   "metadata": {},
   "outputs": [
    {
     "data": {
      "text/plain": [
       "{'configuredState': 'STARTED', 'realTimeState': 'STARTED'}"
      ]
     },
     "execution_count": 69,
     "metadata": {},
     "output_type": "execute_result"
    }
   ],
   "source": [
    "service.status"
   ]
  },
  {
   "cell_type": "code",
   "execution_count": 70,
   "metadata": {},
   "outputs": [
    {
     "data": {
      "text/plain": [
       "True"
      ]
     },
     "execution_count": 70,
     "metadata": {},
     "output_type": "execute_result"
    }
   ],
   "source": [
    "service.stop()"
   ]
  },
  {
   "cell_type": "code",
   "execution_count": 71,
   "metadata": {},
   "outputs": [
    {
     "data": {
      "text/plain": [
       "{'configuredState': 'STOPPED', 'realTimeState': 'STOPPED'}"
      ]
     },
     "execution_count": 71,
     "metadata": {},
     "output_type": "execute_result"
    }
   ],
   "source": [
    "service.status"
   ]
  },
  {
   "cell_type": "code",
   "execution_count": 72,
   "metadata": {},
   "outputs": [
    {
     "data": {
      "text/plain": [
       "True"
      ]
     },
     "execution_count": 72,
     "metadata": {},
     "output_type": "execute_result"
    }
   ],
   "source": [
    "service.start()"
   ]
  },
  {
   "cell_type": "code",
   "execution_count": 73,
   "metadata": {},
   "outputs": [
    {
     "data": {
      "text/plain": [
       "{'configuredState': 'STARTED', 'realTimeState': 'STARTED'}"
      ]
     },
     "execution_count": 73,
     "metadata": {},
     "output_type": "execute_result"
    }
   ],
   "source": [
    "service.status"
   ]
  },
  {
   "cell_type": "markdown",
   "metadata": {},
   "source": [
    "### Modifying a Service"
   ]
  },
  {
   "cell_type": "markdown",
   "metadata": {},
   "source": [
    "- modify extensions, pooling, etc..."
   ]
  },
  {
   "cell_type": "code",
   "execution_count": 74,
   "metadata": {},
   "outputs": [
    {
     "data": {
      "text/plain": [
       "<Service at https://gisinc.dev.geocloud.com/server/admin/services/SampleWorldCities.MapServer>"
      ]
     },
     "execution_count": 74,
     "metadata": {},
     "output_type": "execute_result"
    }
   ],
   "source": [
    "for service in services.list():\n",
    "    if service.properties.serviceName == 'SampleWorldCities':\n",
    "        break\n",
    "service"
   ]
  },
  {
   "cell_type": "code",
   "execution_count": 75,
   "metadata": {},
   "outputs": [
    {
     "data": {
      "text/plain": [
       "[('WMSServer', True), ('KmlServer', True), ('FeatureServer', False)]"
      ]
     },
     "execution_count": 75,
     "metadata": {},
     "output_type": "execute_result"
    }
   ],
   "source": [
    "for ext in service.extensions:\n",
    "    if ext.typeName == \"KmlServer\":\n",
    "        ext.enabled = True\n",
    "[(ext.typeName, ext.enabled) for ext in service.extensions]"
   ]
  },
  {
   "cell_type": "markdown",
   "metadata": {},
   "source": [
    "### Publishing an SD File"
   ]
  },
  {
   "cell_type": "markdown",
   "metadata": {},
   "source": [
    "- directly publish SD file to server\n"
   ]
  },
  {
   "cell_type": "code",
   "execution_count": null,
   "metadata": {},
   "outputs": [],
   "source": [
    "fp = r\"./data/dino_AttachmentManager_basic.sd\"\n",
    "services.publish_sd(sd_file=fp)"
   ]
  },
  {
   "cell_type": "code",
   "execution_count": null,
   "metadata": {},
   "outputs": [],
   "source": [
    "s = services.list()[0]\n",
    "s.properties"
   ]
  },
  {
   "cell_type": "code",
   "execution_count": null,
   "metadata": {},
   "outputs": [],
   "source": [
    "s.delete()"
   ]
  },
  {
   "cell_type": "markdown",
   "metadata": {},
   "source": [
    "### Server Logs"
   ]
  },
  {
   "cell_type": "markdown",
   "metadata": {},
   "source": [
    "ArcGIS Server records events that occur, and any errors associated with those events, to logs. Logs are an important tool for monitoring and troubleshooting problems with your site. Information in the logs will help you identify errors and provide context on how to address problems"
   ]
  },
  {
   "cell_type": "code",
   "execution_count": 76,
   "metadata": {},
   "outputs": [
    {
     "data": {
      "text/plain": [
       "<LogManager at https://gisinc.dev.geocloud.com/server/admin/logs>"
      ]
     },
     "execution_count": 76,
     "metadata": {},
     "output_type": "execute_result"
    }
   ],
   "source": [
    "logs = server.logs\n",
    "logs"
   ]
  },
  {
   "cell_type": "code",
   "execution_count": 77,
   "metadata": {},
   "outputs": [
    {
     "data": {
      "text/plain": [
       "{'logDir': '/data/arcgis/server/usr/logs/',\n",
       " 'logLevel': 'WARNING',\n",
       " 'maxErrorReportsCount': 10,\n",
       " 'maxLogFileAge': 90,\n",
       " 'usageMeteringEnabled': False,\n",
       " 'statisticsConfig': {'enabled': True,\n",
       "  'samplingInterval': 30,\n",
       "  'maxHistory': 0,\n",
       "  'statisticsDir': '/data/arcgis/server/usr/arcgisserver/directories/arcgissystem'}}"
      ]
     },
     "execution_count": 77,
     "metadata": {},
     "output_type": "execute_result"
    }
   ],
   "source": [
    "logs.settings"
   ]
  },
  {
   "cell_type": "markdown",
   "metadata": {},
   "source": [
    "#### Filtering and querying server logs"
   ]
  },
  {
   "cell_type": "code",
   "execution_count": 78,
   "metadata": {},
   "outputs": [
    {
     "data": {
      "text/plain": [
       "datetime.datetime(2019, 4, 18, 14, 56, 45, 152181)"
      ]
     },
     "execution_count": 78,
     "metadata": {},
     "output_type": "execute_result"
    }
   ],
   "source": [
    "import datetime\n",
    "import pandas as pd\n",
    "now = datetime.datetime.now()\n",
    "start_time = now - datetime.timedelta(days=10)\n",
    "start_time"
   ]
  },
  {
   "cell_type": "code",
   "execution_count": 79,
   "metadata": {},
   "outputs": [
    {
     "data": {
      "text/plain": [
       "[]"
      ]
     },
     "execution_count": 79,
     "metadata": {},
     "output_type": "execute_result"
    }
   ],
   "source": [
    "recent_logs = logs.query(start_time = start_time)\n",
    "\n",
    "#print a message as a sample\n",
    "recent_logs['logMessages']"
   ]
  },
  {
   "cell_type": "markdown",
   "metadata": {},
   "source": [
    "### Monitoring Server Usage"
   ]
  },
  {
   "cell_type": "markdown",
   "metadata": {},
   "source": [
    "ArcGIS Server records various service statistics, such as total requests, average response time and timeouts. Administrators and publishers can use this information to monitor service activity to better understand how clients are using services. For example, monitoring server statistics help you answer questions such as:\n",
    "\n",
    "- What is the total number of requests that my ArcGIS Server site handled during the past week?\n",
    "- How was the service request load distributed during the past month?\n",
    "- How are my services performing on an hourly basis?\n",
    "- What was the maximum number of service instances used at any given time for a particular service?"
   ]
  },
  {
   "cell_type": "code",
   "execution_count": 80,
   "metadata": {},
   "outputs": [
    {
     "data": {
      "text/plain": [
       "<ReportManager at https://gisinc.dev.geocloud.com/server/admin/usagereports>"
      ]
     },
     "execution_count": 80,
     "metadata": {},
     "output_type": "execute_result"
    }
   ],
   "source": [
    "usage = server.usage\n",
    "usage"
   ]
  },
  {
   "cell_type": "markdown",
   "metadata": {},
   "source": [
    "#### Using built-in report"
   ]
  },
  {
   "cell_type": "code",
   "execution_count": 81,
   "metadata": {},
   "outputs": [
    {
     "data": {
      "text/plain": [
       "[<Report at https://gisinc.dev.geocloud.com/server/admin/usagereports/Max%20response%20times%20for%20the%20last%207%20days>,\n",
       " <Report at https://gisinc.dev.geocloud.com/server/admin/usagereports/Total%20requests%20for%20the%20last%207%20days>,\n",
       " <Report at https://gisinc.dev.geocloud.com/server/admin/usagereports/Timed-out%20requests%20for%20the%20last%207%20days>]"
      ]
     },
     "execution_count": 81,
     "metadata": {},
     "output_type": "execute_result"
    }
   ],
   "source": [
    "reports = usage.list()\n",
    "reports"
   ]
  },
  {
   "cell_type": "code",
   "execution_count": 82,
   "metadata": {},
   "outputs": [
    {
     "name": "stdout",
     "output_type": "stream",
     "text": [
      "Max response times for the last 7 days\n",
      "Total requests for the last 7 days\n",
      "Timed-out requests for the last 7 days\n"
     ]
    }
   ],
   "source": [
    "for r in reports:\n",
    "    print(r.properties['reportname'])"
   ]
  },
  {
   "cell_type": "markdown",
   "metadata": {},
   "source": [
    "#### Querying maximum response times for the last 7 days"
   ]
  },
  {
   "cell_type": "code",
   "execution_count": 83,
   "metadata": {},
   "outputs": [],
   "source": [
    "data = reports[0].query()"
   ]
  },
  {
   "cell_type": "code",
   "execution_count": 84,
   "metadata": {},
   "outputs": [],
   "source": [
    "from datetime import datetime\n",
    "import numpy as np\n",
    "import matplotlib.pyplot as plt\n",
    "import matplotlib.ticker as ticker\n",
    "%matplotlib inline"
   ]
  },
  {
   "cell_type": "code",
   "execution_count": 85,
   "metadata": {},
   "outputs": [
    {
     "data": {
      "image/png": "[encoded data removed]",
      "text/plain": [
       "<Figure size 432x288 with 1 Axes>"
      ]
     },
     "metadata": {
      "needs_background": "light"
     },
     "output_type": "display_data"
    }
   ],
   "source": [
    "#store reponse times in Y axis\n",
    "data_y = data['report']['report-data'][0][0]['data']\n",
    "\n",
    "#convert dates to readable dates and store in X axis\n",
    "data_x = [pd.to_datetime(datetime.fromtimestamp(d//1000)) \\\n",
    "          for d in data['report']['time-slices']]\n",
    "\n",
    "df = pd.DataFrame(list(zip(data_x, data_y)), columns=[\"date\", \"count\"])\n",
    "q = df['count'].isnull() # change NaN values to 0\n",
    "df.loc[q, 'count'] = 0\n",
    "df.index = df['date']\n",
    "df['count'] = df['count'] \n",
    "\n",
    "ax = df['count'].plot(kind='bar', x=df['date'])\n",
    "ticklabels = ['']*len(df.index)\n",
    "ticklabels[::4] = [item.strftime('%b %d') for item in df.index[::4]]\n",
    "ax.xaxis.set_major_formatter(ticker.FixedFormatter(ticklabels))\n",
    "ax.set_title('Maximum reponse time in the last 7 days')\n",
    "ax.set_ylabel('Time in seconds')\n",
    "plt.gcf().autofmt_xdate()\n",
    "plt.show()"
   ]
  },
  {
   "cell_type": "markdown",
   "metadata": {},
   "source": [
    "#### Creating Quick Reports\n",
    "\n",
    "- On the fly reporting\n",
    "- Data is not saved\n",
    "\n",
    "**Metrics Available**\n",
    "\n",
    "- RequestCount - the number of requests received\n",
    "- RequestsFailed - the number of requests that failed\n",
    "- RequestsTimedOut - the number of requests that timed out\n",
    "- RequestMaxResponseTime - the maximum response time\n",
    "- RequestAvgResponseTime - the average response time\n",
    "- ServiceActiveInstances - the maximum number of active (running) service instances sampled at 1 minute intervals, for a specified service\n"
   ]
  },
  {
   "cell_type": "code",
   "execution_count": null,
   "metadata": {},
   "outputs": [],
   "source": [
    "data = usage.quick_report(since=\"LAST_MONTH\", metrics=\"RequestCount\")\n",
    "data.keys()"
   ]
  },
  {
   "cell_type": "code",
   "execution_count": null,
   "metadata": {},
   "outputs": [],
   "source": [
    "type(data['report']['report-data']), len(data['report']['time-slices'])"
   ]
  },
  {
   "cell_type": "code",
   "execution_count": null,
   "metadata": {},
   "outputs": [],
   "source": [
    "import pandas as pd\n",
    "data_flat = {\n",
    "    #'report_data' : data['report']['report-data'],\n",
    "    'time_slices' : data['report']['time-slices']\n",
    "}\n",
    "for d in data['report']['report-data'][0]:\n",
    "    data_flat[d['metric-type']] = d['data']"
   ]
  },
  {
   "cell_type": "code",
   "execution_count": null,
   "metadata": {},
   "outputs": [],
   "source": [
    "pd.DataFrame(data_flat).tail()"
   ]
  },
  {
   "cell_type": "markdown",
   "metadata": {},
   "source": [
    "## Managing Notebook Servers\n",
    "\n"
   ]
  },
  {
   "cell_type": "markdown",
   "metadata": {},
   "source": [
    "### Accessing the Hosted Notebook Servers"
   ]
  },
  {
   "cell_type": "markdown",
   "metadata": {},
   "source": [
    "- Notebook servers are a **NEW** type of managed server at `10.7`\n",
    "- The notebook administration REST API has been wrapped for ease of managing the site."
   ]
  },
  {
   "cell_type": "code",
   "execution_count": 89,
   "metadata": {},
   "outputs": [
    {
     "data": {
      "text/plain": [
       "<NotebookServer @ https://gisinc.dev.geocloud.com/dsx/admin>"
      ]
     },
     "execution_count": 89,
     "metadata": {},
     "output_type": "execute_result"
    }
   ],
   "source": [
    "gis = GIS(profile='class_profile')\n",
    "nbs = gis.admin.servers.list()[0]\n",
    "nbs"
   ]
  },
  {
   "cell_type": "markdown",
   "metadata": {},
   "source": [
    "### Notebook Server Info"
   ]
  },
  {
   "cell_type": "markdown",
   "metadata": {},
   "source": [
    "- Provides a snap shot of the version and logged in user"
   ]
  },
  {
   "cell_type": "code",
   "execution_count": 90,
   "metadata": {},
   "outputs": [
    {
     "data": {
      "text/plain": [
       "{\n",
       "  \"fullVersion\": \"10.7.0\",\n",
       "  \"loggedInUserPrivilege\": \"ADMINISTER\",\n",
       "  \"currentversion\": \"10.7.0\",\n",
       "  \"supportedFonts\": [\n",
       "    \"DejaVu Math TeX Gyre\",\n",
       "    \"DejaVu Sans\",\n",
       "    \"DejaVu Sans Condensed\",\n",
       "    \"DejaVu Sans Light\",\n",
       "    \"DejaVu Sans Mono\",\n",
       "    \"DejaVu Serif\",\n",
       "    \"DejaVu Serif Condensed\",\n",
       "    \"Dialog\",\n",
       "    \"DialogInput\",\n",
       "    \"Monospaced\",\n",
       "    \"SansSerif\",\n",
       "    \"Serif\"\n",
       "  ],\n",
       "  \"loggedInUser\": \"andrew\",\n",
       "  \"currentbuild\": \"0\"\n",
       "}"
      ]
     },
     "execution_count": 90,
     "metadata": {},
     "output_type": "execute_result"
    }
   ],
   "source": [
    "nbs.info"
   ]
  },
  {
   "cell_type": "markdown",
   "metadata": {},
   "source": [
    "### Notebook Machines"
   ]
  },
  {
   "cell_type": "markdown",
   "metadata": {},
   "source": [
    "- Provides low level customization of the machines powering the notebook server\n",
    "- A machine allows for customization of the SSL certificates\n",
    "- Examine the Server's Hardware\n",
    "- Much more."
   ]
  },
  {
   "cell_type": "code",
   "execution_count": 91,
   "metadata": {},
   "outputs": [
    {
     "data": {
      "text/plain": [
       "<Machine @ https://gisinc.dev.geocloud.com/dsx/admin/machines/GISINC.DEV.GEOCLOUD.COM>"
      ]
     },
     "execution_count": 91,
     "metadata": {},
     "output_type": "execute_result"
    }
   ],
   "source": [
    "machine = nbs.machine.list()[0]\n",
    "machine"
   ]
  },
  {
   "cell_type": "markdown",
   "metadata": {},
   "source": [
    "**Examine the Hardware**"
   ]
  },
  {
   "cell_type": "code",
   "execution_count": 92,
   "metadata": {},
   "outputs": [
    {
     "data": {
      "text/plain": [
       "{'numLogicalProcessors': 48,\n",
       " 'os': 'GNU/Linux Ubuntu 18.04.2 LTS (Bionic Beaver) build 4.15.0-1032-aws',\n",
       " 'cpu': 'Intel(R) Xeon(R) Platinum 8175M CPU @ 2.50GHz',\n",
       " 'systemMemoryMB': 189282,\n",
       " 'numPhysicalProcessors': 24}"
      ]
     },
     "execution_count": 92,
     "metadata": {},
     "output_type": "execute_result"
    }
   ],
   "source": [
    "machine.hardware"
   ]
  },
  {
   "cell_type": "markdown",
   "metadata": {},
   "source": [
    "### Manage the Notebook Instances\n",
    "\n",
    "- Managing the Image Runtimes\n",
    "- Examine activity on notebooks\n",
    "\n",
    "**Examine the Runtimes**"
   ]
  },
  {
   "cell_type": "code",
   "execution_count": 93,
   "metadata": {},
   "outputs": [
    {
     "data": {
      "text/plain": [
       "{\n",
       "  \"imageId\": \"2cf28f3df8cf\",\n",
       "  \"containerType\": \"docker\",\n",
       "  \"imagePullString\": \"\",\n",
       "  \"maxCpu\": 2,\n",
       "  \"version\": \"10.7\",\n",
       "  \"maxMemory\": 6,\n",
       "  \"dockerRuntime\": \"\",\n",
       "  \"name\": \"ArcGIS Notebook Python 3 Advanced\",\n",
       "  \"maxMemoryUnit\": \"g\",\n",
       "  \"maxSwapMemory\": 0,\n",
       "  \"maxSwapMemoryUnit\": \"g\",\n",
       "  \"id\": \"122ce82a-d32e-4da5-9d31-d5a9dcd08aa9\",\n",
       "  \"requiresAdvancedPrivileges\": true,\n",
       "  \"sharedMemorySizeUnit\": \"m\",\n",
       "  \"sharedMemorySize\": 64\n",
       "}"
      ]
     },
     "execution_count": 93,
     "metadata": {},
     "output_type": "execute_result"
    }
   ],
   "source": [
    "nbm = nbs.notebooks\n",
    "r = nbm.runtimes[0]\n",
    "r.properties"
   ]
  },
  {
   "cell_type": "markdown",
   "metadata": {},
   "source": [
    "**See Recent User Activity on Portal**"
   ]
  },
  {
   "cell_type": "code",
   "execution_count": 94,
   "metadata": {},
   "outputs": [
    {
     "data": {
      "text/html": [
       "<div>\n",
       "<style scoped>\n",
       "    .dataframe tbody tr th:only-of-type {\n",
       "        vertical-align: middle;\n",
       "    }\n",
       "\n",
       "    .dataframe tbody tr th {\n",
       "        vertical-align: top;\n",
       "    }\n",
       "\n",
       "    .dataframe thead th {\n",
       "        text-align: right;\n",
       "    }\n",
       "</style>\n",
       "<table border=\"1\" class=\"dataframe\">\n",
       "  <thead>\n",
       "    <tr style=\"text-align: right;\">\n",
       "      <th></th>\n",
       "      <th>containerId</th>\n",
       "      <th>dateLastActivity</th>\n",
       "      <th>id</th>\n",
       "      <th>itemId</th>\n",
       "      <th>notebookUrl</th>\n",
       "      <th>username</th>\n",
       "    </tr>\n",
       "  </thead>\n",
       "  <tbody>\n",
       "    <tr>\n",
       "      <th>0</th>\n",
       "      <td>dcb6bec544a341a9a44ef94b68591072</td>\n",
       "      <td>2019-04-28 21:27:09.061</td>\n",
       "      <td>c7743294fc0d48d487ccf2abd48b02b6</td>\n",
       "      <td>223db8089c934d989644d9b3454e62d2</td>\n",
       "      <td>/notebooks/dcb6bec544a341a9a44ef94b68591072/no...</td>\n",
       "      <td>portaladmin</td>\n",
       "    </tr>\n",
       "  </tbody>\n",
       "</table>\n",
       "</div>"
      ],
      "text/plain": [
       "                        containerId        dateLastActivity  \\\n",
       "0  dcb6bec544a341a9a44ef94b68591072 2019-04-28 21:27:09.061   \n",
       "\n",
       "                                 id                            itemId  \\\n",
       "0  c7743294fc0d48d487ccf2abd48b02b6  223db8089c934d989644d9b3454e62d2   \n",
       "\n",
       "                                         notebookUrl     username  \n",
       "0  /notebooks/dcb6bec544a341a9a44ef94b68591072/no...  portaladmin  "
      ]
     },
     "execution_count": 94,
     "metadata": {},
     "output_type": "execute_result"
    }
   ],
   "source": [
    "import pandas as pd\n",
    "df = pd.DataFrame(nbs.notebooks.properties.notebooks)\n",
    "df.dateLastActivity = pd.to_datetime(df.dateLastActivity, unit='ms')\n",
    "df"
   ]
  },
  {
   "cell_type": "markdown",
   "metadata": {},
   "source": [
    "### Session Activity\n",
    "\n",
    "- Examine individual containers\n",
    "- Terminate sessions using the `shutdown` command"
   ]
  },
  {
   "cell_type": "code",
   "execution_count": 95,
   "metadata": {},
   "outputs": [
    {
     "data": {
      "text/html": [
       "<div>\n",
       "<style scoped>\n",
       "    .dataframe tbody tr th:only-of-type {\n",
       "        vertical-align: middle;\n",
       "    }\n",
       "\n",
       "    .dataframe tbody tr th {\n",
       "        vertical-align: top;\n",
       "    }\n",
       "\n",
       "    .dataframe thead th {\n",
       "        text-align: right;\n",
       "    }\n",
       "</style>\n",
       "<table border=\"1\" class=\"dataframe\">\n",
       "  <thead>\n",
       "    <tr style=\"text-align: right;\">\n",
       "      <th></th>\n",
       "      <th>id</th>\n",
       "      <th>kernel.connections</th>\n",
       "      <th>kernel.execution_state</th>\n",
       "      <th>kernel.id</th>\n",
       "      <th>kernel.last_activity</th>\n",
       "      <th>kernel.name</th>\n",
       "      <th>name</th>\n",
       "      <th>path</th>\n",
       "      <th>type</th>\n",
       "    </tr>\n",
       "  </thead>\n",
       "  <tbody>\n",
       "    <tr>\n",
       "      <th>0</th>\n",
       "      <td>158cb566-0a49-48bc-bc83-a17c0efa218d</td>\n",
       "      <td>1</td>\n",
       "      <td>idle</td>\n",
       "      <td>f9c280a1-4b5d-47c6-82d3-01534cbb8ce9</td>\n",
       "      <td>2019-04-28T21:14:21.768061Z</td>\n",
       "      <td>python3</td>\n",
       "      <td></td>\n",
       "      <td>223db8089c934d989644d9b3454e62d2.ipynb</td>\n",
       "      <td>notebook</td>\n",
       "    </tr>\n",
       "  </tbody>\n",
       "</table>\n",
       "</div>"
      ],
      "text/plain": [
       "                                     id  kernel.connections  \\\n",
       "0  158cb566-0a49-48bc-bc83-a17c0efa218d                   1   \n",
       "\n",
       "  kernel.execution_state                             kernel.id  \\\n",
       "0                   idle  f9c280a1-4b5d-47c6-82d3-01534cbb8ce9   \n",
       "\n",
       "          kernel.last_activity kernel.name name  \\\n",
       "0  2019-04-28T21:14:21.768061Z     python3        \n",
       "\n",
       "                                     path      type  \n",
       "0  223db8089c934d989644d9b3454e62d2.ipynb  notebook  "
      ]
     },
     "execution_count": 95,
     "metadata": {},
     "output_type": "execute_result"
    }
   ],
   "source": [
    "from pandas.io.json import json_normalize\n",
    "import datetime\n",
    "c = nbs.system.containers[0]\n",
    "pd.DataFrame(json_normalize(c.sessions))"
   ]
  },
  {
   "cell_type": "markdown",
   "metadata": {
    "heading_collapsed": true
   },
   "source": [
    "## Hands On Assignment 2"
   ]
  }
 ],
 "metadata": {
  "kernelspec": {
   "display_name": "Python 3",
   "language": "python",
   "name": "python3"
  },
  "language_info": {
   "codemirror_mode": {
    "name": "ipython",
    "version": 3
   },
   "file_extension": ".py",
   "mimetype": "text/x-python",
   "name": "python",
   "nbconvert_exporter": "python",
   "pygments_lexer": "ipython3",
   "version": "3.7.1"
  }
 },
 "nbformat": 4,
 "nbformat_minor": 2
}
