{
 "cells": [
  {
   "cell_type": "markdown",
   "metadata": {},
   "source": [
    "# Lab 5 \n",
    "\n",
    "In this lab you will publish, modify and manipulate content on ArcGIS Online."
   ]
  },
  {
   "cell_type": "code",
   "execution_count": 27,
   "metadata": {},
   "outputs": [],
   "source": [
    "# DO NOT MODIFY (RUN FIRST)\n",
    "from arcgis.gis import GIS\n",
    "from arcgis import geometry\n",
    "from arcgis import features"
   ]
  },
  {
   "cell_type": "markdown",
   "metadata": {},
   "source": [
    "### 1. Connect to ArcGIS Online using the Pro Authentication"
   ]
  },
  {
   "cell_type": "code",
   "execution_count": 2,
   "metadata": {},
   "outputs": [],
   "source": [
    "# ENTER CODE HERE!\n",
    "\n",
    "gis = GIS(profile=\"agol_profile\")"
   ]
  },
  {
   "cell_type": "markdown",
   "metadata": {},
   "source": [
    "### 2. Publish the zipped feature class in the data folder.  It is called PackAccess.zip.  The item type should be `File Geodatabase`. Assign the published item to the variable `item`. "
   ]
  },
  {
   "cell_type": "code",
   "execution_count": null,
   "metadata": {},
   "outputs": [],
   "source": [
    "# ENTER CODE HERE!\n"
   ]
  },
  {
   "cell_type": "markdown",
   "metadata": {},
   "source": [
    "### 3. Run the code below to display the the item was published."
   ]
  },
  {
   "cell_type": "code",
   "execution_count": 14,
   "metadata": {},
   "outputs": [
    {
     "data": {
      "text/html": [
       "<div class=\"item_container\" style=\"height: auto; overflow: hidden; border: 1px solid #cfcfcf; border-radius: 2px; background: #f6fafa; line-height: 1.21429em; padding: 10px;\">\n",
       "                    <div class=\"item_left\" style=\"width: 210px; float: left;\">\n",
       "                       <a href='https://www.arcgis.com//home/item.html?id=f980183d394944568a7c8dd51d39e3c1' target='_blank'>\n",
       "                        <img src='http://static.arcgis.com/images/desktopapp.png' class=\"itemThumbnail\">\n",
       "                       </a>\n",
       "                    </div>\n",
       "\n",
       "                    <div class=\"item_right\"     style=\"float: none; width: auto; overflow: hidden;\">\n",
       "                        <a href='https://www.arcgis.com//home/item.html?id=f980183d394944568a7c8dd51d39e3c1' target='_blank'><b>Park Access</b>\n",
       "                        </a>\n",
       "                        <br/>data for lab 5<img src='https://www.arcgis.com//home/js/jsapi/esri/css/images/item_type_icons/featureshosted16.png' style=\"vertical-align:middle;\">Feature Layer Collection by achapko1_GISandData\n",
       "                        <br/>Last Modified: February 23, 2019\n",
       "                        <br/>0 comments, 3 views\n",
       "                    </div>\n",
       "                </div>\n",
       "                "
      ],
      "text/plain": [
       "<Item title:\"Park Access\" type:Feature Layer Collection owner:achapko1_GISandData>"
      ]
     },
     "execution_count": 14,
     "metadata": {},
     "output_type": "execute_result"
    }
   ],
   "source": [
    "# DO NOT MODIFY\n",
    "item"
   ]
  },
  {
   "cell_type": "markdown",
   "metadata": {},
   "source": [
    "### 4. Modify the hosted feature layer collection so a someone can modify the Feature Layer.\n",
    "\n",
    "(**Hint**: use FeatureLayerCollection's manager to update the definition)"
   ]
  },
  {
   "cell_type": "code",
   "execution_count": null,
   "metadata": {},
   "outputs": [],
   "source": [
    "from arcgis.features import FeatureLayerCollection\n",
    "flc = FeatureLayerCollection.fromitem(item)\n",
    "mgr = flc.manager\n",
    "mgr.update_definition({'hasStaticData': False,\n",
    " 'capabilities': 'Query,Editing,Create,Update,Delete,Sync',\n",
    " 'editorTrackingInfo': {'enableEditorTracking': False,\n",
    "  'enableOwnershipAccessControl': False,\n",
    "  'allowOthersToUpdate': True,\n",
    "  'allowOthersToDelete': True,\n",
    "  'allowOthersToQuery': True,\n",
    "  'allowAnonymousToUpdate': True,\n",
    "  'allowAnonymousToDelete': True}})"
   ]
  },
  {
   "cell_type": "markdown",
   "metadata": {},
   "source": [
    "### 5. Create a `map` and have it display over Baltimore, MD.\n",
    "\n",
    "- a. Assign the map to variable called `baltimore_map`.\n",
    "- b. Use the extent below to assign set the Balitmore extent.\n",
    "- c. Add the layer to the map"
   ]
  },
  {
   "cell_type": "code",
   "execution_count": 17,
   "metadata": {},
   "outputs": [],
   "source": [
    "extent = [[-76.711298, 39.197233], [-76.529676,39.371971]]"
   ]
  },
  {
   "cell_type": "code",
   "execution_count": 43,
   "metadata": {},
   "outputs": [
    {
     "data": {
      "application/vnd.jupyter.widget-view+json": {
       "model_id": "a0ffcb4f3dcb4f3294ff9db8442881f1",
       "version_major": 2,
       "version_minor": 0
      },
      "text/plain": [
       "MapView(layout=Layout(height='400px', width='100%'))"
      ]
     },
     "metadata": {},
     "output_type": "display_data"
    },
    {
     "data": {
      "text/html": [
       "<div class=\"map-static-img-preview-50289537-0f3c-40a2-a058-aa59cef8bd3a\"><img src=\"\"></img></div>"
      ],
      "text/plain": [
       "<IPython.core.display.HTML object>"
      ]
     },
     "metadata": {},
     "output_type": "display_data"
    }
   ],
   "source": [
    "baltimore_map = gis.map()\n",
    "baltimore_map.extent = extent\n",
    "baltimore_map"
   ]
  },
  {
   "cell_type": "code",
   "execution_count": 44,
   "metadata": {},
   "outputs": [],
   "source": [
    "baltimore_map.add_layer(item)"
   ]
  },
  {
   "cell_type": "markdown",
   "metadata": {},
   "source": [
    "### 6. Create a method to draw a point on the map. \n",
    "\n",
    "- The method will hook into the `baltimore_map.on_click` event\n",
    "- The method should take two variables: `m` and `g`, where `m` is the map and `g` is a geometry."
   ]
  },
  {
   "cell_type": "code",
   "execution_count": 45,
   "metadata": {},
   "outputs": [],
   "source": [
    "# RUN DO NOT MODIFY\n",
    "flayer = item.layers[0]\n",
    "oid = 1"
   ]
  },
  {
   "cell_type": "code",
   "execution_count": 46,
   "metadata": {},
   "outputs": [],
   "source": [
    "def create_feature(m, g):\n",
    "    try:\n",
    "        # INSERT CODE FOR METHOD HERE\n",
    "        pt = geometry.Point(g)\n",
    "        feat = features.Feature(geometry=pt, attributes={'Name': 'name',\n",
    "                                                        'Ent_Type': 'park'})\n",
    "        flayer.edit_features([feat])\n",
    "        m.draw(pt)\n",
    "    except Exception as e:\n",
    "        print(e)\n",
    "        print(\"Couldn't draw the point. Try again...\")"
   ]
  },
  {
   "cell_type": "code",
   "execution_count": 47,
   "metadata": {},
   "outputs": [],
   "source": [
    "baltimore_map.on_click(create_feature)"
   ]
  }
 ],
 "metadata": {
  "kernelspec": {
   "display_name": "Python 3",
   "language": "python",
   "name": "python3"
  },
  "language_info": {
   "codemirror_mode": {
    "name": "ipython",
    "version": 3
   },
   "file_extension": ".py",
   "mimetype": "text/x-python",
   "name": "python",
   "nbconvert_exporter": "python",
   "pygments_lexer": "ipython3",
   "version": "3.6.6"
  }
 },
 "nbformat": 4,
 "nbformat_minor": 2
}
