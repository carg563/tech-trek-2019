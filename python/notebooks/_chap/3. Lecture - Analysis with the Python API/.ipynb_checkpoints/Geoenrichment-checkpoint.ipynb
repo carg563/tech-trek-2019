{
 "cells": [
  {
   "cell_type": "markdown",
   "metadata": {
    "slideshow": {
     "slide_type": "slide"
    }
   },
   "source": [
    "# GeoEnrichment"
   ]
  },
  {
   "cell_type": "markdown",
   "metadata": {
    "slideshow": {
     "slide_type": "-"
    }
   },
   "source": [
    "GeoEnrichment provides the ability to \n",
    "* get facts about a location or area. \n",
    "* information about the people, places, and businesses \n",
    " * in a specific area or \n",
    " * within a certain distance or drive time from a location.\n",
    "* large collection of data sets including population, income, housing, consumer behavior, and the natural environment.\n",
    "* Site analysis is a popular application"
   ]
  },
  {
   "cell_type": "markdown",
   "metadata": {
    "slideshow": {
     "slide_type": "-"
    }
   },
   "source": [
    "### Login"
   ]
  },
  {
   "cell_type": "code",
   "execution_count": 1,
   "metadata": {
    "slideshow": {
     "slide_type": "skip"
    }
   },
   "outputs": [],
   "source": [
    "from arcgis.gis import GIS\n",
    "from arcgis.geoenrichment import *\n",
    "\n",
    "gis = GIS(profile='agol_profile', verify_cert=False)"
   ]
  },
  {
   "cell_type": "markdown",
   "metadata": {
    "slideshow": {
     "slide_type": "subslide"
    }
   },
   "source": [
    "## GeoEnrichment coverage"
   ]
  },
  {
   "cell_type": "code",
   "execution_count": 2,
   "metadata": {
    "slideshow": {
     "slide_type": "fragment"
    }
   },
   "outputs": [
    {
     "name": "stdout",
     "output_type": "stream",
     "text": [
      "Number of countries for which GeoEnrichment data is available: 137\n"
     ]
    },
    {
     "data": {
      "text/plain": [
       "[<Country name:Albania>,\n",
       " <Country name:Algeria>,\n",
       " <Country name:Andorra>,\n",
       " <Country name:Angola>,\n",
       " <Country name:Argentina>,\n",
       " <Country name:Armenia>,\n",
       " <Country name:Aruba>,\n",
       " <Country name:Australia>,\n",
       " <Country name:Austria>,\n",
       " <Country name:Azerbaijan>]"
      ]
     },
     "execution_count": 2,
     "metadata": {},
     "output_type": "execute_result"
    }
   ],
   "source": [
    "countries = get_countries()\n",
    "print(\"Number of countries for which GeoEnrichment data is available: \" + str(len(countries)))\n",
    "\n",
    "#print a few countries for a sample\n",
    "countries[0:10]"
   ]
  },
  {
   "cell_type": "markdown",
   "metadata": {
    "slideshow": {
     "slide_type": "subslide"
    }
   },
   "source": [
    "### Filtering countries by properties"
   ]
  },
  {
   "cell_type": "code",
   "execution_count": 3,
   "metadata": {
    "slideshow": {
     "slide_type": "fragment"
    }
   },
   "outputs": [
    {
     "data": {
      "text/plain": [
       "['Australia', 'French Polynesia', 'New Caledonia', 'New Zealand']"
      ]
     },
     "execution_count": 3,
     "metadata": {},
     "output_type": "execute_result"
    }
   ],
   "source": [
    "[c.properties.name for c in countries if c.properties.continent == 'Oceania']"
   ]
  },
  {
   "cell_type": "markdown",
   "metadata": {
    "slideshow": {
     "slide_type": "subslide"
    }
   },
   "source": [
    "## Discovering information for a country\n",
    "* Data collections, \n",
    "* Sub-geographies and \n",
    "* Available reports for a country"
   ]
  },
  {
   "cell_type": "code",
   "execution_count": 4,
   "metadata": {
    "slideshow": {
     "slide_type": "fragment"
    }
   },
   "outputs": [],
   "source": [
    "usa = Country.get('US')"
   ]
  },
  {
   "cell_type": "markdown",
   "metadata": {
    "slideshow": {
     "slide_type": "skip"
    }
   },
   "source": [
    "Commonly used properties for the country are accessible using `Country.properties`."
   ]
  },
  {
   "cell_type": "code",
   "execution_count": 5,
   "metadata": {
    "slideshow": {
     "slide_type": "fragment"
    }
   },
   "outputs": [
    {
     "data": {
      "text/plain": [
       "'United States'"
      ]
     },
     "execution_count": 5,
     "metadata": {},
     "output_type": "execute_result"
    }
   ],
   "source": [
    "usa.properties.name"
   ]
  },
  {
   "cell_type": "markdown",
   "metadata": {
    "slideshow": {
     "slide_type": "subslide"
    }
   },
   "source": [
    "### Data collections and analysis variables"
   ]
  },
  {
   "cell_type": "code",
   "execution_count": 6,
   "metadata": {
    "scrolled": true,
    "slideshow": {
     "slide_type": "fragment"
    }
   },
   "outputs": [
    {
     "data": {
      "text/html": [
       "<div>\n",
       "<style scoped>\n",
       "    .dataframe tbody tr th:only-of-type {\n",
       "        vertical-align: middle;\n",
       "    }\n",
       "\n",
       "    .dataframe tbody tr th {\n",
       "        vertical-align: top;\n",
       "    }\n",
       "\n",
       "    .dataframe thead th {\n",
       "        text-align: right;\n",
       "    }\n",
       "</style>\n",
       "<table border=\"1\" class=\"dataframe\">\n",
       "  <thead>\n",
       "    <tr style=\"text-align: right;\">\n",
       "      <th></th>\n",
       "      <th>analysisVariable</th>\n",
       "      <th>alias</th>\n",
       "      <th>fieldCategory</th>\n",
       "      <th>vintage</th>\n",
       "    </tr>\n",
       "    <tr>\n",
       "      <th>dataCollectionID</th>\n",
       "      <th></th>\n",
       "      <th></th>\n",
       "      <th></th>\n",
       "      <th></th>\n",
       "    </tr>\n",
       "  </thead>\n",
       "  <tbody>\n",
       "    <tr>\n",
       "      <th>1yearincrements</th>\n",
       "      <td>1yearincrements.AGE0_CY</td>\n",
       "      <td>2018 Population Age &lt;1</td>\n",
       "      <td>2018 Age: 1 Year Increments (Esri)</td>\n",
       "      <td>2018</td>\n",
       "    </tr>\n",
       "    <tr>\n",
       "      <th>1yearincrements</th>\n",
       "      <td>1yearincrements.AGE1_CY</td>\n",
       "      <td>2018 Population Age 1</td>\n",
       "      <td>2018 Age: 1 Year Increments (Esri)</td>\n",
       "      <td>2018</td>\n",
       "    </tr>\n",
       "    <tr>\n",
       "      <th>1yearincrements</th>\n",
       "      <td>1yearincrements.AGE2_CY</td>\n",
       "      <td>2018 Population Age 2</td>\n",
       "      <td>2018 Age: 1 Year Increments (Esri)</td>\n",
       "      <td>2018</td>\n",
       "    </tr>\n",
       "    <tr>\n",
       "      <th>1yearincrements</th>\n",
       "      <td>1yearincrements.AGE3_CY</td>\n",
       "      <td>2018 Population Age 3</td>\n",
       "      <td>2018 Age: 1 Year Increments (Esri)</td>\n",
       "      <td>2018</td>\n",
       "    </tr>\n",
       "    <tr>\n",
       "      <th>1yearincrements</th>\n",
       "      <td>1yearincrements.AGE4_CY</td>\n",
       "      <td>2018 Population Age 4</td>\n",
       "      <td>2018 Age: 1 Year Increments (Esri)</td>\n",
       "      <td>2018</td>\n",
       "    </tr>\n",
       "  </tbody>\n",
       "</table>\n",
       "</div>"
      ],
      "text/plain": [
       "                         analysisVariable                   alias  \\\n",
       "dataCollectionID                                                    \n",
       "1yearincrements   1yearincrements.AGE0_CY  2018 Population Age <1   \n",
       "1yearincrements   1yearincrements.AGE1_CY   2018 Population Age 1   \n",
       "1yearincrements   1yearincrements.AGE2_CY   2018 Population Age 2   \n",
       "1yearincrements   1yearincrements.AGE3_CY   2018 Population Age 3   \n",
       "1yearincrements   1yearincrements.AGE4_CY   2018 Population Age 4   \n",
       "\n",
       "                                       fieldCategory vintage  \n",
       "dataCollectionID                                              \n",
       "1yearincrements   2018 Age: 1 Year Increments (Esri)    2018  \n",
       "1yearincrements   2018 Age: 1 Year Increments (Esri)    2018  \n",
       "1yearincrements   2018 Age: 1 Year Increments (Esri)    2018  \n",
       "1yearincrements   2018 Age: 1 Year Increments (Esri)    2018  \n",
       "1yearincrements   2018 Age: 1 Year Increments (Esri)    2018  "
      ]
     },
     "execution_count": 6,
     "metadata": {},
     "output_type": "execute_result"
    }
   ],
   "source": [
    "df = usa.data_collections\n",
    "\n",
    "# print a few rows of the DataFrame\n",
    "df.head()"
   ]
  },
  {
   "cell_type": "code",
   "execution_count": 7,
   "metadata": {
    "slideshow": {
     "slide_type": "-"
    }
   },
   "outputs": [
    {
     "data": {
      "text/plain": [
       "(14724, 4)"
      ]
     },
     "execution_count": 7,
     "metadata": {},
     "output_type": "execute_result"
    }
   ],
   "source": [
    "# call the shape property to get the total number of rows and columns\n",
    "df.shape"
   ]
  },
  {
   "cell_type": "code",
   "execution_count": 8,
   "metadata": {
    "scrolled": true,
    "slideshow": {
     "slide_type": "subslide"
    }
   },
   "outputs": [
    {
     "data": {
      "text/plain": [
       "142"
      ]
     },
     "execution_count": 8,
     "metadata": {},
     "output_type": "execute_result"
    }
   ],
   "source": [
    "# get all the unique data collections available\n",
    "len(df.index.unique())"
   ]
  },
  {
   "cell_type": "markdown",
   "metadata": {
    "slideshow": {
     "slide_type": "fragment"
    }
   },
   "source": [
    "Query the `Age` data collection and get all the unique `analysisVariable`s under that collection"
   ]
  },
  {
   "cell_type": "code",
   "execution_count": 9,
   "metadata": {
    "scrolled": true,
    "slideshow": {
     "slide_type": "-"
    }
   },
   "outputs": [
    {
     "data": {
      "text/plain": [
       "array(['Age.MALE0', 'Age.MALE5', 'Age.MALE10', 'Age.MALE15', 'Age.MALE20', 'Age.MALE25', 'Age.MALE30', 'Age.MALE35',\n",
       "       'Age.MALE40', 'Age.MALE45', 'Age.MALE50', 'Age.MALE55', 'Age.MALE60', 'Age.MALE65', 'Age.MALE70', 'Age.MALE75',\n",
       "       'Age.MALE80', 'Age.MALE85', 'Age.FEM0', 'Age.FEM5', 'Age.FEM10', 'Age.FEM15', 'Age.FEM20', 'Age.FEM25',\n",
       "       'Age.FEM30', 'Age.FEM35', 'Age.FEM40', 'Age.FEM45', 'Age.FEM50', 'Age.FEM55', 'Age.FEM60', 'Age.FEM65',\n",
       "       'Age.FEM70', 'Age.FEM75', 'Age.FEM80', 'Age.FEM85'], dtype=object)"
      ]
     },
     "execution_count": 9,
     "metadata": {},
     "output_type": "execute_result"
    }
   ],
   "source": [
    "df.loc['Age']['analysisVariable'].unique()"
   ]
  },
  {
   "cell_type": "code",
   "execution_count": 10,
   "metadata": {
    "slideshow": {
     "slide_type": "fragment"
    }
   },
   "outputs": [
    {
     "data": {
      "text/html": [
       "<div>\n",
       "<style scoped>\n",
       "    .dataframe tbody tr th:only-of-type {\n",
       "        vertical-align: middle;\n",
       "    }\n",
       "\n",
       "    .dataframe tbody tr th {\n",
       "        vertical-align: top;\n",
       "    }\n",
       "\n",
       "    .dataframe thead th {\n",
       "        text-align: right;\n",
       "    }\n",
       "</style>\n",
       "<table border=\"1\" class=\"dataframe\">\n",
       "  <thead>\n",
       "    <tr style=\"text-align: right;\">\n",
       "      <th></th>\n",
       "      <th>analysisVariable</th>\n",
       "      <th>alias</th>\n",
       "      <th>fieldCategory</th>\n",
       "      <th>vintage</th>\n",
       "    </tr>\n",
       "    <tr>\n",
       "      <th>dataCollectionID</th>\n",
       "      <th></th>\n",
       "      <th></th>\n",
       "      <th></th>\n",
       "      <th></th>\n",
       "    </tr>\n",
       "  </thead>\n",
       "  <tbody>\n",
       "    <tr>\n",
       "      <th>Age</th>\n",
       "      <td>Age.MALE0</td>\n",
       "      <td>2018 Males Age 0-4</td>\n",
       "      <td>2018 Age: 5 Year Increments (Esri)</td>\n",
       "      <td>2018</td>\n",
       "    </tr>\n",
       "    <tr>\n",
       "      <th>Age</th>\n",
       "      <td>Age.MALE5</td>\n",
       "      <td>2018 Males Age 5-9</td>\n",
       "      <td>2018 Age: 5 Year Increments (Esri)</td>\n",
       "      <td>2018</td>\n",
       "    </tr>\n",
       "    <tr>\n",
       "      <th>Age</th>\n",
       "      <td>Age.MALE10</td>\n",
       "      <td>2018 Males Age 10-14</td>\n",
       "      <td>2018 Age: 5 Year Increments (Esri)</td>\n",
       "      <td>2018</td>\n",
       "    </tr>\n",
       "    <tr>\n",
       "      <th>Age</th>\n",
       "      <td>Age.MALE15</td>\n",
       "      <td>2018 Males Age 15-19</td>\n",
       "      <td>2018 Age: 5 Year Increments (Esri)</td>\n",
       "      <td>2018</td>\n",
       "    </tr>\n",
       "    <tr>\n",
       "      <th>Age</th>\n",
       "      <td>Age.MALE20</td>\n",
       "      <td>2018 Males Age 20-24</td>\n",
       "      <td>2018 Age: 5 Year Increments (Esri)</td>\n",
       "      <td>2018</td>\n",
       "    </tr>\n",
       "  </tbody>\n",
       "</table>\n",
       "</div>"
      ],
      "text/plain": [
       "                 analysisVariable                 alias  \\\n",
       "dataCollectionID                                          \n",
       "Age                     Age.MALE0    2018 Males Age 0-4   \n",
       "Age                     Age.MALE5    2018 Males Age 5-9   \n",
       "Age                    Age.MALE10  2018 Males Age 10-14   \n",
       "Age                    Age.MALE15  2018 Males Age 15-19   \n",
       "Age                    Age.MALE20  2018 Males Age 20-24   \n",
       "\n",
       "                                       fieldCategory vintage  \n",
       "dataCollectionID                                              \n",
       "Age               2018 Age: 5 Year Increments (Esri)    2018  \n",
       "Age               2018 Age: 5 Year Increments (Esri)    2018  \n",
       "Age               2018 Age: 5 Year Increments (Esri)    2018  \n",
       "Age               2018 Age: 5 Year Increments (Esri)    2018  \n",
       "Age               2018 Age: 5 Year Increments (Esri)    2018  "
      ]
     },
     "execution_count": 10,
     "metadata": {},
     "output_type": "execute_result"
    }
   ],
   "source": [
    "# view a sample of the `Age` data collection\n",
    "df.loc['Age'].head()"
   ]
  },
  {
   "cell_type": "markdown",
   "metadata": {
    "slideshow": {
     "slide_type": "subslide"
    }
   },
   "source": [
    "### Enriching an address"
   ]
  },
  {
   "cell_type": "code",
   "execution_count": 14,
   "metadata": {
    "slideshow": {
     "slide_type": "-"
    }
   },
   "outputs": [],
   "source": [
    "sdf = enrich(study_areas=[\"7677 N 16th St, Phoenix, AZ 85020\"],  \n",
    "             data_collections=['Age'])\n"
   ]
  },
  {
   "cell_type": "code",
   "execution_count": 15,
   "metadata": {},
   "outputs": [
    {
     "data": {
      "application/vnd.jupyter.widget-view+json": {
       "model_id": "637f3ebe1bb9484fb09280b1d77263be",
       "version_major": 2,
       "version_minor": 0
      },
      "text/plain": [
       "MapView(layout=Layout(height='400px', width='100%'))"
      ]
     },
     "metadata": {},
     "output_type": "display_data"
    },
    {
     "data": {
      "text/html": [
       "<div class=\"map-static-img-preview-9344c2f5-032c-4014-84ac-a025bd49c5a7\"><img src=\"\"></img></div>"
      ],
      "text/plain": [
       "<IPython.core.display.HTML object>"
      ]
     },
     "metadata": {},
     "output_type": "display_data"
    }
   ],
   "source": [
    "sdf.spatial.plot()"
   ]
  },
  {
   "cell_type": "markdown",
   "metadata": {
    "slideshow": {
     "slide_type": "subslide"
    }
   },
   "source": [
    "# Reports"
   ]
  },
  {
   "cell_type": "code",
   "execution_count": 16,
   "metadata": {
    "scrolled": true,
    "slideshow": {
     "slide_type": "fragment"
    }
   },
   "outputs": [
    {
     "data": {
      "text/html": [
       "<div>\n",
       "<style scoped>\n",
       "    .dataframe tbody tr th:only-of-type {\n",
       "        vertical-align: middle;\n",
       "    }\n",
       "\n",
       "    .dataframe tbody tr th {\n",
       "        vertical-align: top;\n",
       "    }\n",
       "\n",
       "    .dataframe thead th {\n",
       "        text-align: right;\n",
       "    }\n",
       "</style>\n",
       "<table border=\"1\" class=\"dataframe\">\n",
       "  <thead>\n",
       "    <tr style=\"text-align: right;\">\n",
       "      <th></th>\n",
       "      <th>id</th>\n",
       "      <th>title</th>\n",
       "      <th>categories</th>\n",
       "      <th>formats</th>\n",
       "    </tr>\n",
       "  </thead>\n",
       "  <tbody>\n",
       "    <tr>\n",
       "      <th>0</th>\n",
       "      <td>census2010_profile</td>\n",
       "      <td>2010 Census Profile</td>\n",
       "      <td>[Demographics]</td>\n",
       "      <td>[pdf, xlsx]</td>\n",
       "    </tr>\n",
       "    <tr>\n",
       "      <th>1</th>\n",
       "      <td>acs_housing</td>\n",
       "      <td>ACS Housing Summary</td>\n",
       "      <td>[Demographics]</td>\n",
       "      <td>[pdf, xlsx]</td>\n",
       "    </tr>\n",
       "    <tr>\n",
       "      <th>2</th>\n",
       "      <td>acs_population</td>\n",
       "      <td>ACS Population Summary</td>\n",
       "      <td>[Demographics]</td>\n",
       "      <td>[pdf, xlsx]</td>\n",
       "    </tr>\n",
       "    <tr>\n",
       "      <th>3</th>\n",
       "      <td>55plus</td>\n",
       "      <td>Age 50+ Profile</td>\n",
       "      <td>[Demographics]</td>\n",
       "      <td>[pdf, xlsx]</td>\n",
       "    </tr>\n",
       "    <tr>\n",
       "      <th>4</th>\n",
       "      <td>agesexrace</td>\n",
       "      <td>Age by Sex by Race Profile</td>\n",
       "      <td>[Demographics]</td>\n",
       "      <td>[pdf, xlsx]</td>\n",
       "    </tr>\n",
       "    <tr>\n",
       "      <th>5</th>\n",
       "      <td>agesex</td>\n",
       "      <td>Age by Sex Profile</td>\n",
       "      <td>[Demographics]</td>\n",
       "      <td>[pdf, xlsx]</td>\n",
       "    </tr>\n",
       "    <tr>\n",
       "      <th>6</th>\n",
       "      <td>cex_auto</td>\n",
       "      <td>Automotive Aftermarket Expenditures</td>\n",
       "      <td>[Consumer Spending]</td>\n",
       "      <td>[pdf, xlsx]</td>\n",
       "    </tr>\n",
       "    <tr>\n",
       "      <th>7</th>\n",
       "      <td>business_loc</td>\n",
       "      <td>Business Locator</td>\n",
       "      <td>[Business]</td>\n",
       "      <td>[pdf, xlsx]</td>\n",
       "    </tr>\n",
       "    <tr>\n",
       "      <th>8</th>\n",
       "      <td>business_summary</td>\n",
       "      <td>Business Summary</td>\n",
       "      <td>[Business]</td>\n",
       "      <td>[pdf, xlsx]</td>\n",
       "    </tr>\n",
       "    <tr>\n",
       "      <th>9</th>\n",
       "      <td>community_profile</td>\n",
       "      <td>Community Profile</td>\n",
       "      <td>[Demographics]</td>\n",
       "      <td>[pdf, xlsx]</td>\n",
       "    </tr>\n",
       "  </tbody>\n",
       "</table>\n",
       "</div>"
      ],
      "text/plain": [
       "                   id                                title  \\\n",
       "0  census2010_profile                  2010 Census Profile   \n",
       "1         acs_housing                  ACS Housing Summary   \n",
       "2      acs_population               ACS Population Summary   \n",
       "3              55plus                      Age 50+ Profile   \n",
       "4          agesexrace           Age by Sex by Race Profile   \n",
       "5              agesex                   Age by Sex Profile   \n",
       "6            cex_auto  Automotive Aftermarket Expenditures   \n",
       "7        business_loc                     Business Locator   \n",
       "8    business_summary                     Business Summary   \n",
       "9   community_profile                    Community Profile   \n",
       "\n",
       "            categories      formats  \n",
       "0       [Demographics]  [pdf, xlsx]  \n",
       "1       [Demographics]  [pdf, xlsx]  \n",
       "2       [Demographics]  [pdf, xlsx]  \n",
       "3       [Demographics]  [pdf, xlsx]  \n",
       "4       [Demographics]  [pdf, xlsx]  \n",
       "5       [Demographics]  [pdf, xlsx]  \n",
       "6  [Consumer Spending]  [pdf, xlsx]  \n",
       "7           [Business]  [pdf, xlsx]  \n",
       "8           [Business]  [pdf, xlsx]  \n",
       "9       [Demographics]  [pdf, xlsx]  "
      ]
     },
     "execution_count": 16,
     "metadata": {},
     "output_type": "execute_result"
    }
   ],
   "source": [
    "# print a sample of the reports available for USA\n",
    "usa.reports.head(10)"
   ]
  },
  {
   "cell_type": "code",
   "execution_count": 14,
   "metadata": {
    "slideshow": {
     "slide_type": "-"
    }
   },
   "outputs": [
    {
     "data": {
      "text/plain": [
       "(50, 4)"
      ]
     },
     "execution_count": 14,
     "metadata": {},
     "output_type": "execute_result"
    }
   ],
   "source": [
    "# total number of reports available\n",
    "usa.reports.shape"
   ]
  },
  {
   "cell_type": "markdown",
   "metadata": {
    "slideshow": {
     "slide_type": "subslide"
    }
   },
   "source": [
    "### Creating Reports"
   ]
  },
  {
   "cell_type": "code",
   "execution_count": 15,
   "metadata": {
    "slideshow": {
     "slide_type": "-"
    }
   },
   "outputs": [
    {
     "name": "stdout",
     "output_type": "stream",
     "text": [
      "C:\\Users\\andr5624\\AppData\\Local\\Temp\\esri_tapestry_profile.pdf\n"
     ]
    }
   ],
   "source": [
    "import tempfile\n",
    "report = create_report(study_areas=[\"380 New York Street, Redlands, CA\"],\n",
    "                     report=\"tapestry_profileNEW\",\n",
    "                     export_format=\"PDF\", \n",
    "                     out_folder=tempfile.gettempdir(), out_name=\"esri_tapestry_profile.pdf\")\n",
    "print(report)"
   ]
  },
  {
   "cell_type": "markdown",
   "metadata": {
    "slideshow": {
     "slide_type": "subslide"
    }
   },
   "source": [
    "## Finding named statistical areas\n",
    "\n",
    "Each country has several named statistical areas in a hierarchy of geography levels (such as states, counties, zip codes, etc)."
   ]
  },
  {
   "cell_type": "code",
   "execution_count": 16,
   "metadata": {
    "slideshow": {
     "slide_type": "skip"
    }
   },
   "outputs": [],
   "source": [
    "%config IPCompleter.greedy=True"
   ]
  },
  {
   "cell_type": "code",
   "execution_count": 17,
   "metadata": {
    "slideshow": {
     "slide_type": "fragment"
    }
   },
   "outputs": [
    {
     "data": {
      "text/plain": [
       "<NamedArea name:\"Arizona\" area_id=\"04\", level=\"US.States\", country=\"United States\">"
      ]
     },
     "execution_count": 17,
     "metadata": {},
     "output_type": "execute_result"
    }
   ],
   "source": [
    "usa.subgeographies.states['Arizona']"
   ]
  },
  {
   "cell_type": "code",
   "execution_count": 18,
   "metadata": {
    "scrolled": true,
    "slideshow": {
     "slide_type": "fragment"
    }
   },
   "outputs": [
    {
     "data": {
      "text/plain": [
       "<NamedArea name:\"Maricopa County\" area_id=\"04013\", level=\"US.Counties\", country=\"United States\">"
      ]
     },
     "execution_count": 18,
     "metadata": {},
     "output_type": "execute_result"
    }
   ],
   "source": [
    "usa.subgeographies.states['Arizona'].counties['Maricopa_County']"
   ]
  },
  {
   "cell_type": "code",
   "execution_count": 19,
   "metadata": {
    "slideshow": {
     "slide_type": "fragment"
    }
   },
   "outputs": [
    {
     "data": {
      "text/plain": [
       "<NamedArea name:\"040130101.02\" area_id=\"04013010102\", level=\"US.Tracts\", country=\"United States\">"
      ]
     },
     "execution_count": 19,
     "metadata": {},
     "output_type": "execute_result"
    }
   ],
   "source": [
    "usa.subgeographies.states['Arizona'].counties['Maricopa_County'].tracts['040130101.02']"
   ]
  },
  {
   "cell_type": "code",
   "execution_count": 20,
   "metadata": {
    "slideshow": {
     "slide_type": "fragment"
    }
   },
   "outputs": [
    {
     "data": {
      "text/plain": [
       "<NamedArea name:\"Phoenix\" area_id=\"85007\", level=\"US.ZIP5\", country=\"United States\">"
      ]
     },
     "execution_count": 20,
     "metadata": {},
     "output_type": "execute_result"
    }
   ],
   "source": [
    "usa.subgeographies.states['Arizona'].zip5['85007']"
   ]
  },
  {
   "cell_type": "markdown",
   "metadata": {
    "slideshow": {
     "slide_type": "skip"
    }
   },
   "source": [
    "The named areas can also be drawn on a map, as they include a `geometry` property."
   ]
  },
  {
   "cell_type": "code",
   "execution_count": 21,
   "metadata": {
    "slideshow": {
     "slide_type": "subslide"
    }
   },
   "outputs": [
    {
     "data": {
      "application/vnd.jupyter.widget-view+json": {
       "model_id": "e6895a12ac3941b4b50cf7345a0e8959",
       "version_major": 2,
       "version_minor": 0
      },
      "text/plain": [
       "MapView(layout=Layout(height='400px', width='100%'), zoom=11.0)"
      ]
     },
     "metadata": {},
     "output_type": "display_data"
    },
    {
     "data": {
      "text/html": [
       "<div class=\"map-static-img-preview-81b77f5b-4ac5-4996-930e-57f8f80854d9\"><img src=\"\"></img></div>"
      ],
      "text/plain": [
       "<IPython.core.display.HTML object>"
      ]
     },
     "metadata": {},
     "output_type": "display_data"
    }
   ],
   "source": [
    "m = gis.map('Redlands, CA', zoomlevel=11)\n",
    "m"
   ]
  },
  {
   "cell_type": "code",
   "execution_count": 22,
   "metadata": {
    "slideshow": {
     "slide_type": "-"
    }
   },
   "outputs": [],
   "source": [
    "m.draw(usa.subgeographies.states['California'].zip5['92373'].geometry)"
   ]
  },
  {
   "cell_type": "markdown",
   "metadata": {
    "slideshow": {
     "slide_type": "subslide"
    }
   },
   "source": [
    "# Different geography levels for different country"
   ]
  },
  {
   "cell_type": "code",
   "execution_count": null,
   "metadata": {
    "slideshow": {
     "slide_type": "-"
    }
   },
   "outputs": [],
   "source": [
    "india = Country.get('India')"
   ]
  },
  {
   "cell_type": "code",
   "execution_count": null,
   "metadata": {
    "slideshow": {
     "slide_type": "fragment"
    }
   },
   "outputs": [],
   "source": [
    "india.subgeographies.states['Uttar_Pradesh'].districts['Baghpat'].subdistricts['Baraut']"
   ]
  },
  {
   "cell_type": "markdown",
   "metadata": {
    "slideshow": {
     "slide_type": "subslide"
    }
   },
   "source": [
    "### Searching for named areas within a country"
   ]
  },
  {
   "cell_type": "code",
   "execution_count": null,
   "metadata": {
    "scrolled": true,
    "slideshow": {
     "slide_type": "fragment"
    }
   },
   "outputs": [],
   "source": [
    "riversides_in_usa = usa.search('Riverside')\n",
    "print(\"number of riversides in the US: \" + str(len(riversides_in_usa)))\n",
    "\n",
    "# list a few of them\n",
    "riversides_in_usa[:10]"
   ]
  },
  {
   "cell_type": "markdown",
   "metadata": {},
   "source": [
    "For instance, you can make a map of all the riversides in the US"
   ]
  },
  {
   "cell_type": "code",
   "execution_count": null,
   "metadata": {
    "slideshow": {
     "slide_type": "subslide"
    }
   },
   "outputs": [],
   "source": [
    "usamap = gis.map('United States', zoomlevel=4)\n",
    "usamap"
   ]
  },
  {
   "cell_type": "code",
   "execution_count": null,
   "metadata": {
    "slideshow": {
     "slide_type": "-"
    }
   },
   "outputs": [],
   "source": [
    "for riverside in riversides_in_usa:\n",
    "    usamap.draw(riverside.geometry)"
   ]
  },
  {
   "cell_type": "markdown",
   "metadata": {
    "slideshow": {
     "slide_type": "subslide"
    }
   },
   "source": [
    "#### Filtering named areas by geography level"
   ]
  },
  {
   "cell_type": "code",
   "execution_count": null,
   "metadata": {
    "slideshow": {
     "slide_type": "fragment"
    }
   },
   "outputs": [],
   "source": [
    "[level['id'] for level in usa.levels]"
   ]
  },
  {
   "cell_type": "code",
   "execution_count": null,
   "metadata": {
    "slideshow": {
     "slide_type": "fragment"
    }
   },
   "outputs": [],
   "source": [
    "usa.search(query='Riverside', layers=['US.Counties'])"
   ]
  },
  {
   "cell_type": "markdown",
   "metadata": {
    "heading_collapsed": true,
    "slideshow": {
     "slide_type": "subslide"
    }
   },
   "source": [
    "## Finding businesses"
   ]
  },
  {
   "cell_type": "code",
   "execution_count": null,
   "metadata": {
    "hidden": true,
    "slideshow": {
     "slide_type": "fragment"
    }
   },
   "outputs": [],
   "source": [
    "businesses = find_businesses(search_string=\"Starbucks\",\n",
    "                          return_geometry=True,\n",
    "                          spatial_filter={\"Locations\":[\"NY,TONAWANDA,14150\",\n",
    "                                                       \"NJ, CAMDEN, 08102\",\n",
    "                                                       \"KY,LOUISVILLE,40204\",\n",
    "                                                       \"WA,SEATTLE,98108\"]})\n",
    "# print a sample\n",
    "businesses"
   ]
  },
  {
   "cell_type": "markdown",
   "metadata": {
    "slideshow": {
     "slide_type": "subslide"
    }
   },
   "source": [
    "## Study Areas"
   ]
  },
  {
   "cell_type": "markdown",
   "metadata": {
    "slideshow": {
     "slide_type": "fragment"
    }
   },
   "source": [
    "### Accepted forms of study areas\n",
    "\n",
    "- **Street address locations** - Locations can be passed as strings of input street addresses, points of interest or place names.\n",
    "    + **Example:** `\"380 New York St, Redlands, CA\"`\n",
    "\n",
    "- **Multiple field input addresses** - Locations described as multiple field input addresses, using dictionaries.\n",
    "    + **Example:** \n",
    "        {\"Address\" : \"380 New York Street\",\n",
    "        \"City\" : \"Redlands\",\n",
    "        \"Region\" : \"CA\",\n",
    "        \"Postal\" : 92373}    \n",
    " \n",
    "- **Point and line geometries** - Point and line locations, using `arcgis.geometry` instances.\n",
    "    + **Example Point Location: ** \n",
    "    \n",
    "    `arcgis.geometry.Geometry({\"x\":-122.435,\"y\":37.785})`\n",
    "    \n",
    "    + ** Example Point location obtained using find_businesses() above: **\n",
    "     \n",
    "     `arcgis.geometry.Geometry(businesses.iloc[0]['SHAPE'])`\n",
    "\n",
    "- **Buffered study areas** - `BufferStudyArea` instances to change the ring buffer size or create drive-time service areas around points specified using one of the above methods. BufferStudyArea allows you to buffer point and street address study areas. They can be created using the following parameters:\n",
    "        * area: the point geometry or street address (string) study area to be buffered\n",
    "        * radii: list of distances by which to buffer the study area, eg. [1, 2, 3]\n",
    "        * units: distance unit, eg. Miles, Kilometers, Minutes (when using drive times/travel_mode)\n",
    "        * overlap: boolean, uses overlapping rings/network service areas when True, or non-overlapping disks when False\n",
    "        * travel_mode: None or string, one of the supported travel modes when using network service areas\n",
    "    + **Example Buffered Location: ** \n",
    "    \n",
    "    `pt = arcgis.geometry.Geometry({\"x\":-122.435,\"y\":37.785})\n",
    "    buffered_area = BufferStudyArea(area=pt, radii=[1,2,3], units=\"Miles\", overlap=False)` \n",
    "\n",
    "- **Network service areas** - `BufferStudyArea` also allows you to define drive time service areas around points as well as other advanced service areas such as walking and trucking.\n",
    "    + **Example: **\n",
    "    \n",
    "    `pt = arcgis.geometry.Geometry({\"x\":-122.435,\"y\":37.785})\n",
    "    buffered_area = BufferStudyArea(area=pt, radii=[1,2,3], units=\"Minutes\", travel_mode=\"Driving\")` \n",
    "\n",
    "- **Named statistical areas** - \n",
    "    + **Example:** \n",
    "    \n",
    "    `usa.subgeographies.states['California'].zip5['92373']`\n",
    "   \n",
    "- **Polygon geometries** - Locations can given as polygon geometries.\n",
    "    + **Example Polygon geometry: ** \n",
    "    \n",
    "    `arcgis.geometry.Geometry({\"rings\":[[[-117.185412,34.063170],[-122.81,37.81],[-117.200570,34.057196],[-117.185412,34.063170]]],\"spatialReference\":{\"wkid\":4326}})`\n"
   ]
  },
  {
   "cell_type": "markdown",
   "metadata": {
    "slideshow": {
     "slide_type": "subslide"
    }
   },
   "source": [
    "### Example: Enriching a named statistical area\n",
    "Enriching zip code 92373 in California using the 'Age' data collection:"
   ]
  },
  {
   "cell_type": "code",
   "execution_count": null,
   "metadata": {
    "slideshow": {
     "slide_type": "-"
    }
   },
   "outputs": [],
   "source": [
    "redlands = usa.subgeographies.states['California'].zip5['92373']"
   ]
  },
  {
   "cell_type": "code",
   "execution_count": null,
   "metadata": {
    "slideshow": {
     "slide_type": "fragment"
    }
   },
   "outputs": [],
   "source": [
    "enrich(study_areas=[redlands], data_collections=['Age'] )"
   ]
  },
  {
   "cell_type": "markdown",
   "metadata": {
    "slideshow": {
     "slide_type": "subslide"
    }
   },
   "source": [
    "### Example: Enrich all counties in a state"
   ]
  },
  {
   "cell_type": "code",
   "execution_count": null,
   "metadata": {
    "slideshow": {
     "slide_type": "-"
    }
   },
   "outputs": [],
   "source": [
    "ca_counties = usa.subgeographies.states['California'].counties"
   ]
  },
  {
   "cell_type": "code",
   "execution_count": null,
   "metadata": {
    "slideshow": {
     "slide_type": "fragment"
    }
   },
   "outputs": [],
   "source": [
    "counties_df = enrich(study_areas=ca_counties, data_collections=['Age'])\n",
    "counties_df.head(10)"
   ]
  },
  {
   "cell_type": "code",
   "execution_count": null,
   "metadata": {
    "scrolled": true,
    "slideshow": {
     "slide_type": "subslide"
    }
   },
   "outputs": [],
   "source": [
    "m = gis.map('California')\n",
    "m"
   ]
  },
  {
   "cell_type": "code",
   "execution_count": null,
   "metadata": {
    "slideshow": {
     "slide_type": "-"
    }
   },
   "outputs": [],
   "source": [
    "item = gis.content.import_data(df=counties_df, title=\"CA county population\")"
   ]
  },
  {
   "cell_type": "code",
   "execution_count": null,
   "metadata": {
    "slideshow": {
     "slide_type": "-"
    }
   },
   "outputs": [],
   "source": [
    "item"
   ]
  },
  {
   "cell_type": "code",
   "execution_count": null,
   "metadata": {
    "slideshow": {
     "slide_type": "-"
    }
   },
   "outputs": [],
   "source": [
    "m.add_layer(item.layers[0], {'renderer': 'ClassedColorRenderer', \n",
    "                            'field_name':'FEM0'})"
   ]
  },
  {
   "cell_type": "code",
   "execution_count": null,
   "metadata": {
    "slideshow": {
     "slide_type": "-"
    }
   },
   "outputs": [],
   "source": [
    "item.delete()"
   ]
  },
  {
   "cell_type": "markdown",
   "metadata": {
    "slideshow": {
     "slide_type": "subslide"
    }
   },
   "source": [
    "### Example: Using comparison levels"
   ]
  },
  {
   "cell_type": "code",
   "execution_count": null,
   "metadata": {
    "slideshow": {
     "slide_type": "-"
    }
   },
   "outputs": [],
   "source": [
    "enrich(study_areas=[redlands], data_collections=['Age'], \n",
    "       comparison_levels=['US.Counties', 'US.States'])"
   ]
  },
  {
   "cell_type": "markdown",
   "metadata": {
    "slideshow": {
     "slide_type": "subslide"
    }
   },
   "source": [
    "### Example: Buffering locations using non overlapping disks \n",
    "\n",
    "The example below creates non-overlapping disks of radii 1, 3 and 5 Miles respectively from a street address and enriches these using the 'Age' data collection."
   ]
  },
  {
   "cell_type": "code",
   "execution_count": null,
   "metadata": {
    "slideshow": {
     "slide_type": "-"
    }
   },
   "outputs": [],
   "source": [
    "buffered = BufferStudyArea(area='380 New York St Redlands CA 92373',\n",
    "                           radii=[1,3,5], units='Miles', overlap=False)\n",
    "enrich(study_areas=[buffered], data_collections=['Age'])"
   ]
  },
  {
   "cell_type": "markdown",
   "metadata": {
    "slideshow": {
     "slide_type": "subslide"
    }
   },
   "source": [
    "### Example: Using drive times as study areas\n",
    "    \n",
    "The example below creates 5 and 10 minute drive times from a street address and enriches these using the 'Age' data collection."
   ]
  },
  {
   "cell_type": "code",
   "execution_count": null,
   "metadata": {
    "slideshow": {
     "slide_type": "-"
    }
   },
   "outputs": [],
   "source": [
    "buffered = BufferStudyArea(area='380 New York St Redlands CA 92373', \n",
    "                           radii=[5, 10], units='Minutes', \n",
    "                           travel_mode='Driving')\n",
    "drive_time_df = enrich(study_areas=[buffered], data_collections=['Age'])"
   ]
  },
  {
   "cell_type": "code",
   "execution_count": null,
   "metadata": {
    "slideshow": {
     "slide_type": "-"
    }
   },
   "outputs": [],
   "source": [
    "drive_time_df"
   ]
  },
  {
   "cell_type": "markdown",
   "metadata": {
    "heading_collapsed": true,
    "slideshow": {
     "slide_type": "subslide"
    }
   },
   "source": [
    "### Visualize results on a map"
   ]
  },
  {
   "cell_type": "markdown",
   "metadata": {
    "hidden": true,
    "slideshow": {
     "slide_type": "skip"
    }
   },
   "source": [
    "The returned spatial dataframe can be visualized on a map as shown below:"
   ]
  },
  {
   "cell_type": "code",
   "execution_count": null,
   "metadata": {
    "hidden": true,
    "slideshow": {
     "slide_type": "-"
    }
   },
   "outputs": [],
   "source": [
    "redlands_map = gis.map('Redlands, CA')\n",
    "redlands_map.basemap = 'dark-gray-vector'\n",
    "redlands_map"
   ]
  },
  {
   "cell_type": "code",
   "execution_count": null,
   "metadata": {
    "hidden": true,
    "slideshow": {
     "slide_type": "-"
    }
   },
   "outputs": [],
   "source": [
    "redlands_map.draw(drive_time_df.spatial.to_featureset())"
   ]
  },
  {
   "cell_type": "markdown",
   "metadata": {
    "heading_collapsed": true,
    "slideshow": {
     "slide_type": "subslide"
    }
   },
   "source": [
    "## Saving GeoEnrichment Results"
   ]
  },
  {
   "cell_type": "code",
   "execution_count": null,
   "metadata": {
    "hidden": true,
    "slideshow": {
     "slide_type": "-"
    }
   },
   "outputs": [],
   "source": [
    "gis.content.import_data(df=drive_time_df, title=\"Age statistics within 5,10 minutes of drive time from Esri\")"
   ]
  }
 ],
 "metadata": {
  "anaconda-cloud": {},
  "kernelspec": {
   "display_name": "Python 3",
   "language": "python",
   "name": "python3"
  },
  "language_info": {
   "codemirror_mode": {
    "name": "ipython",
    "version": 3
   },
   "file_extension": ".py",
   "mimetype": "text/x-python",
   "name": "python",
   "nbconvert_exporter": "python",
   "pygments_lexer": "ipython3",
   "version": "3.6.6"
  },
  "livereveal": {
   "scroll": true
  }
 },
 "nbformat": 4,
 "nbformat_minor": 2
}
