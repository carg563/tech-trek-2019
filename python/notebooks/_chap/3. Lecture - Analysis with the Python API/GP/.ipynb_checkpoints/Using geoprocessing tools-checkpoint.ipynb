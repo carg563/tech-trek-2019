{
 "cells": [
  {
   "cell_type": "code",
   "execution_count": 1,
   "metadata": {},
   "outputs": [],
   "source": [
    "# connect to ArcGIS Online\n",
    "from arcgis.gis import GIS\n",
    "from arcgis.geoprocessing import import_toolbox\n",
    "gis = GIS()"
   ]
  },
  {
   "cell_type": "markdown",
   "metadata": {},
   "source": [
    "# Viewshed tool"
   ]
  },
  {
   "cell_type": "code",
   "execution_count": 2,
   "metadata": {},
   "outputs": [],
   "source": [
    "viewshed = import_toolbox('http://sampleserver1.arcgisonline.com/ArcGIS/rest/services/Elevation/ESRI_Elevation_World/GPServer')"
   ]
  },
  {
   "cell_type": "code",
   "execution_count": 3,
   "metadata": {},
   "outputs": [],
   "source": [
    "viewshed.viewshed?"
   ]
  },
  {
   "cell_type": "code",
   "execution_count": 4,
   "metadata": {},
   "outputs": [
    {
     "name": "stdout",
     "output_type": "stream",
     "text": [
      "Help on function viewshed:\n",
      "\n",
      "viewshed(input_observation_point:arcgis.features.feature.FeatureSet={'geometryType': 'esriGeometryPoint', 'spatialReference': {'wkid': 54003}, 'Fields': [{'name': 'FID', 'type': 'esriFieldTypeOID', 'alias': 'FID'}, {'name': 'Shape', 'type': 'esriFieldTypeGeometry', 'alias': 'Shape'}, {'name': 'OffsetA', 'type': 'esriFieldTypeDouble', 'alias': 'OffsetA'}], 'fields': [{'name': 'FID', 'type': 'esriFieldTypeOID', 'alias': 'FID'}, {'name': 'Shape', 'type': 'esriFieldTypeGeometry', 'alias': 'Shape'}, {'name': 'OffsetA', 'type': 'esriFieldTypeDouble', 'alias': 'OffsetA'}]}, viewshed_distance:arcgis.geoprocessing._types.LinearUnit={'distance': 15000, 'units': 'esriMeters'}, gis=None) -> arcgis.features.feature.FeatureSet\n",
      "            \n",
      "    \n",
      "    \n",
      "    Parameters:\n",
      "    \n",
      "       input_observation_point: Input Observation Point (FeatureSet). Required parameter. \n",
      "    \n",
      "       viewshed_distance: Viewshed Distance (LinearUnit). Required parameter. \n",
      "    \n",
      "            gis: Optional, the GIS on which this tool runs. If not specified, the active GIS is used.\n",
      "    \n",
      "    \n",
      "    Returns: \n",
      "       viewshed_result - Viewshed Result as a FeatureSet\n",
      "    \n",
      "    See http://sampleserver1c.arcgisonline.com/arcgisoutput/Elevation_ESRI_Elevation_World/Viewshed.htm for additional help.\n",
      "\n"
     ]
    }
   ],
   "source": [
    "help(viewshed.viewshed)"
   ]
  },
  {
   "cell_type": "code",
   "execution_count": 5,
   "metadata": {},
   "outputs": [],
   "source": [
    "import arcgis\n",
    "arcgis.env.out_spatial_reference = 4326"
   ]
  },
  {
   "cell_type": "code",
   "execution_count": 6,
   "metadata": {},
   "outputs": [
    {
     "data": {
      "application/vnd.jupyter.widget-view+json": {
       "model_id": "5fb3254285704424822dcd5b1cd5156f",
       "version_major": 2,
       "version_minor": 0
      },
      "text/plain": [
       "MapView(layout=Layout(height='400px', width='100%'), zoom=12.0)"
      ]
     },
     "metadata": {},
     "output_type": "display_data"
    },
    {
     "data": {
      "text/html": [
       "<div class=\"map-static-img-preview-0d112aa7-aca7-4d9d-8149-df15694f53b1\"><img src=\"\"></img></div>"
      ],
      "text/plain": [
       "<IPython.core.display.HTML object>"
      ]
     },
     "metadata": {},
     "output_type": "display_data"
    }
   ],
   "source": [
    "map = gis.map('South San Francisco', zoomlevel=12)\n",
    "map"
   ]
  },
  {
   "cell_type": "code",
   "execution_count": 7,
   "metadata": {},
   "outputs": [],
   "source": [
    "from arcgis.features import Feature, FeatureSet\n",
    "\n",
    "def get_viewshed(m, g):\n",
    "    m.clear_graphics()\n",
    "    m.draw(g)\n",
    "    res = viewshed.viewshed(FeatureSet([Feature(g)]), \"7.5 Miles\") # \"5 Miles\" or LinearUnit(5, 'Miles') can be passed as input\n",
    "    m.draw(res)\n",
    "    \n",
    "map.on_click(get_viewshed)"
   ]
  },
  {
   "cell_type": "code",
   "execution_count": null,
   "metadata": {},
   "outputs": [],
   "source": []
  }
 ],
 "metadata": {
  "anaconda-cloud": {},
  "kernelspec": {
   "display_name": "Python 3",
   "language": "python",
   "name": "python3"
  },
  "language_info": {
   "codemirror_mode": {
    "name": "ipython",
    "version": 3
   },
   "file_extension": ".py",
   "mimetype": "text/x-python",
   "name": "python",
   "nbconvert_exporter": "python",
   "pygments_lexer": "ipython3",
   "version": "3.6.6"
  },
  "widgets": {
   "state": {
    "71df3a835136465096a89e5ecef04713": {
     "views": [
      {
       "cell_index": 5
      }
     ]
    }
   },
   "version": "1.2.0"
  }
 },
 "nbformat": 4,
 "nbformat_minor": 1
}
