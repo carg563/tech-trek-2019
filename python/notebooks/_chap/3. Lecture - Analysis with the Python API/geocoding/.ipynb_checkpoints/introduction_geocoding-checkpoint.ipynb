{
 "cells": [
  {
   "cell_type": "markdown",
   "metadata": {},
   "source": [
    "# An introduction to geocoding\n",
    "\n",
    "Geocoders are tools to which you pass in an address / place of interest and it gives back the coordinates of that place.\n",
    "\n",
    "The **`arcgis.geocoding`** module provides types and functions for geocoding, batch geocoding and reverse geocoding."
   ]
  },
  {
   "cell_type": "code",
   "execution_count": null,
   "metadata": {},
   "outputs": [],
   "source": [
    "from arcgis.gis import GIS\n",
    "from arcgis import geocoding"
   ]
  },
  {
   "cell_type": "code",
   "execution_count": null,
   "metadata": {},
   "outputs": [],
   "source": [
    "gis = GIS(profile='agol_profile')"
   ]
  },
  {
   "cell_type": "markdown",
   "metadata": {},
   "source": [
    "## Geocoding addresses\n",
    "All geocoding operations are handled by `geocode()` function. It can geocode\n",
    " \n",
    " 1. single line address\n",
    " 2. multi field address\n",
    " 3. points of interest\n",
    " 4. administrative place names\n",
    " 5. postal codes"
   ]
  },
  {
   "cell_type": "code",
   "execution_count": null,
   "metadata": {},
   "outputs": [],
   "source": [
    "results = geocoding.geocode('Phoenix, AZ')\n",
    "results"
   ]
  },
  {
   "cell_type": "code",
   "execution_count": null,
   "metadata": {},
   "outputs": [],
   "source": [
    "len(results)"
   ]
  },
  {
   "cell_type": "code",
   "execution_count": null,
   "metadata": {},
   "outputs": [],
   "source": [
    "results[0]"
   ]
  },
  {
   "cell_type": "code",
   "execution_count": null,
   "metadata": {},
   "outputs": [],
   "source": [
    "map1 = gis.map('Phoenix, AZ')\n",
    "map1"
   ]
  },
  {
   "cell_type": "code",
   "execution_count": null,
   "metadata": {},
   "outputs": [],
   "source": [
    "symbol = {\n",
    "    \"type\" : \"simple-marker\",\n",
    "    \"style\" : \"diamond\",\n",
    "    \"color\" : [230, 76, 0, 1]\n",
    "}\n",
    "map1.draw(results[0]['location'], symbol=symbol)"
   ]
  },
  {
   "cell_type": "markdown",
   "metadata": {},
   "source": [
    "### Geocode single line addresses "
   ]
  },
  {
   "cell_type": "code",
   "execution_count": null,
   "metadata": {},
   "outputs": [],
   "source": [
    "r2 = geocoding.geocode('Pointe Hilton Squaw Peak Resort')\n",
    "len(r2)"
   ]
  },
  {
   "cell_type": "code",
   "execution_count": null,
   "metadata": {},
   "outputs": [],
   "source": [
    "[str(r['score']) +\"  :  \"+ r['attributes']['Match_addr'] for r in r2]"
   ]
  },
  {
   "cell_type": "markdown",
   "metadata": {},
   "source": [
    "### Geocode multi field address"
   ]
  },
  {
   "cell_type": "code",
   "execution_count": null,
   "metadata": {},
   "outputs": [],
   "source": [
    "multi_field_address = { \n",
    "    \"Address\" : \"111 Harbor Dr\",\n",
    "    \"City\" : \"San Diego\",\n",
    "    \"Region\" : \"CA\",\n",
    "    \"Subregion\":\"San Diego\",\n",
    "    \"Postal\" : 92103,\n",
    "    \"Country\":\"USA\"\n",
    "    }\n",
    "r_multi_fields = geocoding.geocode(multi_field_address)\n",
    "len(r_multi_fields)"
   ]
  },
  {
   "cell_type": "markdown",
   "metadata": {},
   "source": [
    "### Searching within an exent\n",
    "Find restaurants within walking distance of this training center (Hard Rock Hotel, Palm Springs)"
   ]
  },
  {
   "cell_type": "code",
   "execution_count": null,
   "metadata": {},
   "outputs": [],
   "source": [
    "# first create an extent.\n",
    "conv_center = geocoding.geocode('walter e washington convention center')[0]\n",
    "map3 = gis.map('Washington, DC', zoomlevel=13)\n",
    "map3"
   ]
  },
  {
   "cell_type": "code",
   "execution_count": null,
   "metadata": {},
   "outputs": [],
   "source": [
    "restaurants = geocoding.geocode('restaurants',search_extent=conv_center['extent'], \n",
    "                                max_locations=15)\n",
    "len(restaurants)"
   ]
  },
  {
   "cell_type": "code",
   "execution_count": null,
   "metadata": {},
   "outputs": [],
   "source": [
    "map3.clear_graphics()"
   ]
  },
  {
   "cell_type": "code",
   "execution_count": null,
   "metadata": {},
   "outputs": [],
   "source": [
    "for shop in restaurants:\n",
    "    popup = { \n",
    "    \"title\" : shop['attributes']['PlaceName'], \n",
    "    \"content\" : shop['attributes']['Place_addr']\n",
    "    }\n",
    "    map3.draw(shop['location'],popup, symbol=symbol)"
   ]
  },
  {
   "cell_type": "markdown",
   "metadata": {},
   "source": [
    "## Batch geocoding"
   ]
  },
  {
   "cell_type": "code",
   "execution_count": null,
   "metadata": {},
   "outputs": [],
   "source": [
    "addresses = [\"380 New York St, Redlands, CA\", \n",
    "             \"1 World Way, Los Angeles, CA\",\n",
    "             \"1200 Getty Center Drive, Los Angeles, CA\", \n",
    "             \"5905 Wilshire Boulevard, Los Angeles, CA\",\n",
    "             \"100 Universal City Plaza, Universal City, CA 91608\",\n",
    "             \"4800 Oak Grove Dr, Pasadena, CA 91109\"]"
   ]
  },
  {
   "cell_type": "code",
   "execution_count": null,
   "metadata": {},
   "outputs": [],
   "source": [
    "results = geocoding.batch_geocode(addresses)"
   ]
  },
  {
   "cell_type": "code",
   "execution_count": null,
   "metadata": {},
   "outputs": [],
   "source": [
    "len(results)"
   ]
  },
  {
   "cell_type": "code",
   "execution_count": null,
   "metadata": {
    "scrolled": true
   },
   "outputs": [],
   "source": [
    "map5 = gis.map('Los Angeles, CA')\n",
    "map5"
   ]
  },
  {
   "cell_type": "code",
   "execution_count": null,
   "metadata": {},
   "outputs": [],
   "source": [
    "for address in results:\n",
    "    map5.draw(address['location'], symbol=symbol)"
   ]
  },
  {
   "cell_type": "markdown",
   "metadata": {},
   "source": [
    "## Reverse geocoding"
   ]
  },
  {
   "cell_type": "code",
   "execution_count": null,
   "metadata": {},
   "outputs": [],
   "source": [
    "reverse_geocode_results = geocoding.reverse_geocode([2.2945, 48.8583])\n",
    "reverse_geocode_results"
   ]
  },
  {
   "cell_type": "code",
   "execution_count": null,
   "metadata": {},
   "outputs": [],
   "source": [
    "map6 = gis.map('Washington, DC', 16)\n",
    "map6"
   ]
  },
  {
   "cell_type": "code",
   "execution_count": null,
   "metadata": {},
   "outputs": [],
   "source": [
    "def find_addr(map6, g):\n",
    "    try:\n",
    "        map6.draw(g, symbol=symbol)\n",
    "        geocoded = geocoding.reverse_geocode(g)\n",
    "        print(geocoded['address']['Match_addr'])\n",
    "    except:\n",
    "        print(\"Couldn't match address. Try another place...\")"
   ]
  },
  {
   "cell_type": "code",
   "execution_count": null,
   "metadata": {},
   "outputs": [],
   "source": [
    "map6.on_click(find_addr)"
   ]
  },
  {
   "cell_type": "code",
   "execution_count": null,
   "metadata": {},
   "outputs": [],
   "source": []
  }
 ],
 "metadata": {
  "anaconda-cloud": {},
  "kernelspec": {
   "display_name": "Python 3",
   "language": "python",
   "name": "python3"
  },
  "language_info": {
   "codemirror_mode": {
    "name": "ipython",
    "version": 3
   },
   "file_extension": ".py",
   "mimetype": "text/x-python",
   "name": "python",
   "nbconvert_exporter": "python",
   "pygments_lexer": "ipython3",
   "version": "3.6.6"
  },
  "widgets": {
   "state": {
    "6c17a22f7c0a4f6288be29b5c9141965": {
     "views": [
      {
       "cell_index": 25
      }
     ]
    },
    "73f2fba418054d17beaad12db41e4e99": {
     "views": [
      {
       "cell_index": 7
      }
     ]
    },
    "a215fe896cc74c4094a663b0371b54f2": {
     "views": [
      {
       "cell_index": 29
      }
     ]
    },
    "ac896a0b76d34e76b4362471ce8a614d": {
     "views": [
      {
       "cell_index": 17
      }
     ]
    }
   },
   "version": "1.2.0"
  }
 },
 "nbformat": 4,
 "nbformat_minor": 1
}
